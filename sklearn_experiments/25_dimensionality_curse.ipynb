{
 "cells": [
  {
   "cell_type": "markdown",
   "metadata": {},
   "source": [
    "# Curse of dimensionality\n",
    "\n",
    "A slightly modified exercise from ESLII, around page 26"
   ]
  },
  {
   "cell_type": "code",
   "execution_count": 1,
   "metadata": {},
   "outputs": [],
   "source": [
    "import numpy as np\n",
    "import pandas as pd\n",
    "import matplotlib.pyplot as plt\n",
    "\n",
    "from sklearn.linear_model import LinearRegression\n",
    "from sklearn.neighbors import KNeighborsRegressor\n",
    "from sklearn import metrics"
   ]
  },
  {
   "cell_type": "code",
   "execution_count": 2,
   "metadata": {},
   "outputs": [],
   "source": [
    "class const():\n",
    "    n = 100\n",
    "    max_dim = 10\n",
    "    epsilon = 0.01\n",
    "    n_experiments = 100"
   ]
  },
  {
   "cell_type": "code",
   "execution_count": 3,
   "metadata": {},
   "outputs": [
    {
     "data": {
      "image/png": "[encoded data removed]",
      "text/plain": [
       "<Figure size 432x288 with 1 Axes>"
      ]
     },
     "metadata": {
      "needs_background": "light"
     },
     "output_type": "display_data"
    }
   ],
   "source": [
    "dim = 2\n",
    "x = np.random.uniform(size=(const.n,dim))\n",
    "y = x[:,0]**3 + np.random.normal(size=(const.n))*const.epsilon\n",
    "plt.plot(x[:,0],y,'.');"
   ]
  },
  {
   "cell_type": "code",
   "execution_count": 4,
   "metadata": {},
   "outputs": [
    {
     "data": {
      "text/plain": [
       "array([-0.22238379])"
      ]
     },
     "execution_count": 4,
     "metadata": {},
     "output_type": "execute_result"
    }
   ],
   "source": [
    "model = LinearRegression()\n",
    "model.fit(x , y)\n",
    "x0 = np.zeros(shape=(1,2))\n",
    "model.predict(x0)"
   ]
  },
  {
   "cell_type": "code",
   "execution_count": 5,
   "metadata": {},
   "outputs": [
    {
     "data": {
      "text/plain": [
       "array([0.00137658])"
      ]
     },
     "execution_count": 5,
     "metadata": {},
     "output_type": "execute_result"
    }
   ],
   "source": [
    "# Try KNN:\n",
    "model = KNeighborsRegressor(n_neighbors = 1)\n",
    "model.fit(x , y)\n",
    "model.predict(x0)"
   ]
  },
  {
   "cell_type": "markdown",
   "metadata": {},
   "source": [
    "### Now combining it all together"
   ]
  },
  {
   "cell_type": "code",
   "execution_count": 8,
   "metadata": {},
   "outputs": [
    {
     "data": {
      "image/png": "[encoded data removed]",
      "text/plain": [
       "<Figure size 432x288 with 1 Axes>"
      ]
     },
     "metadata": {
      "needs_background": "light"
     },
     "output_type": "display_data"
    }
   ],
   "source": [
    "models = [LinearRegression() , KNeighborsRegressor(n_neighbors = 1)]\n",
    "model_names = ['Linear', '1NN']\n",
    "\n",
    "result = np.zeros(shape=(const.max_dim , const.n_experiments))\n",
    "dim_history = np.zeros(const.max_dim)\n",
    "ax = plt.axes();\n",
    "for imodel in range(len(models)):\n",
    "    model = models[imodel]\n",
    "    for idim in range(1,const.max_dim):\n",
    "        dim = idim**2\n",
    "        x0 = np.zeros(shape=(1,dim))\n",
    "        for i_exp in range(const.n_experiments):\n",
    "            x = np.random.uniform(low=-1, high=1, size=(const.n , dim))\n",
    "            y = (1+x[:,0])**3 + np.random.normal(size=(const.n))*const.epsilon\n",
    "            model.fit(x , y)        \n",
    "            result[idim,i_exp] = model.predict(x0)**2\n",
    "            dim_history[idim] = dim\n",
    "\n",
    "    plt.plot(dim_history , np.mean(result,axis=1) , '-o' , label=model_names[imodel]);\n",
    "    \n",
    "ax.legend();"
   ]
  },
  {
   "cell_type": "code",
   "execution_count": null,
   "metadata": {},
   "outputs": [],
   "source": []
  }
 ],
 "metadata": {
  "kernelspec": {
   "display_name": "Python 3",
   "language": "python",
   "name": "python3"
  },
  "language_info": {
   "codemirror_mode": {
    "name": "ipython",
    "version": 3
   },
   "file_extension": ".py",
   "mimetype": "text/x-python",
   "name": "python",
   "nbconvert_exporter": "python",
   "pygments_lexer": "ipython3",
   "version": "3.7.3"
  }
 },
 "nbformat": 4,
 "nbformat_minor": 2
}
