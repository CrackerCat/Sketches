{
 "cells": [
  {
   "cell_type": "markdown",
   "metadata": {},
   "source": [
    "# Curse of dimensionality"
   ]
  },
  {
   "cell_type": "code",
   "execution_count": 87,
   "metadata": {},
   "outputs": [],
   "source": [
    "import numpy as np\n",
    "import pandas as pd\n",
    "import matplotlib.pyplot as plt\n",
    "\n",
    "from sklearn.linear_model import LinearRegression\n",
    "from sklearn.neighbors import KNeighborsRegressor\n",
    "from sklearn import metrics"
   ]
  },
  {
   "cell_type": "code",
   "execution_count": 99,
   "metadata": {},
   "outputs": [],
   "source": [
    "class const():\n",
    "    n = 100\n",
    "    max_dim = 10\n",
    "    epsilon = 0.01\n",
    "    n_experiments = 100"
   ]
  },
  {
   "cell_type": "code",
   "execution_count": 85,
   "metadata": {},
   "outputs": [
    {
     "data": {
      "image/png": "[encoded data removed]",
      "text/plain": [
       "<Figure size 432x288 with 1 Axes>"
      ]
     },
     "metadata": {
      "needs_background": "light"
     },
     "output_type": "display_data"
    }
   ],
   "source": [
    "dim = 2\n",
    "x = np.random.uniform(size=(const.n,dim))\n",
    "y = x[:,0]**3 + np.random.normal(size=(const.n))*const.epsilon\n",
    "plt.plot(x[:,0],y,'.');"
   ]
  },
  {
   "cell_type": "code",
   "execution_count": 92,
   "metadata": {},
   "outputs": [
    {
     "data": {
      "text/plain": [
       "array([-0.28282966])"
      ]
     },
     "execution_count": 92,
     "metadata": {},
     "output_type": "execute_result"
    }
   ],
   "source": [
    "model = LinearRegression()\n",
    "model.fit(x , y)\n",
    "x0 = np.zeros(shape=(1,2))\n",
    "model.predict(x0)"
   ]
  },
  {
   "cell_type": "code",
   "execution_count": 93,
   "metadata": {},
   "outputs": [
    {
     "data": {
      "text/plain": [
       "array([0.01034171])"
      ]
     },
     "execution_count": 93,
     "metadata": {},
     "output_type": "execute_result"
    }
   ],
   "source": [
    "# Try KNN:\n",
    "model = KNeighborsRegressor(n_neighbors = 1)\n",
    "model.fit(x , y)\n",
    "model.predict(x0)"
   ]
  },
  {
   "cell_type": "markdown",
   "metadata": {},
   "source": [
    "### Now combining it all together"
   ]
  },
  {
   "cell_type": "code",
   "execution_count": 100,
   "metadata": {},
   "outputs": [
    {
     "data": {
      "image/png": "[encoded data removed]",
      "text/plain": [
       "<Figure size 432x288 with 1 Axes>"
      ]
     },
     "metadata": {
      "needs_background": "light"
     },
     "output_type": "display_data"
    }
   ],
   "source": [
    "#model = LinearRegression()\n",
    "model = KNeighborsRegressor(n_neighbors = 1)\n",
    "\n",
    "result = np.zeros(shape=(const.max_dim , const.n_experiments))\n",
    "dim_history = np.zeros(const.max_dim)\n",
    "for idim in range(1,const.max_dim):\n",
    "    dim = idim**2\n",
    "    x0 = np.zeros(shape=(1,dim))\n",
    "    for i_exp in range(const.n_experiments):\n",
    "        x = np.random.uniform(size=(const.n , dim))\n",
    "        y = x[:,0]**3 + np.random.normal(size=(const.n))*const.epsilon\n",
    "        model.fit(x , y)        \n",
    "        result[idim,i_exp] = model.predict(x0)**2\n",
    "        dim_history[idim] = dim\n",
    "        \n",
    "plt.plot(dim_history , np.mean(result,axis=1) , '-o');"
   ]
  }
 ],
 "metadata": {
  "kernelspec": {
   "display_name": "Python 3",
   "language": "python",
   "name": "python3"
  },
  "language_info": {
   "codemirror_mode": {
    "name": "ipython",
    "version": 3
   },
   "file_extension": ".py",
   "mimetype": "text/x-python",
   "name": "python",
   "nbconvert_exporter": "python",
   "pygments_lexer": "ipython3",
   "version": "3.7.3"
  }
 },
 "nbformat": 4,
 "nbformat_minor": 2
}
