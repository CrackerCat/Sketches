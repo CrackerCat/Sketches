{
 "cells": [
  {
   "cell_type": "code",
   "execution_count": 17,
   "metadata": {},
   "outputs": [
    {
     "data": {
      "text/plain": [
       "['aaa',\n",
       " 'aab',\n",
       " 'aac',\n",
       " 'aba',\n",
       " 'abb',\n",
       " 'abc',\n",
       " 'aca',\n",
       " 'acb',\n",
       " 'acc',\n",
       " 'baa',\n",
       " 'bab',\n",
       " 'bac',\n",
       " 'bba',\n",
       " 'bbb',\n",
       " 'bbc',\n",
       " 'bca',\n",
       " 'bcb',\n",
       " 'bcc',\n",
       " 'caa',\n",
       " 'cab',\n",
       " 'cac',\n",
       " 'cba',\n",
       " 'cbb',\n",
       " 'cbc',\n",
       " 'cca',\n",
       " 'ccb',\n",
       " 'ccc']"
      ]
     },
     "execution_count": 17,
     "metadata": {},
     "output_type": "execute_result"
    }
   ],
   "source": [
    "def permute(chars, k=3):\n",
    "    \"\"\"Pemute these chars\"\"\"\n",
    "    return [a+b for a in permute(chars, k-1) for b in chars] if k else ['']\n",
    "\n",
    "permute(['a','b','c'], 3)"
   ]
  }
 ],
 "metadata": {
  "kernelspec": {
   "display_name": "Python 3",
   "language": "python",
   "name": "python3"
  },
  "language_info": {
   "codemirror_mode": {
    "name": "ipython",
    "version": 3
   },
   "file_extension": ".py",
   "mimetype": "text/x-python",
   "name": "python",
   "nbconvert_exporter": "python",
   "pygments_lexer": "ipython3",
   "version": "3.7.6"
  }
 },
 "nbformat": 4,
 "nbformat_minor": 4
}
