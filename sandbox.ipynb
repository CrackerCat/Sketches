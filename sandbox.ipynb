{
 "cells": [
  {
   "cell_type": "code",
   "execution_count": 5,
   "metadata": {},
   "outputs": [
    {
     "data": {
      "text/plain": [
       "3"
      ]
     },
     "execution_count": 5,
     "metadata": {},
     "output_type": "execute_result"
    }
   ],
   "source": [
    "def comp(s1,s2):\n",
    "    if not s1:         return len(s2)\n",
    "    if not s2:         return len(s1)\n",
    "    if s1[0]==s2[0]:   return comp(s1[1:],s2[1:])\n",
    "    return 1+min(comp(s1[1:], s2[1:]), comp(s1,s2[1:]), comp(s1[1:],s2))\n",
    "\n",
    "comp('nogazwu','nagatu')"
   ]
  }
 ],
 "metadata": {
  "kernelspec": {
   "display_name": "Python 3",
   "language": "python",
   "name": "python3"
  },
  "language_info": {
   "codemirror_mode": {
    "name": "ipython",
    "version": 3
   },
   "file_extension": ".py",
   "mimetype": "text/x-python",
   "name": "python",
   "nbconvert_exporter": "python",
   "pygments_lexer": "ipython3",
   "version": "3.7.6"
  }
 },
 "nbformat": 4,
 "nbformat_minor": 4
}
