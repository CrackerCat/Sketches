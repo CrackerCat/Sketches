{
 "cells": [
  {
   "cell_type": "markdown",
   "metadata": {},
   "source": [
    "## Text replacer\n",
    "\n",
    "This script replaces character sequences in a specially formatted input file, one by one.\n",
    "\n",
    "Note that sequences are applied immediately, so you cannot define a substition for CH after you defined a replacement for C. More complex combinations (such as CH) shoudl always come first, before their components are affected."
   ]
  },
  {
   "cell_type": "code",
   "execution_count": 2,
   "metadata": {},
   "outputs": [],
   "source": [
    "import os\n",
    "import io"
   ]
  },
  {
   "cell_type": "code",
   "execution_count": 25,
   "metadata": {},
   "outputs": [],
   "source": [
    "f = io.open(\"alice_in_russian.md\", mode=\"r\", encoding=\"utf-8\")\n",
    "myString = f.read()\n",
    "f.close()"
   ]
  },
  {
   "cell_type": "code",
   "execution_count": 26,
   "metadata": {},
   "outputs": [],
   "source": [
    "flag = 1\n",
    "ms = myString\n",
    "os = \"\"\n",
    "d = {}\n",
    "while flag:\n",
    "    p1 = ms.find('%')\n",
    "    if p1<0:\n",
    "        break\n",
    "    os = os + ms[0:p1]\n",
    "    ms = ms[p1+1:]\n",
    "    \n",
    "    p1 = ms.find('>')\n",
    "    p2 = ms.find('%')\n",
    "    if p1<0 or p2<0:\n",
    "        break\n",
    "    \n",
    "    keyIn = ms[0:p1]\n",
    "    keyOu = ms[p1+1:p2]\n",
    "    d[keyIn] = keyOu\n",
    "    \n",
    "    ms = ms[p2+1:]\n",
    "    \n",
    "    ms = ms.replace(keyIn,keyOu) # main processing that shouln't be happening here\n",
    "    \n",
    "os = os + ms"
   ]
  },
  {
   "cell_type": "code",
   "execution_count": 27,
   "metadata": {},
   "outputs": [],
   "source": [
    "f2 = io.open(\"alice_out.md\", mode=\"w\", encoding=\"utf-8\")\n",
    "f2.write(os)\n",
    "f2.close()"
   ]
  }
 ],
 "metadata": {
  "kernelspec": {
   "display_name": "Python 3",
   "language": "python",
   "name": "python3"
  },
  "language_info": {
   "codemirror_mode": {
    "name": "ipython",
    "version": 3
   },
   "file_extension": ".py",
   "mimetype": "text/x-python",
   "name": "python",
   "nbconvert_exporter": "python",
   "pygments_lexer": "ipython3",
   "version": "3.7.0"
  }
 },
 "nbformat": 4,
 "nbformat_minor": 2
}
