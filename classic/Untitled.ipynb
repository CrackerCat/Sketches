{
 "cells": [
  {
   "cell_type": "markdown",
   "metadata": {},
   "source": [
    "## Sorting algorythms"
   ]
  },
  {
   "cell_type": "markdown",
   "metadata": {},
   "source": [
    "### Quicksort"
   ]
  },
  {
   "cell_type": "code",
   "execution_count": 19,
   "metadata": {},
   "outputs": [],
   "source": [
    "a = list('Only ravens and internalized magesty')"
   ]
  },
  {
   "cell_type": "code",
   "execution_count": 80,
   "metadata": {},
   "outputs": [
    {
     "data": {
      "text/plain": [
       "'         Oaaaaaabbcceeeeefghhiiiilllllmmnnnnooopprrrssstttyy'"
      ]
     },
     "execution_count": 80,
     "metadata": {},
     "output_type": "execute_result"
    }
   ],
   "source": [
    "def cs(a):\n",
    "    if len(a)<=1:\n",
    "        return a\n",
    "    n = len(a)-1               # Last element, store pivot there\n",
    "    l = 0                      # pointer to where small values will be shoved\n",
    "    #print(''.join(a))\n",
    "    for r in range(0,n):       # For each non-pivot\n",
    "        #print(r,l,''.join(a))\n",
    "        if a[r]<a[n]:          # If smaller than pivot,\n",
    "            if r>l:            # and cannot be left in place,\n",
    "                (a[r],a[l]) = (a[l],a[r]) # Swap (shove it to the left)\n",
    "            l += 1             # Point to the next shoving point\n",
    "\n",
    "    # By the end of this, all a<pivot are in locations<l\n",
    "    \n",
    "    #print(l,n,''.join(a))\n",
    "    if l<n:\n",
    "        (a[l],a[n]) = (a[n],a[l]) # If any a>pivot are present, move pivot to the border\n",
    "        a = cs(a[:l]) + [a[l]] + cs(a[(l+1):])\n",
    "    else:\n",
    "        a = cs(a[:l]) + [a[l]]\n",
    "        \n",
    "    return a\n",
    "\n",
    "a = list('Only some animals can really appreciate the birth of goblins')\n",
    "#a = list('squirrel')\n",
    "''.join(cs(a))"
   ]
  }
 ],
 "metadata": {
  "kernelspec": {
   "display_name": "Python 3",
   "language": "python",
   "name": "python3"
  },
  "language_info": {
   "codemirror_mode": {
    "name": "ipython",
    "version": 3
   },
   "file_extension": ".py",
   "mimetype": "text/x-python",
   "name": "python",
   "nbconvert_exporter": "python",
   "pygments_lexer": "ipython3",
   "version": "3.7.0"
  }
 },
 "nbformat": 4,
 "nbformat_minor": 2
}
