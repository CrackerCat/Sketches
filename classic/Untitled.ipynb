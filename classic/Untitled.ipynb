{
 "cells": [
  {
   "cell_type": "markdown",
   "metadata": {},
   "source": [
    "## Sorting algorythms"
   ]
  },
  {
   "cell_type": "markdown",
   "metadata": {},
   "source": [
    "### Quicksort"
   ]
  },
  {
   "cell_type": "code",
   "execution_count": 19,
   "metadata": {},
   "outputs": [],
   "source": [
    "a = list('Only ravens and internalized magesty')"
   ]
  },
  {
   "cell_type": "code",
   "execution_count": 48,
   "metadata": {},
   "outputs": [
    {
     "data": {
      "text/plain": [
       "' aa a a aa    b bceeefcegehhiiilllllimmnnnoooppnrrrOssstttyy'"
      ]
     },
     "execution_count": 48,
     "metadata": {},
     "output_type": "execute_result"
    }
   ],
   "source": [
    "def cs(a):\n",
    "    if len(a)==1:\n",
    "        return a\n",
    "    n = len(a)-1\n",
    "    l = 0\n",
    "    for r in range(1,len(a)):\n",
    "        #print(r,l,''.join(a))\n",
    "        if a[r]<a[n]:\n",
    "            (a[r],a[l]) = (a[l],a[r]) # Swap\n",
    "            l += 1\n",
    "    (a[l],a[n]) = (a[n],a[l])\n",
    "    \n",
    "    if l>0:\n",
    "        a = cs(a[:l]) + cs(a[l:])\n",
    "        \n",
    "    return a\n",
    "\n",
    "a = list('Only some animals can really appreciate the birth of goblins')\n",
    "#a = list('squirrel')\n",
    "''.join(cs(a))"
   ]
  }
 ],
 "metadata": {
  "kernelspec": {
   "display_name": "Python 3",
   "language": "python",
   "name": "python3"
  },
  "language_info": {
   "codemirror_mode": {
    "name": "ipython",
    "version": 3
   },
   "file_extension": ".py",
   "mimetype": "text/x-python",
   "name": "python",
   "nbconvert_exporter": "python",
   "pygments_lexer": "ipython3",
   "version": "3.7.0"
  }
 },
 "nbformat": 4,
 "nbformat_minor": 2
}
