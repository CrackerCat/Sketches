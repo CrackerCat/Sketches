{
 "cells": [
  {
   "cell_type": "markdown",
   "metadata": {},
   "source": [
    "# Priority queues\n",
    "\n",
    "I will be implementing it so that high priotity = later letters (z has higher priority over a) as that's what textbooks seem to do in most cases. In this case the parent node is always larger (later in the alphabet) than its children.\n",
    "\n",
    "The 0th (aka first for normal people) element is kept empty, which seems stupid until you realize that this way the children of element i lie exactly at 2i and 2i+1."
   ]
  },
  {
   "cell_type": "code",
   "execution_count": 57,
   "metadata": {},
   "outputs": [
    {
     "name": "stdout",
     "output_type": "stream",
     "text": [
      " x t t r r c a i o c o\n",
      " x t t r r d a i o c o c\n",
      "xttr\n",
      " r o o i c d a c\n",
      "rooi\n",
      " d c c a\n",
      " z y t s r o s p r p r i l c r a a d e a h c e a c a l\n",
      "zytssrrrr\n",
      " p p o l h l c c e c e i a a a a a d\n",
      "ppolliheedcccaaaaa\n",
      "\n"
     ]
    }
   ],
   "source": [
    "class pq():\n",
    "    def __init__(self, init=[]):\n",
    "        # self.x = [] + sorted(init,reverse=True) # add empty element\n",
    "        self.x = ['']\n",
    "        self.last = 0\n",
    "        for i in init:\n",
    "            self.insert(i)\n",
    "        \n",
    "    def __str__(self):\n",
    "        return ' '.join(self.x)\n",
    "    \n",
    "    def insert(self,a):\n",
    "        if len(a)>1:      # Shortcut, to make it handle strings\n",
    "            for i in a:\n",
    "                self.insert(i)\n",
    "            return\n",
    "        if a==' ': return # Let's ignore spaces, just to make presentation easier. Not a real part of this algo ;]\n",
    "        self.x.append(a)\n",
    "        self.last += 1\n",
    "        #print(self.last, self.x)\n",
    "        self.swimup(self.last)\n",
    "    \n",
    "    def swap(self,i,j):\n",
    "        (self.x[i] , self.x[j]) = (self.x[j] , self.x[i])\n",
    "        \n",
    "    def pop(self,n=1):\n",
    "        if n>1:                                            # Also not a part of the algo; I just want to automate testing\n",
    "            return ''.join([self.pop() for i in range(min(n,self.last))]) # By removing more than 1 element at once\n",
    "        out = self.x[1]\n",
    "        self.swap(1,self.last) # As we cannot have holes in the tree, first swap the doomed element wiht the tail\n",
    "        del self.x[self.last]  # Now remove it and clean up the mess. (Isn't it silly that del isn't a method?)\n",
    "        self.last -= 1\n",
    "        self.swimdown(1)       # restore tree integrity (as now we have a small element on top)\n",
    "        return out\n",
    "    \n",
    "    def swimdown(self,i):\n",
    "        while i*2 <= self.last:\n",
    "            j = i*2\n",
    "            if (j<self.last) and (self.x[j]<self.x[j+1]): # If this node has 2 children, and this is not the largest\n",
    "                j += 1                                    # ..switch to the larger one\n",
    "            if (self.x[j]<=self.x[i]): # no need to go further\n",
    "                break\n",
    "            self.swap(i,j)\n",
    "            i = j\n",
    "        \n",
    "    def swimup(self,i):\n",
    "        while i>1 and self.x[i//2]<self.x[i]: # large parent\n",
    "            #print('comparing:',self.x[i//2],self.x[i])\n",
    "            self.swap(i//2,i)\n",
    "            i //= 2\n",
    "            \n",
    "        \n",
    "a = pq(list('toxic carrot'))\n",
    "print(a)\n",
    "a.insert('d')\n",
    "print(a)\n",
    "print(a.pop(4))\n",
    "print(a)\n",
    "print(a.pop(4))\n",
    "print(a)\n",
    "a.insert('lazy parrots are spherical')\n",
    "print(a)\n",
    "print(a.pop(9))\n",
    "print(a)\n",
    "print(a.pop(100))\n",
    "print(a)"
   ]
  },
  {
   "cell_type": "markdown",
   "metadata": {},
   "source": [
    "### Notes:\n",
    "\n",
    "* It is not guaranteed whether the left or the right branchhas a smaller value. I'm guessing one could also order them at construction phase (while swimming up), which would have simplified swimming down. But probably not much of a difference here.\n",
    "* IRL in languages with memory allocation you wouldn't want to change array size with every deletion; instead you'd do stardard \"array resize\" if it gets too tight (next element doesn't fit) or too loose (say, more than half of the array is empty).\n",
    "* Terniary (and higher order) trees are apparently also used in practice. Not sure why somebody would do it though. What's the benefit? Not clear.\n",
    "* May be used for sorting (**heapsort**; apparently runs in 2(n*lg(n) + n). Two tricks here: \n",
    " 1. instead of repeatedly running insert(), it's better to just place the list there, and then \"heapify\" it by gowing through all nodes with kids (last//2 and lower), right-to-left, \"sinking\" (swimdown) if necessary\n",
    " 2. then we repeatedly do pop(), and place former max instead of the former last element (so heap scrolls to the left, while sorted array replaces it to the right, all in-place)"
   ]
  }
 ],
 "metadata": {
  "kernelspec": {
   "display_name": "Python 3",
   "language": "python",
   "name": "python3"
  },
  "language_info": {
   "codemirror_mode": {
    "name": "ipython",
    "version": 3
   },
   "file_extension": ".py",
   "mimetype": "text/x-python",
   "name": "python",
   "nbconvert_exporter": "python",
   "pygments_lexer": "ipython3",
   "version": "3.7.0"
  }
 },
 "nbformat": 4,
 "nbformat_minor": 2
}
