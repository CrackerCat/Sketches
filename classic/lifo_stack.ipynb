{
 "cells": [
  {
   "cell_type": "markdown",
   "metadata": {},
   "source": [
    "### Stack\n",
    "\n",
    "Trying to make a LIFO stack, which is a bit silly in Python ;)"
   ]
  },
  {
   "cell_type": "code",
   "execution_count": 39,
   "metadata": {},
   "outputs": [
    {
     "name": "stdout",
     "output_type": "stream",
     "text": [
      "0\n",
      "1\n",
      "[2, 3, 0, 0]\n",
      "Resizing to 2\n",
      "3\n",
      "[2, 0]\n",
      "1\n",
      "Resizing to 4\n",
      "2\n",
      "3\n",
      "Resizing to 8\n",
      "[2, 5, 5, 5, 0, 0, 0, 0]\n",
      "Resizing to 4\n",
      "5\n",
      "5\n",
      "Resizing to 2\n",
      "5\n",
      "Resizing to 1\n",
      "2\n",
      "None\n",
      "None\n",
      "0\n",
      "Resizing to 2\n",
      "Resizing to 1\n"
     ]
    },
    {
     "data": {
      "text/plain": [
       "7"
      ]
     },
     "execution_count": 39,
     "metadata": {},
     "output_type": "execute_result"
    }
   ],
   "source": [
    "class Stack():\n",
    "    \"\"\"LIFO stack?\"\"\"\n",
    "    \n",
    "    def __init__(self,size=1):\n",
    "        self.values = [0]*size # Init list with zeros\n",
    "        self.n = size\n",
    "        self.i = 0\n",
    "        \n",
    "    def resize(self,n):\n",
    "        print(f'Resizing to {n}')\n",
    "        if n<self.n:\n",
    "            self.values = self.values[:n]\n",
    "        elif n>self.n:\n",
    "            self.values += [0]*(n-self.n)\n",
    "        self.n = n\n",
    "        \n",
    "    def push(self,value):\n",
    "        print(self.i)\n",
    "        self.values[self.i] = value\n",
    "        self.i += 1\n",
    "        if(self.i==self.n):\n",
    "            self.resize(self.n*2)\n",
    "        \n",
    "    def pop(self):\n",
    "        self.i -= 1\n",
    "        if self.i<0:\n",
    "            self.i = 0\n",
    "            ou = None\n",
    "        else:\n",
    "            ou = self.values[self.i]\n",
    "            self.values[self.i] = 0\n",
    "        if self.i<self.n // 2:\n",
    "            self.resize(self.n//2)\n",
    "        return ou\n",
    "        \n",
    "    def __str__(self):\n",
    "        return str(self.values)\n",
    "        \n",
    "a = Stack(4)\n",
    "a.push(2)\n",
    "a.push(3)\n",
    "print(a)\n",
    "print(a.pop())\n",
    "print(a)\n",
    "a.push(5)\n",
    "a.push(5)\n",
    "a.push(5)\n",
    "print(a)\n",
    "for i in range(6):\n",
    "    print(a.pop())\n",
    "a.push(7)\n",
    "a.pop()"
   ]
  }
 ],
 "metadata": {
  "kernelspec": {
   "display_name": "Python 3",
   "language": "python",
   "name": "python3"
  },
  "language_info": {
   "codemirror_mode": {
    "name": "ipython",
    "version": 3
   },
   "file_extension": ".py",
   "mimetype": "text/x-python",
   "name": "python",
   "nbconvert_exporter": "python",
   "pygments_lexer": "ipython3",
   "version": "3.7.0"
  }
 },
 "nbformat": 4,
 "nbformat_minor": 2
}
