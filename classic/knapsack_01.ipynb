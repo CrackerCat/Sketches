{
 "cells": [
  {
   "cell_type": "markdown",
   "metadata": {},
   "source": [
    "# Knacksack"
   ]
  },
  {
   "cell_type": "code",
   "execution_count": 2,
   "metadata": {},
   "outputs": [],
   "source": [
    "import numpy as np # For random numbers"
   ]
  },
  {
   "cell_type": "code",
   "execution_count": 3,
   "metadata": {},
   "outputs": [
    {
     "data": {
      "text/plain": [
       "[(4, 31), (2, 58), (4, 8), (2, 2), (9, 15)]"
      ]
     },
     "execution_count": 3,
     "metadata": {},
     "output_type": "execute_result"
    }
   ],
   "source": [
    "def items(n):\n",
    "    out = []\n",
    "    for i in range(n):\n",
    "        out.append((np.random.randint(10), np.random.randint(100)))\n",
    "    return out\n",
    "\n",
    "items(5)"
   ]
  },
  {
   "cell_type": "markdown",
   "metadata": {},
   "source": [
    "### General idea\n",
    "\n",
    "* The general idea is that we are using dynamic programming. At each step we can either include an element, or to skip it, and then to solve the same problem with remaining elements.\n",
    "* On top of that, we need to compare with the maximal weight, and skip those elements that bring us over.\n",
    "* And we need to keep track of the current best solution.\n",
    "* Now, to make it fast, we use memoization. In this case however the space of states is 2D: how far in we are, along the line, and what is the weight-to-date. So we form a tuple to describe the current state, and memoize based on this tuple."
   ]
  },
  {
   "cell_type": "code",
   "execution_count": 96,
   "metadata": {},
   "outputs": [
    {
     "name": "stdout",
     "output_type": "stream",
     "text": [
      "[(5, 12), (8, 9), (5, 79), (0, 16), (1, 76), (7, 6), (9, 50), (4, 18), (4, 11), (2, 68), (7, 87), (9, 94), (0, 86), (9, 9), (7, 63), (6, 57), (1, 0), (1, 8), (8, 13), (3, 47), (9, 72), (7, 3), (6, 21), (1, 57), (3, 68), (8, 43), (4, 80), (3, 41), (2, 15), (0, 68), (9, 98), (7, 7), (9, 22), (9, 67), (7, 23), (4, 27), (5, 57), (3, 38), (8, 32), (2, 10), (7, 15), (7, 25), (7, 92), (0, 88), (7, 55), (1, 77), (3, 0), (8, 77), (6, 52), (5, 70), (2, 76), (5, 75), (7, 77), (8, 75), (4, 30), (4, 7), (4, 57), (0, 82), (0, 13), (7, 81), (7, 24), (4, 32), (1, 94), (9, 24), (2, 97), (2, 92), (7, 98), (6, 96), (9, 82), (6, 70), (2, 71), (7, 48), (6, 15), (5, 17), (4, 48), (6, 13), (1, 97), (5, 84), (0, 55), (8, 89), (5, 96), (9, 83), (9, 14), (4, 43), (6, 77), (8, 59), (8, 9), (2, 71), (5, 69), (4, 21), (8, 77), (1, 47), (8, 78), (7, 16), (3, 66), (0, 29), (3, 53), (1, 2), (4, 83), (0, 54)]\n",
      "---\n",
      "(1204, [(0, 54), (0, 29), (1, 47), (0, 55), (1, 97), (2, 92), (2, 97), (1, 94), (0, 13), (0, 82), (2, 76), (1, 77), (0, 88), (0, 68), (1, 57), (0, 86), (1, 76), (0, 16)])\n"
     ]
    }
   ],
   "source": [
    "mem = {}\n",
    "def knap(items, maxweight, i=0):\n",
    "    \"\"\"Receives a list, first valid item to consider, and max weight. \n",
    "    Returns an array of items with max price.\"\"\"\n",
    "    if i==len(items):                               # Induction basis: if out of bounds: 0 price, no items\n",
    "        return (0,[])\n",
    "    this = items[i]                                 # Do we include this one?\n",
    "    if (i,maxweight) in mem:                        # The state of search is defined by 2 vars\n",
    "        return mem[(i,maxweight)]\n",
    "    if this[0]>maxweight:\n",
    "        best = knap(items, maxweight, i+1)          # If too heavy, just skip it\n",
    "    else:                                           # If taking it is conceivably possible:\n",
    "        op_s = knap(items, maxweight, i+1)          # Either skip it anyways, and optimize the rest\n",
    "        op_t = knap(items,maxweight-this[0],i+1)    # Or take it, and optimize the rest\n",
    "        if op_s[0] > op_t[0] + this[1]:             # If skipping yields a better total price:\n",
    "            best =  op_s                            # .. take the skipped result.\n",
    "        else:\n",
    "            best = (op_t[0]+this[1], op_t[1]+[this]) # Otherwise, combine the solutions.\n",
    "    mem[(i,maxweight)] = best                       # Memefy before output\n",
    "    return best\n",
    "    \n",
    "\n",
    "# Test:\n",
    "np.random.seed(1)\n",
    "bag = items(100)\n",
    "print(bag)\n",
    "print('---')\n",
    "a = knap(bag,12)\n",
    "print(a)"
   ]
  }
 ],
 "metadata": {
  "kernelspec": {
   "display_name": "Python 3",
   "language": "python",
   "name": "python3"
  },
  "language_info": {
   "codemirror_mode": {
    "name": "ipython",
    "version": 3
   },
   "file_extension": ".py",
   "mimetype": "text/x-python",
   "name": "python",
   "nbconvert_exporter": "python",
   "pygments_lexer": "ipython3",
   "version": "3.7.6"
  }
 },
 "nbformat": 4,
 "nbformat_minor": 2
}
