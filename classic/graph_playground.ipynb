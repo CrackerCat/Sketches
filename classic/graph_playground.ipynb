{
 "cells": [
  {
   "cell_type": "markdown",
   "metadata": {},
   "source": [
    "# Graphs - Playground\n",
    "\n",
    "Simple graph utilities (creation, reporting), and some graph algorithms."
   ]
  },
  {
   "cell_type": "code",
   "execution_count": 1,
   "metadata": {},
   "outputs": [],
   "source": [
    "import numpy as np"
   ]
  },
  {
   "cell_type": "markdown",
   "metadata": {},
   "source": [
    "**Topological order** or **topological sort**: a sequence of vertex ids, such that for no directed edge A→B, B is given in the list before A. Is only possible in a DAG (in a graph without directed cycles). https://en.wikipedia.org/wiki/Topological_sorting"
   ]
  },
  {
   "cell_type": "code",
   "execution_count": 33,
   "metadata": {},
   "outputs": [],
   "source": [
    "class Graph:    \n",
    "    def __init__(self,nv=1,directed=False):\n",
    "        '''Create empty graph'''\n",
    "        self.adj = {}\n",
    "        self.nv = nv\n",
    "        self.directed = directed # Plug for the future\n",
    "        for i in range(self.nv):\n",
    "            self.adj[i] = []\n",
    "            \n",
    "    def n(self): return len(self.adj)\n",
    "            \n",
    "    def __str__(self):\n",
    "        return f'Graph of {len(self.adj)} edges:\\n'+'\\n'.join([str(key)+':'+str(self.adj[key]) for key in self.adj])\n",
    "    \n",
    "    def add_edge(self,i,j):\n",
    "        if i not in self.adj: \n",
    "            self.adj[i] = [j]\n",
    "        else:                 \n",
    "            self.adj[i].append(j)\n",
    "        if not self.directed:\n",
    "            if j not in self.adj: \n",
    "                self.adj[j] = [i]\n",
    "            else:                 \n",
    "                self.adj[j].append(i)\n",
    "        else:\n",
    "            if j not in self.adj: \n",
    "                self.adj[j] = []\n",
    "                \n",
    "    def add_edges(self,ts):\n",
    "        '''Accepts a list of tuples'''\n",
    "        for (i,j) in ts:\n",
    "            self.add_edge(i,j)\n",
    "                \n",
    "    def adj_matrix(self):\n",
    "        out = np.zeros((len(self.adj),len(self.adj)),dtype=int)\n",
    "        for i in self.adj:\n",
    "            for j in self.adj[i]:\n",
    "                out[i,j] = 1\n",
    "        return out\n",
    "    \n",
    "    def dfs(self,v=None,visited=None,path=None,topord=None,verbose=False):\n",
    "        \"\"\"Depth-first search; returns topological sorting.\"\"\"\n",
    "        if v is None: v=next(iter(self.adj.keys()))     # If needed, pick some random vertex as a root\n",
    "        if visited is None: visited = [0]*len(self.adj) # If needed, mark all v as unvisited\n",
    "        if path is None:    path = []\n",
    "        if topord is None:  topord = []                 # Topological ordering, will be returned\n",
    "        visited[v] = 1                                  # Mark current v as visited\n",
    "        path += [v]\n",
    "        if verbose: print(path)\n",
    "        for i in self.adj[v]:                           # For all connections from the current vertex\n",
    "            if visited[i]==0:                           # If they weren't yet visited, visit them\n",
    "                topord = self.dfs(i,visited,path,topord=topord,verbose=verbose)\n",
    "        return [v]+topord                               # Update topo-order when LEAVING the node (reverse postorder)\n",
    "                \n",
    "    def bfs(self,v=None,target=None,verbose=False):\n",
    "        \"\"\"Breadth-first exploration, looking for a distance from one vertex to another.\"\"\"\n",
    "        if v is None: v = next(iter(self.adj.keys()))   # If needed, pick some random vertex as a root\n",
    "        q = [(v,0)]                                     # Queue of vertices to be visited, with their distances from the root\n",
    "        visited = [0]*len(self.adj)                     # Not recursive, so mark all as unvisited\n",
    "        while len(q)>0:                                 # While queue isn't empty\n",
    "            (v,d) = q.pop(-1)                           # Pop the last element of the queue\n",
    "            if v==target:\n",
    "                return d\n",
    "            if verbose: print(v,':',q)\n",
    "            visited[v] =  1\n",
    "            for i in self.adj[v]:\n",
    "                if visited[i]==0 and ((i,d+1) not in q):\n",
    "                    q.append((i,d+1))                 "
   ]
  },
  {
   "cell_type": "code",
   "execution_count": 34,
   "metadata": {},
   "outputs": [
    {
     "name": "stdout",
     "output_type": "stream",
     "text": [
      "Graph of 8 edges:\n",
      "0:[1, 2]\n",
      "1:[0, 3]\n",
      "2:[0, 3, 4]\n",
      "3:[1, 2, 5]\n",
      "5:[3, 4]\n",
      "4:[2, 5]\n",
      "6:[7]\n",
      "7:[6]\n",
      "\n",
      "dfs:\n",
      "[0]\n",
      "[0, 1]\n",
      "[0, 1, 3]\n",
      "[0, 1, 3, 2]\n",
      "[0, 1, 3, 2, 4]\n",
      "[0, 1, 3, 2, 4, 5]\n",
      "dfs output: [0, 1, 3, 2, 4, 5]\n",
      "\n",
      "bfs:\n",
      "0 : []\n",
      "2 : [(1, 1)]\n",
      "4 : [(1, 1), (3, 2)]\n",
      "5 : [(1, 1), (3, 2)]\n",
      "3 : [(1, 1), (3, 2)]\n",
      "1 : [(1, 1), (3, 2)]\n",
      "3 : [(1, 1)]\n",
      "1 : []\n",
      "bfs output: None\n",
      "4\n",
      "4\n",
      "2\n"
     ]
    }
   ],
   "source": [
    "# First, let's try it all with an undirected graph\n",
    "\n",
    "g = Graph(directed=False)\n",
    "g.add_edges([(0,1),(0,2),(1,3),(2,3),(3,5),(2,4),(4,5),(6,7)])\n",
    "print(g)\n",
    "#g.adj_matrix()\n",
    "print('\\ndfs:')\n",
    "print('dfs output:',g.dfs(0,verbose=True))\n",
    "print('\\nbfs:')\n",
    "print('bfs output:',g.bfs(verbose=True))\n",
    "print(g.bfs(0,3))\n",
    "print(g.bfs(3,0))\n",
    "print(g.bfs(2,5))"
   ]
  },
  {
   "cell_type": "code",
   "execution_count": 35,
   "metadata": {},
   "outputs": [
    {
     "name": "stdout",
     "output_type": "stream",
     "text": [
      "Graph of 8 edges:\n",
      "0:[1, 2]\n",
      "1:[3]\n",
      "2:[3, 4]\n",
      "3:[5]\n",
      "5:[]\n",
      "4:[5]\n",
      "6:[7]\n",
      "7:[]\n",
      "\n",
      "dfs:\n",
      "[0]\n",
      "[0, 1]\n",
      "[0, 1, 3]\n",
      "[0, 1, 3, 5]\n",
      "[0, 1, 3, 5, 2]\n",
      "[0, 1, 3, 5, 2, 4]\n",
      "dfs output: [0, 2, 4, 1, 3, 5]\n",
      "\n",
      "bfs:\n",
      "0 : []\n",
      "2 : [(1, 1)]\n",
      "4 : [(1, 1), (3, 2)]\n",
      "5 : [(1, 1), (3, 2)]\n",
      "3 : [(1, 1)]\n",
      "1 : []\n",
      "bfs output: None\n",
      "2\n",
      "None\n",
      "2\n"
     ]
    }
   ],
   "source": [
    "# Now, exactly same commands, but with a directed graph\n",
    "\n",
    "g = Graph(directed=True)\n",
    "g.add_edges([(0,1),(0,2),(1,3),(2,3),(3,5),(2,4),(4,5),(6,7)])\n",
    "print(g)\n",
    "#g.adj_matrix()\n",
    "print('\\ndfs:')\n",
    "print('dfs output:',g.dfs(0,verbose=True))\n",
    "print('\\nbfs:')\n",
    "print('bfs output:',g.bfs(verbose=True))\n",
    "print(g.bfs(0,3))\n",
    "print(g.bfs(3,0))\n",
    "print(g.bfs(2,5))"
   ]
  },
  {
   "cell_type": "code",
   "execution_count": 29,
   "metadata": {},
   "outputs": [
    {
     "name": "stdout",
     "output_type": "stream",
     "text": [
      "[0]\n"
     ]
    }
   ],
   "source": [
    "# Random graph\n",
    "g = Graph(directed=True)\n",
    "for i in range(30):\n",
    "    j = np.random.randint(g.n())\n",
    "    g.add_edge(j,i)\n",
    "# print(g)\n",
    "print(g.dfs(verbose=False))"
   ]
  }
 ],
 "metadata": {
  "kernelspec": {
   "display_name": "Python 3",
   "language": "python",
   "name": "python3"
  },
  "language_info": {
   "codemirror_mode": {
    "name": "ipython",
    "version": 3
   },
   "file_extension": ".py",
   "mimetype": "text/x-python",
   "name": "python",
   "nbconvert_exporter": "python",
   "pygments_lexer": "ipython3",
   "version": "3.7.0"
  }
 },
 "nbformat": 4,
 "nbformat_minor": 2
}
