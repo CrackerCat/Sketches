{
 "cells": [
  {
   "cell_type": "markdown",
   "metadata": {},
   "source": [
    "# Graphs - Playground\n",
    "\n",
    "A place to develop a custom graph module"
   ]
  },
  {
   "cell_type": "code",
   "execution_count": 43,
   "metadata": {},
   "outputs": [],
   "source": [
    "import numpy as np"
   ]
  },
  {
   "cell_type": "code",
   "execution_count": 129,
   "metadata": {},
   "outputs": [
    {
     "name": "stdout",
     "output_type": "stream",
     "text": [
      "Graph of 6 edges:\n",
      "0:[2, 1]\n",
      "2:[0, 1, 3]\n",
      "1:[0, 2]\n",
      "3:[2]\n",
      "4:[5]\n",
      "5:[4]\n",
      "dfs:\n",
      "[0]\n",
      "bfs:\n",
      "0 []\n",
      "1 [2]\n",
      "2 []\n",
      "3 []\n",
      "2\n",
      "2\n",
      "None\n"
     ]
    }
   ],
   "source": [
    "class Graph:    \n",
    "    def __init__(self,nv=1,directed=False):\n",
    "        '''Create empty graph'''\n",
    "        self.adj = {}\n",
    "        self.nv = nv\n",
    "        self.directed = directed # Plug for the future\n",
    "        for i in range(self.nv):\n",
    "            self.adj[i] = []\n",
    "            \n",
    "    def __str__(self):\n",
    "        return f'Graph of {len(self.adj)} edges:\\n'+'\\n'.join([str(key)+':'+str(self.adj[key]) for key in self.adj])\n",
    "    \n",
    "    def add_edge(self,i,j):\n",
    "        if i not in self.adj: \n",
    "            self.adj[i] = [j]\n",
    "        else:                 \n",
    "            self.adj[i].append(j)\n",
    "        if not self.directed:\n",
    "            if j not in self.adj: \n",
    "                self.adj[j] = [i]\n",
    "            else:                 \n",
    "                self.adj[j].append(i)\n",
    "        else:\n",
    "            if j not in self.adj: \n",
    "                self.adj[j] = []\n",
    "                \n",
    "    def add_edges(self,ts):\n",
    "        '''Accepts a list of tuples'''\n",
    "        for (i,j) in ts:\n",
    "            self.add_edge(i,j)\n",
    "                \n",
    "    def adj_matrix(self):\n",
    "        out = np.zeros((len(self.adj),len(self.adj)),dtype=int)\n",
    "        for i in self.adj:\n",
    "            for j in self.adj[i]:\n",
    "                out[i,j] = 1\n",
    "        return out\n",
    "    \n",
    "    def dfs(self,v=None,visited=None,path=[],verbose=False):\n",
    "        '''Depth-first exploration, purposeless for now'''\n",
    "        if v is None: v=next(iter(self.adj.keys())) # First vertex (whatever)\n",
    "        if visited is None: visited = [0]*len(self.adj)\n",
    "        visited[v] = 1\n",
    "        path += [v]\n",
    "        if verbose: print(path)\n",
    "        for i in self.adj[v]:\n",
    "            if visited[i]==0:\n",
    "                self.dfs(i,visited,path)\n",
    "                \n",
    "    def bfs(self,v=None,target=None,verbose=False):\n",
    "        if v is None: v = next(iter(self.adj.keys())) # One whatever vertex, put in a list\n",
    "        q = [v] # Queue\n",
    "        dl = [0]\n",
    "        visited = [0]*len(self.adj)\n",
    "        while len(q)>0:\n",
    "            v = q.pop(-1)\n",
    "            d = dl.pop(-1) # Degree of separation (min distance)\n",
    "            if v==target:\n",
    "                return d\n",
    "            if verbose: print(v,q)\n",
    "            visited[v] =  1\n",
    "            for i in self.adj[v]:\n",
    "                if visited[i]==0 and (i not in q):\n",
    "                    q.append(i)\n",
    "                    dl.append(d+1)                    \n",
    "        \n",
    "            \n",
    "g = Graph()\n",
    "g.add_edges([(0,2),(0,1),(1,2),(2,3),(4,5)])\n",
    "print(g)\n",
    "#g.adj_matrix()\n",
    "print('dfs:')\n",
    "g.dfs(verbose=True)\n",
    "print('bfs:')\n",
    "g.bfs(verbose=True)\n",
    "print(g.bfs(0,3))\n",
    "print(g.bfs(3,0))\n",
    "print(g.bfs(2,5))"
   ]
  },
  {
   "cell_type": "code",
   "execution_count": 128,
   "metadata": {},
   "outputs": [
    {
     "name": "stdout",
     "output_type": "stream",
     "text": [
      "Graph of 6 edges:\n",
      "0:[2, 1]\n",
      "2:[3]\n",
      "1:[2]\n",
      "3:[]\n",
      "4:[5]\n",
      "5:[]\n",
      "dfs:\n",
      "[0, 2, 1, 3, 0, 2, 3, 1, 0, 2, 3, 1, 0, 2, 3, 1, 0]\n",
      "bfs:\n",
      "0 []\n",
      "1 [2]\n",
      "2 []\n",
      "3 []\n",
      "2\n",
      "None\n",
      "None\n"
     ]
    }
   ],
   "source": [
    "g = Graph(directed=True)\n",
    "g.add_edges([(0,2),(0,1),(1,2),(2,3),(4,5)])\n",
    "print(g)\n",
    "#g.adj_matrix()\n",
    "print('dfs:')\n",
    "g.dfs(verbose=True)\n",
    "print('bfs:')\n",
    "g.bfs(verbose=True)\n",
    "print(g.bfs(0,3))\n",
    "print(g.bfs(3,0))\n",
    "print(g.bfs(2,5))"
   ]
  }
 ],
 "metadata": {
  "kernelspec": {
   "display_name": "Python 3",
   "language": "python",
   "name": "python3"
  },
  "language_info": {
   "codemirror_mode": {
    "name": "ipython",
    "version": 3
   },
   "file_extension": ".py",
   "mimetype": "text/x-python",
   "name": "python",
   "nbconvert_exporter": "python",
   "pygments_lexer": "ipython3",
   "version": "3.7.0"
  }
 },
 "nbformat": 4,
 "nbformat_minor": 2
}
