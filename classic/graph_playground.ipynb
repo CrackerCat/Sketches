{
 "cells": [
  {
   "cell_type": "markdown",
   "metadata": {},
   "source": [
    "# Graphs - Playground\n",
    "\n",
    "Simple graph utilities (creation, reporting), and some graph algorithms."
   ]
  },
  {
   "cell_type": "code",
   "execution_count": 30,
   "metadata": {},
   "outputs": [],
   "source": [
    "import numpy as np"
   ]
  },
  {
   "cell_type": "markdown",
   "metadata": {},
   "source": [
    "**Topological order** or **topological sort**: a sequence of vertex ids, such that for no directed edge A→B, B is given in the list before A. Is only possible in a DAG (in a graph without directed cycles). https://en.wikipedia.org/wiki/Topological_sorting"
   ]
  },
  {
   "cell_type": "code",
   "execution_count": 204,
   "metadata": {},
   "outputs": [],
   "source": [
    "class Graph:\n",
    "    \"\"\"Minimalistic graph toolbox.\"\"\"\n",
    "    def __init__(self,nv=1,directed=False):\n",
    "        '''Create an empty graph.'''\n",
    "        self.adj = {}\n",
    "        self.nv = nv\n",
    "        self.directed = directed # Plug for the future\n",
    "        for i in range(self.nv):\n",
    "            self.adj[i] = []\n",
    "            \n",
    "    def n(self): \n",
    "        \"\"\"Number of vertices + updates nv property.\"\"\"\n",
    "        self.nv = len(self.adj)\n",
    "        return self.nv\n",
    "            \n",
    "    def __str__(self):\n",
    "        return f'Graph of {len(self.adj)} edges:\\n'+'\\n'.join([str(key)+':'+str(self.adj[key]) for key in self.adj])\n",
    "    \n",
    "    def add_edge(self,i,j):\n",
    "        \"\"\"Adds one edge from i to j (and j to i if the graph isn't directed).\"\"\"\n",
    "        if i not in self.adj: \n",
    "            self.adj[i] = [j]\n",
    "        else:                 \n",
    "            if j not in self.adj[i]: # Say no to double-edges\n",
    "                self.adj[i].append(j)\n",
    "        if j not in self.adj:\n",
    "            self.adj[j] = []\n",
    "        if not self.directed:\n",
    "            self.directed = True # A roundabout way to add the opposite edge recursively\n",
    "            self.add_edge(j,i)   # .. without triggering an infinite loop.\n",
    "            self.directed = False        \n",
    "                \n",
    "    def del_edge(self,i,j):\n",
    "        \"\"\"Deletes edge from i to j (and if undirected, also from j to i).\"\"\"\n",
    "        if i not in self.adj: return\n",
    "        if j not in self.adj: return\n",
    "        if j in self.adj[i]:          # Remove gives an error if you try to remove non-existent element\n",
    "            self.adj[i].remove(j)\n",
    "        if not self.directed:\n",
    "            if i in self.adj[j]:\n",
    "                self.adj[j].remove(i)\n",
    "                \n",
    "    def add_edges(self,ts):\n",
    "        \"\"\"Builds a graph from a list of tuples\"\"\"\n",
    "        for (i,j) in ts:\n",
    "            self.add_edge(i,j)\n",
    "                \n",
    "    def a(self):\n",
    "        \"\"\"Returns adjacency matrix.\"\"\"\n",
    "        out = np.zeros((len(self.adj),len(self.adj)),dtype=int)\n",
    "        for i in self.adj:\n",
    "            for j in self.adj[i]:\n",
    "                out[i,j] = 1\n",
    "        return out\n",
    "    \n",
    "    def dfs(self,v=None,visited=None,path=None,topord=None,verbose=False):\n",
    "        \"\"\"Depth-first search from a given, or random, node. Returns topological sorting from this node.\"\"\"\n",
    "        if v is None: v=next(iter(self.adj.keys()))     # If needed, pick some random vertex as a root\n",
    "        if visited is None: visited = [0]*len(self.adj) # If needed, mark all v as unvisited\n",
    "        if path is None:    path = []\n",
    "        if topord is None:  topord = []                 # Topological ordering, will be returned\n",
    "        visited[v] = 1                                  # Mark current v as visited\n",
    "        path += [v]\n",
    "        if verbose: print(path)\n",
    "        for i in self.adj[v]:                           # For all connections from the current vertex\n",
    "            if visited[i]==0:                           # If they weren't yet visited, visit them\n",
    "                topord = self.dfs(i,visited,path,topord=topord,verbose=verbose)\n",
    "        return [v]+topord                               # Update topo-order when LEAVING the node (reverse postorder)\n",
    "                \n",
    "    def bfs(self,v=None,target=None,verbose=False):\n",
    "        \"\"\"Breadth-first exploration, looking for a distance from one vertex to another.\"\"\"\n",
    "        if v is None: v = next(iter(self.adj.keys()))   # If needed, pick some random vertex as a root\n",
    "        q = [(v,0)]                                     # Queue of vertices to be visited, with their distances from the root\n",
    "        visited = [0]*len(self.adj)                     # Not recursive, so mark all as unvisited\n",
    "        while len(q)>0:                                 # While queue isn't empty\n",
    "            (v,d) = q.pop(-1)                           # Pop the last element of the queue\n",
    "            if v==target:\n",
    "                return d\n",
    "            if verbose: print(v,':',q)\n",
    "            visited[v] =  1\n",
    "            for i in self.adj[v]:\n",
    "                if visited[i]==0 and ((i,d+1) not in q):\n",
    "                    q.append((i,d+1))\n",
    "                    \n",
    "    def reverse(self):\n",
    "        \"\"\"Reverse the graph.\"\"\"\n",
    "        g = Graph(self.n(), self.directed) # Strictly speaking, there's no need to reverse undirected.\n",
    "        for (k,vals) in self.adj.items():  # If I had a copy() method, I could have just used it here.\n",
    "            for v in vals:\n",
    "                g.add_edge(v,k)\n",
    "        return g\n",
    "    \n",
    "    def randomize(self,nedges=None):\n",
    "        \"\"\"Add some random edges to the graph (n_edges==n_nodes by default).\"\"\"\n",
    "        if nedges is None: nedges = self.nv\n",
    "        for _ in range(nedges):\n",
    "            i = np.random.randint(self.nv)\n",
    "            j = np.random.randint(self.nv)\n",
    "            self.add_edge(j,i)\n",
    "    \n",
    "    def force_toporder(self):\n",
    "        \"\"\"Forces a DFS-based topological order; is not afraid of cycles, but also ruins DAGs\n",
    "        (ignores good reasonable edges and just plows ahead).\"\"\"\n",
    "        queue = list(self.adj.keys()) # By itself keys() return dict keys object, and not a list\n",
    "        topo = []\n",
    "        while len(queue)>0:\n",
    "            i = queue.pop()\n",
    "            temp = self.dfs(i)\n",
    "            queue = [q for q in queue if q not in temp] # Remove newly visited nodes from the queue\n",
    "            temp =  [q for q in temp  if q not in topo] # Remove previously visited nodes from new batch\n",
    "            topo += temp\n",
    "        return topo\n",
    "    \n",
    "    def trim_loops(self):\n",
    "        \"\"\"Removes loops from a graph\"\"\"\n",
    "        for k,v in self.adj.items():\n",
    "            if k in v:\n",
    "                v.remove(k)\n",
    "    \n",
    "    def _dfs_cycler(self,v,root=None,visited=None):\n",
    "        \"\"\"Helper function: checks if you can cycle from a node to itself.\"\"\"\n",
    "        if root is None: root=v\n",
    "        if visited is None: visited = []\n",
    "        if root in self.adj[v]: return False\n",
    "        if self.adj[v]==[]: return True\n",
    "        for i in self.adj[v]:\n",
    "            if i not in visited:\n",
    "                visited.append(i)\n",
    "                if not self._dfs_cycler(i,root,visited):\n",
    "                    return False\n",
    "        return True\n",
    "    \n",
    "    def isdag(self):\n",
    "        \"\"\"Checks if there are any cycles in a graph.\"\"\"\n",
    "        if not self.directed: return False # Undirected graphs can't be DAGs\n",
    "        queue = list(self.adj.keys())\n",
    "        for v in queue:\n",
    "            if not self._dfs_cycler(v):\n",
    "                return False\n",
    "        return True"
   ]
  },
  {
   "cell_type": "code",
   "execution_count": 210,
   "metadata": {},
   "outputs": [
    {
     "name": "stdout",
     "output_type": "stream",
     "text": [
      "Graph of 5 edges:\n",
      "0:[]\n",
      "1:[0]\n",
      "2:[4]\n",
      "3:[1]\n",
      "4:[]\n"
     ]
    },
    {
     "data": {
      "text/plain": [
       "True"
      ]
     },
     "execution_count": 210,
     "metadata": {},
     "output_type": "execute_result"
    }
   ],
   "source": [
    "# Generate a graph\n",
    "f = Graph(5,directed=True)\n",
    "f.randomize()\n",
    "f.trim_loops()\n",
    "print(f)\n",
    "f.isdag()"
   ]
  },
  {
   "cell_type": "code",
   "execution_count": 148,
   "metadata": {},
   "outputs": [
    {
     "name": "stdout",
     "output_type": "stream",
     "text": [
      "Graph of 5 edges:\n",
      "0:[0]\n",
      "1:[]\n",
      "2:[2]\n",
      "3:[3, 1]\n",
      "4:[]\n",
      "Topological order:\n",
      " [4, 3, 1, 2, 0]\n"
     ]
    }
   ],
   "source": [
    "# Test forced toporder\n",
    "f = Graph(5,directed=True)\n",
    "f.randomize()\n",
    "print(f)\n",
    "topo = f.force_toporder()\n",
    "print(\"Topological order:\\n\",topo)"
   ]
  },
  {
   "cell_type": "code",
   "execution_count": 53,
   "metadata": {},
   "outputs": [
    {
     "name": "stdout",
     "output_type": "stream",
     "text": [
      "Graph of 10 edges:\n",
      "0:[1, 7, 3, 3]\n",
      "1:[7, 0]\n",
      "2:[]\n",
      "3:[5, 0, 0]\n",
      "4:[6]\n",
      "5:[8, 3, 6]\n",
      "6:[9, 4, 5]\n",
      "7:[1, 0]\n",
      "8:[5]\n",
      "9:[6]\n"
     ]
    }
   ],
   "source": [
    "# Test random graph\n",
    "g = Graph(10)\n",
    "g.randomize()\n",
    "print(g)"
   ]
  },
  {
   "cell_type": "code",
   "execution_count": 20,
   "metadata": {},
   "outputs": [
    {
     "name": "stdout",
     "output_type": "stream",
     "text": [
      "Graph of 4 edges:\n",
      "0:[2]\n",
      "2:[3]\n",
      "1:[2]\n",
      "3:[]\n",
      "Graph of 4 edges:\n",
      "0:[]\n",
      "1:[]\n",
      "2:[0, 1]\n",
      "3:[2]\n"
     ]
    }
   ],
   "source": [
    "# Test graph reversal\n",
    "g = Graph(directed=True)\n",
    "g.add_edges([(0,2),(1,2),(2,3)])\n",
    "print(g)\n",
    "print(g.reverse())"
   ]
  },
  {
   "cell_type": "code",
   "execution_count": 3,
   "metadata": {},
   "outputs": [
    {
     "name": "stdout",
     "output_type": "stream",
     "text": [
      "Graph of 8 edges:\n",
      "0:[1, 2]\n",
      "1:[0, 3]\n",
      "2:[0, 3, 4]\n",
      "3:[1, 2, 5]\n",
      "5:[3, 4]\n",
      "4:[2, 5]\n",
      "6:[7]\n",
      "7:[6]\n",
      "\n",
      "dfs:\n",
      "[0]\n",
      "[0, 1]\n",
      "[0, 1, 3]\n",
      "[0, 1, 3, 2]\n",
      "[0, 1, 3, 2, 4]\n",
      "[0, 1, 3, 2, 4, 5]\n",
      "dfs output: [0, 1, 3, 2, 4, 5]\n",
      "\n",
      "bfs:\n",
      "0 : []\n",
      "2 : [(1, 1)]\n",
      "4 : [(1, 1), (3, 2)]\n",
      "5 : [(1, 1), (3, 2)]\n",
      "3 : [(1, 1), (3, 2)]\n",
      "1 : [(1, 1), (3, 2)]\n",
      "3 : [(1, 1)]\n",
      "1 : []\n",
      "bfs output: None\n",
      "4\n",
      "4\n",
      "2\n"
     ]
    }
   ],
   "source": [
    "# First, let's try it all with an undirected graph\n",
    "\n",
    "g = Graph(directed=False)\n",
    "g.add_edges([(0,1),(0,2),(1,3),(2,3),(3,5),(2,4),(4,5),(6,7)])\n",
    "print(g)\n",
    "#g.adj_matrix()\n",
    "print('\\ndfs:')\n",
    "print('dfs output:',g.dfs(0,verbose=True))\n",
    "print('\\nbfs:')\n",
    "print('bfs output:',g.bfs(verbose=True))\n",
    "print(g.bfs(0,3))\n",
    "print(g.bfs(3,0))\n",
    "print(g.bfs(2,5))"
   ]
  },
  {
   "cell_type": "code",
   "execution_count": 4,
   "metadata": {},
   "outputs": [
    {
     "name": "stdout",
     "output_type": "stream",
     "text": [
      "Graph of 8 edges:\n",
      "0:[1, 2]\n",
      "1:[3]\n",
      "2:[3, 4]\n",
      "3:[5]\n",
      "5:[]\n",
      "4:[5]\n",
      "6:[7]\n",
      "7:[]\n",
      "\n",
      "dfs:\n",
      "[0]\n",
      "[0, 1]\n",
      "[0, 1, 3]\n",
      "[0, 1, 3, 5]\n",
      "[0, 1, 3, 5, 2]\n",
      "[0, 1, 3, 5, 2, 4]\n",
      "dfs output: [0, 2, 4, 1, 3, 5]\n",
      "\n",
      "bfs:\n",
      "0 : []\n",
      "2 : [(1, 1)]\n",
      "4 : [(1, 1), (3, 2)]\n",
      "5 : [(1, 1), (3, 2)]\n",
      "3 : [(1, 1)]\n",
      "1 : []\n",
      "bfs output: None\n",
      "2\n",
      "None\n",
      "2\n"
     ]
    }
   ],
   "source": [
    "# Now, exactly same commands, but with a directed graph\n",
    "\n",
    "g = Graph(directed=True)\n",
    "g.add_edges([(0,1),(0,2),(1,3),(2,3),(3,5),(2,4),(4,5),(6,7)])\n",
    "print(g)\n",
    "#g.adj_matrix()\n",
    "print('\\ndfs:')\n",
    "print('dfs output:',g.dfs(0,verbose=True))\n",
    "print('\\nbfs:')\n",
    "print('bfs output:',g.bfs(verbose=True))\n",
    "print(g.bfs(0,3))\n",
    "print(g.bfs(3,0))\n",
    "print(g.bfs(2,5))"
   ]
  }
 ],
 "metadata": {
  "kernelspec": {
   "display_name": "Python 3",
   "language": "python",
   "name": "python3"
  },
  "language_info": {
   "codemirror_mode": {
    "name": "ipython",
    "version": 3
   },
   "file_extension": ".py",
   "mimetype": "text/x-python",
   "name": "python",
   "nbconvert_exporter": "python",
   "pygments_lexer": "ipython3",
   "version": "3.7.3"
  }
 },
 "nbformat": 4,
 "nbformat_minor": 2
}
