{
 "cells": [
  {
   "cell_type": "markdown",
   "metadata": {},
   "source": [
    "### Infix to postfix"
   ]
  },
  {
   "cell_type": "code",
   "execution_count": 14,
   "metadata": {},
   "outputs": [],
   "source": [
    "s = \"(a+b*c)*(3 + b/(c+d) - 2)+e*r\""
   ]
  },
  {
   "cell_type": "code",
   "execution_count": 53,
   "metadata": {},
   "outputs": [
    {
     "name": "stdout",
     "output_type": "stream",
     "text": [
      "(a+b*c)*(3+b/(c+d)-2)+e*r\n",
      "(                    (\t          \n",
      "a                    (\t        ,a\n",
      "+                   (+\t        ,a\n",
      "b                   (+\t      ,a,b\n",
      "*                  (+*\t      ,a,b\n",
      "c                  (+*\t    ,a,b,c\n",
      ")                     \t  ,a,b,c*+\n",
      "*                    *\t  ,a,b,c*+\n",
      "(                   *(\t  ,a,b,c*+\n",
      "3                   *(\t,a,b,c*+,3\n",
      "+                  *(+\t,a,b,c*+,3\n",
      "b                  *(+\t,a,b,c*+,3,b\n",
      "/                 *(+/\t,a,b,c*+,3,b\n",
      "(                *(+/(\t,a,b,c*+,3,b\n",
      "c                *(+/(\t,a,b,c*+,3,b,c\n",
      "+               *(+/(+\t,a,b,c*+,3,b,c\n",
      "d               *(+/(+\t,a,b,c*+,3,b,c,d\n",
      ")                 *(+/\t,a,b,c*+,3,b,c,d+\n",
      "-                 *(+-\t,a,b,c*+,3,b,c,d+/\n",
      "2                 *(+-\t,a,b,c*+,3,b,c,d+/,2\n",
      ")                    *\t,a,b,c*+,3,b,c,d+/,2-+\n",
      "+                    +\t,a,b,c*+,3,b,c,d+/,2-+*\n",
      "e                    +\t,a,b,c*+,3,b,c,d+/,2-+*,e\n",
      "*                   +*\t,a,b,c*+,3,b,c,d+/,2-+*,e\n",
      "r                   +*\t,a,b,c*+,3,b,c,d+/,2-+*,e,r\n",
      "Final:  ,a,b,c*+,3,b,c,d+/,2-+*,e,r*+\n"
     ]
    }
   ],
   "source": [
    "s = s.replace(' ','')\n",
    "print(s)\n",
    "\n",
    "class stack:\n",
    "    def __init__(self,n=20):\n",
    "        self.body = ['']*n\n",
    "        self.p = 0\n",
    "    \n",
    "    def __str__(self):\n",
    "        return \"\".join([str(_) for _ in self.body[:self.p]])\n",
    "    \n",
    "    def push(self,val):\n",
    "        self.body[self.p] = val\n",
    "        self.p += 1\n",
    "        \n",
    "    def pop(self):\n",
    "        if self.p==0:\n",
    "            return None\n",
    "        self.p -= 1\n",
    "        return self.body[self.p]\n",
    "    \n",
    "    def peek(self):\n",
    "        if self.p==0:\n",
    "            return None\n",
    "        return self.body[self.p-1]\n",
    "        \n",
    "t = stack() # Stack of operations\n",
    "out = ''    # out string\n",
    "operators = {c:v for (c,v) in zip(\"*/+-\",[0,1,2,4])} # Operators and their priority\n",
    "\n",
    "for i in range(len(s)):\n",
    "    if s[i]==\"(\":\n",
    "        t.push('(')\n",
    "    elif s[i] in operators.keys():\n",
    "        if t.peek()=='(':\n",
    "            t.push(s[i])\n",
    "        elif t.peek()==None:\n",
    "            t.push(s[i])\n",
    "        elif operators[s[i]]<operators[t.peek()]: # If the new operator has higher priority            \n",
    "            t.push(s[i])            \n",
    "        else: # Operator with lower or same priority, so close prev operator\n",
    "            out = out+t.pop()\n",
    "            t.push(s[i])   \n",
    "    elif s[i]==\")\":\n",
    "        while t.peek()!=\"(\":\n",
    "            out = out+t.pop()\n",
    "        t.pop()\n",
    "    else: # Numbers and letters\n",
    "        out = out+\",\"+s[i]\n",
    "    print(\"%s %20s\\t%10s\" % (s[i],t,out))\n",
    "    \n",
    "while t.peek()!=None:\n",
    "    out = out+t.pop() # Empty the stack\n",
    "    \n",
    "print(\"Final: \",out)       "
   ]
  }
 ],
 "metadata": {
  "kernelspec": {
   "display_name": "Python 3",
   "language": "python",
   "name": "python3"
  },
  "language_info": {
   "codemirror_mode": {
    "name": "ipython",
    "version": 3
   },
   "file_extension": ".py",
   "mimetype": "text/x-python",
   "name": "python",
   "nbconvert_exporter": "python",
   "pygments_lexer": "ipython3",
   "version": "3.7.0"
  }
 },
 "nbformat": 4,
 "nbformat_minor": 2
}
