{
 "cells": [
  {
   "cell_type": "markdown",
   "metadata": {},
   "source": [
    "# Edit distance (between two strings)\n",
    "\n",
    "Apparently, classic dynamic programming task."
   ]
  },
  {
   "cell_type": "code",
   "execution_count": 2,
   "metadata": {},
   "outputs": [
    {
     "name": "stdout",
     "output_type": "stream",
     "text": [
      "horse horse 0\n",
      "horse harse 1\n",
      "horse hoarse 1\n",
      "horse hors 1\n",
      "horse dog 4\n",
      "horse  5\n"
     ]
    }
   ],
   "source": [
    "\"\"\"\n",
    "Edit distance\n",
    "Two words: seed and target. How many insertions, changes, and deletions separate one from the other?\n",
    "\n",
    "Look at the first char. If matches, look at the rest.\n",
    "If doesn't, either change it & look at the rest, or add from target and look at the rest, or remove \n",
    "from seed and look at the rest.\n",
    "Memoization based on i j where i j are pointers in both words.\n",
    "\n",
    "So change: i+1, j+1\n",
    "Add from target: i, j+1\n",
    "Remove from seed: i+1, j\n",
    "\n",
    "Base case: if either i or j is at the end, distance=length of the other - position of the other\n",
    "\"\"\"\n",
    "\n",
    "def editdist(s1,s2):\n",
    "    mem = {}\n",
    "    def dist(i,j):\n",
    "        if i==len(s1): return len(s2)-j\n",
    "        if j==len(s2): return len(s1)-i\n",
    "        if (i,j) in mem:\n",
    "            return mem[(i,j)]\n",
    "        if s1[i]==s2[j]:\n",
    "            out = dist(i+1,j+1)\n",
    "        else:\n",
    "            out = 1+min(dist(i+1,j+1), dist(i,j+1), dist(i+1,j))\n",
    "        mem[(i,j)] = out\n",
    "        return out\n",
    "    return dist(0,0)\n",
    "\n",
    "for s2 in ['horse','harse','hoarse','hors','dog','']:\n",
    "    print('horse',s2,editdist('horse',s2))"
   ]
  }
 ],
 "metadata": {
  "kernelspec": {
   "display_name": "Python 3",
   "language": "python",
   "name": "python3"
  },
  "language_info": {
   "codemirror_mode": {
    "name": "ipython",
    "version": 3
   },
   "file_extension": ".py",
   "mimetype": "text/x-python",
   "name": "python",
   "nbconvert_exporter": "python",
   "pygments_lexer": "ipython3",
   "version": "3.7.6"
  }
 },
 "nbformat": 4,
 "nbformat_minor": 4
}
