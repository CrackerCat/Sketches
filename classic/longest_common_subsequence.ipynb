{
 "cells": [
  {
   "cell_type": "markdown",
   "metadata": {},
   "source": [
    "# Longest common subsequence\n",
    "\n",
    "...between two lists. In order, but not necessarily continuous."
   ]
  },
  {
   "cell_type": "code",
   "execution_count": 8,
   "metadata": {},
   "outputs": [
    {
     "data": {
      "text/plain": [
       "3"
      ]
     },
     "execution_count": 8,
     "metadata": {},
     "output_type": "execute_result"
    }
   ],
   "source": [
    "\"\"\"longest common subsequence\n",
    "if first element matches, include it\n",
    "if not, either skip left or skip right\n",
    "memoization based on two indices\"\"\"\n",
    "\n",
    "def lcs(list1, list2):\n",
    "    mem = {}\n",
    "\n",
    "    def pick(i,j):\n",
    "        if (i,j) in mem:\n",
    "            return mem[(i,j)]\n",
    "        if i==len(list1) or j==len(list2):\n",
    "            return 0\n",
    "        if list1[i]==list2[j]:\n",
    "            out = 1+pick(i+1,j+1)\n",
    "        else:\n",
    "            out = max(pick(i+1,j),pick(i,j+1))\n",
    "        mem[(i,j)] = out\n",
    "        return out\n",
    "\n",
    "    return pick(0,0)\n",
    "\n",
    "assert lcs([1,2,3,4],[0]) == 0\n",
    "assert lcs([1,2,3,4],[3]) == 1\n",
    "assert lcs([1,2,3,4],[2,4]) == 2\n",
    "assert lcs([1,2,3,4,5],[1,3,5]) == 3"
   ]
  },
  {
   "cell_type": "markdown",
   "metadata": {},
   "source": [
    "I think this style is called \"Closure\". `mem`, as well as arguments of the outer function become sorta 'global' for the inner function, which is nice."
   ]
  }
 ],
 "metadata": {
  "kernelspec": {
   "display_name": "Python 3",
   "language": "python",
   "name": "python3"
  },
  "language_info": {
   "codemirror_mode": {
    "name": "ipython",
    "version": 3
   },
   "file_extension": ".py",
   "mimetype": "text/x-python",
   "name": "python",
   "nbconvert_exporter": "python",
   "pygments_lexer": "ipython3",
   "version": "3.7.6"
  }
 },
 "nbformat": 4,
 "nbformat_minor": 4
}
