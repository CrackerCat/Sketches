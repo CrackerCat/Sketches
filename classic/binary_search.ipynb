{
 "cells": [
  {
   "cell_type": "markdown",
   "metadata": {},
   "source": [
    "### Binary search"
   ]
  },
  {
   "cell_type": "code",
   "execution_count": 1,
   "metadata": {},
   "outputs": [
    {
     "name": "stdout",
     "output_type": "stream",
     "text": [
      "[\"'\", \"'\", ',', '-', '.', '/', '0', '1', '2', '3', '4', '5', '6', '7', '8', '9', ';', '=', '[', ']', ']', 'a', 'b', 'c', 'd', 'd', 'e', 'f', 'f', 'g', 'h', 'i', 'j', 'j', 'k', 'l', 'm', 'm', 'n', 'o', 'p', 'q', 'r', 'r', 's', 's', 't', 't', 'u', 'u', 'v', 'w', 'x', 'y', 'y', 'z']\n"
     ]
    }
   ],
   "source": [
    "s = \"1qaz2wsx3edc4rfv5tgb6yhn7ujm8ik,9ol.0p;/-['=]sdfrtyujm']\"\n",
    "\n",
    "a = [c for c in s]\n",
    "a.sort() # Method, sorts the list, so now it is sorted\n",
    "print(a)"
   ]
  },
  {
   "cell_type": "code",
   "execution_count": 13,
   "metadata": {},
   "outputs": [
    {
     "name": "stdout",
     "output_type": "stream",
     "text": [
      "0 56\n",
      "28 56\n",
      "42 56\n",
      "42 49\n",
      "45 49\n",
      "47 t\n"
     ]
    }
   ],
   "source": [
    "t = \"t\" # target\n",
    "\n",
    "p1 = 0\n",
    "p2 = len(a)\n",
    "p = p1\n",
    "while (a[p]!=t) & (p2!=p1):\n",
    "    print(p1,p2)\n",
    "    p = (p2+p1) // 2\n",
    "    if a[p]>t:\n",
    "        p2 = p\n",
    "    else:\n",
    "        p1 = p\n",
    "        \n",
    "print(p1,a[p1])"
   ]
  }
 ],
 "metadata": {
  "kernelspec": {
   "display_name": "Python 3",
   "language": "python",
   "name": "python3"
  },
  "language_info": {
   "codemirror_mode": {
    "name": "ipython",
    "version": 3
   },
   "file_extension": ".py",
   "mimetype": "text/x-python",
   "name": "python",
   "nbconvert_exporter": "python",
   "pygments_lexer": "ipython3",
   "version": "3.7.6"
  }
 },
 "nbformat": 4,
 "nbformat_minor": 2
}
