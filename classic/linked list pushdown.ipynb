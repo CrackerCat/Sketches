{
 "cells": [
  {
   "cell_type": "markdown",
   "metadata": {},
   "source": [
    "## Linked list pushdown stack"
   ]
  },
  {
   "cell_type": "code",
   "execution_count": 9,
   "metadata": {},
   "outputs": [],
   "source": [
    "class Bag:\n",
    "    \"\"\"Just an object to make things with\"\"\"\n",
    "    def __init__(self,value=None,child=None):\n",
    "        self.value = value\n",
    "        self.child = child"
   ]
  },
  {
   "cell_type": "code",
   "execution_count": 24,
   "metadata": {},
   "outputs": [
    {
     "name": "stdout",
     "output_type": "stream",
     "text": [
      "List:\n",
      "List:Dog|1|\n",
      "Dog\n",
      "List:1|\n",
      "1\n",
      "None\n"
     ]
    },
    {
     "data": {
      "text/plain": [
       "6"
      ]
     },
     "execution_count": 24,
     "metadata": {},
     "output_type": "execute_result"
    }
   ],
   "source": [
    "class LL:\n",
    "    \"\"\"Linked List of Bags\"\"\"\n",
    "    \n",
    "    def __init__(self):\n",
    "        self.root = None\n",
    "        \n",
    "    def __str__(self):\n",
    "        ou = 'List:'\n",
    "        _ = self.root\n",
    "        while _!=None:\n",
    "            ou += str(_.value)+'|'\n",
    "            _ = _.child\n",
    "        return ou\n",
    "    \n",
    "    def push(self,value):\n",
    "        self.root = Bag(value,self.root)\n",
    "        \n",
    "    def pop(self):\n",
    "        if self.root!=None:\n",
    "            ou = self.root.value\n",
    "            self.root = self.root.child\n",
    "        else:\n",
    "            ou = None\n",
    "        return ou\n",
    "        \n",
    "a = LL()\n",
    "print(a)\n",
    "a.push(1)\n",
    "a.push('Dog')\n",
    "print(a)\n",
    "print(a.pop())\n",
    "print(a)\n",
    "print(a.pop())\n",
    "print(a.pop())\n",
    "a.push(6)\n",
    "a.pop()"
   ]
  }
 ],
 "metadata": {
  "kernelspec": {
   "display_name": "Python 3",
   "language": "python",
   "name": "python3"
  },
  "language_info": {
   "codemirror_mode": {
    "name": "ipython",
    "version": 3
   },
   "file_extension": ".py",
   "mimetype": "text/x-python",
   "name": "python",
   "nbconvert_exporter": "python",
   "pygments_lexer": "ipython3",
   "version": "3.7.0"
  }
 },
 "nbformat": 4,
 "nbformat_minor": 2
}
