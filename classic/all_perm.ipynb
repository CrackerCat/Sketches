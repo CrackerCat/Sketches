{
 "cells": [
  {
   "cell_type": "markdown",
   "metadata": {},
   "source": [
    "# Return all permutations of a list"
   ]
  },
  {
   "cell_type": "code",
   "execution_count": 3,
   "metadata": {},
   "outputs": [
    {
     "name": "stdout",
     "output_type": "stream",
     "text": [
      "['aaa', 'aab', 'aac', 'aba', 'abb', 'abc', 'aca', 'acb', 'acc', 'baa', 'bab', 'bac', 'bba', 'bbb', 'bbc', 'bca', 'bcb', 'bcc', 'caa', 'cab', 'cac', 'cba', 'cbb', 'cbc', 'cca', 'ccb', 'ccc']\n"
     ]
    }
   ],
   "source": [
    "def combinations(chars, k=3):\n",
    "    \"\"\"All possible combinations from an alphabet.\"\"\"\n",
    "    return [a+b for a in combinations(chars, k-1) for b in chars] if k else ['']\n",
    "\n",
    "print(combinations(['a','b','c'], 3))"
   ]
  },
  {
   "cell_type": "code",
   "execution_count": 14,
   "metadata": {},
   "outputs": [
    {
     "name": "stdout",
     "output_type": "stream",
     "text": [
      "['abc', 'acb', 'bac', 'bca', 'cba', 'cab']\n"
     ]
    }
   ],
   "source": [
    "def permutations(chars):\n",
    "    \"\"\"All possible permutations of an alphabet\"\"\"\n",
    "    if not chars: return ['']\n",
    "    return [a+b for a in chars for b in permutations(set(chars)-set([a]))] \n",
    "\n",
    "print(permutations(['a','b','c']))"
   ]
  },
  {
   "cell_type": "code",
   "execution_count": 12,
   "metadata": {},
   "outputs": [
    {
     "name": "stdout",
     "output_type": "stream",
     "text": [
      "[['a', 'b', 'c'], ['a', 'c', 'b'], ['b', 'a', 'c'], ['b', 'c', 'a'], ['c', 'b', 'a'], ['c', 'a', 'b']]\n"
     ]
    }
   ],
   "source": [
    "def permutations(chars):\n",
    "    \"\"\"Same, but with lists.\"\"\"\n",
    "    if not chars: return [[]]\n",
    "    return [[a]+b for a in chars for b in permutations(set(chars)-set([a]))] \n",
    "\n",
    "print(permutations(['a','b','c']))"
   ]
  },
  {
   "cell_type": "markdown",
   "metadata": {},
   "source": [
    "Below are older, bulkier solutions; keeping them here for history."
   ]
  },
  {
   "cell_type": "code",
   "execution_count": 2,
   "metadata": {},
   "outputs": [
    {
     "name": "stdout",
     "output_type": "stream",
     "text": [
      "[0, 1, 2]\n",
      "[0, 2, 1]\n",
      "[1, 0, 2]\n",
      "[1, 2, 0]\n",
      "[2, 0, 1]\n",
      "[2, 1, 0]\n"
     ]
    }
   ],
   "source": [
    "# Recursive solution:\n",
    "def allperm(n):\n",
    "    ap([],list(range(n)))\n",
    "\n",
    "def ap(done,l):                 # start: left half that is already done, l: list to draw from\n",
    "    if len(l)==1:\n",
    "        print(done+l)           # if no choice, just return it.\n",
    "    else:\n",
    "        for i in range(len(l)): # Go through all elements of the list\n",
    "            if i<len(l):        # Add one element to the part that done, recurse on a shorter list\n",
    "                ap(done+[l[i]],l[:i]+l[i+1:])\n",
    "            else:\n",
    "                ap(done+[l[i]],l[:i])\n",
    "            \n",
    "    \n",
    "allperm(3)"
   ]
  },
  {
   "cell_type": "code",
   "execution_count": 45,
   "metadata": {},
   "outputs": [
    {
     "data": {
      "text/plain": [
       "[[0, 1, 2, 3],\n",
       " [0, 1, 3, 2],\n",
       " [0, 2, 1, 3],\n",
       " [0, 2, 3, 1],\n",
       " [0, 3, 1, 2],\n",
       " [0, 3, 2, 1],\n",
       " [1, 0, 2, 3],\n",
       " [1, 0, 3, 2],\n",
       " [1, 2, 0, 3],\n",
       " [1, 2, 3, 0],\n",
       " [1, 3, 0, 2],\n",
       " [1, 3, 2, 0],\n",
       " [2, 0, 1, 3],\n",
       " [2, 0, 3, 1],\n",
       " [2, 1, 0, 3],\n",
       " [2, 1, 3, 0],\n",
       " [2, 3, 0, 1],\n",
       " [2, 3, 1, 0],\n",
       " [3, 0, 1, 2],\n",
       " [3, 0, 2, 1],\n",
       " [3, 1, 0, 2],\n",
       " [3, 1, 2, 0],\n",
       " [3, 2, 0, 1],\n",
       " [3, 2, 1, 0]]"
      ]
     },
     "execution_count": 45,
     "metadata": {},
     "output_type": "execute_result"
    }
   ],
   "source": [
    "# Another version that does same thing, but in a different order\n",
    "# I like it much less\n",
    "def allperm(n):\n",
    "    return ap(list(range(n)))\n",
    "\n",
    "def ap(l):\n",
    "    if len(l)==1:\n",
    "        return [l]\n",
    "    out = []\n",
    "    for i in range(len(l)):\n",
    "        remainder = l[:i]\n",
    "        if i<len(l):\n",
    "            remainder = remainder+l[i+1:]\n",
    "        nextStep = ap(remainder)\n",
    "        out += [[l[i]]+a for a in nextStep]\n",
    "    return out\n",
    "                \n",
    "allperm(4)"
   ]
  }
 ],
 "metadata": {
  "kernelspec": {
   "display_name": "Python 3",
   "language": "python",
   "name": "python3"
  },
  "language_info": {
   "codemirror_mode": {
    "name": "ipython",
    "version": 3
   },
   "file_extension": ".py",
   "mimetype": "text/x-python",
   "name": "python",
   "nbconvert_exporter": "python",
   "pygments_lexer": "ipython3",
   "version": "3.7.6"
  }
 },
 "nbformat": 4,
 "nbformat_minor": 2
}
