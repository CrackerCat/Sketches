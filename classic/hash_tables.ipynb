{
 "cells": [
  {
   "cell_type": "markdown",
   "metadata": {},
   "source": [
    "# Hashtables manually\n",
    "\n",
    "Some info on the topic:\n",
    "\n",
    "* https://www.geeksforgeeks.org/hashing-set-2-separate-chaining/\n",
    "* https://www.geeksforgeeks.org/hashing-set-3-open-addressing/"
   ]
  },
  {
   "cell_type": "code",
   "execution_count": 66,
   "metadata": {},
   "outputs": [
    {
     "name": "stdout",
     "output_type": "stream",
     "text": [
      "cat:5\n",
      "None\n",
      "dog:100 → 5:12\n",
      "\n",
      "12\n",
      "None\n",
      "\n",
      "cat:5\n",
      "None\n",
      "5:12\n"
     ]
    }
   ],
   "source": [
    "class Htsc:\n",
    "    \"\"\"Hash table with separate chaining.\"\"\"\n",
    "    class Node:\n",
    "        \"\"\"Linked list node.\"\"\"\n",
    "        def __init__(self,key=None,val=None):\n",
    "            self.key = key\n",
    "            self.val = val\n",
    "            self.next = None\n",
    "        \n",
    "        def __str__(self):\n",
    "            out = str(self.key) + ':' + str(self.val)\n",
    "            if self.next is None:\n",
    "                return out\n",
    "            return out + ' → ' + str(self.next)\n",
    "        \n",
    "        def push(self,key,val):\n",
    "            if self.key is None:\n",
    "                self.key = key\n",
    "                self.val = val\n",
    "            elif self.key==key:\n",
    "                self.val = val\n",
    "            elif self.next is None:\n",
    "                self.next = Htsc.Node(key,val) # No other way to reference outer class\n",
    "            else:\n",
    "                self.next.push(key,val)\n",
    "                \n",
    "        def read(self,key):\n",
    "            if self.key == key:\n",
    "                return self.val\n",
    "            elif self.next is None:\n",
    "                return None\n",
    "            return self.next.read(key)\n",
    "            \n",
    "        def rm(self,key):\n",
    "            if self.key == key:\n",
    "                return self.next\n",
    "            if self.next is not None:\n",
    "                self.next = self.next.rm(key) # Recurrent elimination\n",
    "                return self\n",
    "            raise KeyError('Invalid key')\n",
    "    \n",
    "    def __init__(self,m=11):\n",
    "        self.m = m # Some prime\n",
    "        self.array = [None]*self.m\n",
    "    \n",
    "    def hf(self,key):\n",
    "        \"\"\"Hash function\"\"\"\n",
    "        if type(key) is int:\n",
    "            return key % self.m\n",
    "        if type(key) is str:\n",
    "            out = 0\n",
    "            for s in list(key):\n",
    "                out = out*127 + ord(s) # 127 is prime, and comparable to ord(z)\n",
    "            return out % self.m        \n",
    "    \n",
    "    def add(self,key,val):\n",
    "        \"\"\"Add a value.\"\"\"\n",
    "        h = self.hf(key)\n",
    "        if self.array[h] is None:\n",
    "            self.array[h] = Htsc.Node(key,val)\n",
    "        else:\n",
    "            self.array[h].push(key,val)\n",
    "        \n",
    "    def get(self,key):\n",
    "        \"\"\"Read a value.\"\"\"\n",
    "        h = self.hf(key)\n",
    "        if self.array[h] is None:\n",
    "            return None\n",
    "        return self.array[h].read(key)\n",
    "    \n",
    "    def rm(self,key):\n",
    "        h = self.hf(key)\n",
    "        self.array[h] = self.array[h].rm(key)\n",
    "    \n",
    "    def print(self):\n",
    "        for n in self.array:\n",
    "            print(n)\n",
    "    \n",
    "# Testing\n",
    "ht = Htsc(m=3)\n",
    "ht.add('cat',5)\n",
    "ht.add('dog',100)\n",
    "ht.add(5,7)  # Writing on the same place, but with a different key\n",
    "ht.add(5,12) # Same key\n",
    "ht.print()\n",
    "print()\n",
    "print(ht.get(5))\n",
    "print(ht.get(7))\n",
    "print()\n",
    "ht.rm('dog')\n",
    "ht.print()\n",
    "#ht.rm('cow') # Returns an error"
   ]
  },
  {
   "cell_type": "code",
   "execution_count": 67,
   "metadata": {},
   "outputs": [
    {
     "name": "stdout",
     "output_type": "stream",
     "text": [
      "cat:5 → 0:0 → 3:3 → 6:6 → 9:9\n",
      "1:1 → 4:4 → 7:7\n",
      "5:5 → 2:2 → 8:8\n"
     ]
    }
   ],
   "source": [
    "for i in range(10): # Testing overlow (this hashmap shouldn't overflow)\n",
    "    ht.add(i,i)\n",
    "ht.print()"
   ]
  },
  {
   "cell_type": "code",
   "execution_count": 52,
   "metadata": {},
   "outputs": [
    {
     "name": "stdout",
     "output_type": "stream",
     "text": [
      "(6, 12) (13, 'Collision') None None ('cat', 5) None ('dog', 100)\n",
      "12\n",
      "100\n",
      "None\n",
      "del (13, 'Collision') None None ('cat', 5) None ('dog', 100)\n",
      "Collision\n"
     ]
    }
   ],
   "source": [
    "class Htlp:\n",
    "    \"\"\"Hash table with linear probing.\"\"\"\n",
    "    def __init__(self,m=7):\n",
    "        self.m = m  # Size\n",
    "        self.a = [None]*self.m\n",
    "        \n",
    "    def __str__(self):\n",
    "        return ' '.join([str(a) for a in self.a])\n",
    "    \n",
    "    def hf(self,key):\n",
    "        \"\"\"Hash function\"\"\"\n",
    "        if type(key) is int:\n",
    "            return key % self.m\n",
    "        if type(key) is str:\n",
    "            out = 0\n",
    "            for s in list(key):\n",
    "                out = out*127 + ord(s) # 127 is prime, and comparable to ord(z)\n",
    "            return out % self.m    \n",
    "    \n",
    "    def add(self,key,val):\n",
    "        i = self.hf(key)\n",
    "        # print(key,'->',i)\n",
    "        j = 0\n",
    "        while j < self.m:\n",
    "            k = (i+j) % self.m\n",
    "            if self.a[k] in [None,'del']:\n",
    "                self.a[k] = (key,val)\n",
    "                return\n",
    "            if self.a[k][0]==key: # At this point we know it's not None\n",
    "                self.a[k] = (key,val)\n",
    "                return\n",
    "            j += 1\n",
    "        raise MemoryError('Hashmap overflow.')\n",
    "        \n",
    "    def find(self,key):\n",
    "        i = self.hf(key)\n",
    "        j = 0\n",
    "        while j<self.m:\n",
    "            k = (i+j) % self.m\n",
    "            if self.a[k] is None:\n",
    "                return None\n",
    "            if self.a[k]=='del':\n",
    "                j += 1\n",
    "                continue\n",
    "            if self.a[k][0]==key:\n",
    "                return k\n",
    "            j += 1\n",
    "    \n",
    "    def get(self,key):\n",
    "        k = self.find(key)\n",
    "        if k is None: return None\n",
    "        return self.a[k][1]\n",
    "    \n",
    "    def rm(self,key):\n",
    "        k = self.find(key)\n",
    "        if k is None: return\n",
    "        self.a[k] = 'del'\n",
    "    \n",
    "ht = Htlp(m=7)\n",
    "ht.add('cat',5)\n",
    "ht.add('dog',100)\n",
    "ht.add(6,7)  # Writing on the same place, but with a different key\n",
    "ht.add(6,12) # Same key\n",
    "ht.add(13,'Collision')\n",
    "print(ht)\n",
    "print(ht.get(6))\n",
    "print(ht.get('dog'))\n",
    "print(ht.get('cow'))\n",
    "ht.rm(6)\n",
    "print(ht)\n",
    "print(ht.get(13))"
   ]
  },
  {
   "cell_type": "code",
   "execution_count": 53,
   "metadata": {},
   "outputs": [
    {
     "ename": "MemoryError",
     "evalue": "Hashmap overflow.",
     "output_type": "error",
     "traceback": [
      "\u001b[1;31m---------------------------------------------------------------------------\u001b[0m",
      "\u001b[1;31mMemoryError\u001b[0m                               Traceback (most recent call last)",
      "\u001b[1;32m<ipython-input-53-baac204016fc>\u001b[0m in \u001b[0;36m<module>\u001b[1;34m\u001b[0m\n\u001b[0;32m      1\u001b[0m \u001b[1;32mfor\u001b[0m \u001b[0mi\u001b[0m \u001b[1;32min\u001b[0m \u001b[0mrange\u001b[0m\u001b[1;33m(\u001b[0m\u001b[1;36m10\u001b[0m\u001b[1;33m)\u001b[0m\u001b[1;33m:\u001b[0m\u001b[1;33m\u001b[0m\u001b[1;33m\u001b[0m\u001b[0m\n\u001b[1;32m----> 2\u001b[1;33m     \u001b[0mht\u001b[0m\u001b[1;33m.\u001b[0m\u001b[0madd\u001b[0m\u001b[1;33m(\u001b[0m\u001b[0mi\u001b[0m\u001b[1;33m,\u001b[0m\u001b[0mi\u001b[0m\u001b[1;33m)\u001b[0m\u001b[1;33m\u001b[0m\u001b[1;33m\u001b[0m\u001b[0m\n\u001b[0m",
      "\u001b[1;32m<ipython-input-52-83836f7d0f6d>\u001b[0m in \u001b[0;36madd\u001b[1;34m(self, key, val)\u001b[0m\n\u001b[0;32m     31\u001b[0m                 \u001b[1;32mreturn\u001b[0m\u001b[1;33m\u001b[0m\u001b[1;33m\u001b[0m\u001b[0m\n\u001b[0;32m     32\u001b[0m             \u001b[0mj\u001b[0m \u001b[1;33m+=\u001b[0m \u001b[1;36m1\u001b[0m\u001b[1;33m\u001b[0m\u001b[1;33m\u001b[0m\u001b[0m\n\u001b[1;32m---> 33\u001b[1;33m         \u001b[1;32mraise\u001b[0m \u001b[0mMemoryError\u001b[0m\u001b[1;33m(\u001b[0m\u001b[1;34m'Hashmap overflow.'\u001b[0m\u001b[1;33m)\u001b[0m\u001b[1;33m\u001b[0m\u001b[1;33m\u001b[0m\u001b[0m\n\u001b[0m\u001b[0;32m     34\u001b[0m \u001b[1;33m\u001b[0m\u001b[0m\n\u001b[0;32m     35\u001b[0m     \u001b[1;32mdef\u001b[0m \u001b[0mfind\u001b[0m\u001b[1;33m(\u001b[0m\u001b[0mself\u001b[0m\u001b[1;33m,\u001b[0m\u001b[0mkey\u001b[0m\u001b[1;33m)\u001b[0m\u001b[1;33m:\u001b[0m\u001b[1;33m\u001b[0m\u001b[1;33m\u001b[0m\u001b[0m\n",
      "\u001b[1;31mMemoryError\u001b[0m: Hashmap overflow."
     ]
    }
   ],
   "source": [
    "for i in range(10): # This should overflow the hashmap\n",
    "    ht.add(i,i)"
   ]
  },
  {
   "cell_type": "code",
   "execution_count": 1,
   "metadata": {},
   "outputs": [
    {
     "name": "stdout",
     "output_type": "stream",
     "text": [
      "[]\n",
      "[]\n",
      "[3, 101]\n"
     ]
    }
   ],
   "source": [
    "def divisors(k):\n",
    "    \"\"\"A tool to find prime numbers.\"\"\"\n",
    "    return [i for i in range(2,k-1) if k % i==0]\n",
    "\n",
    "print(divisors(127))\n",
    "print(divisors(37))\n",
    "print(divisors(70+77+78*2))"
   ]
  }
 ],
 "metadata": {
  "kernelspec": {
   "display_name": "Python 3",
   "language": "python",
   "name": "python3"
  },
  "language_info": {
   "codemirror_mode": {
    "name": "ipython",
    "version": 3
   },
   "file_extension": ".py",
   "mimetype": "text/x-python",
   "name": "python",
   "nbconvert_exporter": "python",
   "pygments_lexer": "ipython3",
   "version": "3.7.3"
  }
 },
 "nbformat": 4,
 "nbformat_minor": 2
}
