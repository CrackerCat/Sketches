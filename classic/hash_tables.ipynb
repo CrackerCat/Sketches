{
 "cells": [
  {
   "cell_type": "markdown",
   "metadata": {},
   "source": [
    "# Hashtables manually\n",
    "\n",
    "Some info on the topic:\n",
    "\n",
    "* https://www.geeksforgeeks.org/hashing-set-2-separate-chaining/\n",
    "* https://www.geeksforgeeks.org/hashing-set-3-open-addressing/"
   ]
  },
  {
   "cell_type": "code",
   "execution_count": 88,
   "metadata": {},
   "outputs": [
    {
     "name": "stdout",
     "output_type": "stream",
     "text": [
      "None:None\n",
      "None:None\n",
      "dog:100\n",
      "None:None\n",
      "None:None\n",
      "cat:5 → 5:12\n",
      "None:None\n",
      "None:None\n",
      "None:None\n",
      "None:None\n",
      "None:None\n",
      "\n",
      "12\n",
      "None\n",
      "\n",
      "None:None\n",
      "None:None\n",
      "None\n",
      "None:None\n",
      "None:None\n",
      "5:12\n",
      "None:None\n",
      "None:None\n",
      "None:None\n",
      "None:None\n",
      "None:None\n"
     ]
    },
    {
     "ename": "KeyError",
     "evalue": "'Invalid key'",
     "output_type": "error",
     "traceback": [
      "\u001b[1;31m---------------------------------------------------------------------------\u001b[0m",
      "\u001b[1;31mKeyError\u001b[0m                                  Traceback (most recent call last)",
      "\u001b[1;32m<ipython-input-88-0efdfef45b6a>\u001b[0m in \u001b[0;36m<module>\u001b[1;34m()\u001b[0m\n\u001b[0;32m     86\u001b[0m \u001b[0mht\u001b[0m\u001b[1;33m.\u001b[0m\u001b[0mrm\u001b[0m\u001b[1;33m(\u001b[0m\u001b[1;34m'dog'\u001b[0m\u001b[1;33m)\u001b[0m\u001b[1;33m\u001b[0m\u001b[0m\n\u001b[0;32m     87\u001b[0m \u001b[0mht\u001b[0m\u001b[1;33m.\u001b[0m\u001b[0mprint\u001b[0m\u001b[1;33m(\u001b[0m\u001b[1;33m)\u001b[0m\u001b[1;33m\u001b[0m\u001b[0m\n\u001b[1;32m---> 88\u001b[1;33m \u001b[0mht\u001b[0m\u001b[1;33m.\u001b[0m\u001b[0mrm\u001b[0m\u001b[1;33m(\u001b[0m\u001b[1;34m'cow'\u001b[0m\u001b[1;33m)\u001b[0m\u001b[1;33m\u001b[0m\u001b[0m\n\u001b[0m",
      "\u001b[1;32m<ipython-input-88-0efdfef45b6a>\u001b[0m in \u001b[0;36mrm\u001b[1;34m(self, key)\u001b[0m\n\u001b[0;32m     66\u001b[0m     \u001b[1;32mdef\u001b[0m \u001b[0mrm\u001b[0m\u001b[1;33m(\u001b[0m\u001b[0mself\u001b[0m\u001b[1;33m,\u001b[0m\u001b[0mkey\u001b[0m\u001b[1;33m)\u001b[0m\u001b[1;33m:\u001b[0m\u001b[1;33m\u001b[0m\u001b[0m\n\u001b[0;32m     67\u001b[0m         \u001b[0mh\u001b[0m \u001b[1;33m=\u001b[0m \u001b[0mself\u001b[0m\u001b[1;33m.\u001b[0m\u001b[0mhf\u001b[0m\u001b[1;33m(\u001b[0m\u001b[0mkey\u001b[0m\u001b[1;33m)\u001b[0m\u001b[1;33m\u001b[0m\u001b[0m\n\u001b[1;32m---> 68\u001b[1;33m         \u001b[0mself\u001b[0m\u001b[1;33m.\u001b[0m\u001b[0marray\u001b[0m\u001b[1;33m[\u001b[0m\u001b[0mh\u001b[0m\u001b[1;33m]\u001b[0m \u001b[1;33m=\u001b[0m \u001b[0mself\u001b[0m\u001b[1;33m.\u001b[0m\u001b[0marray\u001b[0m\u001b[1;33m[\u001b[0m\u001b[0mh\u001b[0m\u001b[1;33m]\u001b[0m\u001b[1;33m.\u001b[0m\u001b[0mrm\u001b[0m\u001b[1;33m(\u001b[0m\u001b[0mkey\u001b[0m\u001b[1;33m)\u001b[0m\u001b[1;33m\u001b[0m\u001b[0m\n\u001b[0m\u001b[0;32m     69\u001b[0m \u001b[1;33m\u001b[0m\u001b[0m\n\u001b[0;32m     70\u001b[0m     \u001b[1;32mdef\u001b[0m \u001b[0mprint\u001b[0m\u001b[1;33m(\u001b[0m\u001b[0mself\u001b[0m\u001b[1;33m)\u001b[0m\u001b[1;33m:\u001b[0m\u001b[1;33m\u001b[0m\u001b[0m\n",
      "\u001b[1;32m<ipython-input-88-0efdfef45b6a>\u001b[0m in \u001b[0;36mrm\u001b[1;34m(self, key)\u001b[0m\n\u001b[0;32m     38\u001b[0m                 \u001b[0mself\u001b[0m\u001b[1;33m.\u001b[0m\u001b[0mnext\u001b[0m \u001b[1;33m=\u001b[0m \u001b[0mself\u001b[0m\u001b[1;33m.\u001b[0m\u001b[0mnext\u001b[0m\u001b[1;33m.\u001b[0m\u001b[0mrm\u001b[0m\u001b[1;33m(\u001b[0m\u001b[0mkey\u001b[0m\u001b[1;33m)\u001b[0m\u001b[1;33m\u001b[0m\u001b[0m\n\u001b[0;32m     39\u001b[0m                 \u001b[1;32mreturn\u001b[0m \u001b[0mself\u001b[0m\u001b[1;33m\u001b[0m\u001b[0m\n\u001b[1;32m---> 40\u001b[1;33m             \u001b[1;32mraise\u001b[0m \u001b[0mKeyError\u001b[0m\u001b[1;33m(\u001b[0m\u001b[1;34m'Invalid key'\u001b[0m\u001b[1;33m)\u001b[0m\u001b[1;33m\u001b[0m\u001b[0m\n\u001b[0m\u001b[0;32m     41\u001b[0m \u001b[1;33m\u001b[0m\u001b[0m\n\u001b[0;32m     42\u001b[0m     \u001b[1;32mdef\u001b[0m \u001b[0m__init__\u001b[0m\u001b[1;33m(\u001b[0m\u001b[0mself\u001b[0m\u001b[1;33m)\u001b[0m\u001b[1;33m:\u001b[0m\u001b[1;33m\u001b[0m\u001b[0m\n",
      "\u001b[1;31mKeyError\u001b[0m: 'Invalid key'"
     ]
    }
   ],
   "source": [
    "class Ht:\n",
    "    \"\"\"Hash table with separate chaining.\"\"\"\n",
    "    class Node:\n",
    "        \"\"\"Linked list node.\"\"\"\n",
    "        def __init__(self,key=None,val=None):\n",
    "            self.key = key\n",
    "            self.val = val\n",
    "            self.next = None\n",
    "        \n",
    "        def __str__(self):\n",
    "            out = str(self.key) + ':' + str(self.val)\n",
    "            if self.next is None:\n",
    "                return out\n",
    "            return out + ' → ' + str(self.next)\n",
    "        \n",
    "        def push(self,key,val):\n",
    "            if self.key is None:\n",
    "                self.key = key\n",
    "                self.val = val\n",
    "            elif self.key==key:\n",
    "                self.val = val\n",
    "            elif self.next is None:\n",
    "                self.next = Ht.Node(key,val) # No other way to reference outer class\n",
    "            else:\n",
    "                self.next.push(key,val)\n",
    "                \n",
    "        def read(self,key):\n",
    "            if self.key == key:\n",
    "                return self.val\n",
    "            elif self.next is None:\n",
    "                return None\n",
    "            return self.next.read(key)\n",
    "            \n",
    "        def rm(self,key):\n",
    "            if self.key == key:\n",
    "                return self.next\n",
    "            if self.next is not None:\n",
    "                self.next = self.next.rm(key)\n",
    "                return self\n",
    "            raise KeyError('Invalid key')\n",
    "    \n",
    "    def __init__(self):\n",
    "        self.mod = 11 # Some prime\n",
    "        self.array = [Ht.Node() for i in range(self.mod)]\n",
    "    \n",
    "    def hf(self,val):\n",
    "        \"\"\"Hash function\"\"\"\n",
    "        if type(val) is int:\n",
    "            return val % self.mod\n",
    "        if type(val) is str:\n",
    "            out = 0\n",
    "            for s in list(val):\n",
    "                out = out*127 + ord(s) # 127 is prime, and comparable to ord(z)\n",
    "            return out % self.mod        \n",
    "    \n",
    "    def add(self,key,val):\n",
    "        \"\"\"Add a value.\"\"\"\n",
    "        h = self.hf(key)\n",
    "        self.array[h].push(key,val)\n",
    "        \n",
    "    def get(self,key):\n",
    "        \"\"\"Read a value.\"\"\"\n",
    "        h = self.hf(key)\n",
    "        return self.array[h].read(key)\n",
    "    \n",
    "    def rm(self,key):\n",
    "        h = self.hf(key)\n",
    "        self.array[h] = self.array[h].rm(key)\n",
    "    \n",
    "    def print(self):\n",
    "        for n in self.array:\n",
    "            print(n)\n",
    "    \n",
    "# Testing\n",
    "ht = Ht()\n",
    "ht.add('cat',5)\n",
    "ht.add('dog',100)\n",
    "ht.add(5,7)  # Writing on the same place, but with a different key\n",
    "ht.add(5,12) # Same key\n",
    "ht.print()\n",
    "print()\n",
    "print(ht.get(5))\n",
    "print(ht.get(7))\n",
    "print()\n",
    "ht.rm('cat')\n",
    "ht.rm('dog')\n",
    "ht.print()\n",
    "ht.rm('cow')"
   ]
  },
  {
   "cell_type": "code",
   "execution_count": 46,
   "metadata": {},
   "outputs": [
    {
     "name": "stdout",
     "output_type": "stream",
     "text": [
      "[]\n",
      "[]\n"
     ]
    }
   ],
   "source": [
    "def divisors(k):\n",
    "    \"\"\"A tool to find prime numbers.\"\"\"\n",
    "    return [i for i in range(2,k-1) if k % i==0]\n",
    "\n",
    "print(divisors(127))\n",
    "print(divisors(37))"
   ]
  }
 ],
 "metadata": {
  "kernelspec": {
   "display_name": "Python 3",
   "language": "python",
   "name": "python3"
  },
  "language_info": {
   "codemirror_mode": {
    "name": "ipython",
    "version": 3
   },
   "file_extension": ".py",
   "mimetype": "text/x-python",
   "name": "python",
   "nbconvert_exporter": "python",
   "pygments_lexer": "ipython3",
   "version": "3.7.0"
  }
 },
 "nbformat": 4,
 "nbformat_minor": 2
}
