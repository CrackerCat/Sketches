{
 "cells": [
  {
   "cell_type": "markdown",
   "metadata": {},
   "source": [
    "## Sorting algorythms"
   ]
  },
  {
   "cell_type": "code",
   "execution_count": 1,
   "metadata": {},
   "outputs": [],
   "source": [
    "row = 'sphynx of black quartz, judge my vow!'"
   ]
  },
  {
   "cell_type": "markdown",
   "metadata": {},
   "source": [
    "### Select sort"
   ]
  },
  {
   "cell_type": "code",
   "execution_count": 2,
   "metadata": {},
   "outputs": [
    {
     "data": {
      "text/plain": [
       "'      !,aabcdefghjklmnoopqrstuuvwxyyz'"
      ]
     },
     "execution_count": 2,
     "metadata": {},
     "output_type": "execute_result"
    }
   ],
   "source": [
    "def ss(a):\n",
    "    for i in range(len(a)):\n",
    "        m = a[i]           # Current minimum\n",
    "        c = i\n",
    "        for j in range(i+1,len(a)):\n",
    "            if a[j]<m:     # Find smallest element\n",
    "                m = a[j]\n",
    "                c = j                \n",
    "        if c>i:\n",
    "            (a[i],a[c]) = (a[c],a[i])\n",
    "    return a\n",
    "\n",
    "''.join(ss(list(row)))"
   ]
  },
  {
   "cell_type": "markdown",
   "metadata": {},
   "source": [
    "### Quicksort"
   ]
  },
  {
   "cell_type": "code",
   "execution_count": 126,
   "metadata": {},
   "outputs": [
    {
     "data": {
      "text/plain": [
       "'      !,aabcdefghjklmnoopqrstuuvwxyyz'"
      ]
     },
     "execution_count": 126,
     "metadata": {},
     "output_type": "execute_result"
    }
   ],
   "source": [
    "def qs(a):\n",
    "    if len(a)<=1:\n",
    "        return a\n",
    "    n = len(a)-1               # Last element will be our pivot element (see footnote)\n",
    "    l = 0                      # pointer to where small values will be shoved\n",
    "    #print(''.join(a))\n",
    "    for r in range(0,n):       # For each non-pivot\n",
    "        #print(r,l,''.join(a))\n",
    "        if a[r]<a[n]:          # If smaller than pivot,\n",
    "            if r>l:            # and cannot be left in place,\n",
    "                (a[r],a[l]) = (a[l],a[r]) # Swap (shove it to the left)\n",
    "            l += 1             # Point to the next shoving point\n",
    "\n",
    "    # By the end of this, all a<pivot are in locations<l\n",
    "    # and all a>pivot (if any) are in l to n-1\n",
    "    \n",
    "    if l<n: # Typical case, when there are some elements >pivot\n",
    "        (a[l],a[n]) = (a[n],a[l]) # Move pivot to its rightful place in the middle\n",
    "        a = cs(a[:l]) + [a[l]] + cs(a[(l+1):]) # Do recursion on both halves\n",
    "    else:\n",
    "        a = cs(a[:l]) + [a[l]] # Unusual (and bad) case of pivot on the border\n",
    "    return a\n",
    "\n",
    "''.join(qs(list(row)))"
   ]
  },
  {
   "cell_type": "markdown",
   "metadata": {},
   "source": [
    "Footnote: actually choosing pivot smartly is a heuristic trick that helps to improve average performance of this algorithm. This version is the simplest and it works, but one can also try smarter approaches. Ideal pivot is ~median(array).\n",
    "\n",
    "The best thing about quisort is that it's happening in-place, and so is light on memory, yet is also fast."
   ]
  },
  {
   "cell_type": "markdown",
   "metadata": {},
   "source": [
    "### Mergesort"
   ]
  },
  {
   "cell_type": "code",
   "execution_count": 123,
   "metadata": {},
   "outputs": [
    {
     "data": {
      "text/plain": [
       "'      !,aabcdefghjklmnoopqrstuuvwxyyz'"
      ]
     },
     "execution_count": 123,
     "metadata": {},
     "output_type": "execute_result"
    }
   ],
   "source": [
    "def ms(a):\n",
    "    if len(a)<=1:\n",
    "        return a\n",
    "    mid = len(a) // 2\n",
    "    al = ms(a[:mid])\n",
    "    ar = ms(a[mid:])\n",
    "    i = j = 0\n",
    "    o = []\n",
    "    while (i<len(al)) or (j<len(ar)):\n",
    "        if i>=mid:           # Left array is over, draw from the right\n",
    "            o.append(ar[j])\n",
    "            j += 1\n",
    "        elif j>=len(ar):     # Right array is over, draf from the left\n",
    "            o.append(al[i])\n",
    "            i += 1\n",
    "        elif al[i]<ar[j]:    # Both are fine: compare\n",
    "            o.append(al[i])\n",
    "            i += 1\n",
    "        else:\n",
    "            o.append(ar[j])\n",
    "            j += 1\n",
    "    return o\n",
    "    \n",
    "''.join(ms(list(row)))"
   ]
  },
  {
   "cell_type": "markdown",
   "metadata": {},
   "source": [
    "### Testing"
   ]
  },
  {
   "cell_type": "code",
   "execution_count": 128,
   "metadata": {},
   "outputs": [
    {
     "data": {
      "image/png": "[encoded data removed]",
      "text/plain": [
       "<Figure size 432x288 with 1 Axes>"
      ]
     },
     "metadata": {
      "needs_background": "light"
     },
     "output_type": "display_data"
    }
   ],
   "source": [
    "import matplotlib.pyplot as plt\n",
    "import time\n",
    "import numpy as np\n",
    "\n",
    "nTrials = 1000\n",
    "\n",
    "x = y = np.array([])\n",
    "flist = [ss, ms, qs] # List of functions\n",
    "for i in range(1,100):\n",
    "    n = 2**i\n",
    "    x = np.append(x,n)\n",
    "\n",
    "    newRow = []\n",
    "    for f in flist:\n",
    "        t = 0\n",
    "        for j in range(nTrials):\n",
    "            task = np.random.randint(0,i,i)\n",
    "            tic = time.time()\n",
    "            f(task)\n",
    "            t += time.time()-tic\n",
    "        newRow.append(t/nTrials)\n",
    "    y = np.append(y,newRow)\n",
    "        \n",
    "y = y.reshape([-1,3])\n",
    "plt.plot(x,y);\n",
    "plt.xscale('log');\n",
    "plt.legend(['ss','ms','qs']);"
   ]
  }
 ],
 "metadata": {
  "kernelspec": {
   "display_name": "Python 3",
   "language": "python",
   "name": "python3"
  },
  "language_info": {
   "codemirror_mode": {
    "name": "ipython",
    "version": 3
   },
   "file_extension": ".py",
   "mimetype": "text/x-python",
   "name": "python",
   "nbconvert_exporter": "python",
   "pygments_lexer": "ipython3",
   "version": "3.7.3"
  }
 },
 "nbformat": 4,
 "nbformat_minor": 2
}
