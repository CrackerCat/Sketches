{
 "cells": [
  {
   "cell_type": "markdown",
   "metadata": {},
   "source": [
    "### Union find\n",
    "\n",
    "Given a bunch of nodes and known connections between them (edges, given as a pair of nodes), count the number of connected components."
   ]
  },
  {
   "cell_type": "code",
   "execution_count": 3,
   "metadata": {},
   "outputs": [],
   "source": [
    "import random"
   ]
  },
  {
   "cell_type": "code",
   "execution_count": 81,
   "metadata": {},
   "outputs": [],
   "source": [
    "# Prepare the data\n",
    "nv = 20 # N nodes\n",
    "ne = nv  # N edges\n",
    "edges = [(random.randint(0,nv-1) , random.randint(0,nv-1)) for _ in range(ne)] # An array of tuples"
   ]
  },
  {
   "cell_type": "code",
   "execution_count": 83,
   "metadata": {},
   "outputs": [
    {
     "name": "stdout",
     "output_type": "stream",
     "text": [
      "(18, 2) connect\n",
      "(4, 10) connect\n",
      "(2, 15) 2>18,connect\n",
      "(5, 8) connect\n",
      "(19, 11) connect\n",
      "(16, 2) 2>18,connect\n",
      "(5, 6) connect\n",
      "(7, 7) already\n",
      "(11, 14) 11>19,connect\n",
      "(0, 3) connect\n",
      "(8, 17) 8>5,connect\n",
      "(12, 7) connect\n",
      "(12, 5) connect\n",
      "(6, 0) 6>5,5>12,connect\n",
      "(4, 3) 3>0,0>12,connect\n",
      "(16, 2) 16>18,2>18,already\n",
      "(4, 8) 4>12,8>5,5>12,already\n",
      "(1, 9) connect\n",
      "(1, 14) 14>19,connect\n",
      "(13, 17) 17>5,5>12,connect\n",
      "0:12 1:19 2:18 3:0 4:12 5:12 6:5 7:12 8:5 9:1 10:4 11:19 12:12 13:12 14:19 15:18 16:18 17:5 18:18 19:19 \n"
     ]
    },
    {
     "data": {
      "text/plain": [
       "3"
      ]
     },
     "execution_count": 83,
     "metadata": {},
     "output_type": "execute_result"
    }
   ],
   "source": [
    "class unionFind:\n",
    "    '''Union Find algorithm implementation'''\n",
    "    \n",
    "    def __init__(self,nv,edges):\n",
    "        self.nComponents = nv\n",
    "        self.id = [i for i in range(nv)] # Start with every node in its own component\n",
    "        \n",
    "        for e in edges:\n",
    "            print(e,end=' ')\n",
    "            p0,c0 = self.parent(e[0])\n",
    "            p1,c1 = self.parent(e[1])\n",
    "            if p0==p1:\n",
    "                print('already')\n",
    "                continue\n",
    "            if c0<c1:\n",
    "                self.id[p0] = p1\n",
    "            else:\n",
    "                self.id[p1] = p0\n",
    "            self.nComponents -= 1\n",
    "            print('connect')\n",
    "    \n",
    "    def parent(self,v):\n",
    "        c = 0\n",
    "        while self.id[v]!=v:\n",
    "            print(f'{v}>{self.id[v]}',end=',')\n",
    "            c += 1\n",
    "            v = self.id[v]\n",
    "        return (v,c)\n",
    "    \n",
    "    def __str__(self):\n",
    "        return ''.join(['%d:%d ' % (i,self.id[i]) for i in range(len(self.id))])\n",
    "        \n",
    "    def count(self):\n",
    "        print(self)\n",
    "        return self.nComponents\n",
    "\n",
    "# Testing:\n",
    "#unionFind(6,[(1,2),(2,3),(1,3),(4,5)]).count()\n",
    "unionFind(nv,edges).count()"
   ]
  },
  {
   "cell_type": "markdown",
   "metadata": {},
   "source": [
    "Ideally, I'd neede a better, more visual way to troubleshoot it. It seems to work as intendent, but it is hard to be sure."
   ]
  }
 ],
 "metadata": {
  "kernelspec": {
   "display_name": "Python 3",
   "language": "python",
   "name": "python3"
  },
  "language_info": {
   "codemirror_mode": {
    "name": "ipython",
    "version": 3
   },
   "file_extension": ".py",
   "mimetype": "text/x-python",
   "name": "python",
   "nbconvert_exporter": "python",
   "pygments_lexer": "ipython3",
   "version": "3.7.0"
  }
 },
 "nbformat": 4,
 "nbformat_minor": 2
}
