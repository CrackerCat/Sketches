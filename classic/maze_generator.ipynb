{
 "cells": [
  {
   "cell_type": "markdown",
   "metadata": {},
   "source": [
    "# Maze generator"
   ]
  },
  {
   "cell_type": "code",
   "execution_count": 3,
   "metadata": {},
   "outputs": [],
   "source": [
    "import numpy as np\n",
    "import matplotlib.pyplot as plt"
   ]
  },
  {
   "cell_type": "code",
   "execution_count": 83,
   "metadata": {},
   "outputs": [
    {
     "data": {
      "image/png": "[encoded data removed]",
      "text/plain": [
       "<Figure size 504x504 with 1 Axes>"
      ]
     },
     "metadata": {
      "needs_background": "light"
     },
     "output_type": "display_data"
    }
   ],
   "source": [
    "class Maze:\n",
    "    def __init__(self, n=3):\n",
    "        self.gdict = {} # Main graph\n",
    "        self.n = n\n",
    "        self.randperm_resource = np.random.permutation(n+1).tolist()\n",
    "        for i in range(n):\n",
    "            for j in range(n):\n",
    "                self.gdict[(i,j)] = []\n",
    "        self.trail((0,0))\n",
    "                    \n",
    "    def neighbors(self, pair):\n",
    "        \"\"\"Returns legal neighboring pairs for each pair (tuple).\"\"\"\n",
    "        i,j = pair\n",
    "        n = self.n\n",
    "        out = []\n",
    "        if i>0:   out.append((i-1,j))\n",
    "        if i<n-1: out.append((i+1,j))\n",
    "        if j>0:   out.append((i,j-1))\n",
    "        if j<n-1: out.append((i,j+1))\n",
    "        return out\n",
    "    \n",
    "    def gplot(self):\n",
    "        \"\"\"Plots underlying graph (not the maze how we typically draw them).\"\"\"\n",
    "        x = np.linspace(0,1,self.n)\n",
    "        for key,val in self.gdict.items():\n",
    "            i1,j1 = key\n",
    "            for i,j in val:\n",
    "                plt.plot(x[[i1,i]], x[[j1,j]], 'b-')\n",
    "                \n",
    "    def plot(self):\n",
    "        \"\"\"Draws the maze.\"\"\"\n",
    "        x = np.linspace(0,1,self.n)\n",
    "        pad = 1/(self.n-1)/2\n",
    "        plt.plot(np.array([0, 0, 1, 1, 0])*(1+2*pad)-pad, np.array([0, 1, 1, 0, 0])*(1+2*pad)-pad, 'k-')\n",
    "        for key,val in self.gdict.items():\n",
    "            i1,j1 = key\n",
    "            for i,j in self.neighbors(key):\n",
    "                if (i,j) not in val:\n",
    "                    plt.plot([(x[i1]+x[i]-x[j1]+x[j])/2, (x[i1]+x[i]+x[j1]-x[j])/2],\n",
    "                             [(x[j1]+x[j]-x[i1]+x[i])/2, (x[j1]+x[j]+x[i1]-x[i])/2], 'k-')\n",
    "                    \n",
    "    def randperm(self,point,l):\n",
    "        \"\"\"A rather unsuccessful attempt to pre-calculate some randomness. \n",
    "        It's both still slow, and not random enough.\"\"\"\n",
    "        n = len(self.randperm_resource)\n",
    "        left = (point[0]+point[1]*61) % n\n",
    "        if left+l < n:\n",
    "            out =  self.randperm_resource[left:left+l]\n",
    "        out = self.randperm_resource[left:] + self.randperm_resource[:l-(n-left)]\n",
    "        return [i for _,i in sorted([(out[j],j) for j in range(l)])]\n",
    "                \n",
    "    def trail(self, point, visited=None):\n",
    "        \"\"\"Making the actual maze, recursively.\"\"\"\n",
    "        if visited is None:\n",
    "            visited = {key:False for key,_ in self.gdict.items()}\n",
    "        visited[point] = True\n",
    "        nei = self.neighbors(point)\n",
    "        if True:\n",
    "            nei = [nei[i] for i in np.random.permutation(len(nei))] \n",
    "            # Slowest part of the entire script (30% of time)\n",
    "        else:\n",
    "            # Rather unsuccessful attempt to front-order randomness\n",
    "            nei = [nei[i] for i in self.randperm(point,len(nei))] # Faster?\n",
    "        while nei:\n",
    "            p = nei.pop()\n",
    "            if not visited[p]:\n",
    "                self.gdict[point].append(p)\n",
    "                self.gdict[p].append(point)\n",
    "                self.trail(p, visited)\n",
    "        return\n",
    "                \n",
    "#%prun \n",
    "maze = Maze(50) # Doesn't work with n=100 (recursion depth error)\n",
    "fig = plt.figure(figsize=(7,7))\n",
    "maze.plot()\n",
    "#maze.gplot() # paths"
   ]
  }
 ],
 "metadata": {
  "kernelspec": {
   "display_name": "Python 3",
   "language": "python",
   "name": "python3"
  },
  "language_info": {
   "codemirror_mode": {
    "name": "ipython",
    "version": 3
   },
   "file_extension": ".py",
   "mimetype": "text/x-python",
   "name": "python",
   "nbconvert_exporter": "python",
   "pygments_lexer": "ipython3",
   "version": "3.7.6"
  }
 },
 "nbformat": 4,
 "nbformat_minor": 4
}
