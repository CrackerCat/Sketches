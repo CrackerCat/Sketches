{
 "cells": [
  {
   "cell_type": "markdown",
   "metadata": {},
   "source": [
    "# Trie"
   ]
  },
  {
   "cell_type": "code",
   "execution_count": 6,
   "metadata": {},
   "outputs": [
    {
     "name": "stdout",
     "output_type": "stream",
     "text": [
      "None:dict_keys(['s', 'a'])\n",
      "shall\n",
      "││││└ow\n",
      "│└e\n",
      "││└lls\n",
      "│└ore\n",
      "└ell\n",
      "│└a\n",
      "a\n",
      "└t\n",
      "['shall', 'shallow', 'she', 'shells', 'shore', 'sell', 'sea', 'a', 'at']\n"
     ]
    }
   ],
   "source": [
    "class Trie:\n",
    "    class Node:\n",
    "        def __init__(self):\n",
    "            self.val = None\n",
    "            self.next = {}\n",
    "            \n",
    "        def __str__(self):\n",
    "            out = str(self.val) + ':' + str(self.next.keys()) \n",
    "            return out\n",
    "            \n",
    "        def _print(self, depth):\n",
    "            \"\"\"Helper function only. Vizualization.\"\"\"\n",
    "            def _fill(k):\n",
    "                return '│'*(k-1) + '└' if k>0 else ''\n",
    "            out = ''\n",
    "            first = True\n",
    "            if (self.val is not None) and self.next: # Not a word, but a branching point\n",
    "                out = out + '\\n' + _fill(depth)\n",
    "            for key,node in self.next.items():\n",
    "                if first:\n",
    "                    first = False\n",
    "                else:\n",
    "                    out = out + '\\n' +  _fill(depth)\n",
    "                out = out + key + node._print(depth+1)\n",
    "            return out\n",
    "        \n",
    "        def _to_list(self, key=None):\n",
    "            if key is None: key = ''\n",
    "            if self.val is not None:\n",
    "                out = [key]\n",
    "            else:\n",
    "                out = []\n",
    "            if self.next:\n",
    "                for ch,node in self.next.items():\n",
    "                    out = out + node._to_list(key+ch)\n",
    "            return out\n",
    "            \n",
    "        def add(self, key, val):\n",
    "            if not key: # We reached a target\n",
    "                self.val = val\n",
    "                return None\n",
    "            ch = key[0]\n",
    "            if ch not in self.next:\n",
    "                self.next[ch] = Trie.Node()\n",
    "            self.next[ch].add(key[1:], val)\n",
    "            \n",
    "    def __init__(self):\n",
    "        self.root = Trie.Node()\n",
    "        \n",
    "    def __str__(self):\n",
    "        return self.root._print(0)\n",
    "        \n",
    "    def add(self, key, val=None):\n",
    "        if not key: return None\n",
    "        self.root.add(key.lower(), val)\n",
    "        \n",
    "    def items(self):\n",
    "        return self.root._to_list()\n",
    "    \n",
    "# test\n",
    "t = Trie()\n",
    "s = 'shall she sell sea shells at a shallow sea shore'\n",
    "for token in s.split(' '):\n",
    "    t.add(token, 1)\n",
    "print(t.root)\n",
    "print(t)\n",
    "print(t.items())"
   ]
  }
 ],
 "metadata": {
  "kernelspec": {
   "display_name": "Python 3",
   "language": "python",
   "name": "python3"
  },
  "language_info": {
   "codemirror_mode": {
    "name": "ipython",
    "version": 3
   },
   "file_extension": ".py",
   "mimetype": "text/x-python",
   "name": "python",
   "nbconvert_exporter": "python",
   "pygments_lexer": "ipython3",
   "version": "3.7.6"
  }
 },
 "nbformat": 4,
 "nbformat_minor": 4
}
