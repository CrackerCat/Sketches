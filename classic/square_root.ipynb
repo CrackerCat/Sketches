{
 "cells": [
  {
   "cell_type": "markdown",
   "metadata": {},
   "source": [
    "# Square root (integer)"
   ]
  },
  {
   "cell_type": "code",
   "execution_count": 21,
   "metadata": {},
   "outputs": [
    {
     "name": "stdout",
     "output_type": "stream",
     "text": [
      "499 2\n",
      "250 3\n",
      "126 7\n",
      "66 15\n",
      "40 24\n",
      "32 31\n"
     ]
    },
    {
     "data": {
      "text/plain": [
       "31"
      ]
     },
     "execution_count": 21,
     "metadata": {},
     "output_type": "execute_result"
    }
   ],
   "source": [
    "def sqrt(n):\n",
    "    if n<=2: return 1\n",
    "    if n<5: return 2\n",
    "    k = n // 2\n",
    "    other = n // k\n",
    "    while k>other:\n",
    "        print(k,other)\n",
    "        k = (k+other) // 2\n",
    "        other = n // k\n",
    "    return k\n",
    "\n",
    "sqrt(999)"
   ]
  },
  {
   "cell_type": "code",
   "execution_count": 46,
   "metadata": {},
   "outputs": [
    {
     "data": {
      "text/plain": [
       "31"
      ]
     },
     "execution_count": 46,
     "metadata": {},
     "output_type": "execute_result"
    }
   ],
   "source": [
    "def sqrt2(n,i=None,j=0):\n",
    "    if i is None: i=n\n",
    "    if i<=j: return i\n",
    "    i = (i+j)//2\n",
    "    return sqrt2(n, i, n//i)\n",
    "\n",
    "sqrt2(999)"
   ]
  }
 ],
 "metadata": {
  "kernelspec": {
   "display_name": "Python 3",
   "language": "python",
   "name": "python3"
  },
  "language_info": {
   "codemirror_mode": {
    "name": "ipython",
    "version": 3
   },
   "file_extension": ".py",
   "mimetype": "text/x-python",
   "name": "python",
   "nbconvert_exporter": "python",
   "pygments_lexer": "ipython3",
   "version": "3.7.6"
  }
 },
 "nbformat": 4,
 "nbformat_minor": 4
}
