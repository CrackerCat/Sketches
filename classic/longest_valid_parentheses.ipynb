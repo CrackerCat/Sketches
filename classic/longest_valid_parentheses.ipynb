{
 "cells": [
  {
   "cell_type": "markdown",
   "metadata": {},
   "source": [
    "# Longest valid parentheses\n",
    "\n",
    "Get a row of random parentheses. Find a longest substring of valid parentheses"
   ]
  },
  {
   "cell_type": "code",
   "execution_count": 1,
   "metadata": {},
   "outputs": [],
   "source": [
    "import numpy as np\n",
    "import matplotlib.pyplot as plt"
   ]
  },
  {
   "cell_type": "code",
   "execution_count": 2,
   "metadata": {},
   "outputs": [
    {
     "name": "stdout",
     "output_type": "stream",
     "text": [
      "(()(((()((((())))((()\n"
     ]
    }
   ],
   "source": [
    "# Helper generator\n",
    "def randpar(n):\n",
    "    a = ['(',')']\n",
    "    b = np.random.randint(0,2,n)\n",
    "    return ''.join([a[i] for i in b])\n",
    "\n",
    "s = randpar(21)\n",
    "print(s)"
   ]
  },
  {
   "cell_type": "code",
   "execution_count": 3,
   "metadata": {},
   "outputs": [
    {
     "name": "stdout",
     "output_type": "stream",
     "text": [
      "Closing 0 at 1 with length 2\n",
      "Closing -2 at 5 with length 2\n",
      "Closing -1 at 8 with length 2\n",
      "Closing -2 at 9 with length 6\n"
     ]
    },
    {
     "data": {
      "text/plain": [
       "'()(())'"
      ]
     },
     "execution_count": 3,
     "metadata": {},
     "output_type": "execute_result"
    },
    {
     "data": {
      "image/png": "[encoded data removed]",
      "text/plain": [
       "<Figure size 432x288 with 1 Axes>"
      ]
     },
     "metadata": {
      "needs_background": "light"
     },
     "output_type": "display_data"
    }
   ],
   "source": [
    "def longpar(s):\n",
    "    a = {'(':1 , ')':-1}\n",
    "    v = [a[i] for i in list(s)]     # A numerical representation of this sequence\n",
    "    for i in range(len(v)):         # cumsum. Can be included in the loop below of course\n",
    "        if i>0:\n",
    "            v[i] += v[i-1]          # Now v[i] := net number of open (( to the left from i\n",
    "    plt.plot([0]+v,'.-')\n",
    "    \n",
    "    left  = {0:-1}          # For each value v[i] we'll remember its best start\n",
    "    topl = topr = 0\n",
    "    prev = 0\n",
    "    for i in range(len(v)):\n",
    "        if (prev<v[i]) or (v[i] not in left): # Going up or down for the first time\n",
    "            left[v[i]]  = i                   # Remember where the mountain starts\n",
    "            #print('Started',v[i],'at',i)\n",
    "        else: # Going down and not the first time: close stuff\n",
    "            print('Closing',v[i],'at',i,'with length',i-left[v[i]])\n",
    "            if i-left[v[i]] > topr-topl:      # See if it's a leader\n",
    "                topl = left[v[i]]\n",
    "                topr = i\n",
    "        prev = v[i]\n",
    "    #print(topl,topr)\n",
    "    return ''.join(s[(topl+1):(topr+1)]) # topl is first time the level was reached, so (()) start AFTER it (thus +1)\n",
    "\n",
    "# Test\n",
    "s = '(())()))((()'\n",
    "s = '()))()(()))((('\n",
    "longpar(s)"
   ]
  }
 ],
 "metadata": {
  "kernelspec": {
   "display_name": "Python 3",
   "language": "python",
   "name": "python3"
  },
  "language_info": {
   "codemirror_mode": {
    "name": "ipython",
    "version": 3
   },
   "file_extension": ".py",
   "mimetype": "text/x-python",
   "name": "python",
   "nbconvert_exporter": "python",
   "pygments_lexer": "ipython3",
   "version": "3.7.6"
  }
 },
 "nbformat": 4,
 "nbformat_minor": 2
}
