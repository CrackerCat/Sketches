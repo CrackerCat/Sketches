{
 "cells": [
  {
   "cell_type": "markdown",
   "metadata": {},
   "source": [
    "# Interpolation search"
   ]
  },
  {
   "cell_type": "code",
   "execution_count": 34,
   "metadata": {},
   "outputs": [
    {
     "name": "stdout",
     "output_type": "stream",
     "text": [
      "0 :    1 (0)\n",
      "1 : -- 1 (0)\n",
      "2 :    3 (1)\n",
      "3 : -- 3 (1)\n",
      "4 : -- 4 (2)\n",
      "5 :    6 (3)\n",
      "6 : -- 6 (3)\n",
      "7 : -- 7 (4)\n",
      "8 :    9 (5)\n",
      "9 : -- 9 (5)\n",
      "10 :    12 (6)\n",
      "11 :    12 (6)\n",
      "12 : -- 12 (6)\n",
      "13 :    17 (7)\n",
      "14 :    17 (7)\n",
      "15 :    17 (7)\n",
      "16 :    17 (7)\n",
      "17 : -- 17 (7)\n",
      "18 :    17 (7)\n"
     ]
    }
   ],
   "source": [
    "def inse(nums, target):\n",
    "    if target<nums[0]:        return 0\n",
    "    if target>nums[-1]:      return len(nums)-1\n",
    "    l = 0\n",
    "    r = len(nums)-1\n",
    "    while r-l>0:\n",
    "        m = min(r, l + int((r-l)*(target-nums[l])/(nums[r]-nums[l])))\n",
    "        if target==nums[m]:\n",
    "            return m\n",
    "        if target>nums[m]:\n",
    "            l = m+1\n",
    "        else:\n",
    "            r = m-1\n",
    "    return l\n",
    "\n",
    "# Test\n",
    "a = [1,3,4,6,7,9,12,17]\n",
    "for i in range(19):\n",
    "    print(i,\":\", end=' ')\n",
    "    print('--' if i in a else '  ', end=' ')\n",
    "    j = inse(a, i)\n",
    "    print(f\"{a[j]} ({j})\")"
   ]
  }
 ],
 "metadata": {
  "kernelspec": {
   "display_name": "Python 3",
   "language": "python",
   "name": "python3"
  },
  "language_info": {
   "codemirror_mode": {
    "name": "ipython",
    "version": 3
   },
   "file_extension": ".py",
   "mimetype": "text/x-python",
   "name": "python",
   "nbconvert_exporter": "python",
   "pygments_lexer": "ipython3",
   "version": "3.7.6"
  }
 },
 "nbformat": 4,
 "nbformat_minor": 4
}
