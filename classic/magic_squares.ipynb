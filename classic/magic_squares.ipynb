{
 "cells": [
  {
   "cell_type": "markdown",
   "metadata": {},
   "source": [
    "# Magic squares"
   ]
  },
  {
   "cell_type": "code",
   "execution_count": 1,
   "metadata": {},
   "outputs": [],
   "source": [
    "import numpy as np"
   ]
  },
  {
   "cell_type": "markdown",
   "metadata": {},
   "source": [
    "There is an algorithm for odd-sized squares, but I don't know the proof, and it doesn't work for even-sized squares:\n",
    "\n",
    "* https://www.geeksforgeeks.org/magic-square/"
   ]
  },
  {
   "cell_type": "code",
   "execution_count": 26,
   "metadata": {},
   "outputs": [
    {
     "name": "stdout",
     "output_type": "stream",
     "text": [
      "[[ 6.  3. 25. 17. 14.]\n",
      " [ 2. 24. 16. 13. 10.]\n",
      " [23. 20. 12.  9.  1.]\n",
      " [19. 11.  8.  5. 22.]\n",
      " [15.  7.  4. 21. 18.]]\n",
      "Cols: [65. 65. 65. 65. 65.]\n",
      "Rows: [65. 65. 65. 65. 65.]\n"
     ]
    }
   ],
   "source": [
    "N = 5\n",
    "\n",
    "a = np.zeros((N,N))\n",
    "\n",
    "i = N//2+1\n",
    "j = N-2\n",
    "for k in range(N**2):\n",
    "    i = (i-1) % N\n",
    "    j = (j+1) % N\n",
    "    while a[i,j] != 0:\n",
    "        i = (i-2) % N\n",
    "        j = (j+1) % N\n",
    "    a[i,j] = k+1\n",
    "\n",
    "\n",
    "print(a)\n",
    "print('Cols:',np.sum(a,axis=0))\n",
    "print('Rows:',np.sum(a,axis=1))"
   ]
  }
 ],
 "metadata": {
  "kernelspec": {
   "display_name": "Python 3",
   "language": "python",
   "name": "python3"
  },
  "language_info": {
   "codemirror_mode": {
    "name": "ipython",
    "version": 3
   },
   "file_extension": ".py",
   "mimetype": "text/x-python",
   "name": "python",
   "nbconvert_exporter": "python",
   "pygments_lexer": "ipython3",
   "version": "3.7.6"
  }
 },
 "nbformat": 4,
 "nbformat_minor": 4
}
