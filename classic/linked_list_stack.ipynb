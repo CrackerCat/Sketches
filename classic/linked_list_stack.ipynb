{
 "cells": [
  {
   "cell_type": "markdown",
   "metadata": {},
   "source": [
    "## Linked list stack"
   ]
  },
  {
   "cell_type": "code",
   "execution_count": 15,
   "metadata": {},
   "outputs": [],
   "source": [
    "class Node:\n",
    "    \"\"\"Node of a future LL.\"\"\"\n",
    "    def __init__(self,value=None,child=None):\n",
    "        self.value = value\n",
    "        self.child = child"
   ]
  },
  {
   "cell_type": "code",
   "execution_count": 17,
   "metadata": {},
   "outputs": [
    {
     "name": "stdout",
     "output_type": "stream",
     "text": [
      "List:\n",
      "List:Dog|1|\n",
      "Dog\n",
      "List:1|\n",
      "1\n",
      "None\n"
     ]
    },
    {
     "data": {
      "text/plain": [
       "6"
      ]
     },
     "execution_count": 17,
     "metadata": {},
     "output_type": "execute_result"
    }
   ],
   "source": [
    "class LL:\n",
    "    \"\"\"Linked List of nodes.\"\"\"\n",
    "    \n",
    "    def __init__(self):\n",
    "        self.root = None\n",
    "        \n",
    "    def __str__(self):\n",
    "        out = 'List:'\n",
    "        this = self.root\n",
    "        while this!=None:\n",
    "            out += str(this.value)+'|'\n",
    "            this = this.child\n",
    "        return out\n",
    "    \n",
    "    def push(self,value):\n",
    "        self.root = Node(value,self.root)\n",
    "        \n",
    "    def pop(self):\n",
    "        if self.root!=None:\n",
    "            out = self.root.value\n",
    "            self.root = self.root.child\n",
    "        else:\n",
    "            out = None\n",
    "        return out\n",
    "        \n",
    "a = LL()\n",
    "print(a)\n",
    "a.push(1)\n",
    "a.push('Dog')\n",
    "print(a)\n",
    "print(a.pop())\n",
    "print(a)\n",
    "print(a.pop())\n",
    "print(a.pop())\n",
    "a.push(6)\n",
    "a.pop()"
   ]
  },
  {
   "cell_type": "code",
   "execution_count": 28,
   "metadata": {},
   "outputs": [
    {
     "name": "stdout",
     "output_type": "stream",
     "text": [
      "List:y|l|e|v|o|L|\n"
     ]
    }
   ],
   "source": [
    "s = 'Lovely'\n",
    "for c in s:\n",
    "    a.push(c)\n",
    "print(a)"
   ]
  },
  {
   "cell_type": "code",
   "execution_count": 29,
   "metadata": {},
   "outputs": [
    {
     "data": {
      "text/plain": [
       "'Lovely'"
      ]
     },
     "execution_count": 29,
     "metadata": {},
     "output_type": "execute_result"
    }
   ],
   "source": [
    "def revprint(node):\n",
    "    if node is None: return ''\n",
    "    return revprint(node.child) + str(node.value)\n",
    "\n",
    "revprint(a.root)"
   ]
  },
  {
   "cell_type": "code",
   "execution_count": 30,
   "metadata": {},
   "outputs": [
    {
     "name": "stdout",
     "output_type": "stream",
     "text": [
      "List:L|o|v|e|l|y|\n"
     ]
    }
   ],
   "source": [
    "def revlist(ll):\n",
    "    ll.root = revnode(ll.root)\n",
    "    \n",
    "def revnode(node,prev=None):\n",
    "    if node.child==None:\n",
    "        out = node\n",
    "    else:\n",
    "        out = revnode(node.child, node)\n",
    "    node.child = prev\n",
    "    return out\n",
    "\n",
    "revlist(a)\n",
    "print(a)"
   ]
  }
 ],
 "metadata": {
  "kernelspec": {
   "display_name": "Python 3",
   "language": "python",
   "name": "python3"
  },
  "language_info": {
   "codemirror_mode": {
    "name": "ipython",
    "version": 3
   },
   "file_extension": ".py",
   "mimetype": "text/x-python",
   "name": "python",
   "nbconvert_exporter": "python",
   "pygments_lexer": "ipython3",
   "version": "3.7.6"
  }
 },
 "nbformat": 4,
 "nbformat_minor": 2
}
