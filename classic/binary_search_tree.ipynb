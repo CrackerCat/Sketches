{
 "cells": [
  {
   "cell_type": "markdown",
   "metadata": {},
   "source": [
    "# Binary seach tree\n",
    "\n",
    "Each node breaks the tree in two. All keys smaller than its key go to the left, all keys higher - to the right."
   ]
  },
  {
   "cell_type": "code",
   "execution_count": 36,
   "metadata": {},
   "outputs": [
    {
     "name": "stdout",
     "output_type": "stream",
     "text": [
      "3:hmm(2:bird(None)(None))(7:dog(5:cat(None)(None))(8:possum(None)(None)))\n"
     ]
    }
   ],
   "source": [
    "class Node:\n",
    "    def __init__(self,key,value):\n",
    "        self.key = key\n",
    "        self.value = value\n",
    "        self.l = None # Left and right branches\n",
    "        self.r = None\n",
    "        \n",
    "    def __str__(self):\n",
    "        return f\"{self.key}:{self.value}({self.l.__str__()})({self.r.__str__()})\"\n",
    "    \n",
    "    def write(self,key,value):\n",
    "        if key==self.key:\n",
    "            self.value = value\n",
    "            return\n",
    "        if key<self.key:\n",
    "            if self.l is None:   self.l = Node(key,value)\n",
    "            else:                self.l.write(key,value)\n",
    "        else:\n",
    "            if self.r is None:   self.r = Node(key,value)\n",
    "            else:                self.r.write(key,value)\n",
    "                \n",
    "    def read(self,key):\n",
    "        if key==self.key:      return self.value\n",
    "        if key< self.key:\n",
    "            if self.l is None: return None\n",
    "            return self.l.read(key)\n",
    "        else:\n",
    "            if self.r is None: return None\n",
    "            return self.r.read(key)\n",
    "\n",
    "class BH:\n",
    "    def __init__(self):\n",
    "        self.root = None\n",
    "        \n",
    "    def __str__(self):\n",
    "        return self.root.__str__()\n",
    "    \n",
    "    def write(self,key,value):\n",
    "        if self.root==None: self.root = Node(key,value)\n",
    "        else:               self.root.write(key,value)\n",
    "            \n",
    "    def read(self,key):\n",
    "        if self.root==None: return None\n",
    "        return self.root.read(key)\n",
    "            \n",
    "b = BH()\n",
    "b.write(3,'hmm')\n",
    "b.write(7,'dog')\n",
    "b.write(5,'cat')\n",
    "b.write(8,'possum')\n",
    "b.write(2,'bird')\n",
    "print(b)"
   ]
  },
  {
   "cell_type": "code",
   "execution_count": 39,
   "metadata": {},
   "outputs": [
    {
     "data": {
      "text/plain": [
       "[None, None, 'bird', 'hmm', None, 'cat', None, 'dog', 'possum', None]"
      ]
     },
     "execution_count": 39,
     "metadata": {},
     "output_type": "execute_result"
    }
   ],
   "source": [
    "[b.read(i) for i in range(10)]"
   ]
  },
  {
   "cell_type": "markdown",
   "metadata": {},
   "source": [
    "A full version would have also included:\n",
    "\n",
    "* min\n",
    "* max\n",
    "* delete key (that relies on min and max)\n",
    "\n",
    "Also I'm wondering whether repetition in read() and write() worth to be abstracted as some sort of find(). There's a problem there (unless we use pointers, that is), as a stump may be either None or a Node, and while Node is perfectly pointed at, Null is anonymous. We could always keep track of a parent as well, but then we'd have to have a root Node at the very beginning, and then we'd have to give it a None key, and then we'd have to check for that in both routines. So, possible, but not trivial."
   ]
  }
 ],
 "metadata": {
  "kernelspec": {
   "display_name": "Python 3",
   "language": "python",
   "name": "python3"
  },
  "language_info": {
   "codemirror_mode": {
    "name": "ipython",
    "version": 3
   },
   "file_extension": ".py",
   "mimetype": "text/x-python",
   "name": "python",
   "nbconvert_exporter": "python",
   "pygments_lexer": "ipython3",
   "version": "3.7.0"
  }
 },
 "nbformat": 4,
 "nbformat_minor": 2
}
