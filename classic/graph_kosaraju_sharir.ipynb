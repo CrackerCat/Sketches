{
 "cells": [
  {
   "cell_type": "markdown",
   "metadata": {},
   "source": [
    "# Kosaraju Sharir - Computing strongly connected components"
   ]
  },
  {
   "cell_type": "code",
   "execution_count": 2,
   "metadata": {},
   "outputs": [],
   "source": [
    "from mygraph import Graph\n",
    "import numpy as np"
   ]
  },
  {
   "cell_type": "code",
   "execution_count": 3,
   "metadata": {},
   "outputs": [
    {
     "name": "stdout",
     "output_type": "stream",
     "text": [
      "Help on class Graph in module mygraph:\n",
      "\n",
      "class Graph(builtins.object)\n",
      " |  Graph(nv=1, directed=False)\n",
      " |  \n",
      " |  Minimalistic graph toolbox.\n",
      " |  \n",
      " |  Methods defined here:\n",
      " |  \n",
      " |  __init__(self, nv=1, directed=False)\n",
      " |      Create an empty graph.\n",
      " |  \n",
      " |  __str__(self)\n",
      " |      Return str(self).\n",
      " |  \n",
      " |  a(self)\n",
      " |      Returns adjacency matrix.\n",
      " |  \n",
      " |  add_edge(self, i, j)\n",
      " |      Adds one edge from i to j (and j to i if the graph isn't directed).\n",
      " |  \n",
      " |  add_edges(self, ts)\n",
      " |      Builds a graph from a list of tuples\n",
      " |  \n",
      " |  bfs(self, v=None, target=None, verbose=False)\n",
      " |      Breadth-first exploration, looking for a distance from one vertex to another.\n",
      " |  \n",
      " |  del_edge(self, i, j)\n",
      " |      Deletes edge from i to j (and if undirected, also from j to i).\n",
      " |  \n",
      " |  dfs(self, v=None, visited=None, path=None, topord=None, verbose=False)\n",
      " |      Depth-first search from a given, or random, node. Returns topological sorting from this node.\n",
      " |  \n",
      " |  erase(self)\n",
      " |      Remove all edges from a graph.\n",
      " |  \n",
      " |  isdag(self)\n",
      " |      Checks if there are any cycles in a graph.\n",
      " |  \n",
      " |  n(self)\n",
      " |      Number of vertices + updates nv property.\n",
      " |  \n",
      " |  randomize(self, nedges=None)\n",
      " |      Add random edges to the graph (by default, E = V).\n",
      " |  \n",
      " |  reverse(self)\n",
      " |      Reverse the graph.\n",
      " |  \n",
      " |  rpo(self)\n",
      " |      Reversed Post-Order (DFS-based). Returns a toporder on a DAG, just an RPO on others.\n",
      " |  \n",
      " |  trim_loops(self)\n",
      " |      Removes loops from a graph\n",
      " |  \n",
      " |  urchin(self, n=20)\n",
      " |      Generate a directed graph with high modularity.\n",
      " |  \n",
      " |  ----------------------------------------------------------------------\n",
      " |  Data descriptors defined here:\n",
      " |  \n",
      " |  __dict__\n",
      " |      dictionary for instance variables (if defined)\n",
      " |  \n",
      " |  __weakref__\n",
      " |      list of weak references to the object (if defined)\n",
      "\n"
     ]
    }
   ],
   "source": [
    "help(Graph)"
   ]
  },
  {
   "cell_type": "code",
   "execution_count": 4,
   "metadata": {},
   "outputs": [
    {
     "name": "stdout",
     "output_type": "stream",
     "text": [
      "Graph of 7 edges:\n",
      "0:[0]\n",
      "1:[1]\n",
      "2:[6]\n",
      "3:[4]\n",
      "4:[2, 4, 3]\n",
      "5:[2]\n",
      "6:[]\n"
     ]
    }
   ],
   "source": [
    "def generate(n=20):\n",
    "    \"\"\"Generate a directed graph with high modularity\"\"\"\n",
    "    g = Graph(n,directed=True)\n",
    "    nclusters = np.floor(np.sqrt(n)).astype(int)\n",
    "    orphans = list(range(n))                       # List of nodes without links\n",
    "    for iclust in range(nclusters):\n",
    "        lo = iclust*nclusters\n",
    "        if iclust==nclusters-1:\n",
    "            hi = n\n",
    "        else:\n",
    "            hi = (iclust+1)*nclusters        \n",
    "        for i in range(hi-lo):\n",
    "            node1 = np.random.randint(low=lo,high=hi)\n",
    "            node2 = np.random.randint(low=lo,high=hi)\n",
    "            g.add_edge(node1 , node2)\n",
    "            if node1 in orphans: orphans.remove(node1)\n",
    "            if node2 in orphans: orphans.remove(node2)\n",
    "    for i in orphans:\n",
    "        if np.random.uniform(1)<0.5:\n",
    "            g.add_edge(i, np.random.randint(n))\n",
    "        else:\n",
    "            g.add_edge(np.random.randint(n),i)\n",
    "    return g\n",
    "    \n",
    "# test\n",
    "print(generate(7))"
   ]
  },
  {
   "cell_type": "code",
   "execution_count": 6,
   "metadata": {},
   "outputs": [
    {
     "name": "stdout",
     "output_type": "stream",
     "text": [
      "Graph of 6 edges:\n",
      "0:[]\n",
      "1:[2]\n",
      "2:[3]\n",
      "3:[4, 5]\n",
      "4:[2]\n",
      "5:[]\n"
     ]
    },
    {
     "data": {
      "text/plain": [
       "[(5, [5]), (3, [3, 4, 2]), (1, [1]), (0, [0])]"
      ]
     },
     "execution_count": 6,
     "metadata": {},
     "output_type": "execute_result"
    }
   ],
   "source": [
    "# Try KS\n",
    "\n",
    "def ks(g):\n",
    "    gr = g.reverse()                    # Reverse graph\n",
    "    queue = gr.rpo()                    # Calculate a reverse postoder on it\n",
    "    scc = []                            # This will be a list of Strongly Connected Components\n",
    "    visited = []\n",
    "    while len(queue)>0:\n",
    "        v = queue.pop(0)                # Take first element from the queue (RPO of invG)\n",
    "        this = g.dfs(v,visited=visited) # Do DFS on it, and catch the nodes covered\n",
    "        scc.append((v,this))            # These nodes are a SCC\n",
    "        queue = [q for q in queue if not q in this] # Remove them from the queue\n",
    "        visited += this\n",
    "    return scc\n",
    "\n",
    "# test1\n",
    "g = Graph(directed=True)\n",
    "g.add_edges([[1,2],[2,3],[3,4],[4,2],[3,5]])\n",
    "print(g)\n",
    "ks(g)"
   ]
  },
  {
   "cell_type": "code",
   "execution_count": 7,
   "metadata": {},
   "outputs": [
    {
     "data": {
      "text/plain": [
       "[(29, [29, 24]),\n",
       " (23, [23, 7, 3]),\n",
       " (28, [28, 20, 25, 27]),\n",
       " (26, [26]),\n",
       " (21, [21]),\n",
       " (22, [22, 13]),\n",
       " (19, [19, 15]),\n",
       " (18, [18]),\n",
       " (17, [17]),\n",
       " (16, [16]),\n",
       " (14, [14]),\n",
       " (11, [11]),\n",
       " (12, [12]),\n",
       " (10, [10]),\n",
       " (2, [2, 0]),\n",
       " (1, [1]),\n",
       " (9, [9, 5]),\n",
       " (8, [8, 6]),\n",
       " (4, [4])]"
      ]
     },
     "execution_count": 7,
     "metadata": {},
     "output_type": "execute_result"
    }
   ],
   "source": [
    "# test2\n",
    "g = generate(30)\n",
    "ks(g)"
   ]
  },
  {
   "cell_type": "code",
   "execution_count": 8,
   "metadata": {},
   "outputs": [
    {
     "name": "stdout",
     "output_type": "stream",
     "text": [
      "Graph of 20 edges:\n",
      "0:[1, 2]\n",
      "2:[1, 0]\n",
      "1:[2, 3, 0]\n",
      "3:[1, 16]\n",
      "4:[4, 6]\n",
      "7:[6, 7]\n",
      "6:[7, 4]\n",
      "8:[9, 8]\n",
      "9:[8, 10, 5]\n",
      "10:[10, 9]\n",
      "15:[19, 13]\n",
      "19:[15, 14, 19]\n",
      "13:[15]\n",
      "14:[17, 19]\n",
      "17:[14, 17, 12]\n",
      "18:[18]\n",
      "12:[17]\n",
      "5:[9]\n",
      "11:[11]\n",
      "16:[3]\n"
     ]
    }
   ],
   "source": [
    "g = Graph()\n",
    "g.urchin() # Just a test of random generator (from above) that was moved to graph toolboxs\n",
    "print(g)"
   ]
  }
 ],
 "metadata": {
  "kernelspec": {
   "display_name": "Python 3",
   "language": "python",
   "name": "python3"
  },
  "language_info": {
   "codemirror_mode": {
    "name": "ipython",
    "version": 3
   },
   "file_extension": ".py",
   "mimetype": "text/x-python",
   "name": "python",
   "nbconvert_exporter": "python",
   "pygments_lexer": "ipython3",
   "version": "3.7.0"
  }
 },
 "nbformat": 4,
 "nbformat_minor": 2
}
