{
 "cells": [
  {
   "cell_type": "markdown",
   "metadata": {},
   "source": [
    "# Kosaraju Sharir - Computing strongly connected components"
   ]
  },
  {
   "cell_type": "code",
   "execution_count": 5,
   "metadata": {},
   "outputs": [],
   "source": [
    "from mygraph import Graph\n",
    "import numpy as np"
   ]
  },
  {
   "cell_type": "code",
   "execution_count": 3,
   "metadata": {},
   "outputs": [
    {
     "name": "stdout",
     "output_type": "stream",
     "text": [
      "Help on class Graph in module mygraph:\n",
      "\n",
      "class Graph(builtins.object)\n",
      " |  Graph(nv=1, directed=False)\n",
      " |  \n",
      " |  Minimalistic graph toolbox.\n",
      " |  \n",
      " |  Methods defined here:\n",
      " |  \n",
      " |  __init__(self, nv=1, directed=False)\n",
      " |      Create an empty graph.\n",
      " |  \n",
      " |  __str__(self)\n",
      " |      Return str(self).\n",
      " |  \n",
      " |  a(self)\n",
      " |      Returns adjacency matrix.\n",
      " |  \n",
      " |  add_edge(self, i, j)\n",
      " |      Adds one edge from i to j (and j to i if the graph isn't directed).\n",
      " |  \n",
      " |  add_edges(self, ts)\n",
      " |      Builds a graph from a list of tuples\n",
      " |  \n",
      " |  bfs(self, v=None, target=None, verbose=False)\n",
      " |      Breadth-first exploration, looking for a distance from one vertex to another.\n",
      " |  \n",
      " |  del_edge(self, i, j)\n",
      " |      Deletes edge from i to j (and if undirected, also from j to i).\n",
      " |  \n",
      " |  dfs(self, v=None, visited=None, path=None, topord=None, verbose=False)\n",
      " |      Depth-first search from a given, or random, node. Returns topological sorting from this node.\n",
      " |  \n",
      " |  isdag(self)\n",
      " |      Checks if there are any cycles in a graph.\n",
      " |  \n",
      " |  n(self)\n",
      " |      Number of vertices + updates nv property.\n",
      " |  \n",
      " |  randomize(self, nedges=None)\n",
      " |      Add some random edges to the graph (n_edges==n_nodes by default).\n",
      " |  \n",
      " |  reverse(self)\n",
      " |      Reverse the graph.\n",
      " |  \n",
      " |  rpo(self)\n",
      " |      Reversed Post-Order (DFS-based). Returns a toporder on a DAG, just an RPO on others.\n",
      " |  \n",
      " |  trim_loops(self)\n",
      " |      Removes loops from a graph\n",
      " |  \n",
      " |  ----------------------------------------------------------------------\n",
      " |  Data descriptors defined here:\n",
      " |  \n",
      " |  __dict__\n",
      " |      dictionary for instance variables (if defined)\n",
      " |  \n",
      " |  __weakref__\n",
      " |      list of weak references to the object (if defined)\n",
      "\n"
     ]
    }
   ],
   "source": [
    "help(Graph)"
   ]
  },
  {
   "cell_type": "code",
   "execution_count": 6,
   "metadata": {},
   "outputs": [
    {
     "name": "stdout",
     "output_type": "stream",
     "text": [
      "Graph of 20 edges:\n",
      "0:[8, 1]\n",
      "1:[18, 0]\n",
      "2:[14]\n",
      "3:[10]\n",
      "4:[11]\n",
      "5:[14, 7, 6]\n",
      "6:[8, 5]\n",
      "7:[5]\n",
      "8:[0, 6, 15]\n",
      "9:[12]\n",
      "10:[3, 11]\n",
      "11:[4, 10]\n",
      "12:[9, 12]\n",
      "13:[14]\n",
      "14:[2, 5, 13, 15, 18]\n",
      "15:[8, 14, 17]\n",
      "16:[18]\n",
      "17:[15, 19]\n",
      "18:[1, 16, 14]\n",
      "19:[17, 19]\n"
     ]
    }
   ],
   "source": [
    "def generate(n=20):\n",
    "    \"\"\"Generate a directed graph with high modularity\"\"\"\n",
    "    g = Graph(n)\n",
    "    nclusters = np.floor(np.sqrt(n)).astype(int)\n",
    "    for iclust in range(nclusters):\n",
    "        top = (iclust+1)*nclusters\n",
    "        if iclust==nclusters-1:\n",
    "            top = max(n,top) # Make sure to cover the last node\n",
    "        for i in range(iclust*nclusters, top):\n",
    "            g.add_edge(i, np.random.randint(low=iclust*nclusters, high=max(n,(iclust+1)*nclusters)))\n",
    "    for i in range((nclusters // 2) + 1):\n",
    "        g.add_edge(i*(nclusters+1) % n, (i*(nclusters+1)+1) % n) # Threading as a donut. Not sure if a good idea.\n",
    "    return g\n",
    "    \n",
    "# test\n",
    "print(generate(20))"
   ]
  },
  {
   "cell_type": "code",
   "execution_count": 8,
   "metadata": {},
   "outputs": [
    {
     "name": "stdout",
     "output_type": "stream",
     "text": [
      "[19, 16, 13, 18, 6, 5, 0, 1, 8, 15, 9, 10, 11, 7, 3, 2, 12, 17, 14, 4] [0, 1, 2, 3, 4, 5, 6, 7, 8, 9, 10, 11, 12, 13, 14, 15, 16, 17, 18]\n"
     ]
    },
    {
     "data": {
      "text/plain": [
       "[19, 16, 13, 18, 6, 5, 0, 1, 8, 15, 9, 10, 11, 7, 3, 2, 12, 17, 14, 4]"
      ]
     },
     "execution_count": 8,
     "metadata": {},
     "output_type": "execute_result"
    }
   ],
   "source": [
    "# Try KS\n",
    "\n",
    "def ks(g):\n",
    "    gr = g.reverse()\n",
    "    topo = gr.toporder()\n",
    "    return topo\n",
    "\n",
    "# test1\n"
   ]
  },
  {
   "cell_type": "code",
   "execution_count": null,
   "metadata": {},
   "outputs": [],
   "source": [
    "# test2\n",
    "g = generate(20)\n",
    "ks(g)"
   ]
  }
 ],
 "metadata": {
  "kernelspec": {
   "display_name": "Python 3",
   "language": "python",
   "name": "python3"
  },
  "language_info": {
   "codemirror_mode": {
    "name": "ipython",
    "version": 3
   },
   "file_extension": ".py",
   "mimetype": "text/x-python",
   "name": "python",
   "nbconvert_exporter": "python",
   "pygments_lexer": "ipython3",
   "version": "3.7.3"
  }
 },
 "nbformat": 4,
 "nbformat_minor": 2
}
