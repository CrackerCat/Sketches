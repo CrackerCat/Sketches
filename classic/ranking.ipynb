{
 "cells": [
  {
   "cell_type": "markdown",
   "metadata": {},
   "source": [
    "# Ranking elements"
   ]
  },
  {
   "cell_type": "code",
   "execution_count": 4,
   "metadata": {},
   "outputs": [],
   "source": [
    "import numpy as np"
   ]
  },
  {
   "cell_type": "code",
   "execution_count": 5,
   "metadata": {},
   "outputs": [
    {
     "name": "stdout",
     "output_type": "stream",
     "text": [
      "[1.1, 9.1, 4.1, 3.1, 12.1, 6.1]\n"
     ]
    }
   ],
   "source": [
    "a = [1,9,4,3,12,6]\n",
    "a = [x+0.1 for x in a]\n",
    "print(a)"
   ]
  },
  {
   "cell_type": "code",
   "execution_count": 6,
   "metadata": {},
   "outputs": [
    {
     "name": "stdout",
     "output_type": "stream",
     "text": [
      "[0 3 2 5 1 4]\n"
     ]
    },
    {
     "data": {
      "text/plain": [
       "[0, 4, 2, 1, 5, 3]"
      ]
     },
     "execution_count": 6,
     "metadata": {},
     "output_type": "execute_result"
    }
   ],
   "source": [
    "# Ugly, yet using numpy\n",
    "b = np.array(a).argsort()\n",
    "print(b)\n",
    "c = [0]*len(b)\n",
    "for i in range(len(b)):\n",
    "    c[b[i]] = i\n",
    "c"
   ]
  },
  {
   "cell_type": "code",
   "execution_count": 7,
   "metadata": {},
   "outputs": [
    {
     "data": {
      "text/plain": [
       "array([0, 4, 2, 1, 5, 3], dtype=int64)"
      ]
     },
     "execution_count": 7,
     "metadata": {},
     "output_type": "execute_result"
    }
   ],
   "source": [
    "# Smarter, using numpy\n",
    "np.array(a).argsort().argsort()"
   ]
  },
  {
   "cell_type": "code",
   "execution_count": 8,
   "metadata": {},
   "outputs": [
    {
     "data": {
      "text/plain": [
       "[0, 4, 2, 1, 5, 3]"
      ]
     },
     "execution_count": 8,
     "metadata": {},
     "output_type": "execute_result"
    }
   ],
   "source": [
    "# Without numpy, but with same logic, except it doesn't handle repetitions\n",
    "keysort = lambda x: [x.index(element) for element in sorted(x)]\n",
    "keysort(keysort(a))"
   ]
  },
  {
   "cell_type": "code",
   "execution_count": 9,
   "metadata": {},
   "outputs": [
    {
     "data": {
      "text/plain": [
       "[0, 4, 2, 1, 5, 3]"
      ]
     },
     "execution_count": 9,
     "metadata": {},
     "output_type": "execute_result"
    }
   ],
   "source": [
    "# With a function, and proper handling of repetitions\n",
    "def rank(x):\n",
    "    out = [0]*len(x)\n",
    "    y = sorted(x)\n",
    "    for i in range(len(x)):\n",
    "        out[i] = y.index(x[i])\n",
    "        y[y.index(x[i])] = None\n",
    "    return out\n",
    "\n",
    "rank(a)"
   ]
  },
  {
   "cell_type": "code",
   "execution_count": 10,
   "metadata": {},
   "outputs": [
    {
     "data": {
      "text/plain": [
       "[0, 4, 2, 1, 5, 3]"
      ]
     },
     "execution_count": 10,
     "metadata": {},
     "output_type": "execute_result"
    }
   ],
   "source": [
    "# Alternative keysort (should be faster)\n",
    "keysort = lambda x: [i for _,i in sorted([(x[i],i) for i in range(len(x))])]\n",
    "keysort(keysort(a))"
   ]
  },
  {
   "cell_type": "code",
   "execution_count": 16,
   "metadata": {},
   "outputs": [
    {
     "data": {
      "text/plain": [
       "[0, 4, 2, 1, 5, 3]"
      ]
     },
     "execution_count": 16,
     "metadata": {},
     "output_type": "execute_result"
    }
   ],
   "source": [
    "# Same without double sort but with an ugly loop\n",
    "t = [i for _,i in sorted([(a[i],i) for i in range(len(a))])]\n",
    "out = [0]*len(t)\n",
    "for i in range(len(t)):\n",
    "    out[t[i]] = i\n",
    "out"
   ]
  },
  {
   "cell_type": "code",
   "execution_count": 19,
   "metadata": {},
   "outputs": [
    {
     "data": {
      "text/plain": [
       "[0, 4, 2, 1, 5, 3]"
      ]
     },
     "execution_count": 19,
     "metadata": {},
     "output_type": "execute_result"
    }
   ],
   "source": [
    "# Same without double sort but with an ugly loop\n",
    "t = [i for _,i in sorted([(a[i],i) for i in range(len(a))])]\n",
    "[j for i in range(len(t)) for j in range(len(t)) if i==t[j]]"
   ]
  },
  {
   "cell_type": "code",
   "execution_count": 20,
   "metadata": {},
   "outputs": [
    {
     "data": {
      "text/plain": [
       "[0, 4, 2, 1, 5, 3]"
      ]
     },
     "execution_count": 20,
     "metadata": {},
     "output_type": "execute_result"
    }
   ],
   "source": [
    "# Same, but with maps\n",
    "t = list(map(lambda x:x[1],sorted(zip(a,range(len(a))))))\n",
    "[j for i in range(len(t)) for j in range(len(t)) if i==t[j]]"
   ]
  },
  {
   "cell_type": "markdown",
   "metadata": {},
   "source": [
    "### Sorting one list by keys from the other\n",
    "\n",
    "Now a test for a related, but simpler problem. Two lists, we need to sort one according to the sequence in the other."
   ]
  },
  {
   "cell_type": "code",
   "execution_count": 15,
   "metadata": {},
   "outputs": [],
   "source": [
    "import time"
   ]
  },
  {
   "cell_type": "code",
   "execution_count": 46,
   "metadata": {},
   "outputs": [
    {
     "name": "stdout",
     "output_type": "stream",
     "text": [
      "Total times, for LC and MAP: 7.173242568969727 6.424499034881592\n",
      "Difference: 10%\n"
     ]
    }
   ],
   "source": [
    "ntries = 10000\n",
    "nelements = 1000\n",
    "time1 = time2 = 0\n",
    "item_list = list(range(nelements))\n",
    "for i in range(ntries):\n",
    "    value_list = np.random.randint(size=nelements,low=0,high=1000)\n",
    "    tic = time.time()\n",
    "    out1 = [item_list[j] for _,j in sorted([(value_list[i],i) for i in range(len(value_list))])]\n",
    "    time1 += time.time()-tic\n",
    "    tic = time.time()\n",
    "    out2 = list(map(lambda x: x[1], sorted(zip(value_list, item_list))))\n",
    "    time2 += time.time()-tic\n",
    "    assert out1==out2\n",
    "    \n",
    "print('Total times, for LC and MAP:', time1, time2)\n",
    "print(f'Difference: {int((time1-time2)/time1*100)}%')"
   ]
  },
  {
   "cell_type": "markdown",
   "metadata": {},
   "source": [
    "So, an interesting finding. `list(map(lambda`-based solution is consitently about 10% faster than a list-comprehension-based one!"
   ]
  }
 ],
 "metadata": {
  "kernelspec": {
   "display_name": "Python 3",
   "language": "python",
   "name": "python3"
  },
  "language_info": {
   "codemirror_mode": {
    "name": "ipython",
    "version": 3
   },
   "file_extension": ".py",
   "mimetype": "text/x-python",
   "name": "python",
   "nbconvert_exporter": "python",
   "pygments_lexer": "ipython3",
   "version": "3.7.6"
  }
 },
 "nbformat": 4,
 "nbformat_minor": 2
}
