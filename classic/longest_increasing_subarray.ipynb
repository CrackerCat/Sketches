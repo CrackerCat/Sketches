{
 "cells": [
  {
   "cell_type": "markdown",
   "metadata": {},
   "source": [
    "# Longest increasing subarray\n",
    "\n",
    "Given array, find a longest subarray of increasing values."
   ]
  },
  {
   "cell_type": "code",
   "execution_count": 57,
   "metadata": {},
   "outputs": [
    {
     "data": {
      "text/plain": [
       "4"
      ]
     },
     "execution_count": 57,
     "metadata": {},
     "output_type": "execute_result"
    }
   ],
   "source": [
    "def hiinc(x):\n",
    "    \"\"\"Simple O(N2) solution.\"\"\"\n",
    "    best = [0]*len(x)                           # Length of best sequence for every point\n",
    "    winner = 0                                  # Absolute best so far\n",
    "    for i in range(len(x)):\n",
    "        m = i                                   # We'll be looking for argmaxmax(x) among x < x_i\n",
    "        for j in range(i):\n",
    "            if best[j]>=best[m] and x[j]<x[i]: # Among equals, select the leftmost\n",
    "                m = j\n",
    "        if m==i: # We found a new absolute minimum\n",
    "            best[i] = 1\n",
    "        else:\n",
    "            best[i] = best[m]+1\n",
    "        if best[i]>winner:\n",
    "            winner = best[i]\n",
    "    return winner\n",
    "        \n",
    "a = [3,4,4,1,9,1,2,0,9,4,5]\n",
    "hiinc(a)"
   ]
  },
  {
   "cell_type": "markdown",
   "metadata": {},
   "source": [
    "Now same, but with the magic alrogithm.\n",
    "\n",
    "The key part of this algo is an array (`best`) such that `best[i]` is the value of the last element in the most promising (that with lowest last value) sequence of length i. Like, our current star sequence of length i."
   ]
  },
  {
   "cell_type": "code",
   "execution_count": 103,
   "metadata": {},
   "outputs": [
    {
     "name": "stdout",
     "output_type": "stream",
     "text": [
      "4\n",
      "4\n"
     ]
    }
   ],
   "source": [
    "def hiinc2(x):\n",
    "    \"\"\"Same, but O(N lg N).\"\"\"\n",
    "    best = []                    # The magic array (as described above)\n",
    "    for i in range(len(x)):\n",
    "        l = m = 0                # Special binary search for largest best still < x_i\n",
    "        r = len(best)\n",
    "        if not best or x[i] > best[-1]:\n",
    "            best.append(x[i])\n",
    "            continue\n",
    "        while l<r:               # Binary searc always finds an element that is >= target\n",
    "            m = (l+r) // 2                \n",
    "            if best[m] < x[i]:\n",
    "                l = m+1\n",
    "            else:\n",
    "                r = m\n",
    "        if best[l]!=x[i]:        # But if element==target, there's nothing to do\n",
    "            best[l] = x[i]       # Yet if it's larger, it can be reduced\n",
    "    return len(best)\n",
    "\n",
    "a = [3,4,4,1,9,1,2,0,9,4,5]\n",
    "print(hiinc(a))\n",
    "print(hiinc2(a))"
   ]
  },
  {
   "cell_type": "code",
   "execution_count": 104,
   "metadata": {},
   "outputs": [
    {
     "name": "stdout",
     "output_type": "stream",
     "text": [
      "yyyyyyyyyyyyyyyyyyyyyyyyyyyyyyyyyyyyyyyyyyyyyyyyyyyyyyyyyyyyyyyyyyyyyyyyyyyyyyyyyyyyyyyyyyyyyyyyyyyy"
     ]
    }
   ],
   "source": [
    "import numpy as np\n",
    "\n",
    "for i in range(100):\n",
    "    seq = np.random.randint(low=0, high=100, size=100)\n",
    "    if hiinc(seq)==hiinc2(seq):\n",
    "        print('y', end='')\n",
    "    else:\n",
    "        print('N', end='')"
   ]
  }
 ],
 "metadata": {
  "kernelspec": {
   "display_name": "Python 3",
   "language": "python",
   "name": "python3"
  },
  "language_info": {
   "codemirror_mode": {
    "name": "ipython",
    "version": 3
   },
   "file_extension": ".py",
   "mimetype": "text/x-python",
   "name": "python",
   "nbconvert_exporter": "python",
   "pygments_lexer": "ipython3",
   "version": "3.7.6"
  }
 },
 "nbformat": 4,
 "nbformat_minor": 2
}
