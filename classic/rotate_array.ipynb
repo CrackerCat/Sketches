{
 "cells": [
  {
   "cell_type": "markdown",
   "metadata": {},
   "source": [
    "# Rotate an array in-place\n",
    "\n",
    "By \"rotating an array\" we mean cyclically moving all elements of an array by k points."
   ]
  },
  {
   "cell_type": "code",
   "execution_count": 48,
   "metadata": {},
   "outputs": [
    {
     "data": {
      "text/plain": [
       "12"
      ]
     },
     "execution_count": 48,
     "metadata": {},
     "output_type": "execute_result"
    }
   ],
   "source": [
    "def gcd(a,b):\n",
    "    \"\"\"Greatest common divisor\"\"\"\n",
    "    if b==0: return a\n",
    "    return gcd(b, a % b)\n",
    "\n",
    "gcd(60,24)"
   ]
  },
  {
   "cell_type": "code",
   "execution_count": 58,
   "metadata": {},
   "outputs": [
    {
     "name": "stdout",
     "output_type": "stream",
     "text": [
      "[2, 3, 4, 5, 6, 7, 1]\n",
      "[2, 3, 4, 5, 6, 7, 1]\n"
     ]
    }
   ],
   "source": [
    "def rotate_check(x,k):\n",
    "    \"\"\"Rotate, but not in-place\"\"\"\n",
    "    k = -k % len(x)\n",
    "    y = x[k:]+x[:k]\n",
    "    #for i in range(len(x)):\\\n",
    "    #    x[i] = y[i]\n",
    "    return y\n",
    "\n",
    "def rotate(x, k):\n",
    "    \"\"\"Rotate x by k right.\"\"\"\n",
    "    k = k % len(x)                  # Make k small for right rotations, positive for left rotations\n",
    "    d = gcd(len(x),k)               # For len(x) in prime juggling is easier\n",
    "    for j in range(d):              # If len(x) is not mutually prime with k, a loop by step k doesn't cover all elements\n",
    "        i = j\n",
    "        temp = x[i]                 # Instead we need to start several times\n",
    "        while True:\n",
    "            i = (i + k) % len(x)    # And then step through the array\n",
    "            x[i],temp = temp,x[i]   # ...exchanging elements in place.\n",
    "            if i==j:\n",
    "                break               # Once we return to where we started, the sub-loop is over.\n",
    "    return\n",
    "\n",
    "x = [1,2,3,4,5,6,7]\n",
    "k = -8\n",
    "print(rotate_check(x,k))\n",
    "rotate(x,k)\n",
    "print(x)"
   ]
  },
  {
   "cell_type": "code",
   "execution_count": 57,
   "metadata": {},
   "outputs": [],
   "source": [
    "# Tester\n",
    "n = 12\n",
    "x = list(range(n))\n",
    "for k in range(n):\n",
    "    xcopy = x.copy()\n",
    "    rotate(xcopy,k)\n",
    "    if xcopy != rotate_check(x,k):\n",
    "        print(f'Oops for value {k}: got {xcopy} instead of {rotate_check(x,k)}')"
   ]
  }
 ],
 "metadata": {
  "kernelspec": {
   "display_name": "Python 3",
   "language": "python",
   "name": "python3"
  },
  "language_info": {
   "codemirror_mode": {
    "name": "ipython",
    "version": 3
   },
   "file_extension": ".py",
   "mimetype": "text/x-python",
   "name": "python",
   "nbconvert_exporter": "python",
   "pygments_lexer": "ipython3",
   "version": "3.7.6"
  }
 },
 "nbformat": 4,
 "nbformat_minor": 4
}
