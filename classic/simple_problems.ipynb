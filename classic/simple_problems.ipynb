{
 "cells": [
  {
   "cell_type": "markdown",
   "metadata": {},
   "source": [
    "# Some classic simple problems"
   ]
  },
  {
   "cell_type": "markdown",
   "metadata": {},
   "source": [
    "### Are all elements in a list the same?"
   ]
  },
  {
   "cell_type": "code",
   "execution_count": 4,
   "metadata": {},
   "outputs": [
    {
     "name": "stdout",
     "output_type": "stream",
     "text": [
      "True\n",
      "False\n",
      "True\n",
      "True\n"
     ]
    }
   ],
   "source": [
    "def allsame(x):\n",
    "    return x[1:]==x[:-1]\n",
    "\n",
    "print(allsame([1,1,1,1,1]))\n",
    "print(allsame([1,1,1,2,1]))\n",
    "print(allsame([1]))\n",
    "print(allsame([]))"
   ]
  },
  {
   "cell_type": "markdown",
   "metadata": {},
   "source": [
    "### Remove duplicates from a sorted list (in-place)\n",
    "\n",
    "Note that if you remove stuff in-place, you only shift pointer if you didn't remove it. If you did, no shift.\n",
    "\n",
    "In another language (Java?) where you cannot simply do `s.pop()`, you'd run through a string with two counters, and copy things from the right one to the left one only if it is worth it. So left counter would gradually lag. And then return the length of a reasonable part of the array. (In Java arrays are not resizeable)."
   ]
  },
  {
   "cell_type": "code",
   "execution_count": 13,
   "metadata": {},
   "outputs": [],
   "source": [
    "l = [1,1,1,2,2,3,3,4,5,5,5]"
   ]
  },
  {
   "cell_type": "code",
   "execution_count": 14,
   "metadata": {},
   "outputs": [
    {
     "name": "stdout",
     "output_type": "stream",
     "text": [
      "[1, 2, 3, 4, 5]\n"
     ]
    }
   ],
   "source": [
    "# Requires the list to be sorted\n",
    "def remove_duplicates(nums):\n",
    "        i = 1\n",
    "        while i<len(nums):\n",
    "            if nums[i]==nums[i-1]:\n",
    "                nums.pop(i)\n",
    "            else:\n",
    "                i += 1\n",
    "\n",
    "remove_duplicates(l)\n",
    "print(l)"
   ]
  },
  {
   "cell_type": "code",
   "execution_count": 22,
   "metadata": {},
   "outputs": [
    {
     "data": {
      "text/plain": [
       "[1, 2, 3, 4, 5]"
      ]
     },
     "execution_count": 22,
     "metadata": {},
     "output_type": "execute_result"
    }
   ],
   "source": [
    "# Same but with list comprehensions (still requires the list to be sorted)\n",
    "[l[0]] + [l[i] for i in range(1,len(l)) if l[i]!=l[i-1]]"
   ]
  },
  {
   "cell_type": "code",
   "execution_count": 21,
   "metadata": {},
   "outputs": [
    {
     "data": {
      "text/plain": [
       "[1, 2, 3, 4, 5]"
      ]
     },
     "execution_count": 21,
     "metadata": {},
     "output_type": "execute_result"
    }
   ],
   "source": [
    "# Native Python one-liner for unique() :)\n",
    "list(set(l))"
   ]
  },
  {
   "cell_type": "code",
   "execution_count": 33,
   "metadata": {},
   "outputs": [
    {
     "data": {
      "text/plain": [
       "[1, 2, 3, 4, 5]"
      ]
     },
     "execution_count": 33,
     "metadata": {},
     "output_type": "execute_result"
    }
   ],
   "source": [
    "# Another ridiculous approach (also requires the list to be sorted)\n",
    "[l[j] for j in range(len(l)) if len([l[i] for i in range(j+1) if l[i]==l[j]])==1]"
   ]
  },
  {
   "cell_type": "code",
   "execution_count": 35,
   "metadata": {},
   "outputs": [
    {
     "data": {
      "text/plain": [
       "[1, 2, 3, 4, 5]"
      ]
     },
     "execution_count": 35,
     "metadata": {},
     "output_type": "execute_result"
    }
   ],
   "source": [
    "# A variation on the same theme, but now true unique (not necessarily sorted)\n",
    "# A one-liner, but O(N2) because of in array.\n",
    "[l[i] for i in range(len(l)) if l[i] not in l[:i]]"
   ]
  },
  {
   "cell_type": "markdown",
   "metadata": {},
   "source": [
    "### Check if a string is a palindrome\n",
    "\n",
    "Ignore everything but alphanumerical characters. Ignore case also."
   ]
  },
  {
   "cell_type": "code",
   "execution_count": 6,
   "metadata": {},
   "outputs": [
    {
     "name": "stdout",
     "output_type": "stream",
     "text": [
      "True\n",
      "False\n"
     ]
    }
   ],
   "source": [
    "def is_palindrome(s):\n",
    "    if len(s)==0: return True\n",
    "    l = 0\n",
    "    r = len(s)-1\n",
    "    good = '1234567890qwertyuiopasdfghjklzxcvbnm'\n",
    "    while l<r:\n",
    "        if s[l].lower() not in good:\n",
    "            l += 1\n",
    "            continue\n",
    "        if s[r].lower() not in good:\n",
    "            r -= 1\n",
    "            continue\n",
    "        if s[l].lower()!=s[r].lower():\n",
    "            return False\n",
    "        l += 1\n",
    "        r -= 1\n",
    "    return True\n",
    "\n",
    "print(is_palindrome(\"A man, a plan, a canal: Panama\"))\n",
    "print(is_palindrome(\"A man, a plan, a canol: Panama\"))"
   ]
  },
  {
   "cell_type": "markdown",
   "metadata": {},
   "source": [
    "### In-place words reversal\n",
    "\n",
    "You get a string of words. Create a string like that, but all words are reversed. Ignore the punctuation, I guess.\n",
    "\n",
    "Despite its simplisity, there are several issues with this task:\n",
    "* A fencepost problem with this i,j situation. It may feel logical to leave the left pointer at a non-alphanumerical symbol (aka space), but then it doesn't quite work for the very first word (or otherwise you have to init it at -1, which is awkward)\n",
    "* Another aspect of it: if L is including, while R is not, then during the turning, L becomes L+k, but R becomes R-k-1 (note this -1). In a hurry one can miss that.\n",
    "* `ij` was actually a bad choice here, considering that I actually used `ji`. Either do `ij`, or `lr`.\n"
   ]
  },
  {
   "cell_type": "code",
   "execution_count": 24,
   "metadata": {},
   "outputs": [
    {
     "data": {
      "text/plain": [
       "'sgoD reven tae skcits.'"
      ]
     },
     "execution_count": 24,
     "metadata": {},
     "output_type": "execute_result"
    }
   ],
   "source": [
    "def reverse_words(s):\n",
    "    if len(s)==0: return ''\n",
    "    good = '1234567890qwertyuiopasdfghjklzxcvbnm'\n",
    "    j = 0\n",
    "    sl = list(s)\n",
    "    for i in range(len(sl)):\n",
    "        if sl[i].lower() not in good: # A word is over\n",
    "            for k in range((i-j) // 2):\n",
    "                sl[j+k],sl[i-k-1] = sl[i-k-1],s[j+k]\n",
    "            j = i+1\n",
    "    return ''.join(sl)\n",
    "\n",
    "reverse_words(\"Dogs never eat sticks.\")"
   ]
  }
 ],
 "metadata": {
  "kernelspec": {
   "display_name": "Python 3",
   "language": "python",
   "name": "python3"
  },
  "language_info": {
   "codemirror_mode": {
    "name": "ipython",
    "version": 3
   },
   "file_extension": ".py",
   "mimetype": "text/x-python",
   "name": "python",
   "nbconvert_exporter": "python",
   "pygments_lexer": "ipython3",
   "version": "3.7.6"
  }
 },
 "nbformat": 4,
 "nbformat_minor": 2
}
