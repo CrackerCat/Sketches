{
 "cells": [
  {
   "cell_type": "markdown",
   "metadata": {},
   "source": [
    "# Priority queue\n",
    "\n",
    "Main point: like a stack, but ordered, in the sense that we put things in randomly, but pop() them always in order, from high priority to low priority. If we put() it only once, and popped it only once, we would have just sorted the thing, but we want something to which we can add stuff as it arises, and yet still always pop() the top priority element, at all times.\n",
    "\n",
    "I will be implementing it so that high priotity = later letters (z has higher priority over a) as that's what textbooks seem to do in most cases. In this case the parent node is always larger (later in the alphabet) than its children.\n",
    "\n",
    "The 0th (aka first for normal people) element is kept empty, which seems stupid until you realize that this way the children of element i lie exactly at 2i and 2i+1."
   ]
  },
  {
   "cell_type": "code",
   "execution_count": 1,
   "metadata": {},
   "outputs": [
    {
     "name": "stdout",
     "output_type": "stream",
     "text": [
      "[0, 'x', 't', 't', 'r', 'r', 'c', 'a', 'i', 'o', 'c', 'o']\n"
     ]
    },
    {
     "ename": "AttributeError",
     "evalue": "'pq' object has no attribute 'insert'",
     "output_type": "error",
     "traceback": [
      "\u001b[1;31m---------------------------------------------------------------------------\u001b[0m",
      "\u001b[1;31mAttributeError\u001b[0m                            Traceback (most recent call last)",
      "\u001b[1;32m<ipython-input-1-6432a774d6d3>\u001b[0m in \u001b[0;36m<module>\u001b[1;34m\u001b[0m\n\u001b[0;32m     64\u001b[0m \u001b[0ma\u001b[0m \u001b[1;33m=\u001b[0m \u001b[0mpq\u001b[0m\u001b[1;33m(\u001b[0m\u001b[0mlist\u001b[0m\u001b[1;33m(\u001b[0m\u001b[1;34m'toxic carrot'\u001b[0m\u001b[1;33m)\u001b[0m\u001b[1;33m)\u001b[0m\u001b[1;33m\u001b[0m\u001b[1;33m\u001b[0m\u001b[0m\n\u001b[0;32m     65\u001b[0m \u001b[0mprint\u001b[0m\u001b[1;33m(\u001b[0m\u001b[0ma\u001b[0m\u001b[1;33m)\u001b[0m\u001b[1;33m\u001b[0m\u001b[1;33m\u001b[0m\u001b[0m\n\u001b[1;32m---> 66\u001b[1;33m \u001b[0ma\u001b[0m\u001b[1;33m.\u001b[0m\u001b[0minsert\u001b[0m\u001b[1;33m(\u001b[0m\u001b[1;34m'd'\u001b[0m\u001b[1;33m)\u001b[0m\u001b[1;33m\u001b[0m\u001b[1;33m\u001b[0m\u001b[0m\n\u001b[0m\u001b[0;32m     67\u001b[0m \u001b[0mprint\u001b[0m\u001b[1;33m(\u001b[0m\u001b[0ma\u001b[0m\u001b[1;33m)\u001b[0m\u001b[1;33m\u001b[0m\u001b[1;33m\u001b[0m\u001b[0m\n\u001b[0;32m     68\u001b[0m \u001b[0mprint\u001b[0m\u001b[1;33m(\u001b[0m\u001b[0ma\u001b[0m\u001b[1;33m.\u001b[0m\u001b[0mpop\u001b[0m\u001b[1;33m(\u001b[0m\u001b[1;36m4\u001b[0m\u001b[1;33m)\u001b[0m\u001b[1;33m)\u001b[0m\u001b[1;33m\u001b[0m\u001b[1;33m\u001b[0m\u001b[0m\n",
      "\u001b[1;31mAttributeError\u001b[0m: 'pq' object has no attribute 'insert'"
     ]
    }
   ],
   "source": [
    "# Annotated version\n",
    "\n",
    "class pq():\n",
    "    \"\"\"Max priority queue.\"\"\"\n",
    "    def __init__(self, init=[]):\n",
    "        self.x = [0]\n",
    "        self.last = 0\n",
    "        for i in init:\n",
    "            self.add(i)\n",
    "        \n",
    "    def __str__(self):\n",
    "        #return ' '.join(str(self.x))\n",
    "        return str(self.x)\n",
    "    \n",
    "    def feed(self,a):\n",
    "        \"\"\"Add more than one element at once, from either str or array.\"\"\"\n",
    "        for i in a:\n",
    "            self.add(i)\n",
    "    \n",
    "    def add(self,a):\n",
    "        self.x.append(a)\n",
    "        self.last += 1\n",
    "        self._swim(self.last)\n",
    "    \n",
    "    def swap(self,i,j):\n",
    "        (self.x[i] , self.x[j]) = (self.x[j] , self.x[i])\n",
    "        \n",
    "    def pop(self,n=1):\n",
    "        if n>1:                                            # Not a part of the algo; I just want to automate testing\n",
    "            return ''.join([self.pop() for i in range(min(n,self.last))]) # By removing more than 1 element at once\n",
    "        out = self.x[1]\n",
    "        self.swap(1,self.last) # As we cannot have holes in the tree, first swap the doomed element wiht the tail\n",
    "        del self.x[self.last]  # Now remove it and clean up the mess. (Isn't it strange that del isn't a method?)\n",
    "        self.last -= 1\n",
    "        self._sink(1)       # restore tree integrity (as now we have a small element on top)\n",
    "        return out\n",
    "    \n",
    "    def _sink(self,i):\n",
    "        while i*2 <= self.last:\n",
    "            j = i*2                                       # First consider left kid.\n",
    "            if (j<self.last) and (self.x[j]<self.x[j+1]): # If this node has 2 children, and left < right,\n",
    "                j += 1                                    # ..switch to the right one (larger one)\n",
    "            if (self.x[j]<=self.x[i]): # If current is larger than the largest kid: no need to go further\n",
    "                break\n",
    "            self.swap(i,j) # Current node is smaller than its largest kid, so sink it\n",
    "            i = j\n",
    "        \n",
    "    def _swim(self,i):\n",
    "        while i>1 and self.x[i//2]<self.x[i]: # While parent exist, and it's smaller than you, ascend.\n",
    "            self.swap(i//2,i)\n",
    "            i //= 2\n",
    "            \n",
    "    def visualize(self,i=1,level=1):\n",
    "        # Depth-first traversal of the binary tree\n",
    "        for _ in range(level-1): \n",
    "            print('|',end='')\n",
    "        print(self.x[i])\n",
    "        if i*2 <= self.last:\n",
    "            self.visualize(i*2,level+1)\n",
    "        if i*2+1 <= self.last:\n",
    "            self.visualize(i*2+1,level+1)\n",
    "            \n",
    "        \n",
    "a = pq(list('toxic carrot'))\n",
    "print(a)\n",
    "a.add('d')\n",
    "print(a)\n",
    "print(a.pop(4))\n",
    "print(a)\n",
    "print(a.pop(4))\n",
    "print(a)\n",
    "a.visualize()\n",
    "a.feed('lazy parrots are spherical')\n",
    "print(a)\n",
    "print(a.pop(9))\n",
    "print(a)\n",
    "print(a.pop(100))\n",
    "print(a)"
   ]
  },
  {
   "cell_type": "markdown",
   "metadata": {},
   "source": [
    "### Notes:\n",
    "\n",
    "* We don't know for sure whether the left or the right branch has a smaller value, so we have to check it while swimming down. I'm guessing one could also order them at construction phase (while swimming up), which would have simplified swimming down. But probably not much of a difference here.\n",
    "* IRL in languages with memory allocation you wouldn't want to change array size with every deletion; instead you'd do stardard \"array resize\" if it gets too tight (next element doesn't fit) or too loose (say, more than half of the array is empty).\n",
    "* Terniary (and higher order) trees are apparently also used in practice. Not sure why somebody would do it though. What's the benefit? Not clear.\n",
    "* May be used for sorting (**heapsort**; apparently runs in 2(n*lg(n) + n). Two tricks here: \n",
    " 1. instead of repeatedly running insert(), it's better to just place the list there, and then \"heapify\" it by gowing through all nodes with kids (last//2 and lower), right-to-left, \"sinking\" (swimdown) if necessary\n",
    " 2. then we repeatedly do pop(), and place former max instead of the former last element (so heap scrolls to the left, while sorted array replaces it to the right, all in-place)"
   ]
  }
 ],
 "metadata": {
  "kernelspec": {
   "display_name": "Python 3",
   "language": "python",
   "name": "python3"
  },
  "language_info": {
   "codemirror_mode": {
    "name": "ipython",
    "version": 3
   },
   "file_extension": ".py",
   "mimetype": "text/x-python",
   "name": "python",
   "nbconvert_exporter": "python",
   "pygments_lexer": "ipython3",
   "version": "3.7.6"
  }
 },
 "nbformat": 4,
 "nbformat_minor": 2
}
