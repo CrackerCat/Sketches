{
 "cells": [
  {
   "cell_type": "markdown",
   "metadata": {},
   "source": [
    "# Red-Black tree"
   ]
  },
  {
   "cell_type": "markdown",
   "metadata": {},
   "source": [
    "We'll start with a basic tree."
   ]
  },
  {
   "cell_type": "code",
   "execution_count": 16,
   "metadata": {},
   "outputs": [
    {
     "name": "stdout",
     "output_type": "stream",
     "text": [
      "5:five(3:three(None, 4:dog(None, None)), None)\n",
      "dog\n"
     ]
    }
   ],
   "source": [
    "class Node:\n",
    "    \"\"\"BST node.\"\"\"\n",
    "    def __init__(self, key, value):\n",
    "        self.key = key\n",
    "        self.value = value\n",
    "        self.left =  None # Left and right branches\n",
    "        self.right = None\n",
    "        \n",
    "    def __str__(self):\n",
    "        return f\"{self.key}:{self.value}({str(self.left)})({str(self.right)})\"\n",
    "    \n",
    "    def write(self,key,value):\n",
    "        if key==self.key:\n",
    "            self.value = value\n",
    "        elif key<self.key:\n",
    "            if self.left is None:   self.left = Node(key,value)\n",
    "            else:                   self.left.write(key,value)\n",
    "        else:\n",
    "            if self.right is None:   self.right = Node(key,value)\n",
    "            else:                    self.right.write(key,value)\n",
    "                \n",
    "    def read(self,key):\n",
    "        if key==self.key:      return self.value\n",
    "        if key< self.key:\n",
    "            if self.left is None: return None\n",
    "            return self.left.read(key)\n",
    "        else:\n",
    "            if self.right is None: return None\n",
    "            return self.right.read(key)\n",
    "\n",
    "class BH:\n",
    "    def __init__(self):\n",
    "        self.root = None\n",
    "        \n",
    "    def __str__(self):\n",
    "        return str(self.root)\n",
    "    \n",
    "    def write(self,key,value):\n",
    "        if self.root==None: self.root = Node(key,value) # Special case for the very first node\n",
    "        else: self.root.write(key,value)\n",
    "            \n",
    "    def read(self,key):\n",
    "        if self.root==None: return None\n",
    "        return self.root.read(key)\n",
    "            \n",
    "# Test\n",
    "t = Tree()\n",
    "t.add(5, 'five')\n",
    "t.add(3,'three')\n",
    "t.add(4,'dog')\n",
    "print(t)\n",
    "print(t.find(4))"
   ]
  }
 ],
 "metadata": {
  "kernelspec": {
   "display_name": "Python 3",
   "language": "python",
   "name": "python3"
  },
  "language_info": {
   "codemirror_mode": {
    "name": "ipython",
    "version": 3
   },
   "file_extension": ".py",
   "mimetype": "text/x-python",
   "name": "python",
   "nbconvert_exporter": "python",
   "pygments_lexer": "ipython3",
   "version": "3.7.6"
  }
 },
 "nbformat": 4,
 "nbformat_minor": 4
}
