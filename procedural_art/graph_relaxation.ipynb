{
 "cells": [
  {
   "cell_type": "markdown",
   "metadata": {},
   "source": [
    "# Visual relaxation of a graph"
   ]
  },
  {
   "cell_type": "code",
   "execution_count": 1,
   "metadata": {},
   "outputs": [],
   "source": [
    "import numpy as np\n",
    "import matplotlib.pyplot as plt"
   ]
  },
  {
   "cell_type": "code",
   "execution_count": 279,
   "metadata": {},
   "outputs": [],
   "source": [
    "class Graph:\n",
    "    def __init__(self, gdict=None, xyarray=None):\n",
    "        if gdict is not None:\n",
    "            self.gdict = gdict\n",
    "        else:\n",
    "            self.gdict = {}\n",
    "        self.xy = {}\n",
    "        if xyarray is not None:\n",
    "            for i,_ in self.gdict.items():\n",
    "                self.xy[i] = xyarray[i,]\n",
    "                \n",
    "    def dist(self,i,j):\n",
    "        return np.sqrt(np.square(self.xy[i][0]-self.xy[j][0]) + np.square(self.xy[i][1]-self.xy[j][1]))\n",
    "\n",
    "    def plot(self):\n",
    "        for i,val in self.gdict.items():\n",
    "            for j in val:\n",
    "                plt.plot([self.xy[i][0], self.xy[j][0]], [self.xy[i][1], self.xy[j][1]], 'k.-')\n",
    "        \n",
    "    def splice(self, i,j, newxy=None):\n",
    "        \"\"\"Add a point between two existing points.\"\"\"\n",
    "        self.gdict[i].remove(j)\n",
    "        self.gdict[j].remove(i)\n",
    "        k = max(self.gdict.keys())+1\n",
    "        self.gdict[k] = [i,j]\n",
    "        self.gdict[i].append(k)\n",
    "        self.gdict[j].append(k)\n",
    "        if newxy is None:\n",
    "            newxy = (self.xy[i]+self.xy[j])/2\n",
    "        self.xy[k] = newxy\n",
    "        return k"
   ]
  },
  {
   "cell_type": "code",
   "execution_count": 744,
   "metadata": {},
   "outputs": [
    {
     "data": {
      "image/png": "[encoded data removed]",
      "text/plain": [
       "<Figure size 288x288 with 1 Axes>"
      ]
     },
     "metadata": {
      "needs_background": "light"
     },
     "output_type": "display_data"
    }
   ],
   "source": [
    "g = Graph({0:[1], 1:[0,2,3], 2:[1], 3:[1]}, \n",
    "          np.array([[0,0], [0.5,0.5], [1,0.5], [0.5,1]]))\n",
    "\n",
    "plt.figure(figsize=(4,4))\n",
    "g.plot()"
   ]
  },
  {
   "cell_type": "code",
   "execution_count": 745,
   "metadata": {},
   "outputs": [
    {
     "data": {
      "image/png": "[encoded data removed]",
      "text/plain": [
       "<Figure size 288x288 with 1 Axes>"
      ]
     },
     "metadata": {
      "needs_background": "light"
     },
     "output_type": "display_data"
    }
   ],
   "source": [
    "def interpolate(g, min_d=0.1):\n",
    "    \"\"\"Intepolate the graph.\"\"\"\n",
    "    for i,others in list(g.gdict.items()):\n",
    "        for j in others:\n",
    "            d = g.dist(i,j)\n",
    "            nsteps = int(d/min_d)\n",
    "            if nsteps>1:\n",
    "                step = (g.xy[j]-g.xy[i])/nsteps\n",
    "                edge1 = i\n",
    "                edge2 = j\n",
    "                for istep in range(1,nsteps):\n",
    "                    point = g.xy[i] + step*istep\n",
    "                    k = g.splice(edge1, edge2, point)\n",
    "                    edge1 = k\n",
    "    return g\n",
    "    \n",
    "plt.figure(figsize=(4,4))\n",
    "g = interpolate(g, 0.05)\n",
    "g.plot()"
   ]
  },
  {
   "cell_type": "markdown",
   "metadata": {},
   "source": [
    "OK, the formulas below are totally wrong, as cross-product 0 at right angle, and we need something that would zero at opposite vectors. It's true that it should max at co-aligned vectors, but it should 0 (or at least min) for opposite vectors.\n",
    "\n",
    "Can it be (dot()+1)/2 ?"
   ]
  },
  {
   "cell_type": "code",
   "execution_count": 982,
   "metadata": {},
   "outputs": [
    {
     "name": "stdout",
     "output_type": "stream",
     "text": [
      "[0.00056157 0.00053455]\n",
      "[-0.13494852 -0.04569206]\n",
      "[ 0.00133401 -0.000314  ]\n"
     ]
    },
    {
     "data": {
      "image/png": "[encoded data removed]",
      "text/plain": [
       "<Figure size 288x288 with 1 Axes>"
      ]
     },
     "metadata": {
      "needs_background": "light"
     },
     "output_type": "display_data"
    }
   ],
   "source": [
    "def relax(g, d_min=0.1, nsteps=10):\n",
    "    \"\"\"Turn a graph into ribbons.\"\"\"\n",
    "    ALPHA = 0.05\n",
    "    for istep in range(nsteps):\n",
    "        distance = {}\n",
    "        for i,js in g.gdict.items():            \n",
    "            for j in js:                \n",
    "                if i<j: # Spring-like action\n",
    "                    distance[(i,j)] = g.dist(i, j)\n",
    "                    distance[(j,i)] = distance[(i,j)]\n",
    "                    force = (distance[(i,j)] - d_min)*(g.xy[j] - g.xy[i])\n",
    "                    g.xy[i] += force*ALPHA\n",
    "                    g.xy[j] += -force*ALPHA\n",
    "        for i,js in g.gdict.items():            \n",
    "            for j in js:\n",
    "                for k in js: # Repulsion\n",
    "                    if k<j:\n",
    "                        if (i,j) not in distance: \n",
    "                            distance[(i,j)] = g.dist(i, j)\n",
    "                            distance[(j,i)] = distance[(i,j)]\n",
    "                        if (i,k) not in distance: \n",
    "                            distance[(i,k)] = g.dist(i, k)\n",
    "                            distance[(k,i)] = distance[(i,k)]\n",
    "                        mean = (g.xy[j]+g.xy[k])/2 - g.xy[i]\n",
    "                        force = ((np.dot(g.xy[j]-g.xy[i], g.xy[k]-g.xy[i])/distance[(i,j)]/distance[(i,k)]+1)/2*\n",
    "                                 np.array([mean[1],-mean[0]]))\n",
    "                        print(force)\n",
    "                        g.xy[j] += force*ALPHA\n",
    "                        g.xy[k] += -force*ALPHA\n",
    "    \n",
    "# Testing\n",
    "# g = Graph({0:[1], 1:[0,2,3], 2:[1], 3:[1]}, np.array([[0,0], [0.5,0.5], [1,0.5], [0.5,1]]))\n",
    "#g = interpolate(g, 0.05)\n",
    "relax(g, nsteps=1)\n",
    "plt.figure(figsize=(4,4))\n",
    "g.plot()\n",
    "plt.xlim(0,1);\n",
    "plt.ylim(0,1);"
   ]
  }
 ],
 "metadata": {
  "kernelspec": {
   "display_name": "Python 3",
   "language": "python",
   "name": "python3"
  },
  "language_info": {
   "codemirror_mode": {
    "name": "ipython",
    "version": 3
   },
   "file_extension": ".py",
   "mimetype": "text/x-python",
   "name": "python",
   "nbconvert_exporter": "python",
   "pygments_lexer": "ipython3",
   "version": "3.7.6"
  }
 },
 "nbformat": 4,
 "nbformat_minor": 4
}
