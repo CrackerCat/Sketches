{
 "cells": [
  {
   "cell_type": "markdown",
   "metadata": {},
   "source": [
    "# When is good reader"
   ]
  },
  {
   "cell_type": "code",
   "execution_count": 92,
   "metadata": {},
   "outputs": [],
   "source": [
    "import pandas as pd\n",
    "import datetime\n",
    "import os\n",
    "import io"
   ]
  },
  {
   "cell_type": "code",
   "execution_count": 94,
   "metadata": {},
   "outputs": [
    {
     "data": {
      "text/plain": [
       "156"
      ]
     },
     "execution_count": 94,
     "metadata": {},
     "output_type": "execute_result"
    }
   ],
   "source": [
    "class Reader():\n",
    "    \"\"\"Reader for these silly html files.\"\"\"\n",
    "    \n",
    "    def __init__(self, filename):\n",
    "        self.filename = filename\n",
    "        f = open(filename,\"r\",encoding='utf-8');\n",
    "        self.text = f.readlines()\n",
    "        # text is a list of strings, each element - a row of the original html.\n",
    "        f.close()\n",
    "        self.row = 0\n",
    "        self.point = 0\n",
    "        \n",
    "    def _find_snip(self, snip, after=0):\n",
    "        \"\"\"Finds a fragment in the text.\"\"\"\n",
    "        if after>=len(self.text):\n",
    "            return (None,None)\n",
    "        for i in range(after, len(self.text)):\n",
    "            out = self.text[i].find(snip)\n",
    "            if out != - 1:\n",
    "                return (i,out)\n",
    "        return (None,None)\n",
    "    \n",
    "    def goto(self, row, point=0):\n",
    "        self.row = row\n",
    "        self.point = point\n",
    "        \n",
    "    def reset(self):\n",
    "        self.goto(0,0)\n",
    "        \n",
    "    def seek(self, snip, move=True):\n",
    "        row,point = self._find_snip(snip, after=self.row)\n",
    "        if row is None:\n",
    "            #print('End of file')\n",
    "            return None\n",
    "        if move:\n",
    "            self.row = row\n",
    "            self.point = point\n",
    "        return (row, point)\n",
    "        \n",
    "    def say(self, shift, length):\n",
    "        k = min(self.point+shift+length, len(self.text[self.row]))\n",
    "        out = self.text[self.row][(self.point+shift):k]\n",
    "        #print(out)\n",
    "        return out\n",
    "        \n",
    "    def skiprow(self):\n",
    "        self.row += 1\n",
    "        self.point = 0\n",
    "        \n",
    "    def sift(self, snip, shift, length, maxsteps=None):\n",
    "        \"\"\"Look for a snip, read fixed length at a fixed distance.\"\"\"\n",
    "        count = 0\n",
    "        out = []\n",
    "        while True:\n",
    "            count += 1\n",
    "            res = self.seek(snip)\n",
    "            if res is None:\n",
    "                break\n",
    "            if maxsteps is not None and count>maxsteps:\n",
    "                break\n",
    "            out.append(self.say(shift, length))\n",
    "            self.skiprow()\n",
    "        return out\n",
    "    \n",
    "    def double_sift(self, snip1, snip2, pad1=0, pad2=0):\n",
    "        \"\"\"Use two snips as brackets, and pad with pads.\"\"\"\n",
    "        out = []\n",
    "        while True:\n",
    "            res = self.seek(snip1, move=True)\n",
    "            if res is None:\n",
    "                break\n",
    "            res = self.seek(snip2, move=False)\n",
    "            if res is None:\n",
    "                break\n",
    "            if res[0]!=self.row:\n",
    "                print('No snip2 within current row')\n",
    "                continue\n",
    "            out.append(self.say(pad1, res[1]-self.point-pad2-pad1))\n",
    "            self.skiprow()\n",
    "        return out\n",
    "                \n",
    "    \n",
    "# Test    \n",
    "reader = Reader('../../source.html')\n",
    "reader.reset()\n",
    "slot_ids = reader.sift('ResultsPopup?', 53, 13)\n",
    "len(slot_ids)"
   ]
  },
  {
   "cell_type": "code",
   "execution_count": 95,
   "metadata": {},
   "outputs": [
    {
     "data": {
      "text/plain": [
       "156"
      ]
     },
     "execution_count": 95,
     "metadata": {},
     "output_type": "execute_result"
    }
   ],
   "source": [
    "# Slot ids:\n",
    "reader.reset()\n",
    "slots = reader.sift('ResultsPopup?', 53, 13)\n",
    "len(slot_ids)"
   ]
  },
  {
   "cell_type": "code",
   "execution_count": 97,
   "metadata": {},
   "outputs": [
    {
     "data": {
      "text/plain": [
       "27"
      ]
     },
     "execution_count": 97,
     "metadata": {},
     "output_type": "execute_result"
    }
   ],
   "source": [
    "# Names:\n",
    "reader.reset()\n",
    "names = reader.double_sift('.name =', ';\\n',9,1)\n",
    "names = [s.strip() for s in names]\n",
    "len(names)"
   ]
  },
  {
   "cell_type": "code",
   "execution_count": 98,
   "metadata": {},
   "outputs": [],
   "source": [
    "# Availability, encoded\n",
    "reader.reset()\n",
    "temp = reader.double_sift('myCanDos ', 'split', 12, 2)\n",
    "cando = [a.split(',') for a in temp]"
   ]
  },
  {
   "cell_type": "code",
   "execution_count": null,
   "metadata": {},
   "outputs": [],
   "source": [
    "# Put it all in a long-form pandas dataframe\n",
    "TOTAL_DAYS_ASKED = 12 # How many days were there in the table\n",
    "\n",
    "df = pd.DataFrame(columns=['Name','Day','Time','Cando'])\n",
    "for iperson in range(len(names)):\n",
    "    name = names[iperson]\n",
    "    print(name)\n",
    "    time = 8\n",
    "    day = 0\n",
    "    for slot in slots:\n",
    "        if day>=TOTAL_DAYS_ASKED:\n",
    "            day = 0\n",
    "            time += 1\n",
    "        df = df.append({'Name': name, 'Day': day, 'Time': time, 'Cando': slot in cando[iperson]}\n",
    "                 , ignore_index=True)\n",
    "        day += 1"
   ]
  },
  {
   "cell_type": "code",
   "execution_count": 100,
   "metadata": {},
   "outputs": [],
   "source": [
    "df.to_csv('availability.csv', index=False)"
   ]
  }
 ],
 "metadata": {
  "kernelspec": {
   "display_name": "Python 3",
   "language": "python",
   "name": "python3"
  },
  "language_info": {
   "codemirror_mode": {
    "name": "ipython",
    "version": 3
   },
   "file_extension": ".py",
   "mimetype": "text/x-python",
   "name": "python",
   "nbconvert_exporter": "python",
   "pygments_lexer": "ipython3",
   "version": "3.7.6"
  }
 },
 "nbformat": 4,
 "nbformat_minor": 4
}
