{
 "cells": [
  {
   "cell_type": "markdown",
   "metadata": {},
   "source": [
    "## 10. Lists"
   ]
  },
  {
   "cell_type": "code",
   "execution_count": 2,
   "metadata": {},
   "outputs": [
    {
     "name": "stdout",
     "output_type": "stream",
     "text": [
      "['dog', 'cat', 'bag', 'rat']\n"
     ]
    }
   ],
   "source": [
    "a = ['dog','cat','bag']\n",
    "a.append('rat') # Appends one element\n",
    "print(a)"
   ]
  },
  {
   "cell_type": "code",
   "execution_count": 3,
   "metadata": {},
   "outputs": [
    {
     "name": "stdout",
     "output_type": "stream",
     "text": [
      "['dog', 'cat', 'bag', 'rat', 'fly', 'goat']\n"
     ]
    }
   ],
   "source": [
    "a.extend(['fly','goat']) # EXTEND appends all elements from a list, one by one\n",
    "print(a)"
   ]
  },
  {
   "cell_type": "code",
   "execution_count": 4,
   "metadata": {},
   "outputs": [
    {
     "name": "stdout",
     "output_type": "stream",
     "text": [
      "['dog', 'cat', 'bag', 'rat', 'fly', 'goat', ['fly', 'goat']]\n"
     ]
    }
   ],
   "source": [
    "b = a.copy()\n",
    "b.append(['fly','goat']) # Now we have a list of lists.\n",
    "print(b)"
   ]
  },
  {
   "cell_type": "code",
   "execution_count": 5,
   "metadata": {},
   "outputs": [
    {
     "name": "stdout",
     "output_type": "stream",
     "text": [
      "['dog', 'cat', 'bag', 'rat', 'fly', 'goat', 'f', 'r', 'o', 'g']\n"
     ]
    }
   ],
   "source": [
    "a.extend('frog') # Not what we wanted: breaks the string into letters, appends them\n",
    "print(a)"
   ]
  },
  {
   "cell_type": "code",
   "execution_count": 6,
   "metadata": {},
   "outputs": [
    {
     "name": "stdout",
     "output_type": "stream",
     "text": [
      "['dogeses', 'cateses', 'bageses', 'rateses', 'flyeses', 'goateses', 'feses', 'reses', 'oeses', 'geses']\n"
     ]
    }
   ],
   "source": [
    "for i in range(len(a)):\n",
    "    a[i] += 'eses'\n",
    "    \n",
    "print(a)"
   ]
  },
  {
   "cell_type": "code",
   "execution_count": 7,
   "metadata": {},
   "outputs": [
    {
     "name": "stdout",
     "output_type": "stream",
     "text": [
      "['bageses', 'cateses', 'dogeses', 'feses', 'flyeses', 'geses', 'goateses', 'oeses', 'rateses', 'reses']\n"
     ]
    }
   ],
   "source": [
    "a.sort()\n",
    "print(a)"
   ]
  },
  {
   "cell_type": "code",
   "execution_count": 8,
   "metadata": {},
   "outputs": [
    {
     "name": "stdout",
     "output_type": "stream",
     "text": [
      "6\n"
     ]
    },
    {
     "ename": "TypeError",
     "evalue": "unsupported operand type(s) for +: 'int' and 'str'",
     "output_type": "error",
     "traceback": [
      "\u001b[1;31m---------------------------------------------------------------------------\u001b[0m",
      "\u001b[1;31mTypeError\u001b[0m                                 Traceback (most recent call last)",
      "\u001b[1;32m<ipython-input-8-0669bb5f3b1f>\u001b[0m in \u001b[0;36m<module>\u001b[1;34m\u001b[0m\n\u001b[0;32m      1\u001b[0m \u001b[0mprint\u001b[0m\u001b[1;33m(\u001b[0m\u001b[0msum\u001b[0m\u001b[1;33m(\u001b[0m\u001b[1;33m[\u001b[0m\u001b[1;36m1\u001b[0m\u001b[1;33m,\u001b[0m\u001b[1;36m2\u001b[0m\u001b[1;33m,\u001b[0m\u001b[1;36m3\u001b[0m\u001b[1;33m]\u001b[0m\u001b[1;33m)\u001b[0m\u001b[1;33m)\u001b[0m \u001b[1;31m# Sum works on numbers\u001b[0m\u001b[1;33m\u001b[0m\u001b[1;33m\u001b[0m\u001b[0m\n\u001b[1;32m----> 2\u001b[1;33m \u001b[0msum\u001b[0m\u001b[1;33m(\u001b[0m\u001b[0ma\u001b[0m\u001b[1;33m)\u001b[0m \u001b[1;31m# But doesn't work on strings\u001b[0m\u001b[1;33m\u001b[0m\u001b[1;33m\u001b[0m\u001b[0m\n\u001b[0m",
      "\u001b[1;31mTypeError\u001b[0m: unsupported operand type(s) for +: 'int' and 'str'"
     ]
    }
   ],
   "source": [
    "print(sum([1,2,3])) # Sum works on numbers\n",
    "sum(a) # But doesn't work on strings"
   ]
  },
  {
   "cell_type": "code",
   "execution_count": 9,
   "metadata": {},
   "outputs": [
    {
     "name": "stdout",
     "output_type": "stream",
     "text": [
      "['bageses', 'cateses', 'dogeses', 'feses', 'flyeses', 'geses', 'goateses', 'oeses', 'rateses', 'reses']\n",
      "['BAGESES', 'CATESES', 'DOGESES', 'FESES', 'FLYESES', 'GESES', 'GOATESES', 'OESES', 'RATESES', 'RESES']\n",
      "['bageses', 'cateses', 'dogeses', 'feses', 'flyeses', 'geses', 'goateses', 'oeses', 'rateses', 'reses']\n"
     ]
    }
   ],
   "source": [
    "def app(vector,fun):\n",
    "    newVector = []\n",
    "    for i in range(len(vector)):\n",
    "        newVector.append(fun(vector[i]))\n",
    "    return newVector\n",
    "        \n",
    "print(a)\n",
    "print(app(a,lambda x: x.upper())) # Not the smartest way to implement apply, but it works\n",
    "print(a)"
   ]
  },
  {
   "cell_type": "code",
   "execution_count": 10,
   "metadata": {},
   "outputs": [
    {
     "name": "stdout",
     "output_type": "stream",
     "text": [
      "['bageses', 'cateses', 'dogeses', 'feses', 'flyeses', 'geses', 'goateses', 'oeses', 'rateses', 'reses']\n",
      "['BAGESES', 'CATESES', 'DOGESES', 'FESES', 'FLYESES', 'GESES', 'GOATESES', 'OESES', 'RATESES', 'RESES']\n"
     ]
    }
   ],
   "source": [
    "print(a)\n",
    "b = [element.upper() for element in a] # A better way to do something with each element\n",
    "print(b)"
   ]
  },
  {
   "cell_type": "code",
   "execution_count": 14,
   "metadata": {},
   "outputs": [
    {
     "name": "stdout",
     "output_type": "stream",
     "text": [
      "['bageses', 'cateses', 'dogeses', 'feses', 'flyeses', 'geses', 'goateses', 'oeses']\n",
      "Removed: oeses\n",
      "['bageses', 'cateses', 'dogeses', 'feses', 'flyeses', 'geses', 'goateses']\n",
      "['bageses', 'cateses', 'dogeses', 'feses', 'flyeses', 'geses', 'goateses']\n"
     ]
    }
   ],
   "source": [
    "# On copying and popping\n",
    "print(a)\n",
    "b = a\n",
    "k = b.pop() # removes last element (but can also do i-th element)\n",
    "print('Removed:',k)\n",
    "print(a) # a is now also smaller, as it was not a deep copy! Changing b changes a as well!\n",
    "print(b)"
   ]
  },
  {
   "cell_type": "code",
   "execution_count": 21,
   "metadata": {},
   "outputs": [
    {
     "name": "stdout",
     "output_type": "stream",
     "text": [
      "['bageses', 'cateses', 'dogeses', 'feses', 'flyeses', 'geses', 'goateses']\n",
      "['bageses', 'cateses', 'dogeses', 'feses', 'flyeses', 'geses']\n"
     ]
    }
   ],
   "source": [
    "b = a.copy()\n",
    "b.pop()\n",
    "print(a)\n",
    "print(b) # Now b is smaller than a, as it should be"
   ]
  },
  {
   "cell_type": "code",
   "execution_count": 22,
   "metadata": {},
   "outputs": [
    {
     "name": "stdout",
     "output_type": "stream",
     "text": [
      "['bageses', 'cateses', 'dogeses', 'flyeses', 'geses']\n"
     ]
    }
   ],
   "source": [
    "del b[3] # Deleted the 3d element (0-indexed of course)\n",
    "print(b)"
   ]
  },
  {
   "cell_type": "code",
   "execution_count": 34,
   "metadata": {},
   "outputs": [
    {
     "name": "stdout",
     "output_type": "stream",
     "text": [
      "Wall time: 128 ms\n"
     ]
    }
   ],
   "source": [
    "def foo():\n",
    "    for i in range(1000):\n",
    "        a = list(range(1000))\n",
    "        for j in range(len(a)-2):\n",
    "            del a[1]\n",
    "\n",
    "%time foo()"
   ]
  },
  {
   "cell_type": "code",
   "execution_count": 35,
   "metadata": {},
   "outputs": [
    {
     "name": "stdout",
     "output_type": "stream",
     "text": [
      "Wall time: 177 ms\n"
     ]
    }
   ],
   "source": [
    "def foo():\n",
    "    for i in range(1000):\n",
    "        a = list(range(1000))\n",
    "        for j in range(len(a)-2):\n",
    "            a.pop(1)\n",
    "\n",
    "%time foo() # So it seems that pop(i) is about 40% slower than del a[i]"
   ]
  },
  {
   "cell_type": "code",
   "execution_count": 23,
   "metadata": {},
   "outputs": [
    {
     "name": "stdout",
     "output_type": "stream",
     "text": [
      "['bageses', 'cateses', 'dogeses', 'flyeses', 'geses']\n",
      "['bageses', 'cateses', 'dogeses', 'flyeses']\n"
     ]
    },
    {
     "ename": "ValueError",
     "evalue": "list.remove(x): x not in list",
     "output_type": "error",
     "traceback": [
      "\u001b[1;31m---------------------------------------------------------------------------\u001b[0m",
      "\u001b[1;31mValueError\u001b[0m                                Traceback (most recent call last)",
      "\u001b[1;32m<ipython-input-23-feaa5206b19e>\u001b[0m in \u001b[0;36m<module>\u001b[1;34m\u001b[0m\n\u001b[0;32m      2\u001b[0m \u001b[0mb\u001b[0m\u001b[1;33m.\u001b[0m\u001b[0mremove\u001b[0m\u001b[1;33m(\u001b[0m\u001b[1;34m'geses'\u001b[0m\u001b[1;33m)\u001b[0m \u001b[1;31m# Removes a target element by value\u001b[0m\u001b[1;33m\u001b[0m\u001b[1;33m\u001b[0m\u001b[0m\n\u001b[0;32m      3\u001b[0m \u001b[0mprint\u001b[0m\u001b[1;33m(\u001b[0m\u001b[0mb\u001b[0m\u001b[1;33m)\u001b[0m\u001b[1;33m\u001b[0m\u001b[1;33m\u001b[0m\u001b[0m\n\u001b[1;32m----> 4\u001b[1;33m \u001b[0mb\u001b[0m\u001b[1;33m.\u001b[0m\u001b[0mremove\u001b[0m\u001b[1;33m(\u001b[0m\u001b[1;34m'nugget'\u001b[0m\u001b[1;33m)\u001b[0m \u001b[1;31m# Error if not present!\u001b[0m\u001b[1;33m\u001b[0m\u001b[1;33m\u001b[0m\u001b[0m\n\u001b[0m",
      "\u001b[1;31mValueError\u001b[0m: list.remove(x): x not in list"
     ]
    }
   ],
   "source": [
    "print(b)\n",
    "b.remove('geses') # Removes a target element by value\n",
    "print(b)\n",
    "b.remove('nugget') # Error if not present! Better wrap in if?"
   ]
  },
  {
   "cell_type": "code",
   "execution_count": 24,
   "metadata": {},
   "outputs": [
    {
     "name": "stdout",
     "output_type": "stream",
     "text": [
      "[1, 2, 3, 1, 2, 3]\n",
      "[2, 3, 1, 2, 3]\n",
      "[2, 3, 2, 3]\n"
     ]
    }
   ],
   "source": [
    "c = [1,2,3]*2\n",
    "print(c)\n",
    "c.remove(1) # Only removes the first instance! Hmm.\n",
    "print(c)\n",
    "c.remove(1)\n",
    "print(c)"
   ]
  },
  {
   "cell_type": "code",
   "execution_count": 25,
   "metadata": {},
   "outputs": [
    {
     "name": "stdout",
     "output_type": "stream",
     "text": [
      "['d', 'o', 'g', ' ', 'e', 'a', 't', 's', ' ', 'b', 'i', 'r', 'd', 's']\n",
      "['dog', 'eats', 'birds']\n",
      "['', 'og eats bir', 's']\n"
     ]
    }
   ],
   "source": [
    "# Breaking strings\n",
    "a = 'dog eats birds'\n",
    "print(list(a)) # Breaks a string into a list of chars\n",
    "print(a.split()) # Breaks a string into a list of words\n",
    "print(a.split('d')) # Breaks by a non-space char"
   ]
  },
  {
   "cell_type": "code",
   "execution_count": 26,
   "metadata": {},
   "outputs": [
    {
     "name": "stdout",
     "output_type": "stream",
     "text": [
      "True\n",
      "True\n",
      "[1, 2]\n",
      "True\n",
      "False\n"
     ]
    }
   ],
   "source": [
    "a = [1,2]\n",
    "b = a\n",
    "print(b==a)   # Values are the same\n",
    "print(b is a) # And objects are actually the same, as b aliased a\n",
    "print(b)\n",
    "b = [1,2]\n",
    "print(b==a)   # Values are still the same\n",
    "print(b is a) # But the objects are now different! So returns False!"
   ]
  },
  {
   "cell_type": "code",
   "execution_count": 27,
   "metadata": {},
   "outputs": [
    {
     "name": "stdout",
     "output_type": "stream",
     "text": [
      "[1, 2, 3]\n",
      "[0, 2, 3]\n"
     ]
    }
   ],
   "source": [
    "# Arguments are passed to functions by reference!\n",
    "def gator(b):\n",
    "    b[0] = 0\n",
    "\n",
    "a = [1,2,3]\n",
    "print(a)\n",
    "gator(a) # This changes the value of a, as the function got a reference to an object\n",
    "print(a)"
   ]
  },
  {
   "cell_type": "code",
   "execution_count": 32,
   "metadata": {},
   "outputs": [
    {
     "name": "stdout",
     "output_type": "stream",
     "text": [
      "Original: [1, 2, 3]\n",
      "Inside: [0, 2, 3]\n",
      "After: [1, 2, 3]\n"
     ]
    }
   ],
   "source": [
    "def skunk(b):\n",
    "    b = b[:] # Slicing created a NEW object, even though it was a full slicing\n",
    "    b[0] = 0        # This object was changed\n",
    "    print('Inside:', b)\n",
    "    \n",
    "a = [1,2,3]\n",
    "print('Original:', a)\n",
    "skunk(a) # But the original object wasn't changed, in this case!\n",
    "print('After:', a)"
   ]
  },
  {
   "cell_type": "code",
   "execution_count": 33,
   "metadata": {},
   "outputs": [
    {
     "name": "stdout",
     "output_type": "stream",
     "text": [
      "[1, 2, 3]\n",
      "[1, 2, 3]\n"
     ]
    }
   ],
   "source": [
    "def gator(b):\n",
    "    b[0] = 0\n",
    "\n",
    "a = [1,2,3]\n",
    "print(a)\n",
    "gator(a.copy()) # Pass with a copy\n",
    "print(a)        # Obv no change"
   ]
  },
  {
   "cell_type": "code",
   "execution_count": 27,
   "metadata": {},
   "outputs": [
    {
     "name": "stdout",
     "output_type": "stream",
     "text": [
      "[[1, 2, 3], [4, 5, 6], [7, 8, 9]]\n",
      "5\n",
      "[[1, 2, 3], [4, 0, 6], [7, 8, 9]]\n",
      "[4, 0, 6]\n",
      "[[1, 2, 3], [0, 0, 0], [7, 8, 9]]\n",
      "[7, 8, 9]\n"
     ]
    }
   ],
   "source": [
    "a = [[1,2,3],[4,5,6],[7,8,9]]\n",
    "print(a)\n",
    "print(a[1][1])\n",
    "a[1][1] = 0     # This works \n",
    "print(a)        # (it changed a)\n",
    "print(a[1][:])\n",
    "a[1][:] = [0]*3 # This also works (it changed a)\n",
    "print(a)\n",
    "print(a[1:][1]) # This does not do anything meaningful whatsoever, coz it's not numpy"
   ]
  },
  {
   "cell_type": "code",
   "execution_count": 38,
   "metadata": {},
   "outputs": [
    {
     "name": "stdout",
     "output_type": "stream",
     "text": [
      "[0, 1, 2, 3, 4, 5, 6]\n",
      "True\n",
      "False\n",
      "False\n"
     ]
    }
   ],
   "source": [
    "# All and any\n",
    "a = list(range(7))\n",
    "print(a)\n",
    "print(any([i==2 for i in a]))\n",
    "print(any([i==7 for i in a]))\n",
    "print(all([i==2 for i in a]))"
   ]
  },
  {
   "cell_type": "code",
   "execution_count": 43,
   "metadata": {},
   "outputs": [
    {
     "name": "stdout",
     "output_type": "stream",
     "text": [
      "True\n",
      "True\n",
      "False\n",
      "True\n"
     ]
    }
   ],
   "source": [
    "# Same with numberz\n",
    "print(any([0,0,1]))\n",
    "print(any([0,0,2]))\n",
    "print(all([0,1,2]))\n",
    "print(all([1,-2,3])) # Anything that is not 0, is a True"
   ]
  },
  {
   "cell_type": "code",
   "execution_count": 45,
   "metadata": {},
   "outputs": [
    {
     "name": "stdout",
     "output_type": "stream",
     "text": [
      "[0, 1, 1, 2, 2, 2, 3, 3, 3, 3]\n",
      "4\n"
     ]
    }
   ],
   "source": [
    "# Counting\n",
    "a = [i for j in range(5) for i in [j-1]*j]\n",
    "print(a)\n",
    "print(a.count(3))"
   ]
  }
 ],
 "metadata": {
  "kernelspec": {
   "display_name": "Python 3",
   "language": "python",
   "name": "python3"
  },
  "language_info": {
   "codemirror_mode": {
    "name": "ipython",
    "version": 3
   },
   "file_extension": ".py",
   "mimetype": "text/x-python",
   "name": "python",
   "nbconvert_exporter": "python",
   "pygments_lexer": "ipython3",
   "version": "3.7.6"
  }
 },
 "nbformat": 4,
 "nbformat_minor": 2
}
