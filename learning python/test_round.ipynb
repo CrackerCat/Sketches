{
 "cells": [
  {
   "cell_type": "markdown",
   "metadata": {},
   "source": [
    "# Testing round functions"
   ]
  },
  {
   "cell_type": "code",
   "execution_count": 4,
   "metadata": {},
   "outputs": [],
   "source": [
    "import numpy"
   ]
  },
  {
   "cell_type": "code",
   "execution_count": 5,
   "metadata": {},
   "outputs": [
    {
     "name": "stdout",
     "output_type": "stream",
     "text": [
      "-4.5 <built-in function round> -4;-4.5 <function round_ at 0x000001EE3A963840> -4.0;\n",
      "-3.5 <built-in function round> -4;-3.5 <function round_ at 0x000001EE3A963840> -4.0;\n",
      "-2.5 <built-in function round> -2;-2.5 <function round_ at 0x000001EE3A963840> -2.0;\n",
      "-1.5 <built-in function round> -2;-1.5 <function round_ at 0x000001EE3A963840> -2.0;\n",
      "-0.5 <built-in function round> 0;-0.5 <function round_ at 0x000001EE3A963840> -0.0;\n",
      "0.5 <built-in function round> 0;0.5 <function round_ at 0x000001EE3A963840> 0.0;\n",
      "1.5 <built-in function round> 2;1.5 <function round_ at 0x000001EE3A963840> 2.0;\n",
      "2.5 <built-in function round> 2;2.5 <function round_ at 0x000001EE3A963840> 2.0;\n",
      "3.5 <built-in function round> 4;3.5 <function round_ at 0x000001EE3A963840> 4.0;\n"
     ]
    }
   ],
   "source": [
    "fs = [round,numpy.round]\n",
    "\n",
    "for v in range(-4,5):\n",
    "    v = v-0.5\n",
    "    for f in fs:\n",
    "        print(v,f,f(v),end=\";\")\n",
    "    print()"
   ]
  },
  {
   "cell_type": "markdown",
   "metadata": {},
   "source": [
    "Both round to even, huh :)"
   ]
  },
  {
   "cell_type": "code",
   "execution_count": 5,
   "metadata": {},
   "outputs": [
    {
     "name": "stdout",
     "output_type": "stream",
     "text": [
      "3\n",
      "2\n",
      "-3\n",
      "-2\n"
     ]
    }
   ],
   "source": [
    "print(round(2.6))\n",
    "print(int(2.6))\n",
    "print(round(-2.6))\n",
    "print(int(-2.6))"
   ]
  }
 ],
 "metadata": {
  "kernelspec": {
   "display_name": "Python 3",
   "language": "python",
   "name": "python3"
  },
  "language_info": {
   "codemirror_mode": {
    "name": "ipython",
    "version": 3
   },
   "file_extension": ".py",
   "mimetype": "text/x-python",
   "name": "python",
   "nbconvert_exporter": "python",
   "pygments_lexer": "ipython3",
   "version": "3.7.6"
  }
 },
 "nbformat": 4,
 "nbformat_minor": 2
}
