{
 "cells": [
  {
   "cell_type": "markdown",
   "metadata": {},
   "source": [
    "## Inheritance"
   ]
  },
  {
   "cell_type": "code",
   "execution_count": 26,
   "metadata": {},
   "outputs": [
    {
     "name": "stdout",
     "output_type": "stream",
     "text": [
      "2♣\n",
      "False\n",
      "True\n",
      "False\n",
      "True\n",
      "True\n",
      "False\n"
     ]
    }
   ],
   "source": [
    "class Card():\n",
    "    \"\"\"Playing card\"\"\"\n",
    "    \n",
    "    rankMap = [(\"%d\" % i) for i in range(13)] # Class attributes\n",
    "    (rankMap[0],rankMap[1],*rankMap[11:13]) = ('None','A','J','Q','K')\n",
    "    # Interestingly, it seems that I can only use * in the left side once, so I cannot * both vectors\n",
    "    # print(rankMap)\n",
    "    suitMap = ['♣','♢','♡','♠']\n",
    "    \n",
    "    \n",
    "    def __init__(self,suit=0,rank=1):\n",
    "        self.suit = suit # Instance attributes\n",
    "        self.rank = rank\n",
    "        \n",
    "    def __str__(self):\n",
    "        return \"%s%s\" % (Card.rankMap[self.rank] , Card.suitMap[self.suit])\n",
    "           \n",
    "    def __eq__(self,other):\n",
    "        return (self.rank==other.rank) & (self.suit==other.suit)\n",
    "    \n",
    "    def __gt__(self,other): \n",
    "        # They removed __cmp__ in Python 3, replacing it with: eq, ne, lt, le, gt, ge\n",
    "        # However, Python somehow guesses how > will behave knowing <. So the minimum includes EQ, GT & GE\n",
    "        # And then there's also __repr__ that is used for eval(). In this case, will be \"Card(0,1)\" - but with actual values\n",
    "        return (self.suit, self.rank) > (other.suit, other.rank) # Uses the fancy lexicographicish way tuples are compared\n",
    "        \n",
    "    def __ge__(self,other):\n",
    "        return self.__gt__(other) | self.__eq__(other)\n",
    "        \n",
    "\n",
    "a = Card(0,2)\n",
    "print(a)\n",
    "print(a==Card(0,3))\n",
    "print(a!=Card(0,3))\n",
    "print(a>Card(0,3))\n",
    "print(a<Card(0,3))\n",
    "print(a<=Card(0,3))\n",
    "print(a>=Card(0,3))"
   ]
  },
  {
   "cell_type": "code",
   "execution_count": 22,
   "metadata": {},
   "outputs": [],
   "source": [
    "import random"
   ]
  },
  {
   "cell_type": "code",
   "execution_count": 53,
   "metadata": {},
   "outputs": [
    {
     "name": "stdout",
     "output_type": "stream",
     "text": [
      "Deck[52]: A♣ 2♣ 3♣ 4♣ 5♣ 6♣ 7♣ 8♣ 9♣ 10♣ J♣ Q♣ K♣ A♢ 2♢ 3♢ 4♢ 5♢ 6♢ 7♢ 8♢ 9♢ 10♢ J♢ Q♢ K♢ A♡ 2♡ 3♡ 4♡ 5♡ 6♡ 7♡ 8♡ 9♡ 10♡ J♡ Q♡ K♡ A♠ 2♠ 3♠ 4♠ 5♠ 6♠ 7♠ 8♠ 9♠ 10♠ J♠ Q♠ K♠\n",
      "K♠\n",
      "Deck[52]: A♣ 2♣ 3♣ 4♣ 5♣ 6♣ 7♣ 8♣ 9♣ 10♣ J♣ Q♣ K♣ A♢ 2♢ 3♢ 4♢ 5♢ 6♢ 7♢ 8♢ 9♢ 10♢ J♢ Q♢ K♢ A♡ 2♡ 3♡ 4♡ 5♡ 6♡ 7♡ 8♡ 9♡ 10♡ J♡ Q♡ K♡ A♠ 2♠ 3♠ 4♠ 5♠ 6♠ 7♠ 8♠ 9♠ 10♠ J♠ Q♠ 2♡\n",
      "Deck[52]: 9♠ 2♢ 7♠ 9♢ Q♡ 3♡ 6♣ 5♡ K♡ 10♡ 2♡ 7♡ 9♡ A♢ 2♡ 2♠ K♣ 10♣ Q♣ 5♣ J♢ A♠ 7♣ 8♣ 3♢ 4♡ 6♠ 7♢ 6♡ J♠ 10♠ Q♠ 4♢ Q♢ 5♢ 9♣ J♣ 8♢ A♣ 3♣ 3♠ J♡ K♢ 8♠ 8♡ 4♠ A♡ 2♣ 6♢ 4♣ 5♠ 10♢\n"
     ]
    }
   ],
   "source": [
    "class Deck(object):\n",
    "    \"\"\"Deck of cards\"\"\"\n",
    "    \n",
    "    def __init__(self):\n",
    "        self.cards = []\n",
    "        self.label = 'Deck'\n",
    "        for s in range(4):\n",
    "            for r in range(1,14):\n",
    "                self.cards.append(Card(s,r))\n",
    "                \n",
    "    def __str__(self):\n",
    "        res = []\n",
    "        res.append('%s[%d]:' % (self.label,len(self.cards)))\n",
    "        for card in self.cards:\n",
    "            # res = res+str(card)+'|' # This is slow, apparently\n",
    "            res.append(str(card)) # Fast: first a list, then join all with a delim\n",
    "        return ' '.join(res)\n",
    "    \n",
    "    def pop(self): # Returns last card and updates the array (actual pop)\n",
    "        return self.cards.pop()\n",
    "    \n",
    "    def add(self,card):\n",
    "        self.cards.append(card)\n",
    "        \n",
    "    def shuffle(self):\n",
    "        random.shuffle(self.cards)\n",
    "        \n",
    "    def deal(self,hand,num=1):\n",
    "        for i in range(num):\n",
    "            hand.add(self.pop())\n",
    "    \n",
    "                \n",
    "d = Deck()\n",
    "print(d)\n",
    "print(d.pop())\n",
    "d.add(Card(2,2))\n",
    "print(d)\n",
    "d.shuffle()\n",
    "print(d)"
   ]
  },
  {
   "cell_type": "code",
   "execution_count": 69,
   "metadata": {},
   "outputs": [
    {
     "data": {
      "text/plain": [
       "__main__.Deck"
      ]
     },
     "execution_count": 69,
     "metadata": {},
     "output_type": "execute_result"
    }
   ],
   "source": [
    "def find_defining_class(obj,_method): # Author's advice on localizing which class a method is inhereted from\n",
    "    for _type in type(obj).mro(): # mro() stands for Method Resolution Order\n",
    "        if _method in _type.__dict__:\n",
    "            return _type\n",
    "\n",
    "find_defining_class(h, 'shuffle')"
   ]
  },
  {
   "cell_type": "code",
   "execution_count": 207,
   "metadata": {},
   "outputs": [
    {
     "name": "stdout",
     "output_type": "stream",
     "text": [
      "none[7]: 8♣ Q♢ K♢ 10♡ J♡ 2♠ 7♠\n",
      "none[7]: A♣ 10♣ A♢ 7♢ 10♢ K♡ K♠\n",
      "none[7]: 7♣ J♣ Q♣ 2♢ 6♡ 5♠ 10♠\n",
      "Pair[7]: 9♣ 4♢ 9♢ 3♡ 5♡ 8♡ J♠\n",
      "Three[7]: 6♣ 6♢ 9♡ Q♡ 3♠ 6♠ 8♠\n",
      "2 pairs[7]: 2♣ 7♣ J♣ 10♢ 7♡ K♡ 10♠\n",
      "none[7]: 8♣ 2♢ 3♢ 6♡ J♡ 4♠ 7♠\n",
      "Pair[7]: 6♢ 9♢ K♢ 9♡ Q♡ 2♠ 5♠\n",
      "none[7]: 3♣ J♢ Q♢ A♡ 2♡ 8♡ 6♠\n",
      "Pair[7]: 5♣ 6♣ 5♢ 4♡ A♠ 3♠ 8♠\n",
      "Pair[7]: 7♣ 3♢ 8♢ 9♡ 10♡ A♠ 9♠\n",
      "2 pairs[7]: 5♣ Q♣ 7♡ K♡ 6♠ 7♠ Q♠\n",
      "none[7]: 4♣ 9♣ K♣ 6♢ 5♡ 3♠ 10♠\n",
      "Pair[7]: A♣ 2♣ 10♢ Q♢ A♡ 8♡ K♠\n",
      "2 pairs[7]: 6♣ 8♣ 4♢ 5♢ 2♠ 4♠ 5♠\n",
      "2 pairs[7]: 2♣ K♣ K♢ A♡ 8♡ 9♡ 8♠\n",
      "Pair[7]: 5♣ 8♢ 5♡ J♡ 9♠ 10♠ K♠\n",
      "2 pairs[7]: 3♣ 6♣ 2♢ 6♢ 4♡ A♠ 4♠\n",
      "Pair[7]: 4♣ 2♡ Q♡ 3♠ 5♠ 6♠ Q♠\n",
      "none[7]: 7♣ 8♣ Q♣ 4♢ 5♢ 10♢ J♠\n",
      "none[7]: 3♣ 8♣ 6♢ J♢ A♡ 5♡ 2♠\n",
      "none[7]: 4♣ 9♣ J♣ 5♢ 8♡ 10♠ K♠\n",
      "Three[7]: Q♣ A♢ 7♢ Q♡ 9♠ J♠ Q♠\n",
      "none[7]: 7♣ Q♢ K♢ 3♡ 6♡ 10♡ A♠\n",
      "none[7]: 6♣ 2♢ 8♢ 9♢ K♡ 3♠ 7♠\n"
     ]
    }
   ],
   "source": [
    "class Hand(Deck): # Inheritance: inherits to the main Deck class\n",
    "    \"\"\"Hand of cards\"\"\"\n",
    "    \n",
    "    def __init__(self,label=''):\n",
    "        self.cards = []\n",
    "        self.label = label\n",
    "        \n",
    "    def take(self,deck,n=1):\n",
    "        deck.deal(self,n)\n",
    "        \n",
    "    def classify(self):\n",
    "        \"\"\"Classifies a poker hand\"\"\"\n",
    "        self.label = 'none'\n",
    "        self.cards.sort() # Because we defined all <>, we can sort cards! May be helpful.\n",
    "        histR = {}\n",
    "        histS = {}\n",
    "        for c in self.cards:\n",
    "            histR[c.rank] = histR.get(c.rank,0)+1\n",
    "            histS[c.suit] = histS.get(c.suit,0)+1\n",
    "        v = [histR[_] for _ in histR.keys()]\n",
    "        # Straight flush should be here\n",
    "        if max(v)==4:\n",
    "            self.label = 'Four'\n",
    "        elif sum([_==3 for _ in v])==1 & sum([_==2 for _ in v])==1:\n",
    "            self.label = 'House'\n",
    "        elif max([histS[_] for _ in histS.keys()])==5:\n",
    "            self.label = 'Flush'\n",
    "        # Check for straight should be here\n",
    "        elif max(v)==3:\n",
    "            self.label = 'Three'\n",
    "        elif sum([_==2 for _ in v])==2:\n",
    "            self.label = '2 pairs'\n",
    "        elif sum([_==2 for _ in v])==1:\n",
    "            self.label = 'Pair'\n",
    "        \n",
    "        \n",
    "for j in range(5):\n",
    "    d = Deck()\n",
    "    d.shuffle()\n",
    "    for i in range(5):\n",
    "        h = Hand()\n",
    "        h.take(d,7)\n",
    "        h.classify()\n",
    "        print(h)"
   ]
  }
 ],
 "metadata": {
  "kernelspec": {
   "display_name": "Python 3",
   "language": "python",
   "name": "python3"
  },
  "language_info": {
   "codemirror_mode": {
    "name": "ipython",
    "version": 3
   },
   "file_extension": ".py",
   "mimetype": "text/x-python",
   "name": "python",
   "nbconvert_exporter": "python",
   "pygments_lexer": "ipython3",
   "version": "3.7.0"
  }
 },
 "nbformat": 4,
 "nbformat_minor": 2
}
