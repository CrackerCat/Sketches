{
 "cells": [
  {
   "cell_type": "markdown",
   "metadata": {},
   "source": [
    "## Inheritance"
   ]
  },
  {
   "cell_type": "code",
   "execution_count": 47,
   "metadata": {},
   "outputs": [
    {
     "name": "stdout",
     "output_type": "stream",
     "text": [
      "2 of Clubs\n",
      "False\n",
      "True\n",
      "False\n",
      "True\n",
      "True\n",
      "False\n"
     ]
    }
   ],
   "source": [
    "class Card():\n",
    "    \"\"\"Playing card\"\"\"\n",
    "    \n",
    "    rankMap = [(\"%d\" % i) for i in range(13)] # Class attributes\n",
    "    (rankMap[0],rankMap[1],*rankMap[11:13]) = ('None','Ace','Jack','Queen','King')\n",
    "    # Interestingly, it seems that I can only use * in the left side once, so I cannot * both vectors\n",
    "    # print(rankMap)\n",
    "    suitMap = ['Clubs','Diamonds','Hearts','Spades']\n",
    "    \n",
    "    \n",
    "    def __init__(self,suit=0,rank=1):\n",
    "        self.suit = suit # Instance attributes\n",
    "        self.rank = rank\n",
    "        \n",
    "    def __str__(self):\n",
    "        return \"%s of %s\" % (Card.rankMap[self.rank] , Card.suitMap[self.suit])\n",
    "           \n",
    "    def __eq__(self,other):\n",
    "        return (self.rank==other.rank) & (self.suit==other.suit)\n",
    "    \n",
    "    def __gt__(self,other): \n",
    "        # They removed __cmp__ in Python 3, replacing it with: eq, ne, lt, le, gt, ge\n",
    "        # However, Python somehow guesses how > will behave knowing <. So the minimum includes EQ, GT & GE\n",
    "        # And then there's also __repr__ that is used for eval(). In this case, will be \"Card(0,1)\" - but with actual values\n",
    "        return (self.suit, self.rank) > (other.suit, other.rank) # Uses the fancy lexicographicish way tuples are compared\n",
    "        \n",
    "    def __ge__(self,other):\n",
    "        return self.__gt__(other) | self.__eq__(other)\n",
    "        \n",
    "\n",
    "a = Card(0,2)\n",
    "print(a)\n",
    "print(a==Card(0,3))\n",
    "print(a!=Card(0,3))\n",
    "print(a>Card(0,3))\n",
    "print(a<Card(0,3))\n",
    "print(a<=Card(0,3))\n",
    "print(a>=Card(0,3))"
   ]
  }
 ],
 "metadata": {
  "kernelspec": {
   "display_name": "Python 3",
   "language": "python",
   "name": "python3"
  },
  "language_info": {
   "codemirror_mode": {
    "name": "ipython",
    "version": 3
   },
   "file_extension": ".py",
   "mimetype": "text/x-python",
   "name": "python",
   "nbconvert_exporter": "python",
   "pygments_lexer": "ipython3",
   "version": "3.7.0"
  }
 },
 "nbformat": 4,
 "nbformat_minor": 2
}
