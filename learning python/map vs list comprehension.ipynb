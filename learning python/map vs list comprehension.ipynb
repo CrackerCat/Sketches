{
 "cells": [
  {
   "cell_type": "markdown",
   "metadata": {},
   "source": [
    "### Map vs List Comprehension\n",
    "\n",
    "Compares whether map functions is slower than list comprehension with zipping."
   ]
  },
  {
   "cell_type": "code",
   "execution_count": 1,
   "metadata": {},
   "outputs": [],
   "source": [
    "import time"
   ]
  },
  {
   "cell_type": "code",
   "execution_count": 46,
   "metadata": {},
   "outputs": [
    {
     "name": "stdout",
     "output_type": "stream",
     "text": [
      "List comprehension and zip:             6.216852\n",
      "Map and lambda:             8.297984\n",
      "Same, but lazy execution:             0.003990\n"
     ]
    }
   ],
   "source": [
    "bigN = 10000\n",
    "a = list(range(bigN))\n",
    "b = a.copy()\n",
    "\n",
    "tic = time.time()\n",
    "for _ in range(bigN):\n",
    "    c = [a*b for (a,b) in zip(a,b)]\n",
    "print(\"List comprehension and zip: %20f\" % (time.time()-tic))\n",
    "\n",
    "tic = time.time()\n",
    "for _ in range(bigN):\n",
    "    c = list(map(lambda x,y: x*y, a, b))\n",
    "\n",
    "print(\"Map and lambda: %20f\" % (time.time()-tic))\n",
    "\n",
    "tic = time.time()\n",
    "for _ in range(bigN):\n",
    "    c = map(lambda x,y: x*y, a, b)\n",
    "\n",
    "print(\"Same, but lazy execution: %20f\" % (time.time()-tic))"
   ]
  },
  {
   "cell_type": "code",
   "execution_count": 25,
   "metadata": {},
   "outputs": [
    {
     "data": {
      "text/plain": [
       "[0, 1, 4, 9, 16, 25, 36, 49, 64, 81]"
      ]
     },
     "execution_count": 25,
     "metadata": {},
     "output_type": "execute_result"
    }
   ],
   "source": [
    "c[:10]"
   ]
  }
 ],
 "metadata": {
  "kernelspec": {
   "display_name": "Python 3",
   "language": "python",
   "name": "python3"
  },
  "language_info": {
   "codemirror_mode": {
    "name": "ipython",
    "version": 3
   },
   "file_extension": ".py",
   "mimetype": "text/x-python",
   "name": "python",
   "nbconvert_exporter": "python",
   "pygments_lexer": "ipython3",
   "version": "3.7.3"
  }
 },
 "nbformat": 4,
 "nbformat_minor": 2
}
