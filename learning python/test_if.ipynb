{
 "cells": [
  {
   "cell_type": "markdown",
   "metadata": {},
   "source": [
    "# Test IF : all the ways to do an IF"
   ]
  },
  {
   "cell_type": "markdown",
   "metadata": {},
   "source": [
    "So it seems that False is also equivallent to 0, None, and empty lists / dicts / tuples. But pretty much everything else seems to be a True."
   ]
  },
  {
   "cell_type": "code",
   "execution_count": 24,
   "metadata": {},
   "outputs": [
    {
     "name": "stdout",
     "output_type": "stream",
     "text": [
      "True Yep\n",
      "False Nope\n",
      "1 Yep\n",
      "2 Yep\n",
      "0 Nope\n",
      "-1 Yep\n",
      "[] Nope\n",
      "[0] Yep\n",
      "None Nope\n",
      "{} Nope\n",
      "{1: 1} Yep\n",
      "<function test at 0x0000000004F82BF8> Yep\n",
      "() Nope\n",
      "1 Yep\n",
      "() Nope\n",
      "((), ()) Yep\n",
      "[] Nope\n",
      "[[]] Yep\n",
      "[()] Yep\n"
     ]
    }
   ],
   "source": [
    "def test(a):\n",
    "    print(a, end=' ')\n",
    "    if a:\n",
    "        print('Yep')\n",
    "    else:\n",
    "        print('Nope')\n",
    "        \n",
    "for a in [True, False, 1, 2, 0, -1, [], [0], None, {}, {1:1}, test, (), (1), (()), ((),()), ([]), [[]], [()]]:\n",
    "    test(a)"
   ]
  }
 ],
 "metadata": {
  "kernelspec": {
   "display_name": "Python 3",
   "language": "python",
   "name": "python3"
  },
  "language_info": {
   "codemirror_mode": {
    "name": "ipython",
    "version": 3
   },
   "file_extension": ".py",
   "mimetype": "text/x-python",
   "name": "python",
   "nbconvert_exporter": "python",
   "pygments_lexer": "ipython3",
   "version": "3.7.0"
  }
 },
 "nbformat": 4,
 "nbformat_minor": 2
}
