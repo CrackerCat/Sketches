{
 "cells": [
  {
   "cell_type": "markdown",
   "metadata": {},
   "source": [
    "## 10. Lists"
   ]
  },
  {
   "cell_type": "code",
   "execution_count": 1,
   "metadata": {},
   "outputs": [
    {
     "name": "stdout",
     "output_type": "stream",
     "text": [
      "['dog', 'cat', 'bag', 'rat']\n"
     ]
    }
   ],
   "source": [
    "a = ['dog','cat','bag']\n",
    "a.append('rat') # Appends one element\n",
    "print(a)"
   ]
  },
  {
   "cell_type": "code",
   "execution_count": 2,
   "metadata": {},
   "outputs": [
    {
     "name": "stdout",
     "output_type": "stream",
     "text": [
      "['dog', 'cat', 'bag', 'rat', 'fly', 'goat']\n"
     ]
    }
   ],
   "source": [
    "a.extend(['fly','goat']) # EXTEND appends all elements from a list, one by one\n",
    "print(a)"
   ]
  },
  {
   "cell_type": "code",
   "execution_count": 6,
   "metadata": {},
   "outputs": [
    {
     "name": "stdout",
     "output_type": "stream",
     "text": [
      "['dog', 'cat', 'bag', 'rat', 'fly', 'goat', ['fly', 'goat']]\n"
     ]
    }
   ],
   "source": [
    "b = a.copy()\n",
    "b.append(['fly','goat']) # Now we have a list of lists\n",
    "print(b)"
   ]
  },
  {
   "cell_type": "code",
   "execution_count": 61,
   "metadata": {},
   "outputs": [
    {
     "name": "stdout",
     "output_type": "stream",
     "text": [
      "['dog', 'cat', 'bag', 'rat', 'fly', 'goat', 'f', 'r', 'o', 'g']\n"
     ]
    }
   ],
   "source": [
    "a.extend('frog') # Not what we wanted: breaks the string into letters, appends them\n",
    "print(a)"
   ]
  },
  {
   "cell_type": "code",
   "execution_count": 62,
   "metadata": {},
   "outputs": [
    {
     "name": "stdout",
     "output_type": "stream",
     "text": [
      "['dogeses', 'cateses', 'bageses', 'rateses', 'flyeses', 'goateses', 'feses', 'reses', 'oeses', 'geses']\n"
     ]
    }
   ],
   "source": [
    "for i in range(len(a)):\n",
    "    a[i] += 'eses'\n",
    "    \n",
    "print(a)"
   ]
  },
  {
   "cell_type": "code",
   "execution_count": 63,
   "metadata": {},
   "outputs": [
    {
     "name": "stdout",
     "output_type": "stream",
     "text": [
      "['bageses', 'cateses', 'dogeses', 'feses', 'flyeses', 'geses', 'goateses', 'oeses', 'rateses', 'reses']\n"
     ]
    }
   ],
   "source": [
    "a.sort()\n",
    "print(a)"
   ]
  },
  {
   "cell_type": "code",
   "execution_count": 64,
   "metadata": {},
   "outputs": [
    {
     "name": "stdout",
     "output_type": "stream",
     "text": [
      "6\n"
     ]
    },
    {
     "ename": "TypeError",
     "evalue": "unsupported operand type(s) for +: 'int' and 'str'",
     "output_type": "error",
     "traceback": [
      "\u001b[1;31m---------------------------------------------------------------------------\u001b[0m",
      "\u001b[1;31mTypeError\u001b[0m                                 Traceback (most recent call last)",
      "\u001b[1;32m<ipython-input-64-0669bb5f3b1f>\u001b[0m in \u001b[0;36m<module>\u001b[1;34m()\u001b[0m\n\u001b[0;32m      1\u001b[0m \u001b[0mprint\u001b[0m\u001b[1;33m(\u001b[0m\u001b[0msum\u001b[0m\u001b[1;33m(\u001b[0m\u001b[1;33m[\u001b[0m\u001b[1;36m1\u001b[0m\u001b[1;33m,\u001b[0m\u001b[1;36m2\u001b[0m\u001b[1;33m,\u001b[0m\u001b[1;36m3\u001b[0m\u001b[1;33m]\u001b[0m\u001b[1;33m)\u001b[0m\u001b[1;33m)\u001b[0m \u001b[1;31m# Sum works on numbers\u001b[0m\u001b[1;33m\u001b[0m\u001b[0m\n\u001b[1;32m----> 2\u001b[1;33m \u001b[0msum\u001b[0m\u001b[1;33m(\u001b[0m\u001b[0ma\u001b[0m\u001b[1;33m)\u001b[0m \u001b[1;31m# But doesn't work on strings\u001b[0m\u001b[1;33m\u001b[0m\u001b[0m\n\u001b[0m",
      "\u001b[1;31mTypeError\u001b[0m: unsupported operand type(s) for +: 'int' and 'str'"
     ]
    }
   ],
   "source": [
    "print(sum([1,2,3])) # Sum works on numbers\n",
    "sum(a) # But doesn't work on strings"
   ]
  },
  {
   "cell_type": "code",
   "execution_count": 65,
   "metadata": {},
   "outputs": [
    {
     "name": "stdout",
     "output_type": "stream",
     "text": [
      "['bageses', 'cateses', 'dogeses', 'feses', 'flyeses', 'geses', 'goateses', 'oeses', 'rateses', 'reses']\n",
      "['BAGESES', 'CATESES', 'DOGESES', 'FESES', 'FLYESES', 'GESES', 'GOATESES', 'OESES', 'RATESES', 'RESES']\n",
      "['bageses', 'cateses', 'dogeses', 'feses', 'flyeses', 'geses', 'goateses', 'oeses', 'rateses', 'reses']\n"
     ]
    }
   ],
   "source": [
    "def app(vector,fun):\n",
    "    newVector = []\n",
    "    for i in range(len(vector)):\n",
    "        newVector.append(fun(vector[i]))\n",
    "    return newVector\n",
    "        \n",
    "print(a)\n",
    "print(app(a,lambda x: x.upper())) # Not the smartest way to implement apply, but it works\n",
    "print(a)"
   ]
  },
  {
   "cell_type": "code",
   "execution_count": 66,
   "metadata": {},
   "outputs": [
    {
     "name": "stdout",
     "output_type": "stream",
     "text": [
      "['bageses', 'cateses', 'dogeses', 'feses', 'flyeses', 'geses', 'goateses', 'oeses', 'rateses', 'reses']\n",
      "['BAGESES', 'CATESES', 'DOGESES', 'FESES', 'FLYESES', 'GESES', 'GOATESES', 'OESES', 'RATESES', 'RESES']\n"
     ]
    }
   ],
   "source": [
    "print(a)\n",
    "b = [element.upper() for element in a] # A better way to do something with each element\n",
    "print(b)"
   ]
  },
  {
   "cell_type": "code",
   "execution_count": 67,
   "metadata": {},
   "outputs": [
    {
     "name": "stdout",
     "output_type": "stream",
     "text": [
      "['bageses', 'cateses', 'dogeses', 'feses', 'flyeses', 'geses', 'goateses', 'oeses', 'rateses', 'reses']\n",
      "['bageses', 'cateses', 'dogeses', 'feses', 'flyeses', 'geses', 'goateses', 'oeses', 'rateses']\n",
      "['bageses', 'cateses', 'dogeses', 'feses', 'flyeses', 'geses', 'goateses', 'oeses', 'rateses']\n"
     ]
    }
   ],
   "source": [
    "print(a)\n",
    "b = a\n",
    "b.pop() # removes last element\n",
    "print(a) # a is now also smaller, as it was not a deep copy! Changing b changes a as well!\n",
    "print(b)"
   ]
  },
  {
   "cell_type": "code",
   "execution_count": 69,
   "metadata": {},
   "outputs": [
    {
     "name": "stdout",
     "output_type": "stream",
     "text": [
      "['bageses', 'cateses', 'dogeses', 'feses', 'flyeses', 'geses', 'goateses', 'oeses', 'rateses']\n",
      "['bageses', 'cateses', 'dogeses', 'feses', 'flyeses', 'geses', 'goateses', 'oeses']\n"
     ]
    }
   ],
   "source": [
    "b = a.copy()\n",
    "b.pop()\n",
    "print(a)\n",
    "print(b) # Now b is smaller than a, as it should be"
   ]
  },
  {
   "cell_type": "code",
   "execution_count": 70,
   "metadata": {},
   "outputs": [
    {
     "name": "stdout",
     "output_type": "stream",
     "text": [
      "['bageses', 'cateses', 'dogeses', 'flyeses', 'geses', 'goateses', 'oeses']\n"
     ]
    }
   ],
   "source": [
    "del b[3] # Deleted the 3d element (0-indexed of course)\n",
    "print(b)"
   ]
  },
  {
   "cell_type": "code",
   "execution_count": 71,
   "metadata": {},
   "outputs": [
    {
     "name": "stdout",
     "output_type": "stream",
     "text": [
      "['bageses', 'cateses', 'dogeses', 'flyeses', 'geses', 'goateses', 'oeses']\n",
      "['bageses', 'cateses', 'dogeses', 'flyeses', 'geses', 'goateses']\n"
     ]
    }
   ],
   "source": [
    "print(b)\n",
    "b.remove('oeses') # Removes a target element\n",
    "print(b)"
   ]
  },
  {
   "cell_type": "code",
   "execution_count": 76,
   "metadata": {},
   "outputs": [
    {
     "name": "stdout",
     "output_type": "stream",
     "text": [
      "[1, 2, 3, 1, 2, 3]\n",
      "[2, 3, 1, 2, 3]\n",
      "[2, 3, 2, 3]\n"
     ]
    }
   ],
   "source": [
    "c = [1,2,3]*2\n",
    "print(c)\n",
    "c.remove(1) # Only removes first instance! Hmm.\n",
    "print(c)\n",
    "c.remove(1)\n",
    "print(c)"
   ]
  },
  {
   "cell_type": "code",
   "execution_count": 82,
   "metadata": {},
   "outputs": [
    {
     "name": "stdout",
     "output_type": "stream",
     "text": [
      "['d', 'o', 'g', ' ', 'e', 'a', 't', 's', ' ', 'b', 'i', 'r', 'd', 's']\n",
      "['dog', 'eats', 'birds']\n",
      "['', 'og eats bir', 's']\n"
     ]
    }
   ],
   "source": [
    "a = 'dog eats birds'\n",
    "print(list(a)) # Breaks a string into a list of chars\n",
    "print(a.split()) # Breaks into a list of words\n",
    "print(a.split('d')) # Breaks by a non-space char"
   ]
  },
  {
   "cell_type": "code",
   "execution_count": 87,
   "metadata": {},
   "outputs": [
    {
     "name": "stdout",
     "output_type": "stream",
     "text": [
      "True\n",
      "True\n",
      "[1, 2]\n",
      "True\n",
      "False\n"
     ]
    }
   ],
   "source": [
    "a = [1,2]\n",
    "b = a\n",
    "print(b==a)   # Valeus are the same\n",
    "print(b is a) # And objects are actually the same, as b aliased a\n",
    "print(b)\n",
    "b = [1,2]\n",
    "print(b==a)   # Values are still the same\n",
    "print(b is a) # But the objects are now differen! False!"
   ]
  },
  {
   "cell_type": "code",
   "execution_count": 91,
   "metadata": {},
   "outputs": [
    {
     "name": "stdout",
     "output_type": "stream",
     "text": [
      "[1, 2, 3]\n",
      "[0, 2, 3]\n"
     ]
    }
   ],
   "source": [
    "def gator(b):\n",
    "    b[0] = 0\n",
    "\n",
    "a = [1,2,3]\n",
    "print(a)\n",
    "gator(a) # This changes the value of a, as if it passed a reference to an object\n",
    "print(a)"
   ]
  },
  {
   "cell_type": "code",
   "execution_count": 95,
   "metadata": {},
   "outputs": [
    {
     "name": "stdout",
     "output_type": "stream",
     "text": [
      "[1, 2, 3]\n",
      "[1, 2, 3]\n"
     ]
    }
   ],
   "source": [
    "def skunk(b):\n",
    "    b = b[0:len(b)] # Slicing created a NEW object\n",
    "    b[0] = 0        # This object was changed\n",
    "    \n",
    "a = [1,2,3]\n",
    "print(a)\n",
    "skunk(a) # But the original object wasn't changed, in this case!\n",
    "print(a)"
   ]
  },
  {
   "cell_type": "code",
   "execution_count": 96,
   "metadata": {},
   "outputs": [
    {
     "name": "stdout",
     "output_type": "stream",
     "text": [
      "[1, 2, 3]\n",
      "[1, 2, 3]\n"
     ]
    }
   ],
   "source": [
    "def gator(b):\n",
    "    b[0] = 0\n",
    "\n",
    "a = [1,2,3]\n",
    "print(a)\n",
    "gator(a.copy()) # pass with a copy\n",
    "print(a)        # Obv no change"
   ]
  }
 ],
 "metadata": {
  "kernelspec": {
   "display_name": "Python 3",
   "language": "python",
   "name": "python3"
  },
  "language_info": {
   "codemirror_mode": {
    "name": "ipython",
    "version": 3
   },
   "file_extension": ".py",
   "mimetype": "text/x-python",
   "name": "python",
   "nbconvert_exporter": "python",
   "pygments_lexer": "ipython3",
   "version": "3.7.0"
  }
 },
 "nbformat": 4,
 "nbformat_minor": 2
}
