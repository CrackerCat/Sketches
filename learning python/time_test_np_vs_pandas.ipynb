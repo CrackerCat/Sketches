{
 "cells": [
  {
   "cell_type": "markdown",
   "metadata": {},
   "source": [
    "# Numpy vs Pandas vs Objects for agent modeling\n",
    "\n",
    "Trying to see whether there's any reason not to use Pandas"
   ]
  },
  {
   "cell_type": "code",
   "execution_count": 130,
   "metadata": {},
   "outputs": [],
   "source": [
    "import numpy as np\n",
    "import pandas as pd\n",
    "import matplotlib.pyplot as plt\n",
    "import time\n",
    "\n",
    "np.random.seed(1) # Fix seed"
   ]
  },
  {
   "cell_type": "markdown",
   "metadata": {},
   "source": [
    "Tests case:\n",
    "\n",
    "* A bunch of objects, each with (x,y) coordinates.\n",
    "* Calculate pairwise distances between objects.\n",
    "* For each object, update the distance to the closest object.\n",
    "\n",
    "Technical solutions we'll compare:\n",
    "\n",
    "* One pandas frame\n",
    "* One global object with saveral numpy properties\n",
    "* Each object remembers its own value"
   ]
  },
  {
   "cell_type": "code",
   "execution_count": 126,
   "metadata": {},
   "outputs": [],
   "source": [
    "class Case_p:\n",
    "    \"\"\"Option with Pandas.\"\"\"\n",
    "    def __init__(self,n=100):\n",
    "        self.data = pd.DataFrame({'x': np.random.rand(n) , 'y': np.random.rand(n), 'val': [0]*n})\n",
    "    \n",
    "    def distances(self,i):\n",
    "        \"\"\"Distances from object i to all other objects.\"\"\"\n",
    "        d = self.data\n",
    "        return np.sqrt((d.x-d.x[i])**2 + (d.y-d.y[i])**2)\n",
    "    \n",
    "    def update(self,i,value):\n",
    "        self.data.loc[i,'val'] = value\n",
    "        \n",
    "        \n",
    "class Case_n:\n",
    "    \"\"\"Option with numpy.\"\"\"\n",
    "    def __init__(self,n=100):\n",
    "        self.xy  = np.random.rand(n,2)\n",
    "        self.val = np.zeros(n)\n",
    "    \n",
    "    def distances(self,i):\n",
    "        \"\"\"Distances from object i to all other objects.\"\"\"\n",
    "        return np.sqrt(np.sum((self.xy-self.xy[i,:])**2,axis=1))\n",
    "    \n",
    "    def update(self,i,value):\n",
    "        self.val[i] = value\n",
    "        \n",
    "        \n",
    "class Case_o:\n",
    "    \"\"\"Option with objects.\"\"\"\n",
    "    class Node:\n",
    "        def __init__(self,x=None,y=None,val=None):\n",
    "            self.x = x\n",
    "            self.y = y\n",
    "            self.val = val\n",
    "            \n",
    "        def distance(self,other):\n",
    "            return np.sqrt((self.x-other.x)**2 + (self.y-other.y)**2)\n",
    "        \n",
    "        def update(self,val):\n",
    "            self.val = val        \n",
    "    \n",
    "    def __init__(self,n=100):\n",
    "        self.Nodes = []\n",
    "        for i in range(n):\n",
    "            self.Nodes.append(Case_o.Node(np.random.rand(),np.random.rand(),0))\n",
    "            \n",
    "    def distances(self,i):\n",
    "        \"\"\"Distances from object i to all other objects.\"\"\"\n",
    "        return [self.Nodes[i].distance(nj) for nj in self.Nodes]\n",
    "    \n",
    "    def update(self,i,value):\n",
    "        self.Nodes[i].update(value)\n",
    "        \n",
    "class Case_e:\n",
    "    \"\"\"Empthy class.\"\"\"\n",
    "    def __init__(self,n=100):\n",
    "        pass\n",
    "    \n",
    "    def distances(self,i):\n",
    "        return [1]\n",
    "    \n",
    "    def update(self,i,value):\n",
    "        pass\n",
    "        \n",
    "# ."
   ]
  },
  {
   "cell_type": "code",
   "execution_count": 146,
   "metadata": {},
   "outputs": [
    {
     "name": "stdout",
     "output_type": "stream",
     "text": [
      "....\n",
      "....\n",
      "....\n",
      "....\n",
      "....\n",
      "....\n",
      "....\n",
      "....\n",
      "....\n",
      "....\n"
     ]
    },
    {
     "data": {
      "text/plain": [
       "array([[1.00016594e-03, 1.71009779e-01, 1.80010796e-02, 7.05040455e-01],\n",
       "       [9.99927521e-04, 6.05034590e-01, 6.30037785e-02, 1.42008114e+00],\n",
       "       [2.00009346e-03, 1.34907699e+00, 1.11006498e-01, 2.19412565e+00],\n",
       "       [2.00009346e-03, 2.42513871e+00, 1.93010807e-01, 3.09717727e+00],\n",
       "       [2.00033188e-03, 3.89422250e+00, 2.80016184e-01, 3.64820838e+00],\n",
       "       [3.00025940e-03, 5.68232512e+00, 3.87022018e-01, 4.47925639e+00],\n",
       "       [3.00002098e-03, 7.57743335e+00, 5.23030043e-01, 5.19529724e+00],\n",
       "       [3.99994850e-03, 1.00235734e+01, 7.58043528e-01, 6.21335530e+00],\n",
       "       [5.00035286e-03, 1.24987152e+01, 8.66049290e-01, 6.94039702e+00],\n",
       "       [5.00059128e-03, 1.53308768e+01, 1.02605867e+00, 7.82044721e+00]])"
      ]
     },
     "execution_count": 146,
     "metadata": {},
     "output_type": "execute_result"
    }
   ],
   "source": [
    "# Test case:\n",
    "n_iterations = 10\n",
    "nobj_list = [(i+1)*100 for i in range(10)]\n",
    "\n",
    "objects_list = [Case_e,Case_o,Case_n,Case_p]\n",
    "names_list = ['Empty','Objects','Numpy','Pandas']\n",
    "\n",
    "out = np.zeros((len(nobj_list),len(names_list)))\n",
    "\n",
    "for inobj in range(len(nobj_list)):\n",
    "    nobj = nobj_list[inobj]\n",
    "    #print(nobj,' objects')\n",
    "    for io in range(len(objects_list)):\n",
    "        tic = time.time()\n",
    "        t = objects_list[io](nobj)\n",
    "        for _ in range(n_iterations):\n",
    "            for i in range(nobj): # Intentional unavoidable imperfection\n",
    "                d = t.distances(i)\n",
    "                t.update(i,min(d))\n",
    "        time_passed = time.time()-tic\n",
    "        out[inobj,io] = time_passed\n",
    "        #print(names_list[io],':',time_passed)\n",
    "        print('.',end='')\n",
    "    print('|',end='')\n",
    "        \n",
    "out"
   ]
  },
  {
   "cell_type": "code",
   "execution_count": 148,
   "metadata": {},
   "outputs": [
    {
     "data": {
      "image/png": "[encoded data removed]",
      "text/plain": [
       "<Figure size 432x288 with 1 Axes>"
      ]
     },
     "metadata": {
      "needs_background": "light"
     },
     "output_type": "display_data"
    }
   ],
   "source": [
    "plt.plot(nobj_list,out,'.-');\n",
    "plt.legend(names_list);"
   ]
  },
  {
   "cell_type": "markdown",
   "metadata": {},
   "source": [
    "**Conclusion:** Obviously, numpy is the best. So the trick is to have a well-designed set of global vectors."
   ]
  }
 ],
 "metadata": {
  "kernelspec": {
   "display_name": "Python 3",
   "language": "python",
   "name": "python3"
  },
  "language_info": {
   "codemirror_mode": {
    "name": "ipython",
    "version": 3
   },
   "file_extension": ".py",
   "mimetype": "text/x-python",
   "name": "python",
   "nbconvert_exporter": "python",
   "pygments_lexer": "ipython3",
   "version": "3.7.0"
  }
 },
 "nbformat": 4,
 "nbformat_minor": 2
}
