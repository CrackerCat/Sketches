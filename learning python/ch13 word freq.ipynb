{
 "cells": [
  {
   "cell_type": "markdown",
   "metadata": {},
   "source": [
    "## 13. Word frequency"
   ]
  },
  {
   "cell_type": "code",
   "execution_count": 1,
   "metadata": {},
   "outputs": [],
   "source": [
    "import string\n",
    "import time\n",
    "import random"
   ]
  },
  {
   "cell_type": "code",
   "execution_count": 2,
   "metadata": {},
   "outputs": [],
   "source": [
    "f = open(\"../../alice.txt\",\"r\",encoding='utf-8');\n",
    "lines = f.readlines()\n",
    "f = open(\"../../pride.txt\",\"r\",encoding='utf-8');\n",
    "lines = lines + f.readlines()"
   ]
  },
  {
   "cell_type": "code",
   "execution_count": 3,
   "metadata": {},
   "outputs": [
    {
     "name": "stdout",
     "output_type": "stream",
     "text": [
      "!\"#$%&'()*+,-./:;<=>?@[\\]^_`{|}~‘’“”\n"
     ]
    }
   ],
   "source": [
    "myPunctuation = string.punctuation+'‘’“”'\n",
    "# myPunctuation = myPunctuation.replace(\"'\",'') # Remove ' from the list, so that wouldn't wouldn't become wouldn t\n",
    "print(myPunctuation)\n",
    "\n",
    "# Saving \"couldn't\" didn't work, as this file uses ’ for both coudln't and for direct speech.\n",
    "# Abandoning this for now.\n",
    "\n",
    "transTable = {ord(c):' ' for c in myPunctuation}  # Make a special table for string.translate\n",
    "# transTable.update({ord(\"'\"): ''})\n",
    "transTable.update({ord(c):' ' for c in string.whitespace}) # (very fast, and a new syntax in Python 3)"
   ]
  },
  {
   "cell_type": "code",
   "execution_count": 4,
   "metadata": {},
   "outputs": [],
   "source": [
    "words = dict()\n",
    "\n",
    "for s in lines:\n",
    "    s = s.translate(transTable).lower()\n",
    "    for w in s.split(' '):        \n",
    "        if len(w)>0:\n",
    "            words[w] = words.get(w,0)+1\n",
    "            #print(w+\"|\",end='')\n",
    "    #print()"
   ]
  },
  {
   "cell_type": "code",
   "execution_count": 5,
   "metadata": {},
   "outputs": [
    {
     "name": "stdout",
     "output_type": "stream",
     "text": [
      "the to and of i a her she in was it that you not he as be his had with for but at is have on said s him all mr my they so by were elizabeth very what could which this no would been from them your me their there when will if such do an darcy alice are much one or more must who mrs am did know bennet little herself any than bingley how jane well we miss can should time then now never only before think some again out other after soon though t might has "
     ]
    }
   ],
   "source": [
    "# To sort, turn it into a list of reversed tuples, then sort tuples\n",
    "sortedList = sorted([(value,key) for (key,value) in words.items()] , reverse=True)\n",
    "for t in sortedList[:100]:\n",
    "    #print(t[0],\":\",t[1],sep=\"\",end=\" \")\n",
    "    print(t[1],end=\" \")"
   ]
  },
  {
   "cell_type": "code",
   "execution_count": 8,
   "metadata": {},
   "outputs": [
    {
     "name": "stdout",
     "output_type": "stream",
     "text": [
      "0.014000892639160156\n"
     ]
    }
   ],
   "source": [
    "# Now let's combine all book into one giant string\n",
    "\n",
    "book = ''\n",
    "for s in lines:\n",
    "    book = book+s\n",
    "    \n",
    "book = book.translate(transTable).lower()\n",
    "wseq = book.split(' ')\n",
    "\n",
    "tic = time.time()\n",
    "#while \"\" in wseq:\n",
    "#    wseq.remove(\"\") # Very slow: 3 sec\n",
    "wseq = ' '.join(wseq).split() # Fast: 0.003 sec. First char defines the separator, split() breaks apart. \n",
    "                              # split(\" \") doesn't work tho, not sure why. Presumably, space is the default splitter.\n",
    "print(time.time()-tic)"
   ]
  },
  {
   "cell_type": "code",
   "execution_count": 10,
   "metadata": {},
   "outputs": [],
   "source": [
    "# Collect the stats as a dict of dicts\n",
    "markov = dict()\n",
    "for i in range(len(wseq)-1):\n",
    "    if wseq[i] not in markov:\n",
    "        markov[wseq[i]] = {wseq[i+1]: 1}\n",
    "    else:\n",
    "        markov[wseq[i]][wseq[i+1]] = markov[wseq[i]].get(wseq[i+1],0)+1"
   ]
  },
  {
   "cell_type": "code",
   "execution_count": 11,
   "metadata": {},
   "outputs": [
    {
     "data": {
      "text/plain": [
       "'and'"
      ]
     },
     "execution_count": 11,
     "metadata": {},
     "output_type": "execute_result"
    }
   ],
   "source": [
    "a = markov['king']\n",
    "# a.items() - a list of tuples with word,freq\n",
    "# *a.items() - many tuples with word,freq, not listed around them\n",
    "# zip(*a.items) - a zip object ready to open into 2 tuples, one with all words, another one with all freqs\n",
    "w,v = tuple(zip(*a.items()))\n",
    "v = list(v) # Change type from tuple ot list\n",
    " \n",
    "point = random.randrange(sum(v)) # random point\n",
    " \n",
    "iWord = 0\n",
    "while point>=0: # Shift to the right until we hit the word\n",
    "    point -= v[iWord]\n",
    "    iWord += 1\n",
    "iWord -= 1 # Move back by one, to compensate for last move\n",
    "list(w)[iWord]"
   ]
  },
  {
   "cell_type": "code",
   "execution_count": 12,
   "metadata": {},
   "outputs": [
    {
     "name": "stdout",
     "output_type": "stream",
     "text": [
      "three "
     ]
    }
   ],
   "source": [
    "def proceed(table):\n",
    "    '''Uses table as a frequency table, and picks one option at random, according to its frequency'''\n",
    "    w,v = tuple(zip(*table.items()))\n",
    "    v = list(v) # Change type from tuple ot list\n",
    "\n",
    "    point = random.randrange(sum(v)) # random point\n",
    "\n",
    "    iWord = 0\n",
    "    while point>=0: # Shift to the right until we hit the word\n",
    "        point -= v[iWord]\n",
    "        iWord += 1\n",
    "    iWord -= 1 # Move back by one, to compensate for last move\n",
    "    return list(w)[iWord]\n",
    "\n",
    "for i in range(1):\n",
    "    print(proceed(markov['alice']),end=' ')\n"
   ]
  },
  {
   "cell_type": "code",
   "execution_count": 13,
   "metadata": {},
   "outputs": [
    {
     "data": {
      "text/plain": [
       "'king said of the thought him but it any husband call the puppy it had been sitting on every member of their brother and myself at brighton therefore liberally bestowed her flamingo was a fellow what do cure the match it and there was now they ought not blame and his having one mind was and without it they will recollect what relations whose character to say no other feelings in such amiable when it had been in the person who have had never in hertfordshire this cannot laugh and whether any of feeling of punch to make herself and sister was happily i have happened could bear solitude on your uncle has not i like a few of trouble you had been mistaken mr darcy s drawing room before and write it must be civil to gratify him which case then she should if we would be assured her imprudence i are safe to his life of em do i ask his acquaintance with one of this here elizabeth really ill natured and in spirits they should be so affectionately into the army she admired the song i am only this before mentioned his return into the place they reproached'"
      ]
     },
     "execution_count": 13,
     "metadata": {},
     "output_type": "execute_result"
    }
   ],
   "source": [
    "def generate(seed,n=10):\n",
    "    out = seed\n",
    "    current = seed\n",
    "    for i in range(n):\n",
    "        #current = random.choice(list(markov[current].keys()))\n",
    "        current = proceed(markov[current])\n",
    "        out = out + ' ' + current\n",
    "    return out\n",
    "\n",
    "generate('king',200)"
   ]
  },
  {
   "cell_type": "code",
   "execution_count": 20,
   "metadata": {},
   "outputs": [],
   "source": [
    "# Collect the stats as a dict of dicts\n",
    "markov2 = dict()\n",
    "for i in range(len(wseq)-2):\n",
    "    combo = wseq[i]+' '+wseq[i+1]\n",
    "    if combo not in markov2:\n",
    "        markov2[combo] = {wseq[i+2]: 1}\n",
    "    else:\n",
    "        markov2[combo][wseq[i+2]] = markov2[combo].get(wseq[i+2],0)+1"
   ]
  },
  {
   "cell_type": "code",
   "execution_count": 21,
   "metadata": {},
   "outputs": [
    {
     "data": {
      "text/plain": [
       "{'alice': 1, 'to': 4, 'with': 1, 'turning': 1, 'gravely': 1, 'for': 1}"
      ]
     },
     "execution_count": 21,
     "metadata": {},
     "output_type": "execute_result"
    }
   ],
   "source": [
    "markov2['king said']"
   ]
  },
  {
   "cell_type": "code",
   "execution_count": 22,
   "metadata": {},
   "outputs": [
    {
     "name": "stdout",
     "output_type": "stream",
     "text": [
      "or\n",
      "this "
     ]
    }
   ],
   "source": [
    "print(proceed(markov['alice']))\n",
    "print(proceed(markov2['alice thought']),end=' ')"
   ]
  },
  {
   "cell_type": "code",
   "execution_count": 43,
   "metadata": {},
   "outputs": [
    {
     "data": {
      "text/plain": [
       "'caterpillar s making personal remarks now the right disposition but that was a fortnight later in july and must be attributed and as it was done for lydia we may as well as some persons imagine i am in earnest contemplation and returned to the beauties of matlock chatsworth dovedale or the great surprise of such a subject which they were separated by the easiness of temper than her being the sister of hers how it could not be prevailed upon to get husbands what a pity it wouldn t be angry my dearest child she was coming down again by letter for the baby the cook threw a real gloom over their whole bodies in a different quarter from mr collins could not be easily believed that she was saying and the chosen partner of her sister had given a very innocent diversion and perfectly compatible with the invalid who continued however imperturbably grave she looked up and say how happy they should meet what a letter of excuse from his amiable charlotte by the lady with whom he might become a part of what is all i am dressed and tell us a story do not pretend to be paid the visit chapter 6 the ladies then withdrew all of them and i take your choice the next and so rich and green waiting in a great curiosity and elizabeth saw directly that her wishes and sincerely affected herself accompanied her out of this sounds of more fashion than fortune less disposed to pardon his interference which asked no extraordinary stretch of belief it was next to no suspicion the faces of both i know not whether she were to pass away and miss bingley was that like said alice very humbly you had no intelligence to send for the moment alice appeared she was only entailed on mr collins but if he marry prudently his wife understand his character never occurred to the proposal and it cannot be too much reason to think meanly of all the young people this is not there is also one other person to discourage him though to the duchess it had always been her favourite walk when the expectation of the letter from his horse or his dependence on her judgment but it s so extremely just then she had walked fast to get an opportunity of dancing was a curious dream said alice allow me or do i play next my fingers said elizabeth angrily for i consider myself as quitting that sphere he is very impertinent of him in marriage this gallantry was not much reason to hope he might have been that it was unpardonable i cannot quite agree with lady lucas were speedily applied to miss bingley charles writes in the sea the gryphon only answered come on here thought alice without pictures or conversations so she began thinking over other children she knew not what you had given him an invitation to stay with it is make haste'"
      ]
     },
     "execution_count": 43,
     "metadata": {},
     "output_type": "execute_result"
    }
   ],
   "source": [
    "def generate2(seed,n=10):\n",
    "    out = seed\n",
    "    current = seed\n",
    "    for i in range(n):\n",
    "        #current = random.choice(list(markov[current].keys()))\n",
    "        newone = proceed(markov2[current])\n",
    "        out = out + ' ' + newone\n",
    "        current = current.split()[1]+\" \"+newone\n",
    "    return out\n",
    "\n",
    "generate2(generate('caterpillar',1),500)"
   ]
  }
 ],
 "metadata": {
  "kernelspec": {
   "display_name": "Python 3",
   "language": "python",
   "name": "python3"
  },
  "language_info": {
   "codemirror_mode": {
    "name": "ipython",
    "version": 3
   },
   "file_extension": ".py",
   "mimetype": "text/x-python",
   "name": "python",
   "nbconvert_exporter": "python",
   "pygments_lexer": "ipython3",
   "version": "3.7.0"
  }
 },
 "nbformat": 4,
 "nbformat_minor": 2
}
