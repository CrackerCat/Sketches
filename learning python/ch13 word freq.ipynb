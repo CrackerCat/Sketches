{
 "cells": [
  {
   "cell_type": "markdown",
   "metadata": {},
   "source": [
    "## 13. Word frequency"
   ]
  },
  {
   "cell_type": "code",
   "execution_count": 195,
   "metadata": {},
   "outputs": [],
   "source": [
    "import string\n",
    "import time\n",
    "import random"
   ]
  },
  {
   "cell_type": "code",
   "execution_count": 368,
   "metadata": {},
   "outputs": [],
   "source": [
    "f = open(\"../../alice.txt\",\"r\",encoding='utf-8');\n",
    "lines = f.readlines()\n",
    "f = open(\"../../pride.txt\",\"r\",encoding='utf-8');\n",
    "lines = lines + f.readlines()"
   ]
  },
  {
   "cell_type": "code",
   "execution_count": 369,
   "metadata": {},
   "outputs": [
    {
     "name": "stdout",
     "output_type": "stream",
     "text": [
      "!\"#$%&'()*+,-./:;<=>?@[\\]^_`{|}~‘’“”\n"
     ]
    }
   ],
   "source": [
    "myPunctuation = string.punctuation+'‘’“”'\n",
    "# myPunctuation = myPunctuation.replace(\"'\",'') # Remove ' from the list, so that wouldn't wouldn't become wouldn t\n",
    "print(myPunctuation)\n",
    "\n",
    "# Saving \"couldn't\" didn't work, as this file uses ’ for both coudln't and for direct speech.\n",
    "# Abandoning this for now.\n",
    "\n",
    "transTable = {ord(c):' ' for c in myPunctuation}  # Make a special table for string.translate\n",
    "# transTable.update({ord(\"'\"): ''})\n",
    "transTable.update({ord(c):' ' for c in string.whitespace}) # (very fast, and a new syntax in Python 3)"
   ]
  },
  {
   "cell_type": "code",
   "execution_count": 370,
   "metadata": {},
   "outputs": [],
   "source": [
    "words = dict()\n",
    "\n",
    "for s in lines:\n",
    "    s = s.translate(transTable).lower()\n",
    "    for w in s.split(' '):        \n",
    "        if len(w)>0:\n",
    "            words[w] = words.get(w,0)+1\n",
    "            #print(w+\"|\",end='')\n",
    "    #print()"
   ]
  },
  {
   "cell_type": "code",
   "execution_count": 371,
   "metadata": {},
   "outputs": [
    {
     "name": "stdout",
     "output_type": "stream",
     "text": [
      "the to and of i a her she in was it that you not he as be his had with for but at is have on said s him all mr my they so by were elizabeth very what could which this no would been from them your me their there when will if such do an darcy alice are much one or more must who mrs am did know bennet little herself any than bingley how jane well we miss can should time then now never only before think some again out other after soon though t might has "
     ]
    }
   ],
   "source": [
    "# To sort, turn it into a list of reversed tuples, then sort tuples\n",
    "sortedList = sorted([(value,key) for (key,value) in words.items()] , reverse=True)\n",
    "for t in sortedList[:100]:\n",
    "    #print(t[0],\":\",t[1],sep=\"\",end=\" \")\n",
    "    print(t[1],end=\" \")"
   ]
  },
  {
   "cell_type": "code",
   "execution_count": 372,
   "metadata": {},
   "outputs": [
    {
     "name": "stdout",
     "output_type": "stream",
     "text": [
      "0.01500082015991211\n"
     ]
    }
   ],
   "source": [
    "# Now let's combine all book into one giant string\n",
    "\n",
    "book = ''\n",
    "for s in lines:\n",
    "    book = book+s\n",
    "    \n",
    "book = book.translate(transTable).lower()\n",
    "wseq = book.split(' ')\n",
    "\n",
    "tic = time.time()\n",
    "#while \"\" in wseq:\n",
    "#    wseq.remove(\"\") # Very slow: 3 sec\n",
    "wseq = ' '.join(wseq).split() # Fast: 0.003 sec. First char defines the separator, split() breaks apart. \n",
    "                              # split(\" \") doesn't work tho, not sure why. Presumably, space is the default splitter.\n",
    "print(time.time()-tic)"
   ]
  },
  {
   "cell_type": "code",
   "execution_count": 373,
   "metadata": {},
   "outputs": [],
   "source": [
    "# Collect the stats as a dict of dicts\n",
    "markov = dict()\n",
    "for i in range(len(wseq)-1):\n",
    "    if wseq[i] not in markov:\n",
    "        markov[wseq[i]] = {wseq[i+1]: 1}\n",
    "    else:\n",
    "        markov[wseq[i]][wseq[i+1]] = markov[wseq[i]].get(wseq[i+1],0)+1"
   ]
  },
  {
   "cell_type": "code",
   "execution_count": 374,
   "metadata": {},
   "outputs": [
    {
     "data": {
      "text/plain": [
       "'here'"
      ]
     },
     "execution_count": 374,
     "metadata": {},
     "output_type": "execute_result"
    }
   ],
   "source": [
    "a = markov['king']\n",
    "# a.items() - a list of tuples with word,freq\n",
    "# *a.items() - many tuples with word,freq, not listed around them\n",
    "# zip(*a.items) - a zip object ready to open into 2 tuples, one with all words, another one with all freqs\n",
    "w,v = tuple(zip(*a.items()))\n",
    "v = list(v) # Change type from tuple ot list\n",
    " \n",
    "point = random.randrange(sum(v)) # random point\n",
    " \n",
    "iWord = 0\n",
    "while point>=0: # Shift to the right until we hit the word\n",
    "    point -= v[iWord]\n",
    "    iWord += 1\n",
    "iWord -= 1 # Move back by one, to compensate for last move\n",
    "list(w)[iWord]"
   ]
  },
  {
   "cell_type": "code",
   "execution_count": 375,
   "metadata": {},
   "outputs": [
    {
     "name": "stdout",
     "output_type": "stream",
     "text": [
      "knew "
     ]
    }
   ],
   "source": [
    "def proceed(table):\n",
    "    '''Uses table as a frequency table, and picks one option at random, according to its frequency'''\n",
    "    w,v = tuple(zip(*table.items()))\n",
    "    v = list(v) # Change type from tuple ot list\n",
    "\n",
    "    point = random.randrange(sum(v)) # random point\n",
    "\n",
    "    iWord = 0\n",
    "    while point>=0: # Shift to the right until we hit the word\n",
    "        point -= v[iWord]\n",
    "        iWord += 1\n",
    "    iWord -= 1 # Move back by one, to compensate for last move\n",
    "    return list(w)[iWord]\n",
    "\n",
    "for i in range(1):\n",
    "    print(proceed(markov['alice']),end=' ')\n"
   ]
  },
  {
   "cell_type": "code",
   "execution_count": 377,
   "metadata": {},
   "outputs": [
    {
     "data": {
      "text/plain": [
       "'king i do it but agreed on a violation of her and the delicacy may she ran off with some meat were ignorant of her was directly her when bingley and so excessively handsome enough to his happiness of all night spent in the modern with them and at so she represented and after officers mr collins was to longbourn coming down and all my dear paws and he had only mustard isn t you will not speak severely who could never they could marry miss darcy was over hertfordshire the last the want abilities who live but absence from the carriage and on your relations all her brother we went to her mother and concise and offered olive branch but she was with an excellent disposition must still possessed of seeing her uncle and chicken elizabeth with her on the gryphon and after many amiable young man the pleasure in time but when it could not equal in common indeed i am to send round it there was an opportunity for speech nothing but checked himself suddenly dropping his warmest affection for a fortune and paris and within the sisters elizabeth still more they you showed her parasol which in'"
      ]
     },
     "execution_count": 377,
     "metadata": {},
     "output_type": "execute_result"
    }
   ],
   "source": [
    "def generate(seed,n=10):\n",
    "    out = seed\n",
    "    current = seed\n",
    "    for i in range(n):\n",
    "        #current = random.choice(list(markov[current].keys()))\n",
    "        current = proceed(markov[current])\n",
    "        out = out + ' ' + current\n",
    "    return out\n",
    "\n",
    "generate('king',200)"
   ]
  }
 ],
 "metadata": {
  "kernelspec": {
   "display_name": "Python 3",
   "language": "python",
   "name": "python3"
  },
  "language_info": {
   "codemirror_mode": {
    "name": "ipython",
    "version": 3
   },
   "file_extension": ".py",
   "mimetype": "text/x-python",
   "name": "python",
   "nbconvert_exporter": "python",
   "pygments_lexer": "ipython3",
   "version": "3.7.0"
  }
 },
 "nbformat": 4,
 "nbformat_minor": 2
}
