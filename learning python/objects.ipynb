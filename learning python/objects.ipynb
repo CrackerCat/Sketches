{
 "cells": [
  {
   "cell_type": "markdown",
   "metadata": {},
   "source": [
    "# OOP\n",
    "\n",
    "Some simple tests of OOP concepts"
   ]
  },
  {
   "cell_type": "code",
   "execution_count": 25,
   "metadata": {},
   "outputs": [
    {
     "name": "stdout",
     "output_type": "stream",
     "text": [
      "I am 0 days old.\n",
      "Jumping\n",
      "Grooming\n",
      "Carrots are good\n",
      "I am 0 days old.\n",
      "I am 0 days old.\n"
     ]
    }
   ],
   "source": [
    "class Animal:\n",
    "    age = 0\n",
    "    \n",
    "    def __init__(self):\n",
    "        self.age = 0\n",
    "    \n",
    "    # Instance method: no decorator; receives self; \n",
    "    def speak(self):\n",
    "        print(f'I am {self.age} days old.')\n",
    "        \n",
    "class AniTools: # A mixin: never instantiated\n",
    "    def groom(self):\n",
    "        print('Grooming')\n",
    "    \n",
    "class Hare(Animal, AniTools):\n",
    "    def jump(self):\n",
    "        print(self.improve('jumping'))\n",
    "        \n",
    "    # Internal utility function; no self => no acess to obj data \n",
    "    @staticmethod    \n",
    "    def improve(s):\n",
    "        return s.capitalize()\n",
    "    \n",
    "    # Get 'cls' instead of 'self', which is not an instance, but a class reference\n",
    "    # cls is an auto-argument (similar to self), passed by Python\n",
    "    @classmethod\n",
    "    def rant(cls):\n",
    "        print(cls.improve('carrots are good'))\n",
    "        cls.age += 1 # Can change class-specific details, but not that for an instance\n",
    "        # (they don'thave access to an instance)\n",
    "        # For now I don't understand how they can change something, so I'll pretend that they can't,\n",
    "        # and can only acess static classes and be inhereted properly.\n",
    "        \n",
    "        \n",
    "a = Hare()\n",
    "a.speak()\n",
    "a.jump()\n",
    "a.groom()\n",
    "a.rant()\n",
    "a.speak() # Hare didn't change, even tho the class supposedly did change (whatever it means)"
   ]
  }
 ],
 "metadata": {
  "kernelspec": {
   "display_name": "Python 3",
   "language": "python",
   "name": "python3"
  },
  "language_info": {
   "codemirror_mode": {
    "name": "ipython",
    "version": 3
   },
   "file_extension": ".py",
   "mimetype": "text/x-python",
   "name": "python",
   "nbconvert_exporter": "python",
   "pygments_lexer": "ipython3",
   "version": "3.7.3"
  }
 },
 "nbformat": 4,
 "nbformat_minor": 2
}
