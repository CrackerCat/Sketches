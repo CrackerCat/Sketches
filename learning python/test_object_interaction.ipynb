{
 "cells": [
  {
   "cell_type": "markdown",
   "metadata": {},
   "source": [
    "# Testing whether objects work as I thought they do\n",
    "\n",
    "The plan:\n",
    "\n",
    "* Create two objects\n",
    "* Make one object create a numpy thingie, remember it\n",
    "* Then output it to the outside\n",
    "* Then pass it to another object, and make it remember it\n",
    "\n",
    "A question: will all three pointers (first object's out, outside thingie, and 2nd object remembered input) point at one numpy structure? Or will it deepcopy it at some point?"
   ]
  },
  {
   "cell_type": "code",
   "execution_count": 1,
   "metadata": {},
   "outputs": [],
   "source": [
    "import numpy as np"
   ]
  },
  {
   "cell_type": "code",
   "execution_count": 20,
   "metadata": {},
   "outputs": [
    {
     "name": "stdout",
     "output_type": "stream",
     "text": [
      "[2 2]\n"
     ]
    }
   ],
   "source": [
    "class A():\n",
    "    \"\"\"Test object.\"\"\"\n",
    "    def __init__(self):\n",
    "        self.input = None\n",
    "        self.out = None\n",
    "        \n",
    "    def run(self,x):\n",
    "        self.input = x\n",
    "        self.out = x+1\n",
    "        return self.out\n",
    "    \n",
    "    def mutate(self):\n",
    "        \"\"\"Sneakily changes its remembered input.\"\"\"\n",
    "        self.input[0] = 5\n",
    "        \n",
    "# Test\n",
    "a = A()\n",
    "b = A()\n",
    "x = np.array([0,0])\n",
    "y = a.run(x)\n",
    "print(b.run(y))"
   ]
  },
  {
   "cell_type": "code",
   "execution_count": 21,
   "metadata": {},
   "outputs": [
    {
     "name": "stdout",
     "output_type": "stream",
     "text": [
      "[1 1]\n",
      "[1 1]\n",
      "[1 1]\n"
     ]
    }
   ],
   "source": [
    "print(a.out)\n",
    "print(y)\n",
    "print(b.input)"
   ]
  },
  {
   "cell_type": "code",
   "execution_count": 22,
   "metadata": {},
   "outputs": [
    {
     "name": "stdout",
     "output_type": "stream",
     "text": [
      "[5 1]\n",
      "[5 1]\n",
      "[5 1]\n"
     ]
    }
   ],
   "source": [
    "b.mutate()\n",
    "print(a.out)\n",
    "print(y)\n",
    "print(b.input)"
   ]
  },
  {
   "cell_type": "markdown",
   "metadata": {},
   "source": [
    "### Conclusion\n",
    "\n",
    "Yes, as expected, if you pass numpy objects around, and if you want to remember values, and not references to these objects, you should call a copy method on them."
   ]
  }
 ],
 "metadata": {
  "kernelspec": {
   "display_name": "Python 3",
   "language": "python",
   "name": "python3"
  },
  "language_info": {
   "codemirror_mode": {
    "name": "ipython",
    "version": 3
   },
   "file_extension": ".py",
   "mimetype": "text/x-python",
   "name": "python",
   "nbconvert_exporter": "python",
   "pygments_lexer": "ipython3",
   "version": "3.7.3"
  }
 },
 "nbformat": 4,
 "nbformat_minor": 2
}
