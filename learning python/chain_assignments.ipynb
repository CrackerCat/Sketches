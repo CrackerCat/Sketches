{
 "cells": [
  {
   "cell_type": "markdown",
   "metadata": {},
   "source": [
    "# Chain assignments\n",
    "\n",
    "`a = b = c` is apparently the same as:\n",
    "\n",
    "```python\n",
    "_ = c\n",
    "a = _\n",
    "b = _\n",
    "\n",
    "```"
   ]
  },
  {
   "cell_type": "code",
   "execution_count": 64,
   "metadata": {},
   "outputs": [
    {
     "name": "stdout",
     "output_type": "stream",
     "text": [
      "[1]\n"
     ]
    }
   ],
   "source": [
    "a = b = []\n",
    "a.append(1)\n",
    "print(b)"
   ]
  },
  {
   "cell_type": "code",
   "execution_count": 65,
   "metadata": {},
   "outputs": [
    {
     "name": "stdout",
     "output_type": "stream",
     "text": [
      "[1, 1]\n"
     ]
    }
   ],
   "source": [
    "a = a[1:] = [1]\n",
    "print(a)"
   ]
  },
  {
   "cell_type": "code",
   "execution_count": 66,
   "metadata": {},
   "outputs": [
    {
     "name": "stdout",
     "output_type": "stream",
     "text": [
      "[1]\n",
      "[1, 1]\n"
     ]
    }
   ],
   "source": [
    "if 'a' in globals(): del a\n",
    "_ = [1]\n",
    "a = _\n",
    "print(a)\n",
    "a[1:] = _\n",
    "print(a)"
   ]
  },
  {
   "cell_type": "code",
   "execution_count": 63,
   "metadata": {},
   "outputs": [
    {
     "name": "stdout",
     "output_type": "stream",
     "text": [
      "[[...]]\n"
     ]
    }
   ],
   "source": [
    "if 'a' in globals(): del a\n",
    "a = a[0] = [1]\n",
    "print(a)"
   ]
  },
  {
   "cell_type": "code",
   "execution_count": 85,
   "metadata": {},
   "outputs": [
    {
     "name": "stdout",
     "output_type": "stream",
     "text": [
      "[[...]]\n",
      "[[...]]\n",
      "[[1]]\n"
     ]
    }
   ],
   "source": [
    "# Here's another screwed-up example:\n",
    "_ = [1]    # Is not a link to a list == [1]\n",
    "b = _      # b is a link to the same list\n",
    "b[0] = _   # now the first element of b is a link to _ which is == to link to b, so we have a paradox?\n",
    "print(b)   # and Python cleans it up?\n",
    "\n",
    "print(_)   # Note _ == b still\n",
    "\n",
    "c = [1]\n",
    "c[0] = [1] # If you do that, loop doesn't happen\n",
    "print(c)"
   ]
  }
 ],
 "metadata": {
  "kernelspec": {
   "display_name": "Python 3",
   "language": "python",
   "name": "python3"
  },
  "language_info": {
   "codemirror_mode": {
    "name": "ipython",
    "version": 3
   },
   "file_extension": ".py",
   "mimetype": "text/x-python",
   "name": "python",
   "nbconvert_exporter": "python",
   "pygments_lexer": "ipython3",
   "version": "3.7.0"
  }
 },
 "nbformat": 4,
 "nbformat_minor": 2
}
