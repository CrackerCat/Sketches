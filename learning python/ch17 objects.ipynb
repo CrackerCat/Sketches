{
 "cells": [
  {
   "cell_type": "markdown",
   "metadata": {},
   "source": [
    "## Objects"
   ]
  },
  {
   "cell_type": "code",
   "execution_count": 24,
   "metadata": {},
   "outputs": [
    {
     "name": "stdout",
     "output_type": "stream",
     "text": [
      "Point (1.000000 , 3.000000)\n",
      "Point (11.000000 , 1.000000)\n",
      "Point (11.000000 , 1.000000)\n"
     ]
    }
   ],
   "source": [
    "class Po():\n",
    "    def __init__(self,x=0,y=0): # Default values for more flexible initialization\n",
    "        self.x = x\n",
    "        self.y = y\n",
    "        \n",
    "    def __str__(self): # Overload printing!\n",
    "        return \"Point (%f , %f)\" % (self.x , self.y)\n",
    "    \n",
    "    def __add__(self,other): # Overload + operator!\n",
    "        if isinstance(other,Po): # Type-based dispatch\n",
    "            return Po(self.x+other.x , self.y+other.y)\n",
    "        elif isinstance(other,(int, float)): # Any reasonable number\n",
    "            return Po(self.x+other, self.y)\n",
    "        else:\n",
    "            raise Exception('Oops, wrong input type!')\n",
    "            \n",
    "    def __radd__(self,other):\n",
    "        return self.__add__(other) # Fun built-in trick to enable left-side addition with base types\n",
    "        \n",
    "    \n",
    "        \n",
    "a = Po(1,1)\n",
    "b = Po(0,2)\n",
    "print(a+b)\n",
    "print(a+10)\n",
    "print(10+a)"
   ]
  },
  {
   "cell_type": "code",
   "execution_count": 25,
   "metadata": {},
   "outputs": [
    {
     "name": "stdout",
     "output_type": "stream",
     "text": [
      "Point (3.000000 , 4.000000)\n"
     ]
    }
   ],
   "source": [
    "print(sum([Po(1,1) , Po(2,3)])) # Function SUM is polymorphic and can work with everyhting that takes \"+\""
   ]
  },
  {
   "cell_type": "code",
   "execution_count": 28,
   "metadata": {},
   "outputs": [
    {
     "name": "stdout",
     "output_type": "stream",
     "text": [
      "Point (1.000000 , 0.000000)\n"
     ]
    }
   ],
   "source": [
    "a = Po()\n",
    "a.x = 1\n",
    "print(a)"
   ]
  }
 ],
 "metadata": {
  "kernelspec": {
   "display_name": "Python 3",
   "language": "python",
   "name": "python3"
  },
  "language_info": {
   "codemirror_mode": {
    "name": "ipython",
    "version": 3
   },
   "file_extension": ".py",
   "mimetype": "text/x-python",
   "name": "python",
   "nbconvert_exporter": "python",
   "pygments_lexer": "ipython3",
   "version": "3.7.0"
  }
 },
 "nbformat": 4,
 "nbformat_minor": 2
}
