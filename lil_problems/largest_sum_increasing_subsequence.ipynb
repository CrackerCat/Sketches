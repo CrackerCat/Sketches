{
 "cells": [
  {
   "cell_type": "markdown",
   "metadata": {},
   "source": [
    "# Largest increasing subarray\n",
    "\n",
    "Given array, find a subarray of increasing elements with highest total sum. And find this sum.  Like for `[1,0,2,3]` it would be 6 coz 1+2+3.\n",
    "\n",
    "Similar to *Longest increasing subarray*, but not quite the same."
   ]
  },
  {
   "cell_type": "code",
   "execution_count": 21,
   "metadata": {},
   "outputs": [
    {
     "name": "stdout",
     "output_type": "stream",
     "text": [
      "[2, 3, 5, 6]\n",
      "[8, 9]\n"
     ]
    }
   ],
   "source": [
    "def lis2(x):\n",
    "    \"\"\"Largest Increasing Subarray: Naive O(N2) solution.\"\"\"\n",
    "    if not x: return []\n",
    "    prev = [None]*len(x) # Links to previous elements in the best sequence finishing at this one\n",
    "    total = x.copy() # Best total ending with this element\n",
    "    overall_best = x[0]\n",
    "    best_index = 0\n",
    "    for i in range(len(x)):\n",
    "        for j in range(i):\n",
    "            if x[j]<x[i] and total[j]+x[i]>total[i]:\n",
    "                total[i] = total[j]+x[i]\n",
    "                prev[i] = j\n",
    "        if total[i]>overall_best:\n",
    "            overall_best = total[i]\n",
    "            best_index = i\n",
    "    out = []\n",
    "    i = best_index\n",
    "    while True:\n",
    "        out = [x[i]] + out\n",
    "        i = prev[i]\n",
    "        if i is None:\n",
    "            break\n",
    "    return out\n",
    "\n",
    "print(lis2([2,1,3,9,5,6]))\n",
    "print(lis2([8,9,1,2,3,4,5]))"
   ]
  },
  {
   "cell_type": "markdown",
   "metadata": {},
   "source": [
    "Attempt with binary search:\n",
    "\n",
    "* List of last elements, sorted by total sum, regardless of length\n",
    "* For each final value, the highest total array achieavable (coz other are irrelevant, we always extend the best)\n",
    "* Which means that new value always extends only one, increasing its final value\n",
    "* But unlike for longest array, it can trigger insertion. For example:\n",
    "    * `[1,2,3,5,6,18]`. Potential elements to store: `[(3,6), (6,17), (18,18)]`. But we'll probably have to store the full set: `[(1,1), (2,3), (3,6), (5,11), (6,17), (18,18)]`\n",
    "    * Now say we got a `5`. We can find it, so it changes nothing.\n",
    "    * Now say we got a `4`. We find `3`, which is lower, so we add `(4,10)` to the list. But it triggers an insertion which is $O(N)$ worst-case, isn't it?\n",
    "    \n",
    "Conclusion: it's impossible to solve this one better then in $O(N^2)$.\n",
    "\n",
    "Also [a reference](https://www.techiedelight.com/increasing-subsequence-with-maximum-sum/) confirming this fact."
   ]
  }
 ],
 "metadata": {
  "kernelspec": {
   "display_name": "Python 3",
   "language": "python",
   "name": "python3"
  },
  "language_info": {
   "codemirror_mode": {
    "name": "ipython",
    "version": 3
   },
   "file_extension": ".py",
   "mimetype": "text/x-python",
   "name": "python",
   "nbconvert_exporter": "python",
   "pygments_lexer": "ipython3",
   "version": "3.7.6"
  }
 },
 "nbformat": 4,
 "nbformat_minor": 4
}
