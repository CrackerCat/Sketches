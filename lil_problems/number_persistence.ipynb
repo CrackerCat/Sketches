{
 "cells": [
  {
   "cell_type": "markdown",
   "metadata": {},
   "source": [
    "# Number persistence\n",
    "\n",
    "Not really a problem per se, but just something from numberfile: https://www.youtube.com/watch?v=Wim9WJeDTHQ"
   ]
  },
  {
   "cell_type": "code",
   "execution_count": 1,
   "metadata": {},
   "outputs": [],
   "source": [
    "import numpy as np\n",
    "import matplotlib.pyplot as plt"
   ]
  },
  {
   "cell_type": "code",
   "execution_count": 17,
   "metadata": {},
   "outputs": [
    {
     "data": {
      "text/plain": [
       "4"
      ]
     },
     "execution_count": 17,
     "metadata": {},
     "output_type": "execute_result"
    }
   ],
   "source": [
    "def per10(n,verbose=False):\n",
    "    k = n\n",
    "    count = 0\n",
    "    while len(str(k))>1:\n",
    "        k = np.prod(np.array([int(i) for i in str(k)]).astype('int64'))\n",
    "        if verbose: \n",
    "            print(k)\n",
    "        count += 1\n",
    "    return count\n",
    "\n",
    "per10(777)"
   ]
  },
  {
   "cell_type": "code",
   "execution_count": 19,
   "metadata": {},
   "outputs": [
    {
     "data": {
      "image/png": "[encoded data removed]",
      "text/plain": [
       "<Figure size 432x288 with 1 Axes>"
      ]
     },
     "metadata": {
      "needs_background": "light"
     },
     "output_type": "display_data"
    }
   ],
   "source": [
    "x = np.array(range(1000000))\n",
    "y = np.array([per10(i) for i in x])\n",
    "\n",
    "plt.plot(x,y,'.');"
   ]
  },
  {
   "cell_type": "code",
   "execution_count": 20,
   "metadata": {},
   "outputs": [
    {
     "name": "stdout",
     "output_type": "stream",
     "text": [
      "10 1\n",
      "25 2\n",
      "39 3\n",
      "77 4\n",
      "679 5\n",
      "6788 6\n",
      "68889 7\n"
     ]
    }
   ],
   "source": [
    "current_max = 0\n",
    "for i in x:\n",
    "    if y[i]>current_max:\n",
    "        current_max = y[i]\n",
    "        print(x[i],current_max)"
   ]
  },
  {
   "cell_type": "markdown",
   "metadata": {},
   "source": [
    "A copy of the output, for first 8 records:\n",
    "\n",
    "```\n",
    "10 1\n",
    "25 2\n",
    "39 3\n",
    "77 4\n",
    "679 5\n",
    "6788 6\n",
    "68889 7\n",
    "2677889 8```"
   ]
  },
  {
   "cell_type": "code",
   "execution_count": 18,
   "metadata": {},
   "outputs": [
    {
     "name": "stdout",
     "output_type": "stream",
     "text": [
      "4996238671872\n",
      "438939648\n",
      "4478976\n",
      "338688\n",
      "27648\n",
      "2688\n",
      "768\n",
      "336\n",
      "54\n",
      "20\n",
      "0\n"
     ]
    },
    {
     "data": {
      "text/plain": [
       "11"
      ]
     },
     "execution_count": 18,
     "metadata": {},
     "output_type": "execute_result"
    }
   ],
   "source": [
    "# Allegedly, current record number:\n",
    "per10(277777788888899,verbose=True)"
   ]
  }
 ],
 "metadata": {
  "kernelspec": {
   "display_name": "Python 3",
   "language": "python",
   "name": "python3"
  },
  "language_info": {
   "codemirror_mode": {
    "name": "ipython",
    "version": 3
   },
   "file_extension": ".py",
   "mimetype": "text/x-python",
   "name": "python",
   "nbconvert_exporter": "python",
   "pygments_lexer": "ipython3",
   "version": "3.7.0"
  }
 },
 "nbformat": 4,
 "nbformat_minor": 2
}
