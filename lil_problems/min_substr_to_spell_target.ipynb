{
 "cells": [
  {
   "cell_type": "markdown",
   "metadata": {},
   "source": [
    "# Minimum Window Substring\n",
    "\n",
    "https://leetcode.com/problems/minimum-window-substring/"
   ]
  },
  {
   "cell_type": "code",
   "execution_count": 5,
   "metadata": {},
   "outputs": [],
   "source": [
    "\"\"\"\n",
    "The logic: first i=j=0\n",
    "if string is not good, more i to the right\n",
    "if string is good, move j to the right\n",
    "when string becomes good, update current best.\n",
    "Before moving either, update the frequencies.\n",
    "\n",
    "How to tell if good? Maybe create a dict with counts for target substring, \n",
    "  and another one with actuals, and do a string comprehension to compare them: \n",
    "if any([sub[k]-v<0 for k,v in target.items()])\n",
    "\"\"\"\n",
    "\n",
    "class Solution:\n",
    "    def minWindow(self, s, t):\n",
    "        res = ''        # This is a fine point: we want to return '' for unsuccess, yet the 'worst' success is full s.\n",
    "        best = len(s)   # So the worst len(answer) is actually len(s). Which means that we keep len(res) separately,\n",
    "        td = {}         # .. and start with a disagreement. A bit of a hack, unfortunately.\n",
    "        for c in t:\n",
    "            td[c] = td.get(c,0)+1\n",
    "        sd = {c:0 for c in td.keys()}\n",
    "        \n",
    "        i = j = 0\n",
    "        while i<len(s):\n",
    "            if any(sd[k]<v for k,v in td.items()):  # incomplete substring\n",
    "                if j==len(s):\n",
    "                    break\n",
    "                if s[j] in sd:\n",
    "                    sd[s[j]] += 1\n",
    "                j += 1\n",
    "            else:                                   # Good complete substring\n",
    "                if j-i <= best:     # An even worse hack here. If answer achieved only at full s, we should still rewrite res.\n",
    "                    res = s[i:j]    # That's why this <= (instead of simple <) here.\n",
    "                    best = j-i\n",
    "                if s[i] in sd:\n",
    "                    if sd[s[i]]>0:\n",
    "                        sd[s[i]] -= 1\n",
    "                i += 1\n",
    "        return res"
   ]
  },
  {
   "cell_type": "markdown",
   "metadata": {},
   "source": [
    "The only alternatives to those hacks above is to explicitly check whether t is present in s, and only attempt the rest of the function if we know that the answer exists. Something like `if any([s.count(c)<t.count(c) for c in t]): return ''`. It totally works, strictly speaking it means going through the string several more times before doing the actual sliding window, so I see how people may dislike it."
   ]
  },
  {
   "cell_type": "code",
   "execution_count": 7,
   "metadata": {},
   "outputs": [
    {
     "name": "stdout",
     "output_type": "stream",
     "text": [
      "BANC\n",
      "a\n",
      "\n"
     ]
    }
   ],
   "source": [
    "S = Solution()\n",
    "\n",
    "test_cases = [(\"ADOBECODEBANC\",\"ABC\"),(\"a\",\"a\"),(\"a\",\"aa\")]\n",
    "\n",
    "for s,t in test_cases:\n",
    "    print(S.minWindow(s,t))"
   ]
  }
 ],
 "metadata": {
  "kernelspec": {
   "display_name": "Python 3",
   "language": "python",
   "name": "python3"
  },
  "language_info": {
   "codemirror_mode": {
    "name": "ipython",
    "version": 3
   },
   "file_extension": ".py",
   "mimetype": "text/x-python",
   "name": "python",
   "nbconvert_exporter": "python",
   "pygments_lexer": "ipython3",
   "version": "3.7.0"
  }
 },
 "nbformat": 4,
 "nbformat_minor": 2
}
