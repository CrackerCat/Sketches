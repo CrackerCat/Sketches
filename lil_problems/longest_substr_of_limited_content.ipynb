{
 "cells": [
  {
   "cell_type": "markdown",
   "metadata": {},
   "source": [
    "# Longest substring of limited content\n",
    "\n",
    "You get an input string. Find the longest substring that uses a limited dictionary of fewer than k different characters.\n",
    "\n",
    "For example, for k = 2, and input string of 'qwaaabbty', a correct answer would be 'aaabb'."
   ]
  },
  {
   "cell_type": "code",
   "execution_count": 3,
   "metadata": {},
   "outputs": [],
   "source": [
    "# Tracing first, to practice tracing\n",
    "\"\"\"\n",
    "We'll use a sliding window with L and R pointers.\n",
    "(R is not inclusive)\n",
    "In the beginning, both pointers on the left\n",
    "\n",
    "If the substring between L and R is valid:\n",
    "    check if current best (if yes, update current best by saving L and R)\n",
    "    check if need to stop\n",
    "    increment R\n",
    "if not valid:\n",
    "    check if need to stop\n",
    "    increment L\n",
    "    \n",
    "Stop if R is at the right border of input string and the string is valid\n",
    "    or if L reaches right border of the string\n",
    "    (technically we can stop earlier, when L is \"current best\" away from the end of the string)\n",
    "    \n",
    "Checking that the string is valid:\n",
    "    keep track of the count of chars within the window\n",
    "    (update them when R and L move)\n",
    "    if more than k chars have counts >0, it's invalid\n",
    "\"\"\";"
   ]
  },
  {
   "cell_type": "code",
   "execution_count": 17,
   "metadata": {},
   "outputs": [
    {
     "name": "stdout",
     "output_type": "stream",
     "text": [
      "aabb\n",
      "1\n",
      "ab\n",
      "ttt\n",
      "ababab\n",
      "abababttt\n"
     ]
    }
   ],
   "source": [
    "def find(s,k):\n",
    "    if len(s)==0: return ''\n",
    "    l = r = 0\n",
    "    bl = br = 0 # Current best\n",
    "    freq = {}\n",
    "    \n",
    "    while True:\n",
    "        # print(l,r,s[l:r],freq)\n",
    "        if len([i for i,v in freq.items() if v>0])<=k: # Valid current string\n",
    "            if r-l>br-bl:\n",
    "                (br,bl) = (r,l)\n",
    "            if r==len(s):\n",
    "                break\n",
    "            freq[s[r]] = freq.get(s[r],0) + 1\n",
    "            r += 1\n",
    "        else:\n",
    "            if l==len(s):\n",
    "                break\n",
    "            freq[s[l]] -= 1\n",
    "            l += 1\n",
    "    return s[bl:br]\n",
    "\n",
    "print(find('qwaabbr',2))\n",
    "print(find('1',2))\n",
    "print(find('abtry',2))\n",
    "print(find('gabababtttry',1))\n",
    "print(find('gabababtttry',2))\n",
    "print(find('gabababtttry',3))"
   ]
  }
 ],
 "metadata": {
  "kernelspec": {
   "display_name": "Python 3",
   "language": "python",
   "name": "python3"
  },
  "language_info": {
   "codemirror_mode": {
    "name": "ipython",
    "version": 3
   },
   "file_extension": ".py",
   "mimetype": "text/x-python",
   "name": "python",
   "nbconvert_exporter": "python",
   "pygments_lexer": "ipython3",
   "version": "3.7.3"
  }
 },
 "nbformat": 4,
 "nbformat_minor": 2
}
