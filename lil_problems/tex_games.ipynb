{
 "cells": [
  {
   "cell_type": "markdown",
   "metadata": {},
   "source": [
    "# Silly LaTeX scripts"
   ]
  },
  {
   "cell_type": "code",
   "execution_count": 1,
   "metadata": {},
   "outputs": [],
   "source": [
    "import numpy as np"
   ]
  },
  {
   "cell_type": "code",
   "execution_count": 82,
   "metadata": {},
   "outputs": [
    {
     "name": "stdout",
     "output_type": "stream",
     "text": [
      "\\frac{\\frac{b+a}{a}}{\\frac{b}{\\frac{c}{c}}}+(c+c-c)+\\frac{(a-b)}{\\frac{b}{a+a}}+a+\\frac{b}{c}+b+c+b+\\frac{a+a}{\\frac{(c-a)}{(a-c)}}+\\frac{((b+b-b)+b+(c-c)-\\frac{\\frac{(\\frac{a}{c}-c)}{\\frac{b+c}{c+b}}}{c})}{(\\frac{\\frac{c+a}{b}}{((c-b)-c)+c}-\\frac{\\frac{\\frac{a}{c}}{(b-c)}}{\\frac{\\frac{c}{c}}{(b-c)+c}})}+\\frac{\\frac{(\\frac{c}{a}+\\frac{a}{(c-a)}-b+c+(c-a))}{\\frac{a+b+b}{(c+c-(b-c))}+(c-b)+b+(c-a)}}{\\frac{(\\frac{\\frac{a+b}{a}}{((b-a)-c)}-((\\frac{c}{a}-(a-b))-(c-a)))}{\\frac{\\frac{(c+b-c)}{b}+\\frac{c}{c}}{\\frac{c}{b}+a+c+c+a+a}}}\n"
     ]
    }
   ],
   "source": [
    "# Tree\n",
    "class My_tree:\n",
    "    def __init__(self):\n",
    "        self.links = {0:[None,None]}\n",
    "        \n",
    "    def sprout(self,i):\n",
    "        \"\"\"Add a child to a target node.\"\"\"\n",
    "        mi = max(list(self.links.keys()))\n",
    "        old = self.links[i]\n",
    "        if all([(i is None) for i in old]):\n",
    "            if np.random.randint(0,2)==0:\n",
    "                self.links[i] = [mi+1,None]\n",
    "            else:\n",
    "                self.links[i] = [None,mi+1]\n",
    "        elif old[0] is None:\n",
    "            self.links[i] = [mi+1,old[1]]\n",
    "        else:\n",
    "            self.links[i] = [old[0],mi+1]\n",
    "        self.links[mi+1] = [None,None]\n",
    "        \n",
    "    def __str__(self):\n",
    "        return self.say(0)\n",
    "    \n",
    "    def say(self,i):\n",
    "        \"\"\"Tree to a sting recursively\"\"\"\n",
    "        # d = {'(':'(' , '.':'.' , ')':')'}\n",
    "        d = [{'(':'\\\\frac{' , ',':'}{', '.':'a' , ')':'}'} , \n",
    "             {'(':'' , ',':'+', '.':'b' , ')':''},\n",
    "             {'(':'(' , ',':'-', '.':'c' , ')':')'},\n",
    "             {'(':'' , ',':'^{', '.':'c' , ')':'}'},\n",
    "             {'(':'' , ',':'_{', '.':'c' , ')':'}'}]\n",
    "        toss = np.random.randint(0,3)\n",
    "        if i is None:\n",
    "            return d[toss]['.']        \n",
    "        out =  d[toss]['('] + self.say(self.links[i][0]) \n",
    "        out += d[toss][','] \n",
    "        out += self.say(self.links[i][1]) + d[toss][')']\n",
    "        return out\n",
    "        \n",
    "    def grow(self,n=None):\n",
    "        if n is None: n = 1\n",
    "        for i in range(n):\n",
    "            j = 0\n",
    "            while j is not None:\n",
    "                oj = j\n",
    "                if np.random.randint(0,2)==0:\n",
    "                    j = self.links[j][0]\n",
    "                else:\n",
    "                    j = self.links[j][1]\n",
    "            self.sprout(oj)\n",
    "            \n",
    "T = My_tree()\n",
    "T.grow(100)\n",
    "print(T)"
   ]
  },
  {
   "cell_type": "markdown",
   "metadata": {},
   "source": [
    "$\\displaystyle \\large ((\\frac{\\frac{(a+b+c+a-a+a)}{b+b+(\\frac{c}{c}-(a-\\frac{a}{c}))}}{((a-a)-(\\frac{c}{a}-(b-b)+b+b))}-\\frac{\\frac{\\frac{c}{a}+\\frac{(c-a)}{c}}{(\\frac{a}{b}-((a-c)-(c-c+c)))}}{\\frac{\\frac{((b-c)-c)}{\\frac{(a-b)}{\\frac{c}{a}}}}{((c+c+a-(c-c))-\\frac{a}{b}+\\frac{b}{a})}})-\\frac{\\frac{\\frac{c}{((c-b)-b)}+\\frac{a}{c}}{((b-c)-c)}+\\frac{\\frac{a}{(b-c)}+(a+a-(b-b))+(b-c)}{\\frac{\\frac{c}{\\frac{b}{b}}}{(a-b)}}}{((\\frac{\\frac{b}{a}}{\\frac{c}{b}}-(b-\\frac{b}{c})+((c-\\frac{c}{a})-a))-\\frac{(b+b-b+a)}{\\frac{\\frac{b+a}{a}}{a}})+(\\frac{a}{c}+\\frac{c}{c}+(b-c)+(b-a)-b+\\frac{a}{c})})$"
   ]
  }
 ],
 "metadata": {
  "kernelspec": {
   "display_name": "Python 3",
   "language": "python",
   "name": "python3"
  },
  "language_info": {
   "codemirror_mode": {
    "name": "ipython",
    "version": 3
   },
   "file_extension": ".py",
   "mimetype": "text/x-python",
   "name": "python",
   "nbconvert_exporter": "python",
   "pygments_lexer": "ipython3",
   "version": "3.7.0"
  }
 },
 "nbformat": 4,
 "nbformat_minor": 2
}
