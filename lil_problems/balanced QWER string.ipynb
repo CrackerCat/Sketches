{
 "cells": [
  {
   "cell_type": "markdown",
   "metadata": {},
   "source": [
    "You are given a string containing only 4 kinds of characters 'Q', 'W', 'E' and 'R'.\n",
    "\n",
    "A string is said to be balanced if each of its characters appears n/4 times where n is the length of the string.\n",
    "\n",
    "Return the minimum length of the substring that can be replaced with any other string of the same length to make the original string s balanced.\n",
    "\n",
    "Return 0 if the string is already balanced."
   ]
  },
  {
   "cell_type": "code",
   "execution_count": 10,
   "metadata": {},
   "outputs": [
    {
     "data": {
      "text/plain": [
       "{'Q': 0, 'W': 5, 'E': 0, 'R': 0}"
      ]
     },
     "execution_count": 10,
     "metadata": {},
     "output_type": "execute_result"
    }
   ],
   "source": [
    "c = {l:0 for l in list('QWER')}\n",
    "c['W'] = 5\n",
    "c"
   ]
  },
  {
   "cell_type": "code",
   "execution_count": 12,
   "metadata": {},
   "outputs": [
    {
     "data": {
      "text/plain": [
       "{'W': 5}"
      ]
     },
     "execution_count": 12,
     "metadata": {},
     "output_type": "execute_result"
    }
   ],
   "source": [
    "extras = {l:c[l] for l in c.keys() if c[l]>0}\n",
    "extras.copy()"
   ]
  },
  {
   "cell_type": "code",
   "execution_count": 40,
   "metadata": {},
   "outputs": [
    {
     "name": "stdout",
     "output_type": "stream",
     "text": [
      "5\n",
      "5\n"
     ]
    }
   ],
   "source": [
    "a = b = 5\n",
    "print(a)\n",
    "print(b)"
   ]
  },
  {
   "cell_type": "code",
   "execution_count": 99,
   "metadata": {},
   "outputs": [
    {
     "name": "stdout",
     "output_type": "stream",
     "text": [
      "0 0 {'Q': 1, 'W': 1, 'E': 1, 'R': 1} 4\n",
      "0 1 {'Q': 0, 'W': 1, 'E': 1, 'R': 1} 4\n",
      "1 1 {'Q': 1, 'W': 1, 'E': 1, 'R': 1} 1 .\n",
      "2 1 {'Q': 1, 'W': 2, 'E': 1, 'R': 1} 0 .\n",
      "2 2 {'Q': 1, 'W': 1, 'E': 1, 'R': 1} 0\n",
      "3 2 {'Q': 1, 'W': 1, 'E': 2, 'R': 1} 0 .\n",
      "3 3 {'Q': 1, 'W': 1, 'E': 1, 'R': 1} 0\n",
      "4 3 {'Q': 1, 'W': 1, 'E': 1, 'R': 2} 0 .\n",
      "4 4 {'Q': 1, 'W': 1, 'E': 1, 'R': 1} 0\n"
     ]
    },
    {
     "data": {
      "text/plain": [
       "0"
      ]
     },
     "execution_count": 99,
     "metadata": {},
     "output_type": "execute_result"
    }
   ],
   "source": [
    "def bs(s: str) -> int:\n",
    "    count = {l:0 for l in list('QWER')}\n",
    "    for c in s:\n",
    "        count[c] += 1 # Count number of times each char is used\n",
    "        \n",
    "    l = r = 0         # Both left and right edges are set at 0\n",
    "    out = len(s)\n",
    "    \n",
    "    print(l,r,count,out)\n",
    "    while r < len(s):\n",
    "        count[s[r]] -= 1 # We always count n chars outside the window\n",
    "        r += 1           # And r is never included in the window\n",
    "        print(l,r,count,out)\n",
    "        while l<=r and l<len(s) and all(count[c]<=len(s)/4 for c in 'QWER'): # Once all bad chars are captured by the window,\n",
    "            count[s[l]] += 1      # adjust the left edge. Throw stuff away (move left edge) while you can\n",
    "            out = min(out,r-l)    # r is not in the window, but next after the window\n",
    "            l += 1\n",
    "            print(l,r,count,out,'.')\n",
    "        #print(l,r,count)\n",
    "            \n",
    "    return out\n",
    "    \n",
    "# Examples:\n",
    "bs(\"QWER\")\n",
    "#bs(\"WQWRQQQW\")\n",
    "#bs('QWERQWERQQERQQWR')"
   ]
  },
  {
   "cell_type": "markdown",
   "metadata": {},
   "source": [
    "Bad (my original, too slow and complicated) solution below:"
   ]
  },
  {
   "cell_type": "code",
   "execution_count": 35,
   "metadata": {},
   "outputs": [
    {
     "data": {
      "text/plain": [
       "3"
      ]
     },
     "execution_count": 35,
     "metadata": {},
     "output_type": "execute_result"
    }
   ],
   "source": [
    "def balancedString(s: str) -> int:\n",
    "    count = {l:0 for l in list('QWER')}\n",
    "    for l in list(s):\n",
    "        count[l] += 1\n",
    "\n",
    "    for l in count.keys():\n",
    "        count[l] -= len(s)//4\n",
    "    extras = {l:count[l] for l in count.keys() if count[l]>0}\n",
    "    if len(extras)==0:\n",
    "        return 0\n",
    "\n",
    "    mem = {l:[] for l in extras.keys()} # Dict of stacks\n",
    "\n",
    "    champL = 0\n",
    "    champR = len(s)-1\n",
    "    #print(extras)\n",
    "    for i in range(len(s)):\n",
    "        if s[i] in extras:\n",
    "            mem[s[i]] = [i] + mem[s[i]][:min(len(mem[s[i]]),extras[s[i]]-1)]\n",
    "\n",
    "        if sum([len(mem[l])==extras[l] for l in mem.keys()])==len(extras):\n",
    "            left = min([mem[l][-1] for l in mem.keys()])\n",
    "            if (i+1-left) < (champR+1-champL):\n",
    "                champL = left\n",
    "                champR = i\n",
    "            #print(i,left)\n",
    "\n",
    "    return champR+1-champL\n",
    "    \n",
    "balancedString(\"WQWRQQQW\")"
   ]
  }
 ],
 "metadata": {
  "kernelspec": {
   "display_name": "Python 3",
   "language": "python",
   "name": "python3"
  },
  "language_info": {
   "codemirror_mode": {
    "name": "ipython",
    "version": 3
   },
   "file_extension": ".py",
   "mimetype": "text/x-python",
   "name": "python",
   "nbconvert_exporter": "python",
   "pygments_lexer": "ipython3",
   "version": "3.7.0"
  }
 },
 "nbformat": 4,
 "nbformat_minor": 2
}
