{
 "cells": [
  {
   "cell_type": "markdown",
   "metadata": {},
   "source": [
    "You are given a string containing only 4 kinds of characters 'Q', 'W', 'E' and 'R'.\n",
    "\n",
    "A string is said to be balanced if each of its characters appears n/4 times where n is the length of the string.\n",
    "\n",
    "Return the minimum length of the substring that can be replaced with any other string of the same length to make the original string s balanced.\n",
    "\n",
    "Return 0 if the string is already balanced."
   ]
  },
  {
   "cell_type": "code",
   "execution_count": 10,
   "metadata": {},
   "outputs": [
    {
     "data": {
      "text/plain": [
       "{'Q': 0, 'W': 5, 'E': 0, 'R': 0}"
      ]
     },
     "execution_count": 10,
     "metadata": {},
     "output_type": "execute_result"
    }
   ],
   "source": [
    "c = {l:0 for l in list('QWER')}\n",
    "c['W'] = 5\n",
    "c"
   ]
  },
  {
   "cell_type": "code",
   "execution_count": 12,
   "metadata": {},
   "outputs": [
    {
     "data": {
      "text/plain": [
       "{'W': 5}"
      ]
     },
     "execution_count": 12,
     "metadata": {},
     "output_type": "execute_result"
    }
   ],
   "source": [
    "extras = {l:c[l] for l in c.keys() if c[l]>0}\n",
    "extras.copy()"
   ]
  },
  {
   "cell_type": "code",
   "execution_count": 4,
   "metadata": {},
   "outputs": [
    {
     "name": "stdout",
     "output_type": "stream",
     "text": [
      "0 0 {'Q': 4, 'W': 3, 'E': 0, 'R': 1} 8\n",
      "0 1 {'Q': 4, 'W': 2, 'E': 0, 'R': 1} 8 R\n",
      "0 2 {'Q': 3, 'W': 2, 'E': 0, 'R': 1} 8 R\n",
      "0 3 {'Q': 3, 'W': 1, 'E': 0, 'R': 1} 8 R\n",
      "0 4 {'Q': 3, 'W': 1, 'E': 0, 'R': 0} 8 R\n",
      "0 5 {'Q': 2, 'W': 1, 'E': 0, 'R': 0} 8 R\n",
      "1 5 {'Q': 2, 'W': 2, 'E': 0, 'R': 0} 5 L\n",
      "2 5 {'Q': 3, 'W': 2, 'E': 0, 'R': 0} 4 L\n",
      "2 6 {'Q': 2, 'W': 2, 'E': 0, 'R': 0} 4 R\n",
      "3 6 {'Q': 2, 'W': 3, 'E': 0, 'R': 0} 4 L\n",
      "3 7 {'Q': 1, 'W': 3, 'E': 0, 'R': 0} 4 R\n",
      "3 8 {'Q': 1, 'W': 2, 'E': 0, 'R': 0} 4 R\n",
      "4 8 {'Q': 1, 'W': 2, 'E': 0, 'R': 1} 4 L\n",
      "5 8 {'Q': 2, 'W': 2, 'E': 0, 'R': 1} 4 L\n",
      "6 8 {'Q': 3, 'W': 2, 'E': 0, 'R': 1} 3 L\n"
     ]
    },
    {
     "data": {
      "text/plain": [
       "3"
      ]
     },
     "execution_count": 4,
     "metadata": {},
     "output_type": "execute_result"
    }
   ],
   "source": [
    "def bs(s: str) -> int:\n",
    "    count = {l:0 for l in list('QWER')}\n",
    "    for c in s:\n",
    "        count[c] += 1 # Count number of times each char is used\n",
    "        \n",
    "    l = r = 0         # Both left and right edges are set at 0\n",
    "    out = len(s)\n",
    "    \n",
    "    print(l,r,count,out)\n",
    "    \n",
    "    # Look for minimal imbalanced string within the big string\n",
    "    # To do so, first look for the leftes minimal imbalanced string\n",
    "    # (minimal R for L==0 such that substring LR works)\n",
    "    # Then try all right positions and for each right position find the smallest left that works\n",
    "    # (for each R, find highest LR (which is the same as smallest |LR|) so that substring LR works)\n",
    "    # And just keep track of all encountered |LR|, to record the min.\n",
    "    \n",
    "    while r < len(s):\n",
    "        count[s[r]] -= 1 # Keep count of chars outside the window\n",
    "        r += 1           # And this one is now in the window\n",
    "        print(l,r,count,out,'R')\n",
    "        while l<=r and l<len(s) and all(count[c]<=len(s)/4 for c in 'QWER'): # Once all extra chars are captured by the window,\n",
    "            count[s[l]] += 1      # adjust the left edge. Throw stuff away (move left edge) while you can\n",
    "            out = min(out,r-l)    # Any of these rows work, so keep track of minimal so far\n",
    "            l += 1\n",
    "            print(l,r,count,out,'L')\n",
    "        #print(l,r,count)\n",
    "            \n",
    "    return out\n",
    "    \n",
    "# Examples:\n",
    "# bs(\"QWER\")\n",
    "bs(\"WQWRQQQW\")\n",
    "#bs('QWERQWERQQERQQWR')"
   ]
  },
  {
   "cell_type": "markdown",
   "metadata": {},
   "source": [
    "Bad (my original, too slow and complicated) solution below:"
   ]
  },
  {
   "cell_type": "code",
   "execution_count": 35,
   "metadata": {},
   "outputs": [
    {
     "data": {
      "text/plain": [
       "3"
      ]
     },
     "execution_count": 35,
     "metadata": {},
     "output_type": "execute_result"
    }
   ],
   "source": [
    "def balancedString(s: str) -> int:\n",
    "    count = {l:0 for l in list('QWER')}\n",
    "    for l in list(s):\n",
    "        count[l] += 1\n",
    "\n",
    "    for l in count.keys():\n",
    "        count[l] -= len(s)//4\n",
    "    extras = {l:count[l] for l in count.keys() if count[l]>0}\n",
    "    if len(extras)==0:\n",
    "        return 0\n",
    "\n",
    "    mem = {l:[] for l in extras.keys()} # Dict of stacks\n",
    "\n",
    "    champL = 0\n",
    "    champR = len(s)-1\n",
    "    #print(extras)\n",
    "    for i in range(len(s)):\n",
    "        if s[i] in extras:\n",
    "            mem[s[i]] = [i] + mem[s[i]][:min(len(mem[s[i]]),extras[s[i]]-1)]\n",
    "\n",
    "        if sum([len(mem[l])==extras[l] for l in mem.keys()])==len(extras):\n",
    "            left = min([mem[l][-1] for l in mem.keys()])\n",
    "            if (i+1-left) < (champR+1-champL):\n",
    "                champL = left\n",
    "                champR = i\n",
    "            #print(i,left)\n",
    "\n",
    "    return champR+1-champL\n",
    "    \n",
    "balancedString(\"WQWRQQQW\")"
   ]
  }
 ],
 "metadata": {
  "kernelspec": {
   "display_name": "Python 3",
   "language": "python",
   "name": "python3"
  },
  "language_info": {
   "codemirror_mode": {
    "name": "ipython",
    "version": 3
   },
   "file_extension": ".py",
   "mimetype": "text/x-python",
   "name": "python",
   "nbconvert_exporter": "python",
   "pygments_lexer": "ipython3",
   "version": "3.7.0"
  }
 },
 "nbformat": 4,
 "nbformat_minor": 2
}
