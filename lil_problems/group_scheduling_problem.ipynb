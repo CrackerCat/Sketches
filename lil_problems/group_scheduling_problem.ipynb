{
 "cells": [
  {
   "cell_type": "markdown",
   "metadata": {},
   "source": [
    "# The group scheduling problem\n",
    "\n",
    "Imagine n people. You need to split them into new groups every day, to minimize overlap."
   ]
  },
  {
   "cell_type": "markdown",
   "metadata": {},
   "source": [
    "### Option 1: Split n people intro groups of k, naively\n",
    "\n",
    "Logic:\n",
    "\n",
    "1. Have the graph for whether the entire day was scheduled. Rotate until this flat is true.\n",
    "1. Every day, start with an empty group. Set the current person and prepare to let it go in cycles.\n",
    "1. If the group is empty, just add first untaken person. If not, add the first eligible person.\n",
    "1. When rotating person pointer (i), keep track of the first i we tried. If we return to it, we fail the assignment, and everything is over."
   ]
  },
  {
   "cell_type": "code",
   "execution_count": 9,
   "metadata": {},
   "outputs": [
    {
     "name": "stdout",
     "output_type": "stream",
     "text": [
      "0 [(0, 1), (3, 4), (6, 7), (9, 10), (12, 13), (15, 16), (18, 19), (2, 5), (11, 14), (20, 8)]\n",
      "1 [(9, 11), (13, 14), (16, 17), (19, 20), (1, 2), (4, 5), (7, 8), (12, 15), (0, 3), (10, 18)]\n",
      "2 [(19, 0), (3, 5), (7, 9), (13, 15), (18, 20), (2, 4), (8, 10), (12, 14), (17, 1), (11, 16)]\n",
      "3 [(17, 18), (1, 3), (7, 10), (12, 16), (20, 0), (4, 6), (9, 13), (2, 8), (14, 15), (5, 11)]\n",
      "4 [(12, 17), (20, 1), (5, 6), (9, 14), (18, 0), (3, 7), (13, 16), (2, 10), (15, 19), (8, 11)]\n",
      "5 [(12, 18), (2, 3), (7, 11), (14, 16), (20, 4), (10, 13), (19, 1), (6, 8), (15, 17), (5, 9)]\n",
      "6 [(10, 11), (13, 17), (20, 2), (7, 12), (0, 4), (9, 15), (19, 3), (8, 14), (1, 5), (18, 6)]\n",
      "7 [(7, 13), (19, 2), (8, 9), (14, 17), (0, 5), (11, 12), (1, 4), (15, 18), (6, 10), (20, 3)]\n",
      "8 [(4, 7), (15, 20), (6, 9), (13, 18), (2, 11), (19, 5), (10, 12), (1, 8), (17, 0), (16, 3)]\n",
      "9 [(4, 8), (13, 19), (7, 14), (20, 5), (11, 15), (1, 6), (16, 18), (3, 9), (17, 2), (0, 10)]\n",
      "10 [(11, 13), (0, 2), (7, 15), (3, 6), (14, 18), (4, 9), (16, 19), (10, 17), (1, 12), (5, 8)]\n",
      "11 [(9, 12), (20, 6), (13, 0), (8, 15), (2, 7), (17, 19), (5, 10), (16, 1), (14, 3), (18, 4)]\n",
      "12 [(5, 7), (17, 20), (10, 14), (0, 6), (12, 19), (8, 13), (2, 9), (18, 1), (15, 3), (16, 4)]\n",
      "13 [(5, 12), (0, 7), (17, 3), (9, 16), (1, 10), (18, 2), (14, 19), (6, 11), (4, 13), (8, 20)]\n",
      "14 [(0, 8), (13, 20), (9, 17), (5, 14), (2, 6), (15, 1), (10, 16), (11, 18), (4, 12), (7, 19)]\n",
      "15 [(20, 7), (17, 4), (11, 19), (8, 12), (1, 9), (0, 13), (), (), (), ()]\n"
     ]
    }
   ],
   "source": [
    "def groups(n, groupsize):\n",
    "    \"\"\"Naive forward-only approach (no treeing).\"\"\"\n",
    "    is_day_successful = True\n",
    "    ngroups = n // groupsize\n",
    "    schedule = []\n",
    "    pairs = set([])\n",
    "    i = 0\n",
    "    while is_day_successful:\n",
    "        people = {}\n",
    "        assignments = {}\n",
    "        output_form = [()]*ngroups\n",
    "        igroup = 0\n",
    "        last_assignment = 0\n",
    "        first_try = True # First allocation attempt (to make sure we try at least once)\n",
    "        while is_day_successful and len(assignments)<n:\n",
    "            if not first_try and i==last_assignment: # We cycled full cycle, which indicates trouble\n",
    "                is_day_successful = False\n",
    "                break\n",
    "            group = [person for person,group in assignments.items() if group==igroup]\n",
    "            current_pairs = [(i,j) for j in group]\n",
    "            if i in assignments or any([pair in pairs for pair in current_pairs]):\n",
    "                pass\n",
    "            elif len(group)==groupsize and igroup!=(ngroups-1):\n",
    "                igroup += 1                \n",
    "            else:\n",
    "                assignments[i] = igroup\n",
    "                pairs |= set(current_pairs)\n",
    "                last_assignment = i\n",
    "                output_form[igroup] = output_form[igroup]+ (i,)\n",
    "            if i<n:\n",
    "                i += 1\n",
    "            else:\n",
    "                i = 0\n",
    "            first_try = False\n",
    "            #print(i, last_assignment, pairs)\n",
    "        schedule.append(output_form)\n",
    "    return schedule\n",
    "                \n",
    "g = groups(20,2)\n",
    "for i in range(len(g)): print(i,g[i])"
   ]
  },
  {
   "cell_type": "code",
   "execution_count": 21,
   "metadata": {},
   "outputs": [
    {
     "data": {
      "text/plain": [
       "9.0"
      ]
     },
     "execution_count": 21,
     "metadata": {},
     "output_type": "execute_result"
    }
   ],
   "source": [
    "10*9/2/5"
   ]
  }
 ],
 "metadata": {
  "kernelspec": {
   "display_name": "Python 3",
   "language": "python",
   "name": "python3"
  },
  "language_info": {
   "codemirror_mode": {
    "name": "ipython",
    "version": 3
   },
   "file_extension": ".py",
   "mimetype": "text/x-python",
   "name": "python",
   "nbconvert_exporter": "python",
   "pygments_lexer": "ipython3",
   "version": "3.7.6"
  }
 },
 "nbformat": 4,
 "nbformat_minor": 4
}
