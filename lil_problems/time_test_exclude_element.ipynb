{
 "cells": [
  {
   "cell_type": "markdown",
   "metadata": {},
   "source": [
    "# Creating lists with one element missing\n",
    "\n",
    "What is the fastest way?"
   ]
  },
  {
   "cell_type": "code",
   "execution_count": 1,
   "metadata": {},
   "outputs": [],
   "source": [
    "import time"
   ]
  },
  {
   "cell_type": "code",
   "execution_count": 9,
   "metadata": {},
   "outputs": [],
   "source": [
    "n = 100000\n",
    "l = list(range(100))"
   ]
  },
  {
   "cell_type": "code",
   "execution_count": 10,
   "metadata": {},
   "outputs": [
    {
     "name": "stdout",
     "output_type": "stream",
     "text": [
      "4-liner: 9.75955843925476\n",
      "1-liner: 10.015572786331177\n",
      "Copy-pop: 5.134293794631958\n",
      "Slice-pop: 5.188296556472778\n"
     ]
    }
   ],
   "source": [
    "tic = time.time()\n",
    "for i in range(n):\n",
    "    for j in range(len(l)):\n",
    "        if j<len(l)-1:\n",
    "            _ = l[:j] + l[(j+1):]\n",
    "        else:\n",
    "            _ = l[:j]\n",
    "print('4-liner:',time.time()-tic)\n",
    "\n",
    "tic = time.time()\n",
    "for i in range(n):\n",
    "    for j in range(len(l)):\n",
    "        _ = l[:j] + (l[(j+1):] if j<len(l)-1 else [])\n",
    "print('1-liner:',time.time()-tic)\n",
    "\n",
    "tic = time.time()\n",
    "for i in range(n):\n",
    "    for j in range(len(l)):\n",
    "        _ = l.copy()\n",
    "        _.pop(j)\n",
    "print('Copy-pop:',time.time()-tic)\n",
    "\n",
    "tic = time.time()\n",
    "for i in range(n):\n",
    "    for j in range(len(l)):\n",
    "        _ = l[:]\n",
    "        _.pop(j)\n",
    "print('Slice-pop:',time.time()-tic)"
   ]
  }
 ],
 "metadata": {
  "kernelspec": {
   "display_name": "Python 3",
   "language": "python",
   "name": "python3"
  },
  "language_info": {
   "codemirror_mode": {
    "name": "ipython",
    "version": 3
   },
   "file_extension": ".py",
   "mimetype": "text/x-python",
   "name": "python",
   "nbconvert_exporter": "python",
   "pygments_lexer": "ipython3",
   "version": "3.7.0"
  }
 },
 "nbformat": 4,
 "nbformat_minor": 2
}
