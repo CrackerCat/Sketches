{
 "cells": [
  {
   "cell_type": "markdown",
   "metadata": {},
   "source": [
    "# Reverse linked list\n",
    "\n",
    "A classib problem, almost proverbial :)"
   ]
  },
  {
   "cell_type": "code",
   "execution_count": 17,
   "metadata": {},
   "outputs": [
    {
     "name": "stdout",
     "output_type": "stream",
     "text": [
      "1,2,3,7,9,9,13\n",
      "1,2,3,7,9,9,13\n"
     ]
    }
   ],
   "source": [
    "class LL:\n",
    "    class Node():\n",
    "        def __init__(self,val=None, nxt=None):\n",
    "            self.val = val\n",
    "            self.next = nxt\n",
    "        \n",
    "    def __init__(self,nums):\n",
    "        \"\"\"Creates a linked list from a normal list.\"\"\"\n",
    "        self.root = LL.Node()\n",
    "        this = self.root\n",
    "        for i in range(len(nums)):\n",
    "            if i>0:\n",
    "                this.next = LL.Node()\n",
    "                this = this.next\n",
    "            this.val = nums[i]\n",
    "            \n",
    "    def __str__(self):\n",
    "        this = self.root\n",
    "        out = ''\n",
    "        while this is not None:\n",
    "            if out!='':\n",
    "                out = out + ','\n",
    "            out = out + str(this.val)\n",
    "            this = this.next\n",
    "        return out\n",
    "    \n",
    "    def copy(self):\n",
    "        other = LL([])\n",
    "        node1 = self.root\n",
    "        node2 = other.root\n",
    "        while node1 is not None:\n",
    "            if node1 != self.root:\n",
    "                node2.next = LL.Node()\n",
    "                node2 = node2.next\n",
    "            node2.val = node1.val\n",
    "            node1 = node1.next          # May not be the best way, as now increments are not in sync\n",
    "        return other\n",
    "    \n",
    "ll = LL([1,2,3,7,9,9,13])\n",
    "print(ll)\n",
    "x = ll.copy()\n",
    "print(x)"
   ]
  },
  {
   "cell_type": "code",
   "execution_count": 22,
   "metadata": {},
   "outputs": [
    {
     "name": "stdout",
     "output_type": "stream",
     "text": [
      "13,9,9,7,3,2,1\n",
      "1,2,3,7,9,9,13\n"
     ]
    }
   ],
   "source": [
    "def reverse(ll):\n",
    "    # Reverses in place.so let's start with making a copy\n",
    "    ll = ll.copy()\n",
    "    this = ll.root\n",
    "    prev = None\n",
    "    next = this.next\n",
    "    while next is not None:\n",
    "        this.next = prev\n",
    "        prev = this\n",
    "        this = next\n",
    "        next = this.next\n",
    "    this.next = prev\n",
    "    ll.root = this\n",
    "    return ll\n",
    "    \n",
    "print(reverse(ll))\n",
    "print(ll)"
   ]
  },
  {
   "cell_type": "code",
   "execution_count": 28,
   "metadata": {},
   "outputs": [
    {
     "name": "stdout",
     "output_type": "stream",
     "text": [
      "13,9,9,7,3,2,1\n",
      "1,2,3,7,9,9,13\n"
     ]
    }
   ],
   "source": [
    "# Print reversed, but without reversing\n",
    "def revnode(node):\n",
    "    if node is None:\n",
    "        return []\n",
    "    return revnode(node.next) + [node.val]\n",
    "\n",
    "def revprint(ll):\n",
    "    print(','.join([str(v) for v in revnode(ll.root)]))\n",
    "    \n",
    "revprint(ll)\n",
    "print(ll)"
   ]
  }
 ],
 "metadata": {
  "kernelspec": {
   "display_name": "Python 3",
   "language": "python",
   "name": "python3"
  },
  "language_info": {
   "codemirror_mode": {
    "name": "ipython",
    "version": 3
   },
   "file_extension": ".py",
   "mimetype": "text/x-python",
   "name": "python",
   "nbconvert_exporter": "python",
   "pygments_lexer": "ipython3",
   "version": "3.7.3"
  }
 },
 "nbformat": 4,
 "nbformat_minor": 2
}
