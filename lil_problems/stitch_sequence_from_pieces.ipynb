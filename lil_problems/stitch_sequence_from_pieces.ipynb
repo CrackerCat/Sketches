{
 "cells": [
  {
   "cell_type": "markdown",
   "metadata": {},
   "source": [
    "# Stitch sequence from pieces\n",
    "\n",
    "You are given pieces (subarrays) from an array. Reconstruct the array. For example: (1,2,4) , (1,2,5), (4,5) --> (1,2,4,5)"
   ]
  },
  {
   "cell_type": "code",
   "execution_count": 3,
   "metadata": {},
   "outputs": [
    {
     "name": "stdout",
     "output_type": "stream",
     "text": [
      "[0, 1, 2, 4, 5]\n"
     ]
    }
   ],
   "source": [
    "class Solution():\n",
    "    def __init__(self):\n",
    "        self.g = {}     # Graph. self.g[i] contains a list of all indices to which i is connected\n",
    "        self.trace = {} # Trace[i] will contain the highest distance from the root. Is it smelly to have it global?\n",
    "    \n",
    "    def add_piece(self, x):\n",
    "        \"\"\"Adds a fragment\"\"\"\n",
    "        for i in range(len(x)):\n",
    "            if x[i] not in self.g:\n",
    "                self.g[x[i]] = []\n",
    "            if i<len(x)-1:\n",
    "                if x[i+1] not in self.g[x[i]]:\n",
    "                    self.g[x[i]].append(x[i+1]) # Just add the vertices\n",
    "                    \n",
    "    def parse_sequence(self,x):\n",
    "        \"\"\"Parse a list of graments\"\"\"\n",
    "        for part in x:\n",
    "            self.add_piece(part)\n",
    "            \n",
    "    def source(self):\n",
    "        \"\"\"Find the source for a graph (very slow)\"\"\"\n",
    "        p = list(s.g.keys())[0]                # Grab one node at random\n",
    "        flag = True                            # Try while it works\n",
    "        while flag:\n",
    "            flag = False\n",
    "            for (k,v) in self.g.items():       # Cycle through all node\n",
    "                if p in v:                     # If any node links to this one, move upstream\n",
    "                    p = k\n",
    "                    flag = True                # Repeat until it works.\n",
    "        return p                               # Reversing the graph and doing DFS would have been much faster.\n",
    "    \n",
    "    def prune(self,p=None,lvl=0):\n",
    "        \"\"\"Traverse and prune DFS.\"\"\"\n",
    "        if p is None:\n",
    "            p = self.source()                  # If root wasn't given, find it\n",
    "        if p not in self.trace:                # Set level of root at 0, level of all other first visited nodes at lvl\n",
    "            self.trace[p] = lvl\n",
    "        if lvl>self.trace[p]:                  # If the node was visited before, update level.\n",
    "            self.trace[p] = lvl                # The later we visit - the better! We are after longest paths.\n",
    "        for k in self.g[p]:\n",
    "            self.prune(k,lvl+1)                # Recurse (DFS).\n",
    "            \n",
    "    def traverse(self,p=None):\n",
    "        \"\"\"Use trace to traverse properly\"\"\"\n",
    "        if p is None:\n",
    "            p = self.source()                           # Starting from the root..\n",
    "        if len(self.trace)==0:\n",
    "            self.prune(p)                               # If levels weren't calculated yet, calculate them\n",
    "        levels = [self.trace[i] for i in self.g[p]]     # Find distances of all nodes reachable from this node\n",
    "        if levels==[]:                                  # If dead-end, return the note itself\n",
    "            return [p]\n",
    "        step = self.g[p][levels.index(min(levels))]     # Otherwise, find next node (one with smallest distance)\n",
    "        return [p] + self.traverse(step)                # Return current node + next node recursively\n",
    "        \n",
    "                \n",
    "# test\n",
    "x = [[1,2,4],[1,2,5],[4,5],[0,2],[0,1,4]]\n",
    "s = Solution()\n",
    "s.parse_sequence(x)\n",
    "# print(s.g)\n",
    "print(s.traverse())\n"
   ]
  },
  {
   "cell_type": "markdown",
   "metadata": {},
   "source": [
    "I'm not particularly happy about this solution. Finding the root can be done faster (reverse the graph + DFG?), having a separate global dictionary to mark distances to nodes (`trace`) feels wrong (smally code? It's hard to keep it all in mind, that's for sure, which is not a good sign). Also, there's perfectly 0 protection against cycles. If there's a cycle, the `trace` calculator will just loop forever."
   ]
  },
  {
   "cell_type": "code",
   "execution_count": 5,
   "metadata": {},
   "outputs": [
    {
     "name": "stdout",
     "output_type": "stream",
     "text": [
      "[[8, 16, 29], [8, 9, 12, 20, 24], [7, 13, 15, 27], [18, 24, 25], [1, 2, 3, 5, 10, 13, 15, 16, 18, 19, 27, 28, 29], [12, 26, 28], [0, 2, 4, 5, 6, 8, 10, 12, 21, 24, 26, 28, 29], [0, 21], [4, 14, 15, 20, 23, 27], [1, 5, 15, 19, 27, 29], [0, 4, 5, 6, 10, 12, 13], [0, 2, 4, 8, 9, 11, 13, 17, 18, 20, 21, 22, 26, 29], [8, 9], [0, 3, 7, 12, 16], [5, 7, 14, 19, 20, 21, 22, 24, 28, 29], [3, 5, 10, 15, 22], [1, 5, 12, 15, 18, 20, 22, 23, 25], [0, 2, 3, 4, 5, 6, 8, 11, 13, 14, 18, 21, 23, 24], [0, 28], [6, 12, 20], [7, 8, 9, 13, 15, 21, 24, 28], [15, 17, 29], [2, 3, 4, 10, 13, 21, 22, 26], [7, 11, 12, 17, 19, 21, 22], [0, 5, 6, 7, 9, 12, 13, 14, 22, 23, 26, 28, 29], [0, 1, 3, 29], [0, 12, 17, 26], [0, 2, 4, 7, 17, 20, 29], [0, 2, 4, 7, 8, 10, 12, 15, 25, 28, 29], [2, 8, 10, 19, 23, 25]]\n",
      "[0, 1, 2, 3, 4, 5, 6, 7, 8, 9, 11, 12, 13, 14, 15, 16, 18, 19, 20, 21, 22, 23, 27, 28, 29]\n"
     ]
    }
   ],
   "source": [
    "import numpy as np\n",
    "import random as rnd\n",
    "\n",
    "def generate():\n",
    "    n_length = 30\n",
    "    source = list(range(n_length))\n",
    "    n_pieces = n_length\n",
    "    x = []\n",
    "    for i_piece in range(n_pieces):\n",
    "        i_length = np.random.randint(2,n_length // 2)\n",
    "        y = np.sort(rnd.sample(source,i_length)).tolist()\n",
    "        x.append(y)\n",
    "    return x\n",
    "\n",
    "n_trials = 1\n",
    "for i_trial in range(n_trials):\n",
    "    x = generate()\n",
    "    print(x)\n",
    "    s = Solution()\n",
    "    s.parse_sequence(x)\n",
    "    print(s.traverse())"
   ]
  }
 ],
 "metadata": {
  "kernelspec": {
   "display_name": "Python 3",
   "language": "python",
   "name": "python3"
  },
  "language_info": {
   "codemirror_mode": {
    "name": "ipython",
    "version": 3
   },
   "file_extension": ".py",
   "mimetype": "text/x-python",
   "name": "python",
   "nbconvert_exporter": "python",
   "pygments_lexer": "ipython3",
   "version": "3.7.3"
  }
 },
 "nbformat": 4,
 "nbformat_minor": 2
}
