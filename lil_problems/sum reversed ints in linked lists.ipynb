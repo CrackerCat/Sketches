{
 "cells": [
  {
   "cell_type": "markdown",
   "metadata": {},
   "source": [
    "### Sum linked lists\n",
    "\n",
    "Two linked lists storing digits of 2 int numbers in reverse order, we need to sum them."
   ]
  },
  {
   "cell_type": "code",
   "execution_count": 9,
   "metadata": {},
   "outputs": [],
   "source": [
    "class ListNode:\n",
    "    def __init__(self, x):\n",
    "        self.val = x\n",
    "        self.next = None\n",
    "        \n",
    "    def __str__(self):\n",
    "        return f\"{self.val}->\" + str(self.next)"
   ]
  },
  {
   "cell_type": "code",
   "execution_count": 10,
   "metadata": {},
   "outputs": [
    {
     "name": "stdout",
     "output_type": "stream",
     "text": [
      "1->2->3->None\n"
     ]
    }
   ],
   "source": [
    "def builder(a):\n",
    "    \"\"\"Takes numbers from a list, puts them in this linked list\"\"\"\n",
    "    res = ListNode(0) # Dummy head that will be chopped of\n",
    "    p = res\n",
    "    for val in a:\n",
    "        p.next = ListNode(val)\n",
    "        p = p.next\n",
    "    return res.next # Chop the head off\n",
    "\n",
    "print(builder([1,2,3]))"
   ]
  },
  {
   "cell_type": "code",
   "execution_count": 16,
   "metadata": {},
   "outputs": [
    {
     "name": "stdout",
     "output_type": "stream",
     "text": [
      "7->0->8->None\n"
     ]
    }
   ],
   "source": [
    "def SumLists(l1, l2):\n",
    "    res = ListNode(0)\n",
    "    p1 = l1 # Pointers\n",
    "    p2 = l2\n",
    "    pou = res # Dummy head, to be chopped of\n",
    "    carry = 0\n",
    "    while (p1 is not None) | (p2 is not None):\n",
    "        if p1 is not None:\n",
    "            v1 = p1.val\n",
    "            p1 = p1.next\n",
    "        else:\n",
    "            v1 = 0\n",
    "        if p2 is not None:\n",
    "            v2 = p2.val\n",
    "            p2 = p2.next\n",
    "        else:\n",
    "            v2 = 0\n",
    "        pou.next = ListNode((v1+v2+carry) % 10)\n",
    "        carry = (v1+v2+carry) // 10\n",
    "        pou = pou.next\n",
    "    return res.next # Chop the head off\n",
    "\n",
    "print(SumLists(builder([2,4,3]),builder([5,6,4])))\n",
    "\n",
    "# Expected: [7,0,8]"
   ]
  },
  {
   "cell_type": "markdown",
   "metadata": {},
   "source": [
    "An alternative solution can use recursion, which may be longer, but it's also fun. Here's my solution from leetcode, even tho it won't run in this notebook, and I don't want to rewrite it at this point:\n",
    "\n",
    "```python\n",
    "class Solution:\n",
    "    def addTwoNumbers(self, l1: ListNode, l2: ListNode) -> ListNode:\n",
    "        s = l1.val+l2.val\n",
    "        res = ListNode(s % 10)\n",
    "        if (l1.next is None) & (l2.next is None):\n",
    "            if s<10:\n",
    "                return res\n",
    "            res.next = ListNode(s // 10)\n",
    "            return res\n",
    "        if (l1.next is None): # l2 has a tail\n",
    "            if s<10:\n",
    "                res.next = l2.next\n",
    "                return res\n",
    "            res.next = self.addTwoNumbers(l2.next, ListNode(s // 10))\n",
    "            return res\n",
    "        if (l2.next is None): # l1 has a tail\n",
    "            if s<10:\n",
    "                res.next = l1.next\n",
    "                return res\n",
    "            res.next = self.addTwoNumbers(l1.next, ListNode(s // 10))\n",
    "            return res\n",
    "        # Both have tails\n",
    "        l1.next.val += s//10\n",
    "        res.next = self.addTwoNumbers(l1.next, l2.next)\n",
    "        return res\n",
    "```"
   ]
  }
 ],
 "metadata": {
  "kernelspec": {
   "display_name": "Python 3",
   "language": "python",
   "name": "python3"
  },
  "language_info": {
   "codemirror_mode": {
    "name": "ipython",
    "version": 3
   },
   "file_extension": ".py",
   "mimetype": "text/x-python",
   "name": "python",
   "nbconvert_exporter": "python",
   "pygments_lexer": "ipython3",
   "version": "3.7.0"
  }
 },
 "nbformat": 4,
 "nbformat_minor": 2
}
