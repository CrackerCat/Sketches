{
 "cells": [
  {
   "cell_type": "markdown",
   "metadata": {},
   "source": [
    "# Anagrams finder\n",
    "\n",
    "https://leetcode.com/problems/find-all-anagrams-in-a-string/\n",
    "\n",
    "Given a string s and a non-empty string p, find all the start indices of p's anagrams in s.\n",
    "\n",
    "Strings consists of lowercase English letters only and the length of both strings s and p will not be larger than 20,100.\n",
    "\n",
    "The order of output does not matter."
   ]
  },
  {
   "cell_type": "code",
   "execution_count": 1,
   "metadata": {},
   "outputs": [],
   "source": [
    "# First a solution with actually looking through all anagrams; almost certainly pretty inefficient\n",
    "\n",
    "class Solution0:\n",
    "    def anagrams(self,s):\n",
    "        if len(s)==1:\n",
    "            return s\n",
    "        out = []\n",
    "        for i in range(len(s)):\n",
    "            out += [s[i] + q for q in self.anagrams(s[:i]+s[i+1:])]\n",
    "        return out\n",
    "    \n",
    "    def unique(self,l):\n",
    "        out = []\n",
    "        for i in l:\n",
    "            if i not in out:\n",
    "                out.append(i)\n",
    "        return out \n",
    "            \n",
    "    def findAnagrams(self, s, p):\n",
    "        res = []\n",
    "        good_set = self.unique(self.anagrams(p))\n",
    "        for a in good_set:\n",
    "            i = -1\n",
    "            while True:\n",
    "                #print(a,i)\n",
    "                i = s.find(a,i+1)\n",
    "                if i>=0:\n",
    "                    res.append(i)\n",
    "                else:\n",
    "                    break\n",
    "        return res"
   ]
  },
  {
   "cell_type": "code",
   "execution_count": 30,
   "metadata": {},
   "outputs": [],
   "source": [
    "class Solution:\n",
    "    \"\"\"Calculate letter frequencies for each substring, and compare dicts\"\"\"\n",
    "    def findAnagrams(self, s, p):\n",
    "        if len(p)>len(s):\n",
    "            return []\n",
    "        d = {k:0 for k in s}\n",
    "        t = {k:0 for k in s}\n",
    "        for c in p:\n",
    "            t[c] = t.get(c,0)+1\n",
    "        out = []\n",
    "        \n",
    "        for i in range(len(p)):\n",
    "            if s[i] in d:\n",
    "                d[s[i]] += 1\n",
    "        for i in range(len(s)-len(p)+1):\n",
    "            #print(i,d,t,d==t)\n",
    "            if i>0:\n",
    "                if s[i-1] in d:\n",
    "                    d[s[i-1]] -= 1\n",
    "                if s[i+len(p)-1] in d:\n",
    "                    d[s[i+len(p)-1]] += 1\n",
    "            if d==t: # If dicts are the same\n",
    "                out.append(i)\n",
    "        return out"
   ]
  },
  {
   "cell_type": "code",
   "execution_count": 31,
   "metadata": {},
   "outputs": [
    {
     "data": {
      "text/plain": [
       "[0, 9]"
      ]
     },
     "execution_count": 31,
     "metadata": {},
     "output_type": "execute_result"
    }
   ],
   "source": [
    "# test\n",
    "S = Solution()\n",
    "S.findAnagrams(\"cbaebabatbcad\",\"abc\")\n",
    "#S.findAnagrams(\"baa\",\"aa\")"
   ]
  }
 ],
 "metadata": {
  "kernelspec": {
   "display_name": "Python 3",
   "language": "python",
   "name": "python3"
  },
  "language_info": {
   "codemirror_mode": {
    "name": "ipython",
    "version": 3
   },
   "file_extension": ".py",
   "mimetype": "text/x-python",
   "name": "python",
   "nbconvert_exporter": "python",
   "pygments_lexer": "ipython3",
   "version": "3.7.6"
  }
 },
 "nbformat": 4,
 "nbformat_minor": 2
}
