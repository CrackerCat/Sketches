{
 "cells": [
  {
   "cell_type": "markdown",
   "metadata": {},
   "source": [
    "### Subarray of k odd numbers\n",
    "\n",
    "Given an array of integers nums and an integer k. A subarray is called nice if there are k odd numbers on it.\n",
    "\n",
    "Return the number of nice sub-arrays."
   ]
  },
  {
   "cell_type": "markdown",
   "metadata": {},
   "source": [
    "Proper solution idea: find all odd numbers, put them in a list, then just go through the list and count gaps on the right and on the left of each group of odd numbers. Don't use a sliding window. Slinding window was a super-stupid idea in this case."
   ]
  },
  {
   "cell_type": "markdown",
   "metadata": {},
   "source": [
    "**My original solution**\n",
    "\n",
    "I really don't like this solution below as it has too many special cases. Even the description itself has 4 different \"states\", but then only the code is highly intransparent. To make it halt successfully, I run r into n+1, which is weird. But then I also pretend that r==n is equivalent to \"r on odd\", by manually setting rs=1 when r==n. It's weird. \n",
    "\n",
    "Another ugliness, that I set rc to 0 only to increase it by one immediately before \"shifting\" the frame, as without this weird trick it double-counted, but only if the array was finished when in \"growth\" stage."
   ]
  },
  {
   "cell_type": "code",
   "execution_count": 22,
   "metadata": {},
   "outputs": [
    {
     "name": "stdout",
     "output_type": "stream",
     "text": [
      "0 1 1 [1] Hungry\n",
      "0 2 2 [1, 1] Hungry\n",
      "0 3 2 [1, 1, 2] Hungry\n",
      "0 4 3 [1, 1, 2, 1] Moving\n",
      "1 5 3 [1, 2, 1, 1] Moving\n"
     ]
    },
    {
     "data": {
      "text/plain": [
       "2"
      ]
     },
     "execution_count": 22,
     "metadata": {},
     "output_type": "execute_result"
    }
   ],
   "source": [
    "def numberOfSubarrays(nums,k):\n",
    "    # Modes: \n",
    "    # hungry: inside<k: grow right, update inside\n",
    "    # retraction: inside==k, right on odd, left on even: l++\n",
    "    # exploration: inside==k, left on odd, next right is even: r++\n",
    "    # stuck: inside==k, left on odd, next right is odd: move both\n",
    "    count = l = 0\n",
    "    r = 1\n",
    "    ls = lc = (nums[l] % 2)\n",
    "    rs = (nums[r] % 2)\n",
    "    inside = ls\n",
    "    rc = 0\n",
    "    n = len(nums)\n",
    "    while r < n+1:\n",
    "        print(l,r,inside,nums[l:r], end=' ')\n",
    "        if inside<k: # Hungry\n",
    "            print('Hungry')\n",
    "            inside += rs\n",
    "            if inside==k:\n",
    "                lc = 1\n",
    "                rc = 0\n",
    "            r += 1\n",
    "            if r<n:\n",
    "                rs = nums[r] % 2\n",
    "            else:\n",
    "                rs = 1\n",
    "            continue\n",
    "        if (ls==0):\n",
    "            print('Retracting')\n",
    "            lc += 1\n",
    "            l += 1\n",
    "            ls = nums[l] % 2\n",
    "            continue\n",
    "        if (rs==0):\n",
    "            print('Growing')\n",
    "            r += 1\n",
    "            rc += 1\n",
    "            if r<n:\n",
    "                rs = nums[r] % 2\n",
    "            continue\n",
    "        else:\n",
    "            print('Moving')\n",
    "            rc += 1\n",
    "            count += lc*rc\n",
    "            l += 1\n",
    "            r += 1\n",
    "            # Inside shouldn't have changed, no?\n",
    "            if l<n:\n",
    "                ls = nums[l] % 2\n",
    "            if r<n:                \n",
    "                rs = nums[r] % 2\n",
    "            else:\n",
    "                rs = 1\n",
    "            if inside==k:\n",
    "                lc = 1\n",
    "                rc = 0\n",
    "    count += lc*rc\n",
    "\n",
    "    return count\n",
    "\n",
    "#numberOfSubarrays([1,1,2,1,1],3) # 2\n",
    "#numberOfSubarrays([2,2,2,1,2,2,1,2,2,2],2) # 16\n",
    "#numberOfSubarrays([1,1,1,1],1)"
   ]
  }
 ],
 "metadata": {
  "kernelspec": {
   "display_name": "Python 3",
   "language": "python",
   "name": "python3"
  },
  "language_info": {
   "codemirror_mode": {
    "name": "ipython",
    "version": 3
   },
   "file_extension": ".py",
   "mimetype": "text/x-python",
   "name": "python",
   "nbconvert_exporter": "python",
   "pygments_lexer": "ipython3",
   "version": "3.7.0"
  }
 },
 "nbformat": 4,
 "nbformat_minor": 2
}
