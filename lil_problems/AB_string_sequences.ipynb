{
 "cells": [
  {
   "cell_type": "markdown",
   "metadata": {},
   "source": [
    "# AB-string sequences\n",
    "\n",
    "Source: https://arena.topcoder.com/#/u/practiceCode/16319/46378/13642/1/325040\n",
    "\n",
    "**Description:** You are given two s: N and K. Lun the dog is interested in strings that satisfy the following conditions:\n",
    "\n",
    "The string has exactly N characters, each of which is either 'A' or 'B'.\n",
    "The string s has exactly K pairs (i, j) (0 <= i < j <= N-1) such that s[i] = 'A' and s[j] = 'B'.\n",
    "If there exists a string that satisfies the conditions, find and return any such string. Otherwise, return an empty string.\n",
    "\n",
    "--------\n",
    "\n",
    "A solution with explanation: https://medium.com/@7sedam7/algorithms-practice-with-crystal-ab-f59055ca7290"
   ]
  },
  {
   "cell_type": "code",
   "execution_count": 60,
   "metadata": {},
   "outputs": [
    {
     "name": "stdout",
     "output_type": "stream",
     "text": [
      "[6, 4, 5, 6]\n"
     ]
    },
    {
     "data": {
      "text/plain": [
       "''"
      ]
     },
     "execution_count": 60,
     "metadata": {},
     "output_type": "execute_result"
    }
   ],
   "source": [
    "class AB:\n",
    "    def measure(self,l):\n",
    "        if len(l)<2: return 0\n",
    "        out = 0\n",
    "        for j in range(1,len(l)):\n",
    "            for i in range(j):\n",
    "                if l[i]<l[j]:\n",
    "                    out += 1\n",
    "        return out\n",
    "    \n",
    "    def makeString(self,n,k):\n",
    "        if k<2: return ''\n",
    "        s = ['B']*k\n",
    "        i = -1\n",
    "        while self.measure(s)<n and i < k//2:\n",
    "            i += 1\n",
    "            s[i] = 'A'\n",
    "        if self.measure(s)<n:\n",
    "            return ''\n",
    "        while self.measure(s)>n:\n",
    "            s[i] = 'B'\n",
    "            i += 1\n",
    "            s[i] = 'A'\n",
    "        return ''.join(s)\n",
    "        \n",
    "    \n",
    "# test\n",
    "c = AB()\n",
    "c.measure('AABBAB')\n",
    "print([c.measure(l) for l in ['AABBB','AABBA','AABAB', 'AAABB']])\n",
    "c.makeString(3,2)"
   ]
  },
  {
   "cell_type": "code",
   "execution_count": 61,
   "metadata": {},
   "outputs": [
    {
     "data": {
      "text/plain": [
       "''"
      ]
     },
     "execution_count": 61,
     "metadata": {},
     "output_type": "execute_result"
    }
   ],
   "source": [
    "c.makeString(2,0)"
   ]
  },
  {
   "cell_type": "code",
   "execution_count": 58,
   "metadata": {},
   "outputs": [
    {
     "name": "stdout",
     "output_type": "stream",
     "text": [
      "BBABBBBB\n"
     ]
    },
    {
     "data": {
      "text/plain": [
       "5"
      ]
     },
     "execution_count": 58,
     "metadata": {},
     "output_type": "execute_result"
    }
   ],
   "source": [
    "s = c.makeString(5,8)\n",
    "print(s)\n",
    "c.measure(s)"
   ]
  },
  {
   "cell_type": "code",
   "execution_count": 56,
   "metadata": {},
   "outputs": [
    {
     "name": "stdout",
     "output_type": "stream",
     "text": [
      "0 : BBBBBBBBB 0\n",
      "1 : BBBBBBBAB 1\n",
      "2 : BBBBBBABB 2\n",
      "3 : BBBBBABBB 3\n",
      "4 : BBBBABBBB 4\n",
      "5 : BBBABBBBB 5\n",
      "6 : BBABBBBBB 6\n",
      "7 : BABBBBBBB 7\n",
      "8 : ABBBBBBBB 8\n",
      "9 : ABBBBBABB 9\n",
      "10 : ABBBBABBB 10\n",
      "11 : ABBBABBBB 11\n",
      "12 : ABBABBBBB 12\n",
      "13 : ABABBBBBB 13\n",
      "14 : AABBBBBBB 14\n",
      "15 : AABBBABBB 15\n",
      "16 : AABBABBBB 16\n",
      "17 : AABABBBBB 17\n",
      "18 : AAABBBBBB 18\n",
      "19 : AAABABBBB 19\n",
      "20 : AAAABBBBB 20\n",
      "21 :  0\n"
     ]
    }
   ],
   "source": [
    "for k in range(22):\n",
    "    s = c.makeString(k,9)\n",
    "    print(k,':',s,c.measure(s))"
   ]
  },
  {
   "cell_type": "code",
   "execution_count": 40,
   "metadata": {},
   "outputs": [
    {
     "data": {
      "text/plain": [
       "7"
      ]
     },
     "execution_count": 40,
     "metadata": {},
     "output_type": "execute_result"
    }
   ],
   "source": [
    "c.measure('ABABBBA')"
   ]
  }
 ],
 "metadata": {
  "kernelspec": {
   "display_name": "Python 3",
   "language": "python",
   "name": "python3"
  },
  "language_info": {
   "codemirror_mode": {
    "name": "ipython",
    "version": 3
   },
   "file_extension": ".py",
   "mimetype": "text/x-python",
   "name": "python",
   "nbconvert_exporter": "python",
   "pygments_lexer": "ipython3",
   "version": "3.7.0"
  }
 },
 "nbformat": 4,
 "nbformat_minor": 2
}
