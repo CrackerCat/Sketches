{
 "cells": [
  {
   "cell_type": "markdown",
   "metadata": {},
   "source": [
    "# A Clique of Dividing Numbers\n",
    "\n",
    "Not a real name. The task: given a set of integers, all of them unique, find the largest (in terms of the number of elements) subset of them, so that for all pairs of numbers a,b in this subset either a divides b, or b divides a."
   ]
  },
  {
   "cell_type": "code",
   "execution_count": 1,
   "metadata": {},
   "outputs": [],
   "source": [
    "import numpy as np\n",
    "import networkx as nx\n",
    "import matplotlib.pyplot as plt"
   ]
  },
  {
   "cell_type": "code",
   "execution_count": 2,
   "metadata": {},
   "outputs": [
    {
     "name": "stdout",
     "output_type": "stream",
     "text": [
      "N primes: 28\n",
      "[317, 479, 491, 89, 13, 347, 421, 499, 389, 23, 103, 503, 83, 433, 173, 311, 17, 181, 223, 521, 79, 3, 167, 137, 379, 373, 149, 463, 356, 36427, 30743, 183, 41568, 288, 959, 865, 31996, 26063, 9193, 35506, 3026, 1292, 44910, 16765, 4635, 8961, 25653, 72, 13015, 4927, 1003, 15293, 24908, 2334, 1660, 28628, 29697, 29545, 25150, 6383, 1081, 51, 47405, 34, 7672, 12046, 14588, 4354, 43258, 694, 7261, 93, 18681, 8549, 3725, 3836, 581, 5063, 9854, 4438, 3399, 7780, 1916, 10197, 20840, 4476, 1473, 11920, 29441, 45505, 8028, 45270, 30699, 37048, 24618, 19904, 22224, 13856, 9853, 10574]\n",
      "[317, 479, 491, 89, 13, 347, 421, 499, 389, 23, 103, 503, 83, 433, 173, 311, 17, 181, 223, 521, 79, 3, 167, 137, 379, 373, 149, 463, 356, 36427, 30743, 183, 41568, 288, 959, 865, 31996, 26063, 9193, 35506, 3026, 1292, 44910, 16765, 4635, 8961, 25653, 72, 13015, 4927, 1003, 15293, 24908, 2334, 1660, 28628, 29697, 29545, 25150, 6383, 1081, 51, 47405, 34, 7672, 12046, 14588, 4354, 43258, 694, 7261, 93, 18681, 8549, 3725, 3836, 581, 5063, 9854, 4438, 3399, 7780, 1916, 10197, 20840, 4476, 1473, 11920, 29441, 45505, 8028, 45270, 30699, 37048, 24618, 19904, 22224, 13856, 9853, 10574, 9309, 3614, 8090, 24115, 19070, 45245, 40468, 31183, 19302, 11570, 24140, 25133, 5575, 40461, 30963, 26697, 30707, 4166, 33290, 4714, 18050, 47400, 20272, 13967, 12506, 45533, 42368, 1038, 32433, 20094, 25685, 29559, 19023, 31371, 18595, 23841, 4737, 18426, 20959, 23413, 28197, 4633, 13152, 31990, 10722, 19066, 2036, 30327, 24523, 3315, 19409, 25157, 23002, 39104, 44154, 11642, 12321, 24146, 23230, 26879, 40574, 43815, 36684, 8892, 45484, 10999, 33709, 38006, 13727, 8942, 3616, 25955, 13037, 21288, 41114, 42800, 10612, 18222, 1251, 30973, 10525, 32254, 28178, 431, 42078, 1217, 21062, 31370, 38724, 39484, 28765, 39450, 36189, 20994, 39397, 3954, 10301, 15774, 28767, 21483]\n"
     ]
    }
   ],
   "source": [
    "def create_set_tight(n=None):\n",
    "    \"\"\"Creates a set of n numbers to test the algorithm\"\"\"\n",
    "    if n is None:\n",
    "        n = np.random.randint(20)\n",
    "    nprimes = np.random.randint(low=3,high=max(np.floor(n*0.3),5)) # Probability of including new primes\n",
    "    print('N primes:',nprimes)\n",
    "    \n",
    "    i = 2\n",
    "    primes = [2] # Generate n primes (1 will be added at the end)\n",
    "    while len(primes) < n-1:\n",
    "        i += 1\n",
    "        if not any([bool(i % j ==0) for j in primes]):\n",
    "            primes.append(i)\n",
    "    primes = [1] + primes\n",
    "    \n",
    "    out = []\n",
    "    for i in range(nprimes): # Pick nprimes at random\n",
    "        out.append(primes.pop(np.random.randint(len(primes))))\n",
    "        \n",
    "    for i in range(nprimes,n):\n",
    "        while True:\n",
    "            pickp = out[np.random.randint(nprimes)]  # One of the primes\n",
    "            pickb = np.random.randint(1,n) # Some other number\n",
    "            if pickb*pickp not in out:\n",
    "                out.append(pickb*pickp)\n",
    "                break\n",
    "        \n",
    "    return out\n",
    "\n",
    "\n",
    "def augment_set(x,n=None):\n",
    "    '''Adds other random numbers to the set'''\n",
    "    if n is None: n = 2*len(x)\n",
    "    out = x[:]\n",
    "    max_value = max(x) + n - len(x) # A very safe value that should work for both small and large arrays\n",
    "    while len(out)<n:\n",
    "        pick = np.random.randint(max_value)\n",
    "        if pick not in out:\n",
    "            out.append(pick)    \n",
    "    return out\n",
    "\n",
    "\n",
    "    \n",
    "x = create_set_tight(100)\n",
    "print(x)\n",
    "x = augment_set(x)\n",
    "print(x)"
   ]
  },
  {
   "cell_type": "code",
   "execution_count": 3,
   "metadata": {},
   "outputs": [],
   "source": [
    "# One of the test cases form LeetCode:\n",
    "x0 = [832,33,531,416,335,298,365,352,582,936,366,305,930,530,97,349,71,295,840,108,299,804,925,627,953,571,658,732,429,\n",
    "      136,563,462,666,330,796,315,695,500,896,982,217,200,912,98,297,612,169,943,628,593,959,904,219,240,857,789,897,\n",
    "      940,569,384,502,382,401,184,716,230,29,963,211,597,515,122,163,86,215,105,889,842,49,847,267,87,954,407,245,975,\n",
    "      719,746,709,471,281,238,186,510,618,149,73,214,663,194,260,825,631,474,519,668,329,718,765,947,156,353,490,962,679,\n",
    "      560,59,387,31,692,976,568,201,273,159,730,819,418,906,801,892,672,559,866,389,675,812,744,164,737,57,195,115,933,\n",
    "      158,909,598,359,853,314,983,11,395,153,781,301,838,625,704,256,351,996,225,644,521,509,674,417,272,622,937,723,632,\n",
    "      331,228,412,181,435,469,157,368,524,38,132,325,420,127,731,771,604,505,634,67,374,894,3,448,878,686,641,316,207,\n",
    "      76,363,795,235,770,446,820,493,177,816,615,410,117,944,829,190,831,289,516,964,170,134,671,885,682,119,402,82,485,\n",
    "      901,375,68,858,739,56,974,683,884,815,872,715,104,290,348,588,834,788,472,466,867,550,779,65,802,459,440,870,753,\n",
    "      608,808,623,642,44,437,865,758,540,506,691,958,854,546,39,595,369,504,63,311,722,441,786,899,338,651,874,946,811,\n",
    "      848,939,284,824,309,653,133,514,460,678,54,399,759,468,61,480,783,266,900,400,237,403,534,213,914,473,198,380,373,\n",
    "      288,154,844,535,409,249,285,168,69,345,647,851,846,264,102,246,106,648,576,212,438,981,987,379,360,667,95,172,101,\n",
    "      580,891,385,747,161,927,361,818,657,171,342,232,734,714,362,425,475,28,41,551,142,131,51,229,9,607,326,522,687,792,\n",
    "      845,665,358,91,720,155,565,99,26,650,539,780,589,950,935,372,227,424,750,833,554,841,552,60,757,430,916,140,790,\n",
    "      426,776,96,199,923,806,949,755,711,659,911,611,310,774,265,880,690,706,761,286,255,756,204,444,478,601,529,669,241,\n",
    "      784,566,528,208,270,511,236,271,378,58,453,467,233,250,567,296,932,989,367,626,35,162,887,572,603,564,797,280,406,\n",
    "      970,689,408,431,638,489,85,50,357,803,47,555,793,422,763,110,869,861,253,320,538,347,405,769,64,875,630,537,328,\n",
    "      553,166,948,303,160,800,507,920,922,90,693,636,17,455,183,210,856,762,656,174,873,579,176,688,640,1,938,902,341,\n",
    "      740,581,427,111,972,443,22,791,304,574,575,725,477,700,817,381,479,248,121,411,547,182,871,599,203,13,224,541,\n",
    "      724,178,775,388,4,251,321,52,88,100,279,614,839,84,151,735,40,752,773,376,77,476,708,396,988,961,24,231,445,609,\n",
    "      952,965,986,414,451,881,42,257,32,334,130,596,527,94,333,317,244,960,710,852,862,421,81,37,452,274,187,268,520,491,\n",
    "      778,18,743,620,145,72,370,118,748,633,997,436,143,573,495,180,34]\n",
    "expected = [1,3,9,18,90,180,360,720]"
   ]
  },
  {
   "cell_type": "code",
   "execution_count": 3,
   "metadata": {},
   "outputs": [
    {
     "data": {
      "image/png": "[encoded data removed]",
      "text/plain": [
       "<Figure size 504x504 with 1 Axes>"
      ]
     },
     "metadata": {
      "needs_background": "light"
     },
     "output_type": "display_data"
    }
   ],
   "source": [
    "# Dead-end network exploration :) Not relevant for the solution, actually.\n",
    "def find_edges(x):\n",
    "    m = {}\n",
    "    for i in x:\n",
    "        m[i] = [j for j in x if ((j % i ==0) or (i % j ==0)) and (j != i)]\n",
    "        \n",
    "    return [(i,j) for i in x for j in m[i]]\n",
    "    \n",
    "def visualize(m):\n",
    "    G = nx.Graph()\n",
    "    G.add_edges_from(m)\n",
    "    #nx.draw_kamada_kawai(G)\n",
    "    pos=nx.spring_layout(G, iterations=50) # positions for all nodes\n",
    "    \n",
    "    plt.figure(figsize=(7,7))\n",
    "    ax = plt.axes()\n",
    "    nx.draw_networkx_nodes(G, pos, node_size=10, node_color=\"blue\")\n",
    "    nx.draw_networkx_edges(G, pos, width=1.0,alpha=0.5)\n",
    "    plt.axis('off')\n",
    "    plt.show()\n",
    "    #nx.draw_networkx_labels(G,pos,labels,font_size=16)\n",
    "    \n",
    "    \n",
    "visualize(find_edges(x))"
   ]
  },
  {
   "cell_type": "code",
   "execution_count": 9,
   "metadata": {},
   "outputs": [
    {
     "data": {
      "text/plain": [
       "[7672, 3836, 959, 137]"
      ]
     },
     "execution_count": 9,
     "metadata": {},
     "output_type": "execute_result"
    }
   ],
   "source": [
    "# My solution that was accepted and used less memory than almost any other solution out there, \n",
    "# but was also slower than any other solution out there :)\n",
    "\n",
    "class Solution:\n",
    "    def largestDivisibleSubset(self, nums):\n",
    "        if len(nums)==0: return []\n",
    "        if len(nums)==1: return nums\n",
    "        self.a = {}\n",
    "        self.mem = {}\n",
    "        for i in range(1,len(nums)):\n",
    "            for j in range(i):\n",
    "                if (nums[i] % nums[j] == 0): # That is, i>j and (i,j) in div\n",
    "                    if nums[i] in self.a:    self.a[nums[i]].append(nums[j])\n",
    "                    else:                    self.a[nums[i]] = [nums[j]]\n",
    "                if (nums[j] % nums[i] == 0):\n",
    "                    if nums[j] in self.a:    self.a[nums[j]].append(nums[i])\n",
    "                    else:                    self.a[nums[j]] = [nums[i]]\n",
    "        # Now each a[i] points at all j such that i%j==0\n",
    "                            \n",
    "        p = list(self.a.keys())\n",
    "        if len(p)==0:\n",
    "            return [nums[0]]\n",
    "    \n",
    "        out = []\n",
    "        for i in p:\n",
    "            seq = self.longest_sequence(i)\n",
    "            if len(seq)>len(out):\n",
    "                out = seq.copy()\n",
    "        return out\n",
    "    \n",
    "    def longest_sequence(self,i):\n",
    "        if i not in self.a:\n",
    "            return [i]\n",
    "        if i in self.mem:\n",
    "            return self.mem[i]\n",
    "        out = []\n",
    "        for j in self.a[i]:\n",
    "            seq = self.longest_sequence(j)\n",
    "            if len(seq)>len(out):\n",
    "                out = seq\n",
    "        self.mem[i] = [i]+out\n",
    "        return self.mem[i]\n",
    "    \n",
    "S = Solution()\n",
    "S.largestDivisibleSubset(x)"
   ]
  },
  {
   "cell_type": "code",
   "execution_count": 10,
   "metadata": {},
   "outputs": [
    {
     "data": {
      "text/plain": [
       "[137, 959, 3836, 7672]"
      ]
     },
     "execution_count": 10,
     "metadata": {},
     "output_type": "execute_result"
    }
   ],
   "source": [
    "# Good no-recursion solution from another user:\n",
    "\n",
    "# We will use the fact that once the elements are sorted, % is transitive down. \n",
    "# If i % j == 0, then for evern k that j % k == 0, it is also true that i % k == 0.\n",
    "\n",
    "class Solution2:\n",
    "    def largestDivisibleSubset(self, nums):\n",
    "        if not nums:                # Apparently that's a recommended way to check len(nums)==0. TIL!\n",
    "            return []\n",
    "        nums.sort()                 # Note that they sort the array\n",
    "        n = len(nums)\n",
    "        dp = [(-1, 1)] * n          # dp[i] : (j : nums[i]%nums[j]==0 that achieves max(len(seq)) , the value of len(seq))\n",
    "        # By default, each i on its own, so there's no j kinda (-1), and we have a group of only 1 element (i itself)\n",
    "        maxl = (0, 1)               # Same, but for storing current best value\n",
    "        for i in range(1, n):       # As n is now sorted, we'll go through smaller values first ...\n",
    "            for j in range(i):      # ... meaning that for j, everything is solved. (That's why no need in recursion!)\n",
    "                if nums[i] % nums[j] == 0:\n",
    "                    if dp[i][1] < dp[j][1] + 1:      # If j is more promising for i than the prev best choice:\n",
    "                        dp[i] = (j, dp[j][1] + 1)    # update i, remembering that it's now in-group with j.\n",
    "                        if maxl[1] < dp[i][1]:       # And check if could be the best-length sequence for now.\n",
    "                            maxl = (i, dp[i][1])\n",
    "        ret = []\n",
    "        x = maxl[0]                 # j that starts the best sequence.\n",
    "        while x > -1:               # Now jump from j to i (from larger to factor) & reconstruct the sequence\n",
    "            ret.append(nums[x])\n",
    "            x = dp[x][0]\n",
    "        return ret[::-1]\n",
    "    \n",
    "S = Solution2()\n",
    "S.largestDivisibleSubset(x)"
   ]
  }
 ],
 "metadata": {
  "kernelspec": {
   "display_name": "Python 3",
   "language": "python",
   "name": "python3"
  },
  "language_info": {
   "codemirror_mode": {
    "name": "ipython",
    "version": 3
   },
   "file_extension": ".py",
   "mimetype": "text/x-python",
   "name": "python",
   "nbconvert_exporter": "python",
   "pygments_lexer": "ipython3",
   "version": "3.7.6"
  }
 },
 "nbformat": 4,
 "nbformat_minor": 2
}
