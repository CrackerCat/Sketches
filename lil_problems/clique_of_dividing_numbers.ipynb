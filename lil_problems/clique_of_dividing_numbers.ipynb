{
 "cells": [
  {
   "cell_type": "markdown",
   "metadata": {},
   "source": [
    "# A Clique of Dividing Numbers\n",
    "\n",
    "Not a real name. The task: given a set of integers, all of them unique, find the largest (in terms of the number of elements) subset of them, so that for all pairs of numbers a,b in this subset either a divides b, or b divides a."
   ]
  },
  {
   "cell_type": "code",
   "execution_count": 180,
   "metadata": {},
   "outputs": [],
   "source": [
    "import numpy as np\n",
    "import networkx as nx\n",
    "import matplotlib.pyplot as plt"
   ]
  },
  {
   "cell_type": "code",
   "execution_count": 173,
   "metadata": {},
   "outputs": [
    {
     "name": "stdout",
     "output_type": "stream",
     "text": [
      "4\n",
      "[23, 1, 5, 3, 115, 69, 25, 529, 1587, 207]\n"
     ]
    }
   ],
   "source": [
    "def create_set(n=None):\n",
    "    \"\"\"Creates a set of n numbers to test the algorithm\"\"\"\n",
    "    if n is None:\n",
    "        n = np.random.randint(20)\n",
    "    nprimes = np.random.randint(low=3,high=np.floor(n*0.5)) # Probability of including new primes\n",
    "    print(nprimes)\n",
    "    \n",
    "    i = 2\n",
    "    primes = [2] # Generate n primes (1 will be added at the end)\n",
    "    while len(primes) < n-1:\n",
    "        i += 1\n",
    "        if not any([bool(i % j ==0) for j in primes]):\n",
    "            primes.append(i)\n",
    "    primes = [1] + primes\n",
    "    \n",
    "    out = []\n",
    "    for i in range(nprimes): # Pick nprimes at random\n",
    "        out.append(primes.pop(np.random.randint(len(primes))))\n",
    "        \n",
    "    for i in range(nprimes,n):\n",
    "        while True:\n",
    "            pickp = out[np.random.randint(nprimes)]\n",
    "            pickb = out[np.random.randint(len(out))]\n",
    "            if pickb*pickp not in out:\n",
    "                out.append(pickb*pickp)\n",
    "                break\n",
    "        \n",
    "    return out\n",
    "    \n",
    "x = create_set(10)\n",
    "print(x)"
   ]
  },
  {
   "cell_type": "code",
   "execution_count": 181,
   "metadata": {},
   "outputs": [
    {
     "name": "stdout",
     "output_type": "stream",
     "text": [
      "[(23, 1), (23, 115), (23, 69), (23, 529), (23, 1587), (23, 207), (1, 23), (1, 5), (1, 3), (1, 115), (1, 69), (1, 25), (1, 529), (1, 1587), (1, 207), (5, 1), (5, 115), (5, 25), (3, 1), (3, 69), (3, 1587), (3, 207), (115, 23), (115, 1), (115, 5), (69, 23), (69, 1), (69, 3), (69, 1587), (69, 207), (25, 1), (25, 5), (529, 23), (529, 1), (529, 1587), (1587, 23), (1587, 1), (1587, 3), (1587, 69), (1587, 529), (207, 23), (207, 1), (207, 3), (207, 69)]\n"
     ]
    },
    {
     "data": {
      "text/plain": [
       "(0.0, 1.0, 0.0, 1.0)"
      ]
     },
     "execution_count": 181,
     "metadata": {},
     "output_type": "execute_result"
    },
    {
     "data": {
      "image/png": "[encoded data removed]",
      "text/plain": [
       "<Figure size 432x288 with 1 Axes>"
      ]
     },
     "metadata": {
      "needs_background": "light"
     },
     "output_type": "display_data"
    }
   ],
   "source": [
    "def process(x):\n",
    "    m = {}\n",
    "    for i in x:\n",
    "        m[i] = [j for j in x if ((j % i ==0) or (i % j ==0)) and (j != i)]\n",
    "        \n",
    "    return [(i,j) for i in x for j in m[i]]\n",
    "    \n",
    "m = process(x)\n",
    "print(m)\n",
    "\n",
    "G = nx.Graph()\n",
    "G.add_edges_from(m)\n",
    "#nx.draw_kamada_kawai(G)\n",
    "pos=nx.spring_layout(G) # positions for all nodes\n",
    "nx.draw_networkx_edges(G,pos,width=1.0,alpha=0.5)\n",
    "plt.axis('off')\n",
    "#nx.draw_networkx_labels(G,pos,labels,font_size=16)"
   ]
  }
 ],
 "metadata": {
  "kernelspec": {
   "display_name": "Python 3",
   "language": "python",
   "name": "python3"
  },
  "language_info": {
   "codemirror_mode": {
    "name": "ipython",
    "version": 3
   },
   "file_extension": ".py",
   "mimetype": "text/x-python",
   "name": "python",
   "nbconvert_exporter": "python",
   "pygments_lexer": "ipython3",
   "version": "3.7.3"
  }
 },
 "nbformat": 4,
 "nbformat_minor": 2
}
