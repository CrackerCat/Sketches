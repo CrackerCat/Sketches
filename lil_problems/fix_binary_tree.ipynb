{
 "cells": [
  {
   "cell_type": "markdown",
   "metadata": {},
   "source": [
    "# Fix a binary tree"
   ]
  },
  {
   "cell_type": "code",
   "execution_count": 2,
   "metadata": {},
   "outputs": [],
   "source": [
    "import numpy as np"
   ]
  },
  {
   "cell_type": "code",
   "execution_count": 43,
   "metadata": {},
   "outputs": [
    {
     "name": "stdout",
     "output_type": "stream",
     "text": [
      "97(56(35(31(3(.,17(.,.)),.),38(.,.)),67(.,79(77(.,.),.))),.)\n"
     ]
    }
   ],
   "source": [
    "# Tree\n",
    "class My_tree:\n",
    "    def __init__(self):\n",
    "        self.links = {}  # Dict of int->[int,int]\n",
    "        self.values = [] # Dict of int (same as above)->value\n",
    "        \n",
    "    def __str__(self):\n",
    "        return self.say(0)\n",
    "    \n",
    "    def say(self,i):\n",
    "        \"\"\"Tree to a sting recursively\"\"\"\n",
    "        if i is None:\n",
    "            return '.' \n",
    "        return f'{self.values[i]}' + '('+ self.say(self.links[i][0]) + ',' + self.say(self.links[i][1]) + ')'\n",
    "\n",
    "    def grow(self,n=None):\n",
    "        \"\"\"Add a bunch of values.\"\"\"\n",
    "        if n is None: n=1\n",
    "        for i in range(n):\n",
    "            self.add(np.random.randint(100))\n",
    "    \n",
    "    def add(self,x):\n",
    "        \"\"\"Add a value to a tree.\"\"\"\n",
    "        if len(self.values)==0: # First ever\n",
    "            self.links[0] = [None,None]\n",
    "            self.values.append(x)\n",
    "        else:\n",
    "            self.inject(0,x)\n",
    "        \n",
    "    def inject(self,i,x):\n",
    "        \"\"\"Try to add a value to a node.\"\"\"\n",
    "        ni = len(self.values) # Potential new index\n",
    "        if x<self.values[i]: # Left\n",
    "            if self.links[i][0] is None:\n",
    "                self.links[i] = [ni , self.links[i][1]] # To avoid chain assignment\n",
    "                self.links[ni] = [None,None]\n",
    "                self.values.append(x)\n",
    "            else:\n",
    "                self.inject(self.links[i][0],x)\n",
    "        else:\n",
    "            if self.links[i][1] is None:\n",
    "                self.links[i] = [self.links[i][0] , ni]\n",
    "                self.links[ni] = [None,None]\n",
    "                self.values.append(x)\n",
    "            else:\n",
    "                self.inject(self.links[i][1],x)\n",
    "            \n",
    "            \n",
    "T = My_tree()\n",
    "T.grow(10)\n",
    "print(T)"
   ]
  }
 ],
 "metadata": {
  "kernelspec": {
   "display_name": "Python 3",
   "language": "python",
   "name": "python3"
  },
  "language_info": {
   "codemirror_mode": {
    "name": "ipython",
    "version": 3
   },
   "file_extension": ".py",
   "mimetype": "text/x-python",
   "name": "python",
   "nbconvert_exporter": "python",
   "pygments_lexer": "ipython3",
   "version": "3.7.0"
  }
 },
 "nbformat": 4,
 "nbformat_minor": 2
}
