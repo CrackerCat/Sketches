{
 "cells": [
  {
   "cell_type": "markdown",
   "metadata": {},
   "source": [
    "### Test parentheses closer"
   ]
  },
  {
   "cell_type": "markdown",
   "metadata": {},
   "source": [
    "First a silly python solution:"
   ]
  },
  {
   "cell_type": "code",
   "execution_count": 4,
   "metadata": {},
   "outputs": [],
   "source": [
    "def closeP(s):\n",
    "    f=1\n",
    "    while f!=0:\n",
    "        f = 0 # Flag of whether there was a successful replacement\n",
    "        if \"()\" in s:\n",
    "            s = s.replace(\"()\",'')\n",
    "            f = 1\n",
    "        if \"[]\" in s:\n",
    "            s = s.replace(\"[]\",'')\n",
    "            f = 1\n",
    "        if \"{}\" in s:\n",
    "            s = s.replace(\"{}\",'')\n",
    "            f = 1\n",
    "\n",
    "    if s is not '':\n",
    "        print('Broken')\n",
    "    else:\n",
    "        print(\"Solid\")"
   ]
  },
  {
   "cell_type": "code",
   "execution_count": 3,
   "metadata": {},
   "outputs": [
    {
     "name": "stdout",
     "output_type": "stream",
     "text": [
      "Broken\n"
     ]
    }
   ],
   "source": [
    "closeP(\"[[{()}{(({}))[()])}]]\")"
   ]
  },
  {
   "cell_type": "markdown",
   "metadata": {},
   "source": [
    "Now a proper solution, with a stack"
   ]
  },
  {
   "cell_type": "code",
   "execution_count": 13,
   "metadata": {},
   "outputs": [
    {
     "name": "stdout",
     "output_type": "stream",
     "text": [
      "d|(\n",
      "(\n",
      "d\n"
     ]
    }
   ],
   "source": [
    "class st:\n",
    "    '''Stack'''\n",
    "    \n",
    "    def __init__(self):\n",
    "        self.c = []\n",
    "        \n",
    "    def push(self,val):\n",
    "        self.c = self.c + [val]\n",
    "        \n",
    "    def pop(self):\n",
    "        if len(self.c)==0:\n",
    "            return None\n",
    "        else:\n",
    "            a = self.c[len(self.c)-1]\n",
    "            self.c = self.c[0:(len(self.c)-1)]\n",
    "            return a\n",
    "        \n",
    "    def __str__(self):\n",
    "        return '|'.join(self.c)        \n",
    "        \n",
    "S = st()\n",
    "S.push('d')\n",
    "S.push('(')\n",
    "print(S)\n",
    "print(S.pop())\n",
    "print(S)"
   ]
  },
  {
   "cell_type": "markdown",
   "metadata": {},
   "source": [
    "Actually it's easier to make a stack without a stack, just with a list."
   ]
  },
  {
   "cell_type": "code",
   "execution_count": 28,
   "metadata": {},
   "outputs": [
    {
     "name": "stdout",
     "output_type": "stream",
     "text": [
      "Broken\n",
      "Solid\n"
     ]
    }
   ],
   "source": [
    "def closeS(s):\n",
    "    if len(s)==0:\n",
    "        return 'Empty'\n",
    "    stack = []\n",
    "    for i in range(len(s)):\n",
    "        close2open = {']':'[' , ')':'(', '}':'{'}\n",
    "        if s[i] in '[({':\n",
    "            stack = stack + [s[i]]\n",
    "        else: # Closing\n",
    "            if len(stack)==0:\n",
    "                return 'Broken'\n",
    "            if close2open[s[i]]!=stack[len(stack)-1]:\n",
    "                return 'Broken'\n",
    "            else:\n",
    "                stack = stack[0:(len(stack)-1)]\n",
    "    return 'Solid'\n",
    "\n",
    "\n",
    "print(closeS(\"[[{()}{(({}))[()])}]]\"))\n",
    "print(closeS(\"[{((())[[]])}]{{}}\"))"
   ]
  }
 ],
 "metadata": {
  "kernelspec": {
   "display_name": "Python 3",
   "language": "python",
   "name": "python3"
  },
  "language_info": {
   "codemirror_mode": {
    "name": "ipython",
    "version": 3
   },
   "file_extension": ".py",
   "mimetype": "text/x-python",
   "name": "python",
   "nbconvert_exporter": "python",
   "pygments_lexer": "ipython3",
   "version": "3.7.3"
  }
 },
 "nbformat": 4,
 "nbformat_minor": 2
}
