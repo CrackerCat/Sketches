{
 "cells": [
  {
   "cell_type": "markdown",
   "metadata": {},
   "source": [
    "# Max Ramp\n",
    "\n",
    "In a given array, find widest (largest j-i) pair of elements i and j, such that `A[j]>=A[i]`."
   ]
  },
  {
   "cell_type": "code",
   "execution_count": 8,
   "metadata": {},
   "outputs": [
    {
     "data": {
      "text/plain": [
       "7"
      ]
     },
     "execution_count": 8,
     "metadata": {},
     "output_type": "execute_result"
    }
   ],
   "source": [
    "# Version with O(n2) and memezation on top that still timeouts.\n",
    "\n",
    "class Solution:\n",
    "    class Hero:\n",
    "        def __init__(self,A):\n",
    "            self.mem = {}\n",
    "            self.best = 0\n",
    "            self.A = A\n",
    "            \n",
    "        def start(self):\n",
    "            A = self.A\n",
    "            for i in range(len(A)):\n",
    "                t = self.find(i)\n",
    "                if t>self.best:\n",
    "                    self.best = t\n",
    "            return self.best\n",
    "            \n",
    "        def find(self,i):\n",
    "            A = self.A\n",
    "            if i in self.mem:\n",
    "                #print(i,'found:',self.mem[i])\n",
    "                return self.mem[i]\n",
    "            if i==len(A)-1:\n",
    "                return 0\n",
    "            m = 0\n",
    "            for j in range(len(A)-1,i+self.best,-1):\n",
    "                if A[j]>=A[i]:\n",
    "                    temp = j-i+self.find(j)\n",
    "                    if temp>m:\n",
    "                        m = temp\n",
    "            self.mem[i] = m\n",
    "            #print(i,'set to',m)\n",
    "            return m\n",
    "    \n",
    "    #def maxWidthRamp(self, A: List[int]) -> int:\n",
    "    def maxWidthRamp(self, A):\n",
    "        h = Solution.Hero(A)\n",
    "        return h.start()\n",
    "        \n",
    "    \n",
    "# Test\n",
    "A = [9,8,1,0,1,9,4,0,4,1] # Should be 7\n",
    "s = Solution()\n",
    "s.maxWidthRamp(A)"
   ]
  }
 ],
 "metadata": {
  "kernelspec": {
   "display_name": "Python 3",
   "language": "python",
   "name": "python3"
  },
  "language_info": {
   "codemirror_mode": {
    "name": "ipython",
    "version": 3
   },
   "file_extension": ".py",
   "mimetype": "text/x-python",
   "name": "python",
   "nbconvert_exporter": "python",
   "pygments_lexer": "ipython3",
   "version": "3.7.0"
  }
 },
 "nbformat": 4,
 "nbformat_minor": 2
}
