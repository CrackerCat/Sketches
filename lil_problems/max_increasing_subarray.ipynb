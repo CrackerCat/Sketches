{
 "cells": [
  {
   "cell_type": "markdown",
   "metadata": {},
   "source": [
    "# Largest increasing subarray\n",
    "\n",
    "Given array, find a subarray of increasing elements with highest total sum. And find this sum.  Like for `[1,0,2,3]` it would be 6 coz 1+2+3."
   ]
  },
  {
   "cell_type": "code",
   "execution_count": 60,
   "metadata": {},
   "outputs": [
    {
     "data": {
      "text/plain": [
       "16"
      ]
     },
     "execution_count": 60,
     "metadata": {},
     "output_type": "execute_result"
    }
   ],
   "source": [
    "def hisum(l):\n",
    "    m = [0]*len(l)                      # Max sequence starting from each point\n",
    "    grandm = 0                          # Current absolute winner\n",
    "    for i in range(len(l)-1, -1, -1):   # Start, stop, step (start from the right, go left)\n",
    "        if i==len(l)-1:\n",
    "            m[i] = l[i]                 # For rightmost, max sequence is it itself\n",
    "        else:\n",
    "            c = 0\n",
    "            for j in range(i+1,len(l)):  # For the rest, the best sequence = this element + best sequence..\n",
    "                if m[j]>c and l[j]>l[i]: # .. that is located to the right, is stackable (starts from a larger number),\n",
    "                    c = m[j]             # .. and has the highest value.\n",
    "            m[i] = l[i]+c\n",
    "            if m[i]>grandm:\n",
    "                grandm = m[i]\n",
    "    return grandm\n",
    "        \n",
    "# Test\n",
    "a = [1,0,2,3]\n",
    "a = [3,4,1,5,3,2,1,3,4]\n",
    "a = [3,4,1,9,1,2,3,4,5]\n",
    "hisum(a)"
   ]
  },
  {
   "cell_type": "markdown",
   "metadata": {},
   "source": [
    "Now same, but with a dictionary of sorts"
   ]
  },
  {
   "cell_type": "code",
   "execution_count": 59,
   "metadata": {},
   "outputs": [
    {
     "name": "stdout",
     "output_type": "stream",
     "text": [
      "4 9 [(4, 9), (5, 5)]\n",
      "3 12 [(3, 12), (4, 9), (5, 5)]\n",
      "2 14 [(2, 14), (3, 12), (4, 9), (5, 5)]\n",
      "1 15 [(1, 15), (2, 14), (3, 12), (4, 9), (5, 5)]\n",
      "9 9 [(1, 15), (2, 14), (3, 12), (4, 9), (5, 5), (9, 9)]\n",
      "1 15 [(1, 15), (2, 14), (3, 12), (4, 9), (5, 5), (9, 9)]\n",
      "4 13 [(1, 15), (2, 14), (3, 12), (4, 13), (5, 5), (9, 9)]\n",
      "3 16 [(1, 15), (2, 14), (3, 16), (4, 13), (5, 5), (9, 9)]\n"
     ]
    },
    {
     "data": {
      "text/plain": [
       "16"
      ]
     },
     "execution_count": 59,
     "metadata": {},
     "output_type": "execute_result"
    }
   ],
   "source": [
    "class Record():\n",
    "    \"\"\"Ordered array of tuples, only add and search\"\"\"\n",
    "    def __init__(self):\n",
    "        self.data = []\n",
    "        \n",
    "    def search(self,x,l=0,r=None):\n",
    "        \"\"\"Find the first element with a key that is equal or large to value.\"\"\"\n",
    "        if len(self.data)==0: \n",
    "            self.data = [(x,x)]\n",
    "            return x\n",
    "        if r is None: r = len(self.data) # By default, look everywhere\n",
    "        if r-l == 1:\n",
    "            if self.data[l][0]>x: # Add to the left from l\n",
    "                value = x+max([v for (i,v) in self.data[l:]])\n",
    "                self.data = [(x,value)] + self.data\n",
    "            elif self.data[l][0]==x: # Update\n",
    "                value = x+max([v for (i,v) in self.data[r:]]) # This is still erroneous as r may be out of bonds...\n",
    "                self.data[l] = (x,value)\n",
    "            elif r<len(self.data): # Add between l and r\n",
    "                value = x+max([v for (i,v) in self.data[r:]])\n",
    "                self.data = self.data[:r] + [(x,value)] + self.data[r:]\n",
    "            else: # Add to the very right\n",
    "                value = x\n",
    "                self.data = self.data + [(x,value)]\n",
    "            return value\n",
    "        midpoint = l + (r-l) // 2\n",
    "        if self.data[midpoint][0]>x:\n",
    "            return self.search(x,l,midpoint)\n",
    "        else:\n",
    "            return self.search(x,midpoint,r)\n",
    "                \n",
    "                \n",
    "\n",
    "def hisum2(l):\n",
    "    m = Record()                        # A list of tuples (starting_value , winning_sequence_sum)\n",
    "    grandm = 0                          # Current absolute winner\n",
    "    for i in range(len(l)-1, -1, -1):   # Start, stop, step (start from the right, go left)\n",
    "        if i==len(l)-1:\n",
    "            m.search(l[i])\n",
    "        else:\n",
    "            c = m.search(l[i])\n",
    "            print(l[i],c,m.data)\n",
    "            if c>grandm:\n",
    "                grandm = c\n",
    "    return grandm\n",
    "        \n",
    "# Test\n",
    "a = [1,0,2,3]\n",
    "a = [3,4,1,5,3,2,1,3,4]\n",
    "a = [3,4,1,9,1,2,3,4,5]\n",
    "hisum2(a)"
   ]
  },
  {
   "cell_type": "code",
   "execution_count": 61,
   "metadata": {},
   "outputs": [
    {
     "name": "stdout",
     "output_type": "stream",
     "text": [
      ".0 19 [(0, 19), (19, 19)]\n",
      "7 26 [(0, 19), (7, 26), (19, 19)]\n",
      "4 30 [(0, 19), (4, 30), (7, 26), (19, 19)]\n",
      "4 30 [(0, 19), (4, 30), (7, 26), (19, 19)]\n",
      "12 31 [(0, 19), (4, 30), (7, 26), (12, 31), (19, 19)]\n",
      "6 37 [(0, 19), (4, 30), (6, 37), (7, 26), (12, 31), (19, 19)]\n",
      "8 39 [(0, 19), (4, 30), (6, 37), (7, 26), (8, 39), (12, 31), (19, 19)]\n",
      "17 36 [(0, 19), (4, 30), (6, 37), (7, 26), (8, 39), (12, 31), (17, 36), (19, 19)]\n",
      "12 48 [(0, 19), (4, 30), (6, 37), (7, 26), (8, 39), (12, 48), (17, 36), (19, 19)]\n",
      "2 50 [(0, 19), (2, 50), (4, 30), (6, 37), (7, 26), (8, 39), (12, 48), (17, 36), (19, 19)]\n",
      "11 59 [(0, 19), (2, 50), (4, 30), (6, 37), (7, 26), (8, 39), (11, 59), (12, 48), (17, 36), (19, 19)]\n",
      "12 48 [(0, 19), (2, 50), (4, 30), (6, 37), (7, 26), (8, 39), (11, 59), (12, 48), (17, 36), (19, 19)]\n",
      "1 60 [(0, 19), (1, 60), (2, 50), (4, 30), (6, 37), (7, 26), (8, 39), (11, 59), (12, 48), (17, 36), (19, 19)]\n",
      "4 63 [(0, 19), (1, 60), (2, 50), (4, 63), (6, 37), (7, 26), (8, 39), (11, 59), (12, 48), (17, 36), (19, 19)]\n",
      "8 67 [(0, 19), (1, 60), (2, 50), (4, 63), (6, 37), (7, 26), (8, 67), (11, 59), (12, 48), (17, 36), (19, 19)]\n",
      "12 48 [(0, 19), (1, 60), (2, 50), (4, 63), (6, 37), (7, 26), (8, 67), (11, 59), (12, 48), (17, 36), (19, 19)]\n",
      "5 72 [(0, 19), (1, 60), (2, 50), (4, 63), (5, 72), (6, 37), (7, 26), (8, 67), (11, 59), (12, 48), (17, 36), (19, 19)]\n",
      "0 72 [(0, 72), (1, 60), (2, 50), (4, 63), (5, 72), (6, 37), (7, 26), (8, 67), (11, 59), (12, 48), (17, 36), (19, 19)]\n",
      "10 69 [(0, 72), (1, 60), (2, 50), (4, 63), (5, 72), (6, 37), (7, 26), (8, 67), (10, 69), (11, 59), (12, 48), (17, 36), (19, 19)]\n",
      ".10 39 [(10, 39), (29, 29)]\n"
     ]
    },
    {
     "ename": "ValueError",
     "evalue": "max() arg is an empty sequence",
     "output_type": "error",
     "traceback": [
      "\u001b[1;31m---------------------------------------------------------------------------\u001b[0m",
      "\u001b[1;31mValueError\u001b[0m                                Traceback (most recent call last)",
      "\u001b[1;32m<ipython-input-61-e6b57a716a95>\u001b[0m in \u001b[0;36m<module>\u001b[1;34m()\u001b[0m\n\u001b[0;32m     10\u001b[0m     \u001b[0ma\u001b[0m \u001b[1;33m=\u001b[0m \u001b[0mnp\u001b[0m\u001b[1;33m.\u001b[0m\u001b[0mrandom\u001b[0m\u001b[1;33m.\u001b[0m\u001b[0mrandint\u001b[0m\u001b[1;33m(\u001b[0m\u001b[0mi\u001b[0m\u001b[1;33m,\u001b[0m\u001b[0msize\u001b[0m\u001b[1;33m=\u001b[0m\u001b[0mi\u001b[0m\u001b[1;33m)\u001b[0m\u001b[1;33m\u001b[0m\u001b[0m\n\u001b[0;32m     11\u001b[0m     \u001b[0mtic\u001b[0m \u001b[1;33m=\u001b[0m \u001b[0mtime\u001b[0m\u001b[1;33m.\u001b[0m\u001b[0mtime\u001b[0m\u001b[1;33m(\u001b[0m\u001b[1;33m)\u001b[0m\u001b[1;33m\u001b[0m\u001b[0m\n\u001b[1;32m---> 12\u001b[1;33m     \u001b[0mhisum2\u001b[0m\u001b[1;33m(\u001b[0m\u001b[0ma\u001b[0m\u001b[1;33m)\u001b[0m\u001b[1;33m\u001b[0m\u001b[0m\n\u001b[0m\u001b[0;32m     13\u001b[0m     \u001b[0mhisty\u001b[0m\u001b[1;33m.\u001b[0m\u001b[0mappend\u001b[0m\u001b[1;33m(\u001b[0m\u001b[0mtime\u001b[0m\u001b[1;33m.\u001b[0m\u001b[0mtime\u001b[0m\u001b[1;33m(\u001b[0m\u001b[1;33m)\u001b[0m\u001b[1;33m-\u001b[0m\u001b[0mtic\u001b[0m\u001b[1;33m)\u001b[0m\u001b[1;33m\u001b[0m\u001b[0m\n\u001b[0;32m     14\u001b[0m     \u001b[0mhistx\u001b[0m\u001b[1;33m.\u001b[0m\u001b[0mappend\u001b[0m\u001b[1;33m(\u001b[0m\u001b[0mi\u001b[0m\u001b[1;33m)\u001b[0m\u001b[1;33m\u001b[0m\u001b[0m\n",
      "\u001b[1;32m<ipython-input-59-16d2f147292a>\u001b[0m in \u001b[0;36mhisum2\u001b[1;34m(l)\u001b[0m\n\u001b[0;32m     39\u001b[0m             \u001b[0mm\u001b[0m\u001b[1;33m.\u001b[0m\u001b[0msearch\u001b[0m\u001b[1;33m(\u001b[0m\u001b[0ml\u001b[0m\u001b[1;33m[\u001b[0m\u001b[0mi\u001b[0m\u001b[1;33m]\u001b[0m\u001b[1;33m)\u001b[0m\u001b[1;33m\u001b[0m\u001b[0m\n\u001b[0;32m     40\u001b[0m         \u001b[1;32melse\u001b[0m\u001b[1;33m:\u001b[0m\u001b[1;33m\u001b[0m\u001b[0m\n\u001b[1;32m---> 41\u001b[1;33m             \u001b[0mc\u001b[0m \u001b[1;33m=\u001b[0m \u001b[0mm\u001b[0m\u001b[1;33m.\u001b[0m\u001b[0msearch\u001b[0m\u001b[1;33m(\u001b[0m\u001b[0ml\u001b[0m\u001b[1;33m[\u001b[0m\u001b[0mi\u001b[0m\u001b[1;33m]\u001b[0m\u001b[1;33m)\u001b[0m\u001b[1;33m\u001b[0m\u001b[0m\n\u001b[0m\u001b[0;32m     42\u001b[0m             \u001b[0mprint\u001b[0m\u001b[1;33m(\u001b[0m\u001b[0ml\u001b[0m\u001b[1;33m[\u001b[0m\u001b[0mi\u001b[0m\u001b[1;33m]\u001b[0m\u001b[1;33m,\u001b[0m\u001b[0mc\u001b[0m\u001b[1;33m,\u001b[0m\u001b[0mm\u001b[0m\u001b[1;33m.\u001b[0m\u001b[0mdata\u001b[0m\u001b[1;33m)\u001b[0m\u001b[1;33m\u001b[0m\u001b[0m\n\u001b[0;32m     43\u001b[0m             \u001b[1;32mif\u001b[0m \u001b[0mc\u001b[0m\u001b[1;33m>\u001b[0m\u001b[0mgrandm\u001b[0m\u001b[1;33m:\u001b[0m\u001b[1;33m\u001b[0m\u001b[0m\n",
      "\u001b[1;32m<ipython-input-59-16d2f147292a>\u001b[0m in \u001b[0;36msearch\u001b[1;34m(self, x, l, r)\u001b[0m\n\u001b[0;32m     28\u001b[0m             \u001b[1;32mreturn\u001b[0m \u001b[0mself\u001b[0m\u001b[1;33m.\u001b[0m\u001b[0msearch\u001b[0m\u001b[1;33m(\u001b[0m\u001b[0mx\u001b[0m\u001b[1;33m,\u001b[0m\u001b[0ml\u001b[0m\u001b[1;33m,\u001b[0m\u001b[0mmidpoint\u001b[0m\u001b[1;33m)\u001b[0m\u001b[1;33m\u001b[0m\u001b[0m\n\u001b[0;32m     29\u001b[0m         \u001b[1;32melse\u001b[0m\u001b[1;33m:\u001b[0m\u001b[1;33m\u001b[0m\u001b[0m\n\u001b[1;32m---> 30\u001b[1;33m             \u001b[1;32mreturn\u001b[0m \u001b[0mself\u001b[0m\u001b[1;33m.\u001b[0m\u001b[0msearch\u001b[0m\u001b[1;33m(\u001b[0m\u001b[0mx\u001b[0m\u001b[1;33m,\u001b[0m\u001b[0mmidpoint\u001b[0m\u001b[1;33m,\u001b[0m\u001b[0mr\u001b[0m\u001b[1;33m)\u001b[0m\u001b[1;33m\u001b[0m\u001b[0m\n\u001b[0m\u001b[0;32m     31\u001b[0m \u001b[1;33m\u001b[0m\u001b[0m\n\u001b[0;32m     32\u001b[0m \u001b[1;33m\u001b[0m\u001b[0m\n",
      "\u001b[1;32m<ipython-input-59-16d2f147292a>\u001b[0m in \u001b[0;36msearch\u001b[1;34m(self, x, l, r)\u001b[0m\n\u001b[0;32m     15\u001b[0m                 \u001b[0mself\u001b[0m\u001b[1;33m.\u001b[0m\u001b[0mdata\u001b[0m \u001b[1;33m=\u001b[0m \u001b[1;33m[\u001b[0m\u001b[1;33m(\u001b[0m\u001b[0mx\u001b[0m\u001b[1;33m,\u001b[0m\u001b[0mvalue\u001b[0m\u001b[1;33m)\u001b[0m\u001b[1;33m]\u001b[0m \u001b[1;33m+\u001b[0m \u001b[0mself\u001b[0m\u001b[1;33m.\u001b[0m\u001b[0mdata\u001b[0m\u001b[1;33m\u001b[0m\u001b[0m\n\u001b[0;32m     16\u001b[0m             \u001b[1;32melif\u001b[0m \u001b[0mself\u001b[0m\u001b[1;33m.\u001b[0m\u001b[0mdata\u001b[0m\u001b[1;33m[\u001b[0m\u001b[0ml\u001b[0m\u001b[1;33m]\u001b[0m\u001b[1;33m[\u001b[0m\u001b[1;36m0\u001b[0m\u001b[1;33m]\u001b[0m\u001b[1;33m==\u001b[0m\u001b[0mx\u001b[0m\u001b[1;33m:\u001b[0m \u001b[1;31m# Update\u001b[0m\u001b[1;33m\u001b[0m\u001b[0m\n\u001b[1;32m---> 17\u001b[1;33m                 \u001b[0mvalue\u001b[0m \u001b[1;33m=\u001b[0m \u001b[0mx\u001b[0m\u001b[1;33m+\u001b[0m\u001b[0mmax\u001b[0m\u001b[1;33m(\u001b[0m\u001b[1;33m[\u001b[0m\u001b[0mv\u001b[0m \u001b[1;32mfor\u001b[0m \u001b[1;33m(\u001b[0m\u001b[0mi\u001b[0m\u001b[1;33m,\u001b[0m\u001b[0mv\u001b[0m\u001b[1;33m)\u001b[0m \u001b[1;32min\u001b[0m \u001b[0mself\u001b[0m\u001b[1;33m.\u001b[0m\u001b[0mdata\u001b[0m\u001b[1;33m[\u001b[0m\u001b[0mr\u001b[0m\u001b[1;33m:\u001b[0m\u001b[1;33m]\u001b[0m\u001b[1;33m]\u001b[0m\u001b[1;33m)\u001b[0m\u001b[1;33m\u001b[0m\u001b[0m\n\u001b[0m\u001b[0;32m     18\u001b[0m                 \u001b[0mself\u001b[0m\u001b[1;33m.\u001b[0m\u001b[0mdata\u001b[0m\u001b[1;33m[\u001b[0m\u001b[0ml\u001b[0m\u001b[1;33m]\u001b[0m \u001b[1;33m=\u001b[0m \u001b[1;33m(\u001b[0m\u001b[0mx\u001b[0m\u001b[1;33m,\u001b[0m\u001b[0mvalue\u001b[0m\u001b[1;33m)\u001b[0m\u001b[1;33m\u001b[0m\u001b[0m\n\u001b[0;32m     19\u001b[0m             \u001b[1;32melif\u001b[0m \u001b[0mr\u001b[0m\u001b[1;33m<\u001b[0m\u001b[0mlen\u001b[0m\u001b[1;33m(\u001b[0m\u001b[0mself\u001b[0m\u001b[1;33m.\u001b[0m\u001b[0mdata\u001b[0m\u001b[1;33m)\u001b[0m\u001b[1;33m:\u001b[0m \u001b[1;31m# Add between l and r\u001b[0m\u001b[1;33m\u001b[0m\u001b[0m\n",
      "\u001b[1;31mValueError\u001b[0m: max() arg is an empty sequence"
     ]
    }
   ],
   "source": [
    "import numpy as np\n",
    "import matplotlib.pyplot as plt\n",
    "import time\n",
    "\n",
    "histy = []\n",
    "histx = []\n",
    "for j in range(1,100):\n",
    "    print('.',end='')\n",
    "    i = j*20\n",
    "    a = np.random.randint(i,size=i)\n",
    "    tic = time.time()\n",
    "    hisum2(a)\n",
    "    histy.append(time.time()-tic)\n",
    "    histx.append(i)\n",
    "    \n",
    "plt.plot(histx,histy);"
   ]
  }
 ],
 "metadata": {
  "kernelspec": {
   "display_name": "Python 3",
   "language": "python",
   "name": "python3"
  },
  "language_info": {
   "codemirror_mode": {
    "name": "ipython",
    "version": 3
   },
   "file_extension": ".py",
   "mimetype": "text/x-python",
   "name": "python",
   "nbconvert_exporter": "python",
   "pygments_lexer": "ipython3",
   "version": "3.7.0"
  }
 },
 "nbformat": 4,
 "nbformat_minor": 2
}
