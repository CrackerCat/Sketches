{
 "cells": [
  {
   "cell_type": "markdown",
   "metadata": {},
   "source": [
    "# Reverse parentheses\n",
    "\n",
    "Given a row \"123(2335(345))234(3)\", reverse strings inside each pair of (), starting from the innermost, removing () themselves in the process. For example, \"12(34)56\" should become \"124356\"."
   ]
  },
  {
   "cell_type": "code",
   "execution_count": 1,
   "metadata": {},
   "outputs": [],
   "source": [
    "import time\n",
    "import matplotlib.pyplot as plt\n",
    "import numpy as np"
   ]
  },
  {
   "cell_type": "code",
   "execution_count": 2,
   "metadata": {},
   "outputs": [
    {
     "name": "stdout",
     "output_type": "stream",
     "text": [
      "1432590876\n"
     ]
    }
   ],
   "source": [
    "def simple(s):\n",
    "    \"\"\"Simple ineffective n^2 solution\"\"\"\n",
    "    stack = []\n",
    "    sl = list(s) # Just to manipulate it in-place\n",
    "    for i in range(len(s)):\n",
    "        if s[i]=='(':\n",
    "            stack.append(i)\n",
    "        if s[i]==')':\n",
    "            left = stack.pop()\n",
    "            sl[(left+1):i] = sl[(i-1):left:-1]\n",
    "    return ''.join([q if q not in ['(',')'] else '' for q in sl])\n",
    "\n",
    "print(simple('1(234)5(678(90))'))"
   ]
  },
  {
   "cell_type": "code",
   "execution_count": 3,
   "metadata": {},
   "outputs": [
    {
     "name": "stdout",
     "output_type": "stream",
     "text": [
      "1432590876\n",
      "1432590876\n",
      "abc\n"
     ]
    }
   ],
   "source": [
    "def better(s):\n",
    "    \"\"\"Based on direction curver.\"\"\"\n",
    "    stack = []\n",
    "    inv = {}\n",
    "    for i in range(len(s)):\n",
    "        if s[i]=='(':\n",
    "            stack.append(i)\n",
    "        if s[i]==')':\n",
    "            left = stack.pop()\n",
    "            inv[left] = i\n",
    "            inv[i] = left\n",
    "    out = []\n",
    "    i = 0\n",
    "    goright = True       # True for right, False for left\n",
    "    while i<len(s):\n",
    "        if i in inv:\n",
    "            if goright:\n",
    "                i = inv[i]-1\n",
    "            else:\n",
    "                i = inv[i]+1\n",
    "            goright = not goright\n",
    "        else:\n",
    "            out.append(s[i])\n",
    "            if goright:\n",
    "                i += 1\n",
    "            else:\n",
    "                i -= 1\n",
    "    return ''.join(out)        \n",
    "    \n",
    "\n",
    "s = '1(234)5(678(90))'\n",
    "# s = '(33)57()331()18()6492744()()459()9836627'\n",
    "print(simple(s))\n",
    "print(better(s))\n",
    "\n",
    "print(better('a((bc))'))"
   ]
  },
  {
   "cell_type": "markdown",
   "metadata": {},
   "source": [
    "### Approach with a tree of segments (BAD)\n",
    "\n",
    "* We represent the text as a tree of segments. Each segment knows its left and right edges, whether it needs to be reversed, and a list of next-level children, in the same order in which they are given at the text.\n",
    "* Each node either contains kids, or contains text only (end-level, leaf). So any flat text within a mixed node should be framed inside a node (like adding invisible non-flipping parentheses).\n",
    "* First we populate the tree:\n",
    "    * Start a root node. set flip to 0. Set left at 0. Set current node type to flat. \n",
    "    * Keep going right.\n",
    "    * On (: \n",
    "        * Check if there was a head (now>current left +1). If yes, make everything between left and now into a child node with\n",
    "            * flip = current flip.\n",
    "            * left = current node left\n",
    "            * right = now\n",
    "        * Set current node type to complex.\n",
    "        * Create a new node, make it a child. Set:\n",
    "            * left = now\n",
    "            * flip = opposite flip\n",
    "        *  Get inside this new node\n",
    "    * On ):\n",
    "        * Set node right to now (won't hurt, although complex nodes don't care)\n",
    "        * If it has kids, make everything between right of the last kid and now a flat node with current flip. Add this node to children.\n",
    "        * Go one level higher (so nodes should remember their parents).\n",
    "* Reconstruct the tree recursively:\n",
    "    * Start with root node\n",
    "    * If this node has no kids - just add the text between left and right, either flipping it or not, depending on its flip status\n",
    "    * if not, check the flip status. Go recursively through all children, either in correct order (if flipped==0), or reverse order."
   ]
  },
  {
   "cell_type": "code",
   "execution_count": 3,
   "metadata": {},
   "outputs": [
    {
     "name": "stdout",
     "output_type": "stream",
     "text": [
      "056329\n",
      "1432590876\n",
      "1432590876\n"
     ]
    }
   ],
   "source": [
    "# Now let's try a fancier solution that doesn't reverse rows without need\n",
    "class Solution:\n",
    "    class Node():\n",
    "        \"\"\"Special tree to store pieces of text\"\"\"\n",
    "        def __init__(self,parent=None,left=None,right=None,flip=0):\n",
    "            self.l = left\n",
    "            self.r = right\n",
    "            self.flip = flip # Unflipped by default\n",
    "            self.kids = []\n",
    "            self.parent = parent\n",
    "            \n",
    "        def __str__(self):\n",
    "            if len(self.kids)>0:\n",
    "                return f'l{self.l} r{self.r} f{self.flip}' + '[' + '|'.join([q.__str__() for q in self.kids])+ ']'\n",
    "            else:\n",
    "                return f'l{self.l} r{self.r} f{self.flip}'\n",
    "\n",
    "    def process(self,s):\n",
    "        t = self.Node(None,0,len(s),0)\n",
    "        p = t # Current pointer\n",
    "        flip = 0\n",
    "        left = 0\n",
    "        for i in range(len(s)):\n",
    "            if s[i]=='(':\n",
    "                if i-left>0: # There was a head\n",
    "                    k = self.Node(p, left, i, p.flip)\n",
    "                    p.kids.append(k)\n",
    "                k = self.Node(p, i+1, None, 1-p.flip)\n",
    "                p.kids.append(k)\n",
    "                p = k # Step in\n",
    "                left = i+1\n",
    "            if s[i]==')':\n",
    "                p.r = i\n",
    "                if len(p.kids)>0:\n",
    "                    if i-left>0: # There's a tail\n",
    "                        k = self.Node(p, left, i, p.flip)\n",
    "                        p.kids.append(k)\n",
    "                p = p.parent # Step out\n",
    "                left = i+1\n",
    "            if i==len(s)-1: # Special case - the top-level node has a tail\n",
    "                if len(p.kids)>0:\n",
    "                    if i-left>=0: # There's a tail\n",
    "                        k = self.Node(p, left, i+1, p.flip)\n",
    "                        p.kids.append(k)\n",
    "                        \n",
    "        #print(t)\n",
    "                        \n",
    "        out = self.output(s,t) # May still contain some () if there were (( or )) in the original string\n",
    "        return ''.join([q if q not in ['(',')'] else '' for q in list(out)])\n",
    "    \n",
    "    def output(self,s,node):\n",
    "        if len(node.kids)==0:\n",
    "            if node.flip==0:\n",
    "                return s[node.l:node.r]\n",
    "            else:\n",
    "                return s[node.r-1:node.l-1:-1]\n",
    "        if node.flip==0:\n",
    "            return ''.join([self.output(s,k) for k in node.kids])\n",
    "        else:\n",
    "            return ''.join([self.output(s,k) for k in node.kids[::-1]])\n",
    "                \n",
    "\n",
    "# tests\n",
    "f = Solution()\n",
    "print(f.process('0(23(56))9'))\n",
    "\n",
    "print(simple('1(234)5(678(90))'))\n",
    "print(f.process('1(234)5(678(90))'))"
   ]
  },
  {
   "cell_type": "code",
   "execution_count": 4,
   "metadata": {},
   "outputs": [
    {
     "name": "stdout",
     "output_type": "stream",
     "text": [
      "080493190570080()769637(83()021829051()0)33251(36)2226622649\n",
      "(191(())27()209(48)95()98()()6(9184)06()453320977()90)733347\n",
      "()(13)49()8()055(1179505741(31658835)7155)967(62)846()2585()\n",
      "536712968890541219(46)(72953()09602)1893455570()021()262(74)\n",
      "()71()()45955830(70()((90)()()6931(()))50510645297298789517)\n",
      "2248()845(10)46()()791()()34()521508235()4565((12)72)9546540\n",
      "(10348583)0()3(8957())()()5()35754905881()12959757(831626)81\n",
      "841()()1()154()249()0638985()937()()(6929)()29()123026207299\n",
      "()()(905169324178(51)049552())235()372588172(33)148()167()22\n",
      "()09322()05()4()87()67()99(())4740()13()60()8049255333732()3\n"
     ]
    }
   ],
   "source": [
    "# Tester\n",
    "def generate(length):\n",
    "    seed = ['(',')']\n",
    "    s = ['']\n",
    "    prob = 0.3\n",
    "    for j in range(length):\n",
    "        split = np.random.randint(len(s))\n",
    "        if np.random.uniform()<prob:\n",
    "            s = s[:split]+seed+s[split:]\n",
    "        else:\n",
    "            s = s[:split]+[str(q) for q in np.random.randint(10,size=2)]+s[split:]\n",
    "    return ''.join(s)\n",
    "\n",
    "n_tests = 10\n",
    "length = 30\n",
    "for i in range(n_tests):\n",
    "    print(generate(length))"
   ]
  },
  {
   "cell_type": "code",
   "execution_count": 11,
   "metadata": {},
   "outputs": [
    {
     "name": "stdout",
     "output_type": "stream",
     "text": [
      "yyyyyyyyyyyyyyyyyyyyyyyyyyyyyyyyyyyyyyyyyyyyyyyyyyyyyyyyyyyyyyyyyyyyyyyyyyyyyyyyyyyyyyyyyyyyyyyyyyyyyyyyyyyyyyyyyyyyyyyyyyyyyyyyyyyyyyyyyyyyyyyyyyyyyyyyyyyyyyyyyyyyyyyyyyyyyyyyyyyyyyyyyyyyyyyyyyyyyyyyyyyyyyyyyyyyyyyyyyyyyyyyyyyyyyyyyyyyyyyyyyyyyyyyyyyyyyyyyyyyyyyyyyyyyyyyyyyyyyyyyyyyyyyyyyyyyyyyyyyyyyyyyyyyyyyyyyyyyyyyyyyyyyyyyyyyyyyyyyyyyyyyyyyyyyyyyyyyyyyyyyyyyyyyyyyyyyyyyyyyyyyyyyyyyyyyyyyyyyyyyyyyyyyyyyyyyyyyyyyyyyyyyyyyyyyyyyyyyyyyyyyyyyyyyyyyyyyyyyyyyyyyyyyyyyyyyyyyyyyyyyyyyyyyyyyyyyyyyyyyyyyyyyyyyyyyyyyyyyyyyyyyyyyyyyyyyyyyyyyyyyyyyyyyyyyyyyyyyyyyyyyyyyyyyyyyyyyyyyyyyyyyyyyyyyyyyyyyyyyyyyyyyyyyyyyyyyyyyyyyyyyyyyyyyyyyyyyyyyyyyyyyyyyyyyyyyyyyyyyyyyyyyyyyyyyyyyyyyyyyyyyyyyyyyyyyyyyyyyyyyyyyyyyyyyyyyyyyyyyyyyyyyyyyyyyyyyyyyyyyyyyyyyyyyyyyyyyyyyyyyyyyyyyyyyyyyyyyyyyyyyyyyyyyyyyyyyyyyyyyyyyyyyyyyyyyyyyyyyyyyyyyyyyyyyyyyyyyyyyyyyyyyyyyyyyyyyyyyyyyyyyyyyyyyyyyyyyyyyyyyyyyyyyyyyyyyyyyyyyyyyyyyyyyyyyyyyyyyyyyyyyyyyyyyyyyyyyyyyyyyyyyyyyyyyyyyyyyyyyyyyyyyyyyyyyyyyyyyyyyyyyyyyyyyyyyyyyyyyyy"
     ]
    }
   ],
   "source": [
    "# Does 'Better' solution fork?\n",
    "for i in range(1000):\n",
    "    s = generate(20)\n",
    "    if simple(s)==better(s):\n",
    "        print('y',end='')\n",
    "    else:\n",
    "        print('N:',s)"
   ]
  },
  {
   "cell_type": "code",
   "execution_count": 16,
   "metadata": {},
   "outputs": [
    {
     "name": "stdout",
     "output_type": "stream",
     "text": [
      "[100, 200, 500, 1000, 2000, 5000]\n",
      ".................."
     ]
    },
    {
     "data": {
      "image/png": "[encoded data removed]",
      "text/plain": [
       "<Figure size 432x288 with 1 Axes>"
      ]
     },
     "metadata": {
      "needs_background": "light"
     },
     "output_type": "display_data"
    }
   ],
   "source": [
    "# Benchmarking\n",
    "\n",
    "f = Solution()\n",
    "lengths = [j*10**i for i in range(2,4) for j in [1,2,5]]\n",
    "print(lengths)\n",
    "methods = [simple, f.process, better]\n",
    "methodNames = ['Simple','Awkward','Better']\n",
    "n_tries = 10\n",
    "\n",
    "history = np.zeros(shape=(len(lengths),len(methods)))\n",
    "for ifun in range(len(methods)):\n",
    "    fun = methods[ifun]\n",
    "    for il in range(len(lengths)):\n",
    "        for _ in range(n_tries):\n",
    "            s = generate(lengths[il])\n",
    "            tic = time.time()\n",
    "            fun(s)\n",
    "            history[il,ifun] += time.time()-tic\n",
    "        print('.',end='')\n",
    "history = history/n_tries\n",
    "        \n",
    "# plotting\n",
    "\n",
    "for i in range(history.shape[1]):\n",
    "    plt.plot(lengths,history[:,i]);\n",
    "plt.legend(methodNames);"
   ]
  },
  {
   "cell_type": "markdown",
   "metadata": {},
   "source": [
    "OK, nice, the supposdly \"fancy\" solution with trees is wa-ay slower than a simple solution, and with no sign of reversal at hith n. That's sad. Screw it then. Let's test the other two:"
   ]
  },
  {
   "cell_type": "code",
   "execution_count": 5,
   "metadata": {},
   "outputs": [
    {
     "name": "stdout",
     "output_type": "stream",
     "text": [
      "[100, 200, 500, 1000, 2000, 5000]\n",
      "............"
     ]
    },
    {
     "data": {
      "image/png": "[encoded data removed]",
      "text/plain": [
       "<Figure size 432x288 with 1 Axes>"
      ]
     },
     "metadata": {
      "needs_background": "light"
     },
     "output_type": "display_data"
    }
   ],
   "source": [
    "# Benchmarking, 2 solutions only\n",
    "\n",
    "import time\n",
    "import matplotlib.pyplot as plt\n",
    "\n",
    "lengths = [j*10**i for i in range(2,4) for j in [1,2,5]]\n",
    "print(lengths)\n",
    "methods = [simple, better]\n",
    "methodNames = ['Simple','Better']\n",
    "n_tries = 100\n",
    "\n",
    "history = np.zeros(shape=(len(lengths),len(methods)))\n",
    "for ifun in range(len(methods)):\n",
    "    fun = methods[ifun]\n",
    "    for il in range(len(lengths)):\n",
    "        for _ in range(n_tries):\n",
    "            s = generate(lengths[il])\n",
    "            tic = time.time()\n",
    "            fun(s)\n",
    "            history[il,ifun] += time.time()-tic\n",
    "        print('.',end='')\n",
    "history = history/n_tries\n",
    "        \n",
    "# plotting\n",
    "\n",
    "for i in range(history.shape[1]):\n",
    "    plt.plot(lengths,history[:,i]);\n",
    "plt.legend(methodNames);"
   ]
  },
  {
   "cell_type": "markdown",
   "metadata": {},
   "source": [
    "Huh, again, better solution is not necessarily better, even tho it's supposed to be O(N), while a simple one is O(N^2)... Either my code is super-inefficient, or my test cases are not good enough (too many shallow brackets)?"
   ]
  }
 ],
 "metadata": {
  "kernelspec": {
   "display_name": "Python 3",
   "language": "python",
   "name": "python3"
  },
  "language_info": {
   "codemirror_mode": {
    "name": "ipython",
    "version": 3
   },
   "file_extension": ".py",
   "mimetype": "text/x-python",
   "name": "python",
   "nbconvert_exporter": "python",
   "pygments_lexer": "ipython3",
   "version": "3.7.3"
  }
 },
 "nbformat": 4,
 "nbformat_minor": 2
}
