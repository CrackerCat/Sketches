{
 "cells": [
  {
   "cell_type": "markdown",
   "metadata": {},
   "source": [
    "# Reverse parentheses\n",
    "\n",
    "Given a row \"123(2335(345))234(3)\", reverse strings inside each pair of (), starting from the innermost, removing () themselves in the process. For example, \"12(34)56\" should become \"124356\"."
   ]
  },
  {
   "cell_type": "code",
   "execution_count": 14,
   "metadata": {},
   "outputs": [
    {
     "name": "stdout",
     "output_type": "stream",
     "text": [
      "1432590876\n"
     ]
    }
   ],
   "source": [
    "def simple(s):\n",
    "    \"\"\"Simple ineffective n^2 solution\"\"\"\n",
    "    stack = []\n",
    "    sl = list(s) # Just to manipulate it in-place\n",
    "    for i in range(len(s)):\n",
    "        if s[i]=='(':\n",
    "            stack.append(i)\n",
    "        if s[i]==')':\n",
    "            left = stack.pop()\n",
    "            sl[(left+1):i] = sl[(i-1):left:-1]\n",
    "    return ''.join([q if q not in ['(',')'] else '' for q in sl])\n",
    "\n",
    "print(simple('1(234)5(678(90))'))"
   ]
  },
  {
   "cell_type": "markdown",
   "metadata": {},
   "source": [
    "### Approach with a tree of segments\n",
    "\n",
    "* We represent the text as a tree of segments. Each segment knows its left and right edges, whether it needs to be reversed, and a list of next-level children, in the same order in which they are given at the text.\n",
    "* Each node either contains kids, or contains text only (end-level, leaf). So any flat text within a mixed node should be framed inside a node (like adding invisible non-flipping parentheses).\n",
    "* First we populate the tree:\n",
    "    * Start a root node. set flip to 0. Set left at 0. Set current node type to flat. \n",
    "    * Keep going right.\n",
    "    * On (: \n",
    "        * Check if there was a head (now>current left +1). If yes, make everything between left and now into a child node with\n",
    "            * flip = current flip.\n",
    "            * left = current node left\n",
    "            * right = now\n",
    "        * Set current node type to complex.\n",
    "        * Create a new node, make it a child. Set:\n",
    "            * left = now\n",
    "            * flip = opposite flip\n",
    "        *  Get inside this new node\n",
    "    * On ):\n",
    "        * Set node right to now (won't hurt, although complex nodes don't care)\n",
    "        * If it has kids, make everything between right of the last kid and now a flat node with current flip. Add this node to children.\n",
    "        * Go one level higher (so nodes should remember their parents).\n",
    "* Reconstruct the tree recursively:\n",
    "    * Start with root node\n",
    "    * If this node has no kids - just add the text between left and right, either flipping it or not, depending on its flip status\n",
    "    * if not, check the flip status. Go recursively through all children, either in correct order (if flipped==0), or reverse order."
   ]
  },
  {
   "cell_type": "code",
   "execution_count": 94,
   "metadata": {},
   "outputs": [
    {
     "name": "stdout",
     "output_type": "stream",
     "text": [
      "056329\n",
      "1432590876\n",
      "1432590876\n"
     ]
    }
   ],
   "source": [
    "# Now let's try a fancier solution that doesn't reverse rows without need\n",
    "class Solution:\n",
    "    class Node():\n",
    "        \"\"\"Special tree to store pieces of text\"\"\"\n",
    "        def __init__(self,parent=None,left=None,right=None,flip=0):\n",
    "            self.l = left\n",
    "            self.r = right\n",
    "            self.flip = flip # Unflipped by default\n",
    "            self.kids = []\n",
    "            self.parent = parent\n",
    "            \n",
    "        def __str__(self):\n",
    "            if len(self.kids)>0:\n",
    "                return f'l{self.l} r{self.r} f{self.flip}' + '[' + '|'.join([q.__str__() for q in self.kids])+ ']'\n",
    "            else:\n",
    "                return f'l{self.l} r{self.r} f{self.flip}'\n",
    "\n",
    "    def process(self,s):\n",
    "        t = self.Node(None,0,len(s),0)\n",
    "        p = t # Current pointer\n",
    "        flip = 0\n",
    "        left = 0\n",
    "        for i in range(len(s)):\n",
    "            if s[i]=='(':\n",
    "                if i-left>0: # There was a head\n",
    "                    k = self.Node(p, left, i, p.flip)\n",
    "                    p.kids.append(k)\n",
    "                k = self.Node(p, i+1, None, 1-p.flip)\n",
    "                p.kids.append(k)\n",
    "                p = k # Step in\n",
    "                left = i+1\n",
    "            if s[i]==')':\n",
    "                p.r = i\n",
    "                if len(p.kids)>0:\n",
    "                    if i-left>0: # There's a tail\n",
    "                        k = self.Node(p, left, i, p.flip)\n",
    "                        p.kids.append(k)\n",
    "                p = p.parent # Step out\n",
    "                left = i+1\n",
    "            if i==len(s)-1: # Special case - the top-level node has a tail\n",
    "                if len(p.kids)>0:\n",
    "                    if i-left>=0: # There's a tail\n",
    "                        k = self.Node(p, left, i+1, p.flip)\n",
    "                        p.kids.append(k)\n",
    "                        \n",
    "        #print(t)\n",
    "                        \n",
    "        out = self.output(s,t) # May still contain some () if there were (( or )) in the original string\n",
    "        return ''.join([q if q not in ['(',')'] else '' for q in list(out)])\n",
    "    \n",
    "    def output(self,s,node):\n",
    "        if len(node.kids)==0:\n",
    "            if node.flip==0:\n",
    "                return s[node.l:node.r]\n",
    "            else:\n",
    "                return s[node.r-1:node.l-1:-1]\n",
    "        if node.flip==0:\n",
    "            return ''.join([self.output(s,k) for k in node.kids])\n",
    "        else:\n",
    "            return ''.join([self.output(s,k) for k in node.kids[::-1]])\n",
    "                \n",
    "\n",
    "# tests\n",
    "f = Solution()\n",
    "print(f.process('0(23(56))9'))\n",
    "\n",
    "print(simple('1(234)5(678(90))'))\n",
    "print(f.process('1(234)5(678(90))'))"
   ]
  },
  {
   "cell_type": "code",
   "execution_count": 173,
   "metadata": {},
   "outputs": [
    {
     "name": "stdout",
     "output_type": "stream",
     "text": [
      "436543()6531()()7(6()9258309()928(())4)(()90334271)700()6014\n",
      "63()9822()6676(((34)))802(8866)62()9(63)()6559(8040)338722()\n",
      "355357()9()(())()7527627(01)9160465()63()0()9143179077708975\n",
      "()24(95)()()68()2745(08()91(29)29()()56()())521()7()79035113\n",
      "()0()(1970()754()8522533()(64)21)17(420()389())(())123(45)()\n",
      "368()33()()()(()()47)8982087118241680((7307))()()64()((22))6\n",
      "941()0041((48)()26192()031)33(333761())661()504256(5898)7612\n",
      "()933()(93)()()05(22)(())()99280261127()2772()58(155574())63\n",
      "()()95()6013870089()(90())()525()8()6512708()4()819126()()32\n",
      "2512926()(4946)7306746730609485857()509()19486244()90714(72)\n"
     ]
    }
   ],
   "source": [
    "# Tester\n",
    "import numpy as np\n",
    "\n",
    "def generate(length):\n",
    "    seed = ['(',')']\n",
    "    s = ['']\n",
    "    prob = 0.3\n",
    "    for j in range(length):\n",
    "        split = np.random.randint(len(s))\n",
    "        if np.random.uniform()<prob:\n",
    "            s = s[:split]+seed+s[split:]\n",
    "        else:\n",
    "            s = s[:split]+[str(q) for q in np.random.randint(10,size=2)]+s[split:]\n",
    "    return ''.join(s)\n",
    "\n",
    "n_tests = 10\n",
    "length = 30\n",
    "for i in range(n_tests):\n",
    "    print(generate(length))"
   ]
  },
  {
   "cell_type": "code",
   "execution_count": 197,
   "metadata": {},
   "outputs": [
    {
     "name": "stdout",
     "output_type": "stream",
     "text": [
      "[100, 200, 500, 1000, 2000, 5000, 10000, 20000, 50000]\n",
      ".................."
     ]
    },
    {
     "data": {
      "image/png": "[encoded data removed]",
      "text/plain": [
       "<Figure size 432x288 with 1 Axes>"
      ]
     },
     "metadata": {
      "needs_background": "light"
     },
     "output_type": "display_data"
    }
   ],
   "source": [
    "# Benchmarking\n",
    "\n",
    "import time\n",
    "import matplotlib.pyplot as plt\n",
    "\n",
    "f = Solution()\n",
    "lengths = [j*10**i for i in range(2,5) for j in [1,2,5]]\n",
    "print(lengths)\n",
    "methods = [simple, f.process]\n",
    "n_tries = 1\n",
    "\n",
    "history = np.zeros(shape=(len(lengths),2))\n",
    "for ifun in range(len(methods)):\n",
    "    fun = methods[ifun]\n",
    "    for il in range(len(lengths)):\n",
    "        for _ in range(n_tries):\n",
    "            s = generate(lengths[il])\n",
    "            tic = time.time()\n",
    "            fun(s)\n",
    "            history[il,ifun] += time.time()-tic\n",
    "        print('.',end='')\n",
    "history = history/n_tries\n",
    "        \n",
    "# plotting\n",
    "\n",
    "for i in range(history.shape[1]):\n",
    "    plt.plot(lengths,history[:,i]);\n",
    "plt.legend(['Simple','Fancy']);"
   ]
  },
  {
   "cell_type": "markdown",
   "metadata": {},
   "source": [
    "OK, nice, my supposdly 'smarter\" solution is wa-ay slower than a simple solution, and with no sign of reversal at hith n. Hmm. Probably the smart solution wasn't that smart after all"
   ]
  }
 ],
 "metadata": {
  "kernelspec": {
   "display_name": "Python 3",
   "language": "python",
   "name": "python3"
  },
  "language_info": {
   "codemirror_mode": {
    "name": "ipython",
    "version": 3
   },
   "file_extension": ".py",
   "mimetype": "text/x-python",
   "name": "python",
   "nbconvert_exporter": "python",
   "pygments_lexer": "ipython3",
   "version": "3.7.3"
  }
 },
 "nbformat": 4,
 "nbformat_minor": 2
}
