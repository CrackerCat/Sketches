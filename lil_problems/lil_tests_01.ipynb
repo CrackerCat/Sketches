{
 "cells": [
  {
   "cell_type": "markdown",
   "metadata": {},
   "source": [
    "# A collection of lil exercises\n",
    "\n",
    "The only thing that unites them is that I first coded them in GoogleDocs, and then tested here."
   ]
  },
  {
   "cell_type": "code",
   "execution_count": 1,
   "metadata": {},
   "outputs": [],
   "source": [
    "# Task: a few letters were identified, find matching license plates\n",
    "# a few chars, a db of plates, find matches\n",
    "# generate possibilities? or filter.\n",
    "\n",
    "def match(plate,charlist):\n",
    "    dplate = freq(list(plate))\n",
    "    dchars = freq(charlist)\n",
    "    for key,val in dchars.items():\n",
    "        if key not in dplate:\n",
    "            return False\n",
    "        if dplate[key]<val:\n",
    "            return False\n",
    "    return True\n",
    "\n",
    "def freq(charlist):\n",
    "    out = {}\n",
    "    for ch in charlist:\n",
    "        out[ch] = out.get(ch,0)\n",
    "    return out\n",
    "\n",
    "assert match('A56B','6')\n",
    "assert match('A56B','A')\n",
    "assert not match('B77Q','A')"
   ]
  },
  {
   "cell_type": "code",
   "execution_count": 64,
   "metadata": {},
   "outputs": [
    {
     "data": {
      "text/plain": [
       "[(0, 0),\n",
       " (1, 0),\n",
       " (2, 1),\n",
       " (3, 2),\n",
       " (4, 2),\n",
       " (5, 3),\n",
       " (6, 3),\n",
       " (7, 4),\n",
       " (8, 4),\n",
       " (9, 5)]"
      ]
     },
     "execution_count": 64,
     "metadata": {},
     "output_type": "execute_result"
    }
   ],
   "source": [
    "def bs(nums, key):\n",
    "    l = 0\n",
    "    r = len(nums)\n",
    "    while r-l>0:\n",
    "        m = (l+r)//2\n",
    "        if nums[m]==key:\n",
    "            return m\n",
    "        if nums[m]>key:\n",
    "            r = m\n",
    "        else:\n",
    "            l = m+1\n",
    "    return l\n",
    "\n",
    "\n",
    "[(i,bs([1,2,4,6,8], i)) for i in range(10)]\n"
   ]
  },
  {
   "cell_type": "code",
   "execution_count": 81,
   "metadata": {},
   "outputs": [
    {
     "name": "stdout",
     "output_type": "stream",
     "text": [
      "0 0\n",
      "1 1\n",
      "2 2\n",
      "3 3\n",
      "4 4\n",
      "5 5\n",
      "6 7\n",
      "7 8\n",
      "8 10\n",
      "9 12\n",
      "10 14\n",
      "11 16\n",
      "12 19\n"
     ]
    }
   ],
   "source": [
    "def number_ways(nums, total):\n",
    "    mem = {}\n",
    "    def calc(x,last):\n",
    "        if (x,last) in mem:\n",
    "            return mem[(x,last)]\n",
    "        out = 0\n",
    "        for val in nums:\n",
    "            if val<=last:\n",
    "                if val==x:\n",
    "                    out += 1\n",
    "                if val<x:\n",
    "                    out += calc(x-val,val)\n",
    "        mem[(x,last)] = out\n",
    "        return out\n",
    "    return calc(total,max(nums)+1)\n",
    "\n",
    "\n",
    "for i in range(13):\n",
    "    print(i,number_ways([1,2,3],i))"
   ]
  }
 ],
 "metadata": {
  "kernelspec": {
   "display_name": "Python 3",
   "language": "python",
   "name": "python3"
  },
  "language_info": {
   "codemirror_mode": {
    "name": "ipython",
    "version": 3
   },
   "file_extension": ".py",
   "mimetype": "text/x-python",
   "name": "python",
   "nbconvert_exporter": "python",
   "pygments_lexer": "ipython3",
   "version": "3.7.6"
  }
 },
 "nbformat": 4,
 "nbformat_minor": 4
}
