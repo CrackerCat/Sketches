{
 "cells": [
  {
   "cell_type": "markdown",
   "metadata": {},
   "source": [
    "Reverse digits of a really long integer. It may be signed."
   ]
  },
  {
   "cell_type": "code",
   "execution_count": 23,
   "metadata": {},
   "outputs": [
    {
     "name": "stdout",
     "output_type": "stream",
     "text": [
      "321\n",
      "-321\n"
     ]
    }
   ],
   "source": [
    "def rev(a):\n",
    "    if a<0:\n",
    "        print('-',end='')\n",
    "        a = -a\n",
    "    while a>0:\n",
    "        b = a % 10\n",
    "        print(b,end='')\n",
    "        a = (a-b)//10\n",
    "    print()\n",
    "    \n",
    "rev(123)\n",
    "rev(-123)"
   ]
  }
 ],
 "metadata": {
  "kernelspec": {
   "display_name": "Python 3",
   "language": "python",
   "name": "python3"
  },
  "language_info": {
   "codemirror_mode": {
    "name": "ipython",
    "version": 3
   },
   "file_extension": ".py",
   "mimetype": "text/x-python",
   "name": "python",
   "nbconvert_exporter": "python",
   "pygments_lexer": "ipython3",
   "version": "3.7.0"
  }
 },
 "nbformat": 4,
 "nbformat_minor": 2
}
