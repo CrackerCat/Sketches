{
 "cells": [
  {
   "cell_type": "markdown",
   "metadata": {},
   "source": [
    "# Subset sum"
   ]
  },
  {
   "cell_type": "code",
   "execution_count": 70,
   "metadata": {},
   "outputs": [
    {
     "name": "stdout",
     "output_type": "stream",
     "text": [
      "0 True\n",
      "1 True\n",
      "2 False\n",
      "3 True\n",
      "4 True\n",
      "5 True\n",
      "6 True\n",
      "7 False\n",
      "8 True\n",
      "9 True\n",
      "10 False\n",
      "11 True\n",
      "12 True\n",
      "13 False\n",
      "14 True\n",
      "15 True\n",
      "16 True\n",
      "17 True\n",
      "18 False\n",
      "19 True\n"
     ]
    }
   ],
   "source": [
    "\"\"\"\n",
    "Subset sum problem.\n",
    "Is there a subset in the set that is equal to the target?\n",
    "\"\"\"\n",
    "\n",
    "def subset_sum(nums,target,test=False):\n",
    "    mem = {}\n",
    "    note = {}\n",
    "    def calc(i,val):\n",
    "        nonlocal note\n",
    "        if i==len(nums):\n",
    "            return val==0\n",
    "        note[(i,val)] = note.get((i,val),0)+1\n",
    "        if not test:\n",
    "            if (i,val) in mem:\n",
    "                return mem[(i,val)]\n",
    "        out = calc(i+1,val) or calc(i+1,val-nums[i])\n",
    "        mem[(i,val)] = out\n",
    "        return out\n",
    "    out = calc(0,target)\n",
    "    if test:\n",
    "        stats = [(val,key) for key,val in note.items()]\n",
    "        for i in sorted(stats, reverse=True):\n",
    "            print(i[0],i[1])\n",
    "    return out\n",
    "\n",
    "for t in range(20):\n",
    "    print(t,subset_sum([1,11,3,5],t))"
   ]
  },
  {
   "cell_type": "code",
   "execution_count": 78,
   "metadata": {},
   "outputs": [
    {
     "name": "stdout",
     "output_type": "stream",
     "text": [
      "4 (4, 8)\n",
      "4 (4, 7)\n",
      "3 (4, 9)\n",
      "3 (4, 6)\n",
      "3 (3, 9)\n",
      "3 (3, 8)\n",
      "2 (2, 9)\n",
      "1 (4, 10)\n",
      "1 (4, 5)\n",
      "1 (3, 10)\n",
      "1 (3, 7)\n",
      "1 (2, 10)\n",
      "1 (2, 8)\n",
      "1 (1, 10)\n",
      "1 (1, 9)\n",
      "1 (0, 10)\n"
     ]
    },
    {
     "data": {
      "text/plain": [
       "False"
      ]
     },
     "execution_count": 78,
     "metadata": {},
     "output_type": "execute_result"
    }
   ],
   "source": [
    "subset_sum([1,1,1,2,2], 10, test=True)"
   ]
  }
 ],
 "metadata": {
  "kernelspec": {
   "display_name": "Python 3",
   "language": "python",
   "name": "python3"
  },
  "language_info": {
   "codemirror_mode": {
    "name": "ipython",
    "version": 3
   },
   "file_extension": ".py",
   "mimetype": "text/x-python",
   "name": "python",
   "nbconvert_exporter": "python",
   "pygments_lexer": "ipython3",
   "version": "3.7.6"
  }
 },
 "nbformat": 4,
 "nbformat_minor": 4
}
