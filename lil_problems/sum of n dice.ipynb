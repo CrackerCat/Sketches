{
 "cells": [
  {
   "cell_type": "markdown",
   "metadata": {},
   "source": [
    "### Sum of N dice\n",
    "\n",
    "Given N dice (d6), count the number of ways we can get the sum of pips to be equal to M."
   ]
  },
  {
   "cell_type": "code",
   "execution_count": 1,
   "metadata": {},
   "outputs": [],
   "source": [
    "import time"
   ]
  },
  {
   "cell_type": "code",
   "execution_count": 7,
   "metadata": {},
   "outputs": [
    {
     "name": "stdout",
     "output_type": "stream",
     "text": [
      "1\n",
      "4\n",
      "1\n",
      "2930455\n",
      "Time passed: 0.0\n",
      "137578715\n",
      "11826758184971477527853237200\n"
     ]
    }
   ],
   "source": [
    "mem = {}\n",
    "\n",
    "def count(n,m):\n",
    "    if (n<=0) | (m<=0):\n",
    "        return 0\n",
    "    if n==1:\n",
    "        if (m>=1)&(m<=6):\n",
    "            return 1\n",
    "    \n",
    "    if (n,m) in mem:\n",
    "        return mem[(n,m)]\n",
    "    out = 0\n",
    "    for pip in range(1,7):\n",
    "        out += count(n-1,m-pip)\n",
    "    mem[(n,m)] = out\n",
    "    return out\n",
    "\n",
    "print(count(1,5))\n",
    "print(count(2,5))\n",
    "print(count(3,3))\n",
    "tic = time.time()\n",
    "print(count(10,30))\n",
    "print(f\"Time passed: {time.time()-tic}\")\n",
    "# 3.2 s without memoization\n",
    "# 0.001s with memoization\n",
    "\n",
    "print(count(20,32))\n",
    "print(count(50,99)) # Wow, memoization is impressive here as it curbs recursion!"
   ]
  }
 ],
 "metadata": {
  "kernelspec": {
   "display_name": "Python 3",
   "language": "python",
   "name": "python3"
  },
  "language_info": {
   "codemirror_mode": {
    "name": "ipython",
    "version": 3
   },
   "file_extension": ".py",
   "mimetype": "text/x-python",
   "name": "python",
   "nbconvert_exporter": "python",
   "pygments_lexer": "ipython3",
   "version": "3.7.0"
  }
 },
 "nbformat": 4,
 "nbformat_minor": 2
}
