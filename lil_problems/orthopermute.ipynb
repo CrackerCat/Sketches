{
 "cells": [
  {
   "cell_type": "markdown",
   "metadata": {},
   "source": [
    "# Orthogonal permutations"
   ]
  },
  {
   "cell_type": "code",
   "execution_count": 1,
   "metadata": {},
   "outputs": [
    {
     "data": {
      "text/plain": [
       "[[0, 1, 2], [0, 2, 1], [1, 0, 2], [1, 2, 0], [2, 0, 1], [2, 1, 0]]"
      ]
     },
     "execution_count": 1,
     "metadata": {},
     "output_type": "execute_result"
    }
   ],
   "source": [
    "# Task: generate all permutations of order n\n",
    "\n",
    "\"\"\"\n",
    "Logic: take a list of items, go through all possible values for the 1st one\n",
    "at each iteration, update the list of remaining\n",
    "add a sub-permutation recursively\n",
    "Memoization: store remaining elements in a set, use it as index?\n",
    "\"\"\"\n",
    "\n",
    "def permute(n, remain=None, mem=None):\n",
    "    if mem is None:\n",
    "        mem = {}\n",
    "    if remain is None:\n",
    "        remain = list(range(n))\n",
    "    if not remain: return [[]]\n",
    "    if tuple(remain) in mem: return mem[tuple(remain)]\n",
    "    out = []\n",
    "    for i in range(len(remain)):\n",
    "        tail = permute(n, remain[:i]+remain[i+1:], mem)\n",
    "        out += [[remain[i]]+t for t in tail]\n",
    "    mem[tuple(remain)] = out\n",
    "    return out\n",
    "\n",
    "permute(3)"
   ]
  },
  {
   "cell_type": "markdown",
   "metadata": {},
   "source": [
    "Be careful: the time it takes to filter through ortopermutes the way it is done below increases really fast. Calculations for 9 and less are instantaneous, for 11 and more they take forever.\n",
    "\n",
    "That's because filtering is O(n^2), right? Permute itself is O(n), but then filtering loops through every element of every permute."
   ]
  },
  {
   "cell_type": "code",
   "execution_count": 3,
   "metadata": {},
   "outputs": [
    {
     "data": {
      "text/plain": [
       "[[1, 0, 3, 2, 5, 4, 7, 6, 9, 8],\n",
       " [2, 3, 0, 1, 6, 7, 8, 9, 4, 5],\n",
       " [3, 2, 1, 0, 7, 6, 9, 8, 5, 4],\n",
       " [4, 5, 6, 7, 8, 9, 0, 1, 2, 3],\n",
       " [5, 4, 7, 6, 9, 8, 1, 0, 3, 2],\n",
       " [6, 7, 8, 9, 2, 3, 4, 5, 0, 1],\n",
       " [7, 6, 9, 8, 3, 2, 5, 4, 1, 0],\n",
       " [8, 9, 4, 5, 0, 1, 2, 3, 6, 7],\n",
       " [9, 8, 5, 4, 1, 0, 3, 2, 7, 6]]"
      ]
     },
     "execution_count": 3,
     "metadata": {},
     "output_type": "execute_result"
    }
   ],
   "source": [
    "# Task: generate all orthogonal permutations that are also orthogonal to range(n)\n",
    "\n",
    "def orthopermute(n):\n",
    "    ps = permute(n)\n",
    "    banned = {i: [i] for i in range(n)}\n",
    "    out = []\n",
    "    for p in ps:\n",
    "        bad = any([p[i] in banned[i] for i in range(n)])\n",
    "        if not bad:\n",
    "            out.append(p)\n",
    "            for j in range(n):\n",
    "                banned[j].append(p[j])\n",
    "    return out\n",
    "\n",
    "orthopermute(10)"
   ]
  }
 ],
 "metadata": {
  "kernelspec": {
   "display_name": "Python 3",
   "language": "python",
   "name": "python3"
  },
  "language_info": {
   "codemirror_mode": {
    "name": "ipython",
    "version": 3
   },
   "file_extension": ".py",
   "mimetype": "text/x-python",
   "name": "python",
   "nbconvert_exporter": "python",
   "pygments_lexer": "ipython3",
   "version": "3.7.6"
  }
 },
 "nbformat": 4,
 "nbformat_minor": 4
}
