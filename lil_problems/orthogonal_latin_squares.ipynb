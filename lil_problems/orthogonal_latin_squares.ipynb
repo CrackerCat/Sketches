{
 "cells": [
  {
   "cell_type": "markdown",
   "metadata": {},
   "source": [
    "# Orthogonal Latin Squares\n",
    "\n",
    "For the simplest case of a prime side, of course."
   ]
  },
  {
   "cell_type": "code",
   "execution_count": 2,
   "metadata": {},
   "outputs": [],
   "source": [
    "import numpy as np"
   ]
  },
  {
   "cell_type": "code",
   "execution_count": 25,
   "metadata": {},
   "outputs": [
    {
     "name": "stdout",
     "output_type": "stream",
     "text": [
      "\n",
      "The Greko-Roman Square:\n",
      "000 111 222 333 444 555 666 \n",
      "123 234 345 456 560 601 012 \n",
      "246 350 461 502 613 024 135 \n",
      "362 403 514 625 036 140 251 \n",
      "415 526 630 041 152 263 304 \n",
      "531 642 053 164 205 316 420 \n",
      "654 065 106 210 321 432 543 \n",
      "\n",
      "Student assignments:\n",
      " 1  8 15     2  9 16     3 10 17     4 11 18     5 12 19     6 13 20     7 14 21    \n",
      " 2 10 18     3 11 19     4 12 20     5 13 21     6 14 15     7  8 16     1  9 17    \n",
      " 3 12 21     4 13 15     5 14 16     6  8 17     7  9 18     1 10 19     2 11 20    \n",
      " 4 14 17     5  8 18     6  9 19     7 10 20     1 11 21     2 12 15     3 13 16    \n",
      " 5  9 20     6 10 21     7 11 15     1 12 16     2 13 17     3 14 18     4  8 19    \n",
      " 6 11 16     7 12 17     1 13 18     2 14 19     3  8 20     4  9 21     5 10 15    \n",
      " 7 13 19     1 14 20     2  8 21     3  9 15     4 10 16     5 11 17     6 12 18    \n"
     ]
    }
   ],
   "source": [
    "N = 7\n",
    "K = 3\n",
    "\n",
    "table = np.zeros(shape=(N,N,K))\n",
    "for k in range(K):\n",
    "    for i in range(N):\n",
    "        for j in range(N):\n",
    "            table[i,j,k] = (i*(k+1) + j) % N\n",
    "\n",
    "print(\"\\nThe Graeco-Roman Square:\")\n",
    "for i in range(N):\n",
    "    for j in range(N):\n",
    "        for k in range(K):\n",
    "            print(str(int(table[i,j,k])), end='')\n",
    "        print(' ', end='')\n",
    "    print()\n",
    "    \n",
    "print(\"\\nStudent assignments:\")\n",
    "for i in range(N):\n",
    "    for j in range(N):\n",
    "        for k in range(K):\n",
    "            print(f\"{int(table[i,j,k]+k*N+1):2d}\", end=' ')\n",
    "        print('   ', end='')\n",
    "    print()"
   ]
  }
 ],
 "metadata": {
  "kernelspec": {
   "display_name": "Python 3",
   "language": "python",
   "name": "python3"
  },
  "language_info": {
   "codemirror_mode": {
    "name": "ipython",
    "version": 3
   },
   "file_extension": ".py",
   "mimetype": "text/x-python",
   "name": "python",
   "nbconvert_exporter": "python",
   "pygments_lexer": "ipython3",
   "version": "3.7.6"
  }
 },
 "nbformat": 4,
 "nbformat_minor": 4
}
