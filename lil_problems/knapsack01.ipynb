{
 "cells": [
  {
   "cell_type": "markdown",
   "metadata": {},
   "source": [
    "# 0-1 Knapsack\n",
    "\n",
    "We get a bunch of pairs of weight-price, and limiting weight. Find a combo that is <= weight, and has max price."
   ]
  },
  {
   "cell_type": "code",
   "execution_count": 1,
   "metadata": {},
   "outputs": [],
   "source": [
    "import numpy as np"
   ]
  },
  {
   "cell_type": "code",
   "execution_count": 7,
   "metadata": {},
   "outputs": [
    {
     "data": {
      "text/plain": [
       "[(8, 77), (8, 70), (3, 12), (1, 43), (7, 49)]"
      ]
     },
     "execution_count": 7,
     "metadata": {},
     "output_type": "execute_result"
    }
   ],
   "source": [
    "def make_items(n=3, mw=10):\n",
    "    \"\"\"Create a bunch of (weight,price) pairs.\"\"\"\n",
    "    out = []\n",
    "    for i in range(n):\n",
    "        out.append((np.random.randint(mw),np.random.randint(100)))\n",
    "    return out\n",
    "\n",
    "make_items(5)"
   ]
  },
  {
   "cell_type": "markdown",
   "metadata": {},
   "source": [
    "The speed-up here is all because we don't consider all possibilities, but create a tree, and then prune the tree.\n",
    "\n",
    "Basic pruning happens when existing items (those selected) are already too heavy, and there's no point to add more stuff."
   ]
  },
  {
   "cell_type": "code",
   "execution_count": 23,
   "metadata": {},
   "outputs": [
    {
     "name": "stdout",
     "output_type": "stream",
     "text": [
      "[(4, 23), (5, 39), (2, 13), (2, 50)]\n",
      "[[0, 1], [0, 3], [0, 2], [0, 3], [0, 3], [1, 2], [1, 3], [1, 3], [2, 3], [3]]\n"
     ]
    }
   ],
   "source": [
    "def knapsack(items,maxweight):\n",
    "    if items == []: return []\n",
    "    out = []\n",
    "    for i in range(len(items)):\n",
    "        if items[i][0]>maxweight:\n",
    "            break\n",
    "        if i==len(items)-1: # Last one, nothing remains, so just take this one and go\n",
    "            out.append([i])\n",
    "            break\n",
    "        remaining = items[i+1:]\n",
    "        toadd = knapsack(remaining, maxweight-items[i][0])\n",
    "        out += [[i]+[k+i+1] for j in toadd for k in j]\n",
    "    return out\n",
    "\n",
    "a = make_items(4)\n",
    "print(a)\n",
    "print(knapsack(a,12))"
   ]
  },
  {
   "cell_type": "markdown",
   "metadata": {},
   "source": [
    "Why the heck do I get repeating solutions here? Something is not right. Would not recursion only try each solution once?\n",
    "\n",
    "Something is not right."
   ]
  }
 ],
 "metadata": {
  "kernelspec": {
   "display_name": "Python 3",
   "language": "python",
   "name": "python3"
  },
  "language_info": {
   "codemirror_mode": {
    "name": "ipython",
    "version": 3
   },
   "file_extension": ".py",
   "mimetype": "text/x-python",
   "name": "python",
   "nbconvert_exporter": "python",
   "pygments_lexer": "ipython3",
   "version": "3.7.3"
  }
 },
 "nbformat": 4,
 "nbformat_minor": 2
}
