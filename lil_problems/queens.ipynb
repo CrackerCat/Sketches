{
 "cells": [
  {
   "cell_type": "markdown",
   "metadata": {},
   "source": [
    "# Place N queens on an NxN board\n",
    "\n",
    "Note that there are no solutions for n=2 and 3."
   ]
  },
  {
   "cell_type": "code",
   "execution_count": 14,
   "metadata": {},
   "outputs": [
    {
     "name": "stdout",
     "output_type": "stream",
     "text": [
      "{0: 0, 1: 2, 2: 5, 3: 7, 4: 1, 5: 3, 6: 8, 7: 6, 8: 4}\n",
      "Q........\n",
      "..Q......\n",
      ".....Q...\n",
      ".......Q.\n",
      ".Q.......\n",
      "...Q.....\n",
      "........Q\n",
      "......Q..\n",
      "....Q....\n"
     ]
    }
   ],
   "source": [
    "def queens(n, loc=None):\n",
    "    \"\"\"Find one solution for the queens problem.\"\"\"\n",
    "    if loc is None: \n",
    "        loc = {}\n",
    "    elif len(loc)==n:\n",
    "        return loc\n",
    "    else: \n",
    "        loc = loc.copy()\n",
    "    taken = set([val for key,val in loc.items()])\n",
    "    \n",
    "    def not_diagonal(loc,i,j):\n",
    "        for key,val in loc.items():\n",
    "            if abs(key-i)==abs(val-j):\n",
    "                return False\n",
    "        return True\n",
    "    \n",
    "    i = len(loc)\n",
    "    out = None # Pessimistic default\n",
    "    for j in range(n):\n",
    "        if j not in taken and not_diagonal(loc,i,j):\n",
    "            loc[i] = j\n",
    "            out = queens(n, loc)\n",
    "            if out is not None: # Successful placement\n",
    "                break # Done\n",
    "    return out\n",
    "\n",
    "def visualize(q):\n",
    "    \"\"\"Visualize the queens solution.\"\"\"\n",
    "    print(q)\n",
    "    n = len(q)\n",
    "    for i in range(n):\n",
    "        for j in range(n):\n",
    "            if q[i]==j:\n",
    "                print('Q', end='')\n",
    "            else:\n",
    "                print('.', end='')\n",
    "        print()\n",
    "\n",
    "q = queens(9)\n",
    "visualize(q)"
   ]
  },
  {
   "cell_type": "markdown",
   "metadata": {},
   "source": [
    "Now all options.\n",
    "\n",
    "Let's say that we always get only one prior position, but return all possible after positions.\n",
    "\n",
    "Which means that we need to run another concatenator loop inside.\n",
    "\n",
    "And let's use a simple array of positions instead of an array."
   ]
  },
  {
   "cell_type": "code",
   "execution_count": 44,
   "metadata": {},
   "outputs": [],
   "source": [
    "import matplotlib.pyplot as plt\n",
    "import numpy as np"
   ]
  },
  {
   "cell_type": "code",
   "execution_count": 50,
   "metadata": {},
   "outputs": [],
   "source": [
    "def visuals(qs):\n",
    "    \"\"\"Nice graphic visual.\"\"\"\n",
    "    fig = plt.figure(figsize=(10,10))\n",
    "    nplot = np.ceil(np.sqrt(len(qs)))\n",
    "    mplot = np.ceil(len(qs)/nplot)\n",
    "    n = len(qs[0])\n",
    "    for iplot in range(len(qs)):\n",
    "        plt.subplot(nplot, mplot, iplot+1)    \n",
    "        img = np.zeros(shape=(n,n))\n",
    "        for i in range(n):\n",
    "            img[i,qs[iplot][i]] = 1\n",
    "        plt.imshow(1-img, cmap='gray')\n",
    "        plt.xticks([])\n",
    "        plt.yticks([])"
   ]
  },
  {
   "cell_type": "code",
   "execution_count": 52,
   "metadata": {},
   "outputs": [
    {
     "name": "stdout",
     "output_type": "stream",
     "text": [
      "[0, 2, 4, 6, 1, 3, 5]\n",
      "[0, 3, 6, 2, 5, 1, 4]\n",
      "[0, 4, 1, 5, 2, 6, 3]\n",
      "[0, 5, 3, 1, 6, 4, 2]\n",
      "[1, 3, 0, 6, 4, 2, 5]\n",
      "[1, 3, 5, 0, 2, 4, 6]\n",
      "[1, 4, 0, 3, 6, 2, 5]\n",
      "[1, 4, 2, 0, 6, 3, 5]\n",
      "[1, 4, 6, 3, 0, 2, 5]\n",
      "[1, 5, 2, 6, 3, 0, 4]\n",
      "[1, 6, 4, 2, 0, 5, 3]\n",
      "[2, 0, 5, 1, 4, 6, 3]\n",
      "[2, 0, 5, 3, 1, 6, 4]\n",
      "[2, 4, 6, 1, 3, 5, 0]\n",
      "[2, 5, 1, 4, 0, 3, 6]\n",
      "[2, 6, 1, 3, 5, 0, 4]\n",
      "[2, 6, 3, 0, 4, 1, 5]\n",
      "[3, 0, 2, 5, 1, 6, 4]\n",
      "[3, 0, 4, 1, 5, 2, 6]\n",
      "[3, 1, 6, 4, 2, 0, 5]\n",
      "[3, 5, 0, 2, 4, 6, 1]\n",
      "[3, 6, 2, 5, 1, 4, 0]\n",
      "[3, 6, 4, 1, 5, 0, 2]\n",
      "[4, 0, 3, 6, 2, 5, 1]\n",
      "[4, 0, 5, 3, 1, 6, 2]\n",
      "[4, 1, 5, 2, 6, 3, 0]\n",
      "[4, 2, 0, 5, 3, 1, 6]\n",
      "[4, 6, 1, 3, 5, 0, 2]\n",
      "[4, 6, 1, 5, 2, 0, 3]\n",
      "[5, 0, 2, 4, 6, 1, 3]\n",
      "[5, 1, 4, 0, 3, 6, 2]\n",
      "[5, 2, 0, 3, 6, 4, 1]\n",
      "[5, 2, 4, 6, 0, 3, 1]\n",
      "[5, 2, 6, 3, 0, 4, 1]\n",
      "[5, 3, 1, 6, 4, 2, 0]\n",
      "[5, 3, 6, 0, 2, 4, 1]\n",
      "[6, 1, 3, 5, 0, 2, 4]\n",
      "[6, 2, 5, 1, 4, 0, 3]\n",
      "[6, 3, 0, 4, 1, 5, 2]\n",
      "[6, 4, 2, 0, 5, 3, 1]\n"
     ]
    },
    {
     "data": {
      "image/png": "[encoded data removed]",
      "text/plain": [
       "<Figure size 720x720 with 40 Axes>"
      ]
     },
     "metadata": {},
     "output_type": "display_data"
    }
   ],
   "source": [
    "def queens2(n, loc=None):\n",
    "    \"\"\"Find all solutions for the queens problem.\"\"\"\n",
    "    if loc is None: \n",
    "        loc = []\n",
    "    if len(loc)==n:\n",
    "        return [loc]\n",
    "    \n",
    "    def not_diagonal(loc,newi,newj):\n",
    "        for i in range(len(loc)):\n",
    "            if abs(newi-i)==abs(newj-loc[i]):\n",
    "                return False\n",
    "        return True\n",
    "\n",
    "    out = [] # Will collect here: a list of lists\n",
    "    i = len(loc)      \n",
    "    for j in range(n):\n",
    "        if j not in loc and not_diagonal(loc,i,j):\n",
    "            out += queens2(n, loc+[j])\n",
    "    return out\n",
    "\n",
    "qs = queens2(7)\n",
    "visuals(qs)\n",
    "for q in qs: \n",
    "    print(q)"
   ]
  }
 ],
 "metadata": {
  "kernelspec": {
   "display_name": "Python 3",
   "language": "python",
   "name": "python3"
  },
  "language_info": {
   "codemirror_mode": {
    "name": "ipython",
    "version": 3
   },
   "file_extension": ".py",
   "mimetype": "text/x-python",
   "name": "python",
   "nbconvert_exporter": "python",
   "pygments_lexer": "ipython3",
   "version": "3.7.6"
  }
 },
 "nbformat": 4,
 "nbformat_minor": 4
}
