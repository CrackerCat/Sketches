{
 "cells": [
  {
   "cell_type": "markdown",
   "metadata": {},
   "source": [
    "# Code sorting algos by memory: attempt 1"
   ]
  },
  {
   "cell_type": "code",
   "execution_count": 78,
   "metadata": {},
   "outputs": [
    {
     "data": {
      "text/plain": [
       "[12, 17, 15, 19, 2, 14, 8, 0, 18, 9, 10, 5, 13, 11, 7, 1, 6, 4, 3, 16]"
      ]
     },
     "execution_count": 78,
     "metadata": {},
     "output_type": "execute_result"
    }
   ],
   "source": [
    "import numpy as np\n",
    "\n",
    "def rnd(n):\n",
    "    x = np.random.uniform(size=n)\n",
    "    return x.argsort().argsort().tolist()\n",
    "\n",
    "rnd(20)"
   ]
  },
  {
   "cell_type": "code",
   "execution_count": 14,
   "metadata": {},
   "outputs": [
    {
     "data": {
      "text/plain": [
       "[0, 1, 2, 3, 4, 5, 6, 7, 8, 9, 10, 11, 12, 13, 14, 15, 16, 17, 18, 19]"
      ]
     },
     "execution_count": 14,
     "metadata": {},
     "output_type": "execute_result"
    }
   ],
   "source": [
    "# 4:42\n",
    "def ss(x):\n",
    "    \"\"\"Selection.\"\"\"\n",
    "    for i in range(len(x)-1):\n",
    "        m = x[i]\n",
    "        k = i\n",
    "        for j in range(i+1,len(x)):\n",
    "            if x[j]<m:\n",
    "                m = x[j]\n",
    "                k = j\n",
    "        if m<x[i]:\n",
    "            (x[i],x[k]) = (x[k],x[i])\n",
    "    return x\n",
    "\n",
    "# 4:45\n",
    "\n",
    "ss(rnd(20))"
   ]
  },
  {
   "cell_type": "code",
   "execution_count": 54,
   "metadata": {},
   "outputs": [
    {
     "data": {
      "text/plain": [
       "[0, 1, 2, 3, 4, 5, 6, 7, 8, 9, 10, 11, 12, 13, 14, 15, 16, 17, 18, 19]"
      ]
     },
     "execution_count": 54,
     "metadata": {},
     "output_type": "execute_result"
    }
   ],
   "source": [
    "# 4:48\n",
    "def qs(x):\n",
    "    \"\"\"Quicksort\"\"\"\n",
    "    if len(x)<=1: return x\n",
    "    pivot = x[len(x)-1]\n",
    "    i = j = 0 # <------------ Made a mistake here: assumed that we can start from j=1, but no.\n",
    "    while j<len(x)-1:\n",
    "        if x[j]<pivot:\n",
    "            (x[i],x[j]) = (x[j],x[i])\n",
    "            i += 1\n",
    "        j += 1\n",
    "    if i<len(x)-1:\n",
    "        return qs(x[:i]) + [pivot] + qs(x[i:len(x)-1])\n",
    "    else:\n",
    "        return qs(x[:len(x)-1]) + [pivot]\n",
    "# 4:57\n",
    "\n",
    "# Why can't we start with j=1? Because if x[0] is small, it'll make i lag by one,\n",
    "# and the algorithm will work as if small values are to the left of 0 (not 1),\n",
    "# so when j finds another small value, it will be swapped with x[0], and\n",
    "# an originally small value of x[0] will be shoot upwards.\n",
    "    \n",
    "qs(rnd(20))"
   ]
  },
  {
   "cell_type": "markdown",
   "metadata": {},
   "source": [
    "For quicksort, at each point values to the left from i are \"certified small\". Values between i and j are \"certified large\". Values to the right from j are unknown."
   ]
  },
  {
   "cell_type": "code",
   "execution_count": 77,
   "metadata": {},
   "outputs": [
    {
     "data": {
      "text/plain": [
       "[0, 1, 2, 3, 4, 5, 6, 7, 8, 9, 10, 11, 12, 13, 14, 15, 16, 17, 18, 19]"
      ]
     },
     "execution_count": 77,
     "metadata": {},
     "output_type": "execute_result"
    }
   ],
   "source": [
    "# 5:17\n",
    "def ms(x):\n",
    "    # Mergesort\n",
    "    if len(x)<=1: return x # <----------- At first forgot this thing => inf recursion\n",
    "    m = int(len(x)/2)\n",
    "    x = ms(x[:m]) + ms(x[m:])\n",
    "    i = 0\n",
    "    j = m\n",
    "    out = []\n",
    "    while i<m or j<len(x): # <--------- And wrote AND instead of OR here: wrong logic\n",
    "        if i==m:\n",
    "            out.append(x[j])\n",
    "            j += 1\n",
    "        elif j==len(x):\n",
    "            out.append(x[i])\n",
    "            i += 1\n",
    "        elif x[i]<x[j]:\n",
    "            out.append(x[i])\n",
    "            i += 1\n",
    "        else:\n",
    "            out.append(x[j])\n",
    "            j += 1\n",
    "    return out\n",
    "# 5:23\n",
    "\n",
    "ms(rnd(20))"
   ]
  }
 ],
 "metadata": {
  "kernelspec": {
   "display_name": "Python 3",
   "language": "python",
   "name": "python3"
  },
  "language_info": {
   "codemirror_mode": {
    "name": "ipython",
    "version": 3
   },
   "file_extension": ".py",
   "mimetype": "text/x-python",
   "name": "python",
   "nbconvert_exporter": "python",
   "pygments_lexer": "ipython3",
   "version": "3.7.3"
  }
 },
 "nbformat": 4,
 "nbformat_minor": 2
}
