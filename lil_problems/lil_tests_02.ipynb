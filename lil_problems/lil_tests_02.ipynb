{
 "cells": [
  {
   "cell_type": "markdown",
   "metadata": {},
   "source": [
    "# Another set of small tests"
   ]
  },
  {
   "cell_type": "code",
   "execution_count": 32,
   "metadata": {},
   "outputs": [
    {
     "name": "stdout",
     "output_type": "stream",
     "text": [
      "True\n",
      "True\n"
     ]
    }
   ],
   "source": [
    "a = None\n",
    "b = True\n",
    "print(b or a.field) # Short-circuit\n",
    "print(2==2 or None.field)"
   ]
  },
  {
   "cell_type": "code",
   "execution_count": 36,
   "metadata": {},
   "outputs": [
    {
     "data": {
      "text/plain": [
       "[]"
      ]
     },
     "execution_count": 36,
     "metadata": {},
     "output_type": "execute_result"
    }
   ],
   "source": [
    "a = [0]\n",
    "a[1:]"
   ]
  },
  {
   "cell_type": "code",
   "execution_count": 16,
   "metadata": {},
   "outputs": [
    {
     "name": "stdout",
     "output_type": "stream",
     "text": [
      "[1, 2, 3, 4, 5]\n",
      "[1, 2, 3, 4, 5]\n"
     ]
    }
   ],
   "source": [
    "\"\"\"Insertion sort\"\"\"\n",
    "def insort(nums):\n",
    "    if len(nums)<2: return nums\n",
    "    for i in range(1,len(nums)):\n",
    "        j = i\n",
    "        while j>=1 and nums[j]<nums[j-1]:\n",
    "            nums[j],nums[j-1] = nums[j-1],nums[j]\n",
    "            j -= 1\n",
    "    return nums\n",
    "\n",
    "a = [3,2,4,1,5]\n",
    "print(insort(a)) # In this case it both does in-place and returns it. May be weird?\n",
    "print(a)"
   ]
  },
  {
   "cell_type": "code",
   "execution_count": 28,
   "metadata": {},
   "outputs": [
    {
     "name": "stdout",
     "output_type": "stream",
     "text": [
      "[7, 3, 5, 4, 1, 6, 8, 2]\n",
      "[1, 2, 3, 4, 5, 6, 7, 8]\n"
     ]
    }
   ],
   "source": [
    "def mergesort(nums,l=0,r=None):\n",
    "    if len(nums)<=1: return\n",
    "    if r is None: r = len(nums)\n",
    "    if r-l<=1: return\n",
    "    m = (l+r)//2\n",
    "    mergesort(nums,l,m)\n",
    "    mergesort(nums,m,r)\n",
    "    old = nums.copy()\n",
    "    i = k = 0\n",
    "    j = m\n",
    "    while i<m or j<len(nums):\n",
    "        if i==m:\n",
    "            nums[k] = old[j]\n",
    "            j += 1\n",
    "        elif j==len(nums):\n",
    "            nums[k] = old[i]\n",
    "            i += 1\n",
    "        elif nums[i]<nums[j]:\n",
    "            nums[k] = old[i]            \n",
    "            i += 1\n",
    "        else:\n",
    "            nums[k] = old[j]\n",
    "            j += 1\n",
    "        k += 1\n",
    "    return\n",
    "\n",
    "a = [7,3,5,4,1,6,8,2]\n",
    "print(a)\n",
    "mergesort(a)\n",
    "print(a)"
   ]
  }
 ],
 "metadata": {
  "kernelspec": {
   "display_name": "Python 3",
   "language": "python",
   "name": "python3"
  },
  "language_info": {
   "codemirror_mode": {
    "name": "ipython",
    "version": 3
   },
   "file_extension": ".py",
   "mimetype": "text/x-python",
   "name": "python",
   "nbconvert_exporter": "python",
   "pygments_lexer": "ipython3",
   "version": "3.7.6"
  }
 },
 "nbformat": 4,
 "nbformat_minor": 4
}
