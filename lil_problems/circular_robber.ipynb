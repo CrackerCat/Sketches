{
 "cells": [
  {
   "cell_type": "markdown",
   "metadata": {},
   "source": [
    "# Circular robber\n",
    "\n",
    "Cells in a circle, each contains a number; pick a sequence with highest sum() having no 2 cells nearby."
   ]
  },
  {
   "cell_type": "code",
   "execution_count": 11,
   "metadata": {},
   "outputs": [],
   "source": [
    "# Recurrent solution:\n",
    "class Solution1:\n",
    "    mem = {}\n",
    "   \n",
    "    def f(x,i,j):\n",
    "        #print(i,j)\n",
    "        if i>=j: return 0\n",
    "        if i+1 == j: return x[i]\n",
    "        if (i,j) in Solution1.mem:\n",
    "            return Solution1.mem[(i,j)]\n",
    "        o1 = Solution1.f(x,i+2,j)\n",
    "        Solution1.mem[(i+2,j)] = o1\n",
    "        o2 = Solution1.f(x,i+1,j)\n",
    "        Solution1.mem[(i+1,j)] = o2\n",
    "        return max(x[i]+o1 , o2)\n",
    "   \n",
    "    def rob(self, nums):\n",
    "        if len(nums)==0: return 0\n",
    "        if len(nums)==1: return nums[0]\n",
    "        Solution1.mem = {}\n",
    "        return max(nums[0]+Solution1.f(nums,2,len(nums)-1) ,\n",
    "                           Solution1.f(nums,1,len(nums)))"
   ]
  },
  {
   "cell_type": "code",
   "execution_count": 90,
   "metadata": {},
   "outputs": [
    {
     "name": "stdout",
     "output_type": "stream",
     "text": [
      "314\n",
      "183\n",
      "False False False False False False False False False False "
     ]
    }
   ],
   "source": [
    "# No-recursion solution\n",
    "def Solution2(x,verbose=False):\n",
    "    if len(x)==0: return 0\n",
    "    if len(x)==1: return x[0]\n",
    "    opt0 = x[0]\n",
    "    j0 = 0\n",
    "    opt1 = x[1]\n",
    "    j1 = 1\n",
    "    \n",
    "    # At every step, if prev optimization ended at j, we have an option of either claiming j+2 or j+3\n",
    "    # (j+1 is always off-limits, while j+4 is too far, as it fits j+2 in-between).\n",
    "    # And then we should also remember than opt0 cannot take len(x)-1, due to circularity \n",
    "    # (it's last legal cell is len(x)-2).\n",
    "    # Which means that opt0 halts at either l-3 or l-2; op1 halts at either l-1 or l-2.\n",
    "    while (j0<len(x)-3):\n",
    "        if verbose: print(j0,opt0)\n",
    "        if(j0==len(x)-4):\n",
    "            j0 += 2\n",
    "            opt0 += x[j0]\n",
    "            break\n",
    "        t1 = opt0 + x[j0+2]\n",
    "        t2 = opt0 + x[j0+3]\n",
    "        if t1<t2:\n",
    "            opt0 = t1\n",
    "            j0 += 2\n",
    "        else:\n",
    "            opt0 = t2\n",
    "            j0 += 3\n",
    "    if verbose: print(j0,opt0)\n",
    "            \n",
    "    while (j1<len(x)-2):\n",
    "        if verbose: print(j1,opt1)\n",
    "        if(j1==len(x)-3):\n",
    "            j1 += 2\n",
    "            opt1 += x[j1]\n",
    "            break\n",
    "        t1 = opt1 + x[j1+2]\n",
    "        t2 = opt1 + x[j1+3]\n",
    "        if t1<t2:\n",
    "            opt1 = t1\n",
    "            j1 += 2\n",
    "        else:\n",
    "            opt1 = t2\n",
    "            j1 += 3\n",
    "    if verbose: print(j1,opt1)\n",
    "            \n",
    "    return max(opt0,opt1)\n",
    "    \n",
    "\n",
    "# Tester\n",
    "import numpy as np\n",
    "\n",
    "n = 10\n",
    "a = np.random.randint(0,100,size=n).tolist()\n",
    "\n",
    "s1 = Solution1()\n",
    "print(s1.rob(a))\n",
    "print(Solution2(a))\n",
    "\n",
    "for i in range(10):\n",
    "    n = np.random.randint(0,100)\n",
    "    a = np.random.randint(0,100,size=n).tolist()\n",
    "    print(s1.rob(a)==Solution2(a),end=' ')"
   ]
  },
  {
   "cell_type": "code",
   "execution_count": 91,
   "metadata": {},
   "outputs": [
    {
     "name": "stdout",
     "output_type": "stream",
     "text": [
      "0 1\n",
      "2 4\n",
      "1 5\n",
      "4 7\n"
     ]
    },
    {
     "data": {
      "text/plain": [
       "7"
      ]
     },
     "execution_count": 91,
     "metadata": {},
     "output_type": "execute_result"
    }
   ],
   "source": [
    "Solution2([1,5,3,7,2],True)"
   ]
  },
  {
   "cell_type": "markdown",
   "metadata": {},
   "source": [
    "Why 4 7 here? It should be 5+7 = 13!"
   ]
  }
 ],
 "metadata": {
  "kernelspec": {
   "display_name": "Python 3",
   "language": "python",
   "name": "python3"
  },
  "language_info": {
   "codemirror_mode": {
    "name": "ipython",
    "version": 3
   },
   "file_extension": ".py",
   "mimetype": "text/x-python",
   "name": "python",
   "nbconvert_exporter": "python",
   "pygments_lexer": "ipython3",
   "version": "3.7.0"
  }
 },
 "nbformat": 4,
 "nbformat_minor": 2
}
