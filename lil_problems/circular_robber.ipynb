{
 "cells": [
  {
   "cell_type": "markdown",
   "metadata": {},
   "source": [
    "# Circular robber\n",
    "\n",
    "Cells in a circle, each contains a number; pick a sequence with highest sum() having no 2 cells nearby."
   ]
  },
  {
   "cell_type": "code",
   "execution_count": 1,
   "metadata": {},
   "outputs": [],
   "source": [
    "# Recurrent solution:\n",
    "class Solution1:\n",
    "    mem = {}\n",
    "   \n",
    "    def f(x,i,j):\n",
    "        #print(i,j)\n",
    "        if i>=j: return 0\n",
    "        if i+1 == j: return x[i]\n",
    "        if (i,j) in Solution1.mem:\n",
    "            return Solution1.mem[(i,j)]\n",
    "        o1 = Solution1.f(x,i+2,j)\n",
    "        Solution1.mem[(i+2,j)] = o1\n",
    "        o2 = Solution1.f(x,i+1,j)\n",
    "        Solution1.mem[(i+1,j)] = o2\n",
    "        return max(x[i]+o1 , o2)\n",
    "   \n",
    "    def rob(self, nums):\n",
    "        if len(nums)==0: return 0\n",
    "        if len(nums)==1: return nums[0]\n",
    "        Solution1.mem = {}\n",
    "        return max(nums[0]+Solution1.f(nums,2,len(nums)-1) ,\n",
    "                           Solution1.f(nums,1,len(nums)))"
   ]
  },
  {
   "cell_type": "code",
   "execution_count": 146,
   "metadata": {},
   "outputs": [],
   "source": [
    "# One loop solution\n",
    "def f(x,verbose=False):\n",
    "    '''Non-circular optimal jumper'''\n",
    "    # In this option, f should always take x[0] (to match with the cicrular-arrangement logic\n",
    "    # in the mother function. After that - a choice.\n",
    "    \n",
    "    if verbose: print('init')\n",
    "    if len(x)==2: return max(x) # Special case; easier to implement explicitly.\n",
    "    \n",
    "    # For every cell, we can either claim it by jumping by 1 (j+2), or by 2 (j+3).\n",
    "    # j+1 is forbidden, and j+4 = j+2+2, and so can always be improved by addint a stop in-between.\n",
    "    # So for every j we need to compare opt for j-2 and j-3, and pick the greatest.\n",
    "    # And then at the very end, we either end at n-1 (last element), or at n-2 (penultimate),\n",
    "    # so at this point we just pick the max of two.\n",
    "    \n",
    "    mem = [x[0],x[1],x[0]+x[2]] # Best sums for positions 0, 1, and 2 respectively.\n",
    "    for i in range(3,len(x)):\n",
    "        if mem[0]>mem[1]: # Jump by 2\n",
    "            top = mem[0]+x[i]\n",
    "        else:\n",
    "            top = mem[1]+x[i] # Jump by 1\n",
    "        if verbose: print(i,x[i],top)\n",
    "        mem = mem[1:]+[top] # Shift memory\n",
    "    return max(mem[1],mem[2])\n",
    "\n",
    "def solution2(x,verbose=False):\n",
    "    '''Circular optimal jumper'''\n",
    "    if len(x)==0: return 0\n",
    "    if len(x)==1: return x[0]\n",
    "    if len(x)==2: return max(x)\n",
    "    return max(f(x[0:-1],verbose) , f(x[1:],verbose)) # Two options, to reflect the circular nature of the task"
   ]
  },
  {
   "cell_type": "code",
   "execution_count": 147,
   "metadata": {},
   "outputs": [
    {
     "name": "stdout",
     "output_type": "stream",
     "text": [
      "[8, 48, 38]\n",
      "Correct: 48\n",
      "init\n",
      "init\n"
     ]
    },
    {
     "data": {
      "text/plain": [
       "48"
      ]
     },
     "execution_count": 147,
     "metadata": {},
     "output_type": "execute_result"
    }
   ],
   "source": [
    "x = [8, 48, 38]\n",
    "print(x)\n",
    "s = Solution1()\n",
    "print('Correct:',s.rob(x))\n",
    "solution2(x,True)"
   ]
  },
  {
   "cell_type": "code",
   "execution_count": 155,
   "metadata": {},
   "outputs": [
    {
     "name": "stdout",
     "output_type": "stream",
     "text": [
      "...................................................................................................."
     ]
    }
   ],
   "source": [
    "# Tester\n",
    "import numpy as np\n",
    "\n",
    "s1 = Solution1()\n",
    "for i in range(100):\n",
    "    n = np.random.randint(0,10)\n",
    "    a = np.random.randint(0,100,size=n).tolist()\n",
    "    try:\n",
    "        if s1.rob(a)==solution2(a):\n",
    "            print('.',end='')\n",
    "        else:\n",
    "            print(a)\n",
    "    except:\n",
    "        print(a)"
   ]
  }
 ],
 "metadata": {
  "kernelspec": {
   "display_name": "Python 3",
   "language": "python",
   "name": "python3"
  },
  "language_info": {
   "codemirror_mode": {
    "name": "ipython",
    "version": 3
   },
   "file_extension": ".py",
   "mimetype": "text/x-python",
   "name": "python",
   "nbconvert_exporter": "python",
   "pygments_lexer": "ipython3",
   "version": "3.7.6"
  }
 },
 "nbformat": 4,
 "nbformat_minor": 2
}
