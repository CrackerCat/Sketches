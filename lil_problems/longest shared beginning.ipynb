{
 "cells": [
  {
   "cell_type": "markdown",
   "metadata": {},
   "source": [
    "### Longest shared beginning\n",
    "\n",
    "For a list of strings, find the longst starting sequenced shared between all strings"
   ]
  },
  {
   "cell_type": "code",
   "execution_count": 21,
   "metadata": {},
   "outputs": [
    {
     "name": "stdout",
     "output_type": "stream",
     "text": [
      "fl\n",
      "x\n",
      "dog\n",
      "oneword\n",
      "\n",
      "\n"
     ]
    }
   ],
   "source": [
    "def maxSeq(l):\n",
    "    if len(l)==0:\n",
    "        return ''\n",
    "    ans = l[0]\n",
    "    for i in range(1,len(l)):\n",
    "        if l[i]=='':\n",
    "            return ''\n",
    "        if len(l[i])<len(ans):\n",
    "            ans = ans[0:(len(l[i])-1)]\n",
    "        k = len(ans)\n",
    "        for j in range(len(ans)):\n",
    "            if ans[j]!=l[i][j]:\n",
    "                k = j\n",
    "                break\n",
    "        if k==0:\n",
    "            return ''\n",
    "        elif k<len(ans):\n",
    "            ans = ans[0:k]\n",
    "    return ans\n",
    "\n",
    "print(maxSeq(['flower','fleet','flough']))\n",
    "print(maxSeq(['xabc','xobc']))\n",
    "print(maxSeq(['dog','dog']))\n",
    "print(maxSeq(['oneword']))\n",
    "print(maxSeq(['great','']))\n",
    "print(maxSeq([]))"
   ]
  }
 ],
 "metadata": {
  "kernelspec": {
   "display_name": "Python 3",
   "language": "python",
   "name": "python3"
  },
  "language_info": {
   "codemirror_mode": {
    "name": "ipython",
    "version": 3
   },
   "file_extension": ".py",
   "mimetype": "text/x-python",
   "name": "python",
   "nbconvert_exporter": "python",
   "pygments_lexer": "ipython3",
   "version": "3.7.0"
  }
 },
 "nbformat": 4,
 "nbformat_minor": 2
}
