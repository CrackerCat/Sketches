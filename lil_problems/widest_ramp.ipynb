{
 "cells": [
  {
   "cell_type": "markdown",
   "metadata": {},
   "source": [
    "# Widest Ramp\n",
    "\n",
    "In a given array, find widest (largest j-i) pair of elements i and j, such that `A[j]>=A[i]`."
   ]
  },
  {
   "cell_type": "code",
   "execution_count": null,
   "metadata": {},
   "outputs": [],
   "source": [
    "# Version with O(n2) and memoization on top. It works, but still timeouts on Leetcode.\n",
    "\n",
    "class Solution1:\n",
    "    class Solver:\n",
    "        def __init__(self,A):\n",
    "            self.mem = {}\n",
    "            self.best = 0\n",
    "            self.A = A\n",
    "            \n",
    "        def start(self):\n",
    "            A = self.A\n",
    "            for i in range(len(A)):\n",
    "                t = self.find(i)\n",
    "                if t>self.best:\n",
    "                    self.best = t\n",
    "            return self.best\n",
    "            \n",
    "        def find(self,i):\n",
    "            A = self.A\n",
    "            if i in self.mem:\n",
    "                #print(i,'found:',self.mem[i])\n",
    "                return self.mem[i]\n",
    "            if i==len(A)-1:\n",
    "                return 0\n",
    "            m = 0\n",
    "            for j in range(len(A)-1,i+self.best,-1):\n",
    "                if A[j]>=A[i]:\n",
    "                    temp = j-i+self.find(j)\n",
    "                    if temp>m:\n",
    "                        m = temp\n",
    "            self.mem[i] = m\n",
    "            #print(i,'set to',m)\n",
    "            return m\n",
    "    \n",
    "    #def maxWidthRamp(self, A: List[int]) -> int:\n",
    "    def maxWidthRamp(self, A):\n",
    "        h = Solution1.Solver(A)\n",
    "        return h.start()\n",
    "        \n",
    "    \n",
    "# Test\n",
    "A = [9,8,1,0,1,9,4,0,4,1] # Should be 7\n",
    "s = Solution1()\n",
    "s.maxWidthRamp(A)"
   ]
  },
  {
   "cell_type": "code",
   "execution_count": 1,
   "metadata": {},
   "outputs": [
    {
     "name": "stdout",
     "output_type": "stream",
     "text": [
      "7\n"
     ]
    }
   ],
   "source": [
    "# O(n log n) solution with binary search!\n",
    "\n",
    "class Solution:\n",
    "    class Solver():\n",
    "        def __init__(self,A):\n",
    "            self.A = A\n",
    "            self.mem = [] # An array of tuples x,y - that is, (i,A[i])\n",
    "            \n",
    "        def furthest_ramp(self,mem,i,y):\n",
    "            \"\"\"Find the furthest ramp from point (i,y) to the right.\"\"\"\n",
    "            l = 0\n",
    "            r = len(mem)-1\n",
    "            while r-l>1:\n",
    "                mid = round((r+l)/2) # We're looking for lowest point that is higher or equal to y.\n",
    "                if mem[mid][1]>=y:\n",
    "                    r = mid\n",
    "                else:\n",
    "                    l = mid\n",
    "            if mem[l][1]>=y:\n",
    "                return mem[l][0]\n",
    "            else: \n",
    "                return mem[r][0]\n",
    "            \n",
    "        def process(self,i):\n",
    "            \"\"\"Adds point i (going backwards, right to left) to the story.\"\"\"\n",
    "            if i==len(self.A)-1:\n",
    "                self.mem.append((i,self.A[i]))\n",
    "                return 0\n",
    "            if self.A[i]>self.mem[-1][1]:\n",
    "                self.mem.append((i,self.A[i]))\n",
    "            j = self.furthest_ramp(self.mem,i,self.A[i])\n",
    "            return j-i            \n",
    "            \n",
    "        def find(self):\n",
    "            m = 0\n",
    "            for i in range(len(self.A)-1,-1,-1):\n",
    "                w = self.process(i)\n",
    "                if w>m:\n",
    "                    m = w\n",
    "            return m\n",
    "    \n",
    "    def maxWidthRamp(self, A):\n",
    "        h = Solution.Solver(A)\n",
    "        return h.find()\n",
    "\n",
    "# Test\n",
    "A = [9,8,1,0,1,9,4,0,4,1] # Should be 7\n",
    "s = Solution()\n",
    "print(s.maxWidthRamp(A))"
   ]
  },
  {
   "cell_type": "code",
   "execution_count": 7,
   "metadata": {},
   "outputs": [
    {
     "data": {
      "text/plain": [
       "[(0, 1), (1, 2), (2, 3)]"
      ]
     },
     "execution_count": 7,
     "metadata": {},
     "output_type": "execute_result"
    }
   ],
   "source": [
    "list(enumerate([1,2,3]))\n",
    "# Fun, enumerate() creates an iterator that returns values from [(i,a[i]) for i in range(len(a))]"
   ]
  },
  {
   "cell_type": "code",
   "execution_count": 8,
   "metadata": {},
   "outputs": [
    {
     "name": "stdout",
     "output_type": "stream",
     "text": [
      "7\n"
     ]
    }
   ],
   "source": [
    "# Solution from somebody else, also binary search, but much more compact:\n",
    "\n",
    "class Solution3:\n",
    "    def maxWidthRamp(A):\n",
    "        l = []                          # Array for binary search\n",
    "        l.append([A[0],0])              # Goes upwards, not downwards (so loops R, not L as I did above for some reason)\n",
    "        mx = 0\n",
    "        for i, item in enumerate(A):\n",
    "            if item < l[-1][0]:         # If new low (and so it opens new possibilities for using it as a LEFT),\n",
    "                l.append([item,i])      # .. push it to the stack. No need to try it yet though (thus \"else\" below.)\n",
    "            else:\n",
    "                s = 0           # it's like left, for binary search, but l is taken.\n",
    "                e = len(l)      # It's like right. Note that l is descending\n",
    "                while s <= e:   # It uses fancy search where at the end s will overshoot mid\n",
    "                    mid = (s+e)//2\n",
    "                    entry, index = l[mid]\n",
    "                    if item >= entry: # We are looking for for highest entry still smaller than item\n",
    "                        if mx < i - index:\n",
    "                            mx = i - index # Coz this search abandones mid even tho it can be the answer, have to check inside\n",
    "                        e = mid - 1     # If mid was good, try to make it even better (even higher). L is decending.\n",
    "                    else:               # Once it failed though (mid was too large, larger than item)\n",
    "                        s = mid + 1     # try to use it as a left border.        \n",
    "        return mx\n",
    "    \n",
    "# Test\n",
    "A = [9,8,1,0,1,9,4,0,4,1] # Should be 7\n",
    "print(Solution3.maxWidthRamp(A))"
   ]
  },
  {
   "cell_type": "code",
   "execution_count": null,
   "metadata": {},
   "outputs": [],
   "source": []
  }
 ],
 "metadata": {
  "kernelspec": {
   "display_name": "Python 3",
   "language": "python",
   "name": "python3"
  },
  "language_info": {
   "codemirror_mode": {
    "name": "ipython",
    "version": 3
   },
   "file_extension": ".py",
   "mimetype": "text/x-python",
   "name": "python",
   "nbconvert_exporter": "python",
   "pygments_lexer": "ipython3",
   "version": "3.7.6"
  }
 },
 "nbformat": 4,
 "nbformat_minor": 2
}
