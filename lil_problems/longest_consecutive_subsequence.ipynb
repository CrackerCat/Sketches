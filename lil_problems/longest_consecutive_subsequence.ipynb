{
 "cells": [
  {
   "cell_type": "markdown",
   "metadata": {},
   "source": [
    "# Longest increasing subsequence OF CONSECUTIVE numbers"
   ]
  },
  {
   "cell_type": "code",
   "execution_count": 10,
   "metadata": {},
   "outputs": [
    {
     "name": "stdout",
     "output_type": "stream",
     "text": [
      "5\n"
     ]
    }
   ],
   "source": [
    "def lisq(nums):\n",
    "    \"\"\"First the version that only returns the length.\"\"\"\n",
    "    if not nums: return 0\n",
    "    mem = {}\n",
    "    current_best_val = 1\n",
    "    for i in range(len(nums)):\n",
    "        if nums[i]-1 in mem:\n",
    "            l = mem[nums[i]-1]\n",
    "            mem[nums[i]] = l+1\n",
    "            if l+1 > current_best_val:\n",
    "                current_best_val = l+1\n",
    "        else:\n",
    "            mem[nums[i]] = 1\n",
    "    return current_best_val\n",
    "\n",
    "print(lisq([1,2,4,3,5,6,7,4,5]))"
   ]
  },
  {
   "cell_type": "code",
   "execution_count": 15,
   "metadata": {},
   "outputs": [
    {
     "name": "stdout",
     "output_type": "stream",
     "text": [
      "[4, 5, 6, 7, 8, 9]\n"
     ]
    }
   ],
   "source": [
    "def lisq(nums):\n",
    "    \"\"\"Now modified version that returns that actual subsequence.\"\"\"\n",
    "    if not nums: return 0\n",
    "    mem = {}\n",
    "    prev = [None]*len(nums)\n",
    "    current_best_val = 1\n",
    "    current_best_ind = 0\n",
    "    for i in range(len(nums)):\n",
    "        if nums[i]-1 in mem:\n",
    "            l,j = mem[nums[i]-1]\n",
    "            mem[nums[i]] = (l+1,i)\n",
    "            prev[i] = j\n",
    "            if l+1 > current_best_val:\n",
    "                current_best_val = l+1\n",
    "                current_best_ind = i\n",
    "        else:\n",
    "            mem[nums[i]] = 1,i\n",
    "    i = current_best_ind\n",
    "    out = []\n",
    "    while True:\n",
    "        out = [nums[i]] + out\n",
    "        i = prev[i]\n",
    "        if i is None:\n",
    "            break\n",
    "    return out\n",
    "\n",
    "print(lisq([1,2,4,3,5,6,7,4,5,8,9]))"
   ]
  }
 ],
 "metadata": {
  "kernelspec": {
   "display_name": "Python 3",
   "language": "python",
   "name": "python3"
  },
  "language_info": {
   "codemirror_mode": {
    "name": "ipython",
    "version": 3
   },
   "file_extension": ".py",
   "mimetype": "text/x-python",
   "name": "python",
   "nbconvert_exporter": "python",
   "pygments_lexer": "ipython3",
   "version": "3.7.6"
  }
 },
 "nbformat": 4,
 "nbformat_minor": 4
}
