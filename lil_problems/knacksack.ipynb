{
 "cells": [
  {
   "cell_type": "markdown",
   "metadata": {},
   "source": [
    "# Knacksack"
   ]
  },
  {
   "cell_type": "code",
   "execution_count": 2,
   "metadata": {},
   "outputs": [],
   "source": [
    "import numpy as np"
   ]
  },
  {
   "cell_type": "code",
   "execution_count": 3,
   "metadata": {},
   "outputs": [
    {
     "data": {
      "text/plain": [
       "[(4, 31), (2, 58), (4, 8), (2, 2), (9, 15)]"
      ]
     },
     "execution_count": 3,
     "metadata": {},
     "output_type": "execute_result"
    }
   ],
   "source": [
    "def items(n):\n",
    "    out = []\n",
    "    for i in range(n):\n",
    "        out.append((np.random.randint(10),np.random.randint(100)))\n",
    "    return out\n",
    "\n",
    "items(5)"
   ]
  },
  {
   "cell_type": "code",
   "execution_count": 45,
   "metadata": {},
   "outputs": [
    {
     "name": "stdout",
     "output_type": "stream",
     "text": [
      "[(5, 12), (8, 9), (5, 79), (0, 16), (1, 76)]\n",
      "---\n",
      "11 : [(5, 12), (5, 79), (0, 16), (1, 76)]\n",
      "11 : [(5, 12), (5, 79), (1, 76), (0, 16)]\n",
      "11 : [(5, 12), (0, 16), (5, 79), (1, 76)]\n",
      "11 : [(5, 12), (0, 16), (1, 76), (5, 79)]\n",
      "11 : [(5, 12), (1, 76), (5, 79), (0, 16)]\n",
      "11 : [(5, 12), (1, 76), (0, 16), (5, 79)]\n",
      "9 : [(8, 9), (0, 16), (1, 76)]\n",
      "9 : [(8, 9), (1, 76), (0, 16)]\n",
      "11 : [(5, 79), (5, 12), (0, 16), (1, 76)]\n",
      "11 : [(5, 79), (5, 12), (1, 76), (0, 16)]\n",
      "11 : [(5, 79), (0, 16), (5, 12), (1, 76)]\n",
      "11 : [(5, 79), (0, 16), (1, 76), (5, 12)]\n",
      "11 : [(5, 79), (1, 76), (5, 12), (0, 16)]\n",
      "11 : [(5, 79), (1, 76), (0, 16), (5, 12)]\n",
      "11 : [(0, 16), (5, 12), (5, 79), (1, 76)]\n",
      "11 : [(0, 16), (5, 12), (1, 76), (5, 79)]\n",
      "9 : [(0, 16), (8, 9), (1, 76)]\n",
      "11 : [(0, 16), (5, 79), (5, 12), (1, 76)]\n",
      "11 : [(0, 16), (5, 79), (1, 76), (5, 12)]\n",
      "11 : [(0, 16), (1, 76), (5, 12), (5, 79)]\n",
      "9 : [(0, 16), (1, 76), (8, 9)]\n",
      "11 : [(0, 16), (1, 76), (5, 79), (5, 12)]\n",
      "11 : [(1, 76), (5, 12), (5, 79), (0, 16)]\n",
      "11 : [(1, 76), (5, 12), (0, 16), (5, 79)]\n",
      "9 : [(1, 76), (8, 9), (0, 16)]\n",
      "11 : [(1, 76), (5, 79), (5, 12), (0, 16)]\n",
      "11 : [(1, 76), (5, 79), (0, 16), (5, 12)]\n",
      "11 : [(1, 76), (0, 16), (5, 12), (5, 79)]\n",
      "9 : [(1, 76), (0, 16), (8, 9)]\n",
      "11 : [(1, 76), (0, 16), (5, 79), (5, 12)]\n"
     ]
    }
   ],
   "source": [
    "def knack(items, maxweight):\n",
    "    if items==[]: return []\n",
    "    out = []\n",
    "    for i in range(len(items)):\n",
    "        if items[i][0]>maxweight:\n",
    "            continue\n",
    "        remaining = items[:i]+items[i+1:]\n",
    "        toadd = knack(remaining,maxweight-items[i][0])\n",
    "        if toadd==[]:\n",
    "            out += [[items[i]]]\n",
    "        else:\n",
    "            out += [[items[i]]+j for j in toadd]\n",
    "    return out\n",
    "\n",
    "np.random.seed(1)\n",
    "bag = items(5)\n",
    "print(bag)\n",
    "print('---')\n",
    "a = knack(bag,12)\n",
    "for i in a:\n",
    "    print(sum([w for w,p in i]),':',i)"
   ]
  }
 ],
 "metadata": {
  "kernelspec": {
   "display_name": "Python 3",
   "language": "python",
   "name": "python3"
  },
  "language_info": {
   "codemirror_mode": {
    "name": "ipython",
    "version": 3
   },
   "file_extension": ".py",
   "mimetype": "text/x-python",
   "name": "python",
   "nbconvert_exporter": "python",
   "pygments_lexer": "ipython3",
   "version": "3.7.0"
  }
 },
 "nbformat": 4,
 "nbformat_minor": 2
}
