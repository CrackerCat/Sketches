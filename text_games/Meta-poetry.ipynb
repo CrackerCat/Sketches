{
 "cells": [
  {
   "cell_type": "markdown",
   "metadata": {},
   "source": [
    "# This code isn't supposed to run"
   ]
  },
  {
   "cell_type": "code",
   "execution_count": null,
   "metadata": {},
   "outputs": [],
   "source": [
    "assert len(set([fam for fam in families if fam.is_happy])) == 1\n",
    "assert (lambda x: len(set(x))==len(x))([fam for fam in families if not fam.is_happy])"
   ]
  },
  {
   "cell_type": "code",
   "execution_count": null,
   "metadata": {},
   "outputs": [],
   "source": [
    "assert len([x for x in those if x in wonder and x not in lost])>0"
   ]
  },
  {
   "cell_type": "code",
   "execution_count": null,
   "metadata": {},
   "outputs": [],
   "source": [
    "a.love(b) = grain\n",
    "b.love(a) = grain * grains_in_beach * beach_in_universe"
   ]
  },
  {
   "cell_type": "code",
   "execution_count": null,
   "metadata": {},
   "outputs": [],
   "source": [
    "self.head.append(brains)\n",
    "self.shoes.append(feet)\n",
    "self.possible_directions([l,r,u,d])\n",
    "self.own = True\n",
    "self.direction = self.decide()"
   ]
  },
  {
   "cell_type": "code",
   "execution_count": null,
   "metadata": {},
   "outputs": [],
   "source": [
    "\n",
    "x.best_friend = book if not x in dog else raise('Too dark')\n"
   ]
  },
  {
   "cell_type": "code",
   "execution_count": null,
   "metadata": {},
   "outputs": [],
   "source": [
    "while True:\n",
    "    scientist.think(if_could)\n",
    "scientist.think(if_should)"
   ]
  },
  {
   "cell_type": "code",
   "execution_count": 28,
   "metadata": {},
   "outputs": [],
   "source": [
    "def question(self):\n",
    "    def to_be(self):\n",
    "        try:\n",
    "            del self\n",
    "            return False\n",
    "        except:\n",
    "            return True\n",
    "    return to_be"
   ]
  },
  {
   "cell_type": "code",
   "execution_count": 19,
   "metadata": {},
   "outputs": [
    {
     "data": {
      "text/plain": [
       "42"
      ]
     },
     "execution_count": 19,
     "metadata": {},
     "output_type": "execute_result"
    }
   ],
   "source": [
    "import sys\n",
    "def question(depth=0):\n",
    "    if depth == sys.getrecursionlimit()-1:\n",
    "        return 42\n",
    "    else:\n",
    "        return question(depth+1)"
   ]
  },
  {
   "cell_type": "code",
   "execution_count": null,
   "metadata": {},
   "outputs": [],
   "source": [
    "def is_rose(a):\n",
    "    if a == ROSE:\n",
    "        return True\n",
    "    if a == is_rose:\n",
    "        return True"
   ]
  },
  {
   "cell_type": "code",
   "execution_count": null,
   "metadata": {},
   "outputs": [],
   "source": [
    "assert time == max(times) and time == min(times)"
   ]
  },
  {
   "cell_type": "code",
   "execution_count": null,
   "metadata": {},
   "outputs": [],
   "source": [
    "def makes_sense(thing):\n",
    "    if 'evolution' in globals():\n",
    "        return True\n",
    "    else:\n",
    "        return False\n",
    "\n",
    "for thing in biology:\n",
    "    assert makes_sense(thing)"
   ]
  },
  {
   "cell_type": "code",
   "execution_count": null,
   "metadata": {},
   "outputs": [],
   "source": [
    "def place_in_prison(man):\n",
    "    if any([x.is_just for x in prison]) and man.is_just:\n",
    "        return True"
   ]
  },
  {
   "cell_type": "markdown",
   "metadata": {},
   "source": [
    "\"Hello, babies. Welcome to Earth. It's hot in the summer and cold in the winter. It's round and wet and crowded. At the outside, babies, you've got about a hundred years here. There's only one rule that I know of, babies—God damn it, you've got to be kind.\"\n",
    "— Kurt Vonnegut, God Bless You, Mr. Rosewater"
   ]
  }
 ],
 "metadata": {
  "kernelspec": {
   "display_name": "Python 3",
   "language": "python",
   "name": "python3"
  },
  "language_info": {
   "codemirror_mode": {
    "name": "ipython",
    "version": 3
   },
   "file_extension": ".py",
   "mimetype": "text/x-python",
   "name": "python",
   "nbconvert_exporter": "python",
   "pygments_lexer": "ipython3",
   "version": "3.7.6"
  }
 },
 "nbformat": 4,
 "nbformat_minor": 4
}
