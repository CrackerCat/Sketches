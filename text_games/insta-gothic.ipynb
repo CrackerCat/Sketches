{
 "cells": [
  {
   "cell_type": "markdown",
   "metadata": {},
   "source": [
    "# A simple alphabet substitute"
   ]
  },
  {
   "cell_type": "code",
   "execution_count": 1,
   "metadata": {},
   "outputs": [
    {
     "name": "stdout",
     "output_type": "stream",
     "text": [
      "𐌱𐌹𐌳𐌾𐌰𐌽𐌳𐌰𐌽𐍃𐌿𐌸𐌸𐌰𐌽 𐌽𐌹 𐍆𐌹𐌻𐌿𐍅𐌰𐌿𐍂𐌳𐌾𐌰𐌹𐌸⸱ 𐍃𐍅𐌰𐍃𐍅𐌴 𐌸𐌰𐌹 𐌸𐌹𐌿𐌳𐍉⸱ 𐌸𐌿𐌲𐌺𐌴𐌹𐌸 𐌹𐌼 𐌰𐌿𐌺 𐌴𐌹 𐌹𐌽 𐍆𐌹𐌻𐌿𐍅𐌰𐌿𐍂𐌳𐌴𐌹𐌽 𐍃𐌴𐌹𐌽𐌰𐌹 𐌰𐌽𐌳𐌷𐌰𐌿𐍃𐌾𐌰𐌹𐌽𐌳𐌰𐌿⸱\n"
     ]
    }
   ],
   "source": [
    "a1 = 'abgdeqzhþiklmnjup1rstwfx2o3 .;,:'\n",
    "a2 = '𐌰𐌱𐌲𐌳𐌴𐌵𐌶𐌷𐌸𐌹𐌺𐌻𐌼𐌽𐌾𐌿𐍀𐍁𐍂𐍃𐍄𐍅𐍆𐍇𐍈𐍉𐍊 ⸱⸱⸱⸱'\n",
    "\n",
    "sub = {}\n",
    "for i in range(len(a1)):\n",
    "    sub[a1[i]] = a2[i]\n",
    "    \n",
    "text = 'Bidjandansuþþan ni filuwaurdjaiþ, swaswe þai þiudo; þugkeiþ im auk ei in filuwaurdein seinai andhausjaindau.'\n",
    "\n",
    "out  = ''.join([sub[c.lower()] if c.lower() in sub else c for c in text])\n",
    "print(out)"
   ]
  }
 ],
 "metadata": {
  "kernelspec": {
   "display_name": "Python 3",
   "language": "python",
   "name": "python3"
  },
  "language_info": {
   "codemirror_mode": {
    "name": "ipython",
    "version": 3
   },
   "file_extension": ".py",
   "mimetype": "text/x-python",
   "name": "python",
   "nbconvert_exporter": "python",
   "pygments_lexer": "ipython3",
   "version": "3.7.6"
  }
 },
 "nbformat": 4,
 "nbformat_minor": 4
}
