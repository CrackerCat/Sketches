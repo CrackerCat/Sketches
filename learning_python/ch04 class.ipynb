{
 "cells": [
  {
   "cell_type": "markdown",
   "metadata": {},
   "source": [
    "## Chapter 4"
   ]
  },
  {
   "cell_type": "code",
   "execution_count": 25,
   "metadata": {},
   "outputs": [
    {
     "name": "stdout",
     "output_type": "stream",
     "text": [
      "12|345|678"
     ]
    }
   ],
   "source": [
    "class john():\n",
    "    \"\"\"Baby class\"\"\"\n",
    "    def __init__(self,value):\n",
    "        self.x = value\n",
    "        \n",
    "    def report(self):\n",
    "        print(self.x,end='')\n",
    "        self.x += 1\n",
    "        \n",
    "def motor(j):\n",
    "    print('|',end='')\n",
    "    for _ in range(3):\n",
    "        j.report()           \n",
    "        \n",
    "        \n",
    "j = john(1)\n",
    "j.report()\n",
    "j.report()\n",
    "motor(j)\n",
    "motor(j)"
   ]
  },
  {
   "cell_type": "code",
   "execution_count": 3,
   "metadata": {},
   "outputs": [
    {
     "name": "stdout",
     "output_type": "stream",
     "text": [
      "leg\n",
      "leg\n"
     ]
    }
   ],
   "source": [
    "a = input() # Used to be called raw_input() in Python 2\n",
    "print(a)"
   ]
  }
 ],
 "metadata": {
  "kernelspec": {
   "display_name": "Python 3",
   "language": "python",
   "name": "python3"
  },
  "language_info": {
   "codemirror_mode": {
    "name": "ipython",
    "version": 3
   },
   "file_extension": ".py",
   "mimetype": "text/x-python",
   "name": "python",
   "nbconvert_exporter": "python",
   "pygments_lexer": "ipython3",
   "version": "3.7.0"
  }
 },
 "nbformat": 4,
 "nbformat_minor": 2
}
