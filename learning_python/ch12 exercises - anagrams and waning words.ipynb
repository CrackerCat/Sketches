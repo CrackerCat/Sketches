{
 "cells": [
  {
   "cell_type": "markdown",
   "metadata": {},
   "source": [
    "## Exercises for Ch 12"
   ]
  },
  {
   "cell_type": "code",
   "execution_count": 1,
   "metadata": {},
   "outputs": [],
   "source": [
    "import numpy"
   ]
  },
  {
   "cell_type": "code",
   "execution_count": 111,
   "metadata": {},
   "outputs": [],
   "source": [
    "f = open(\"../../nounlist.txt\",\"r\");\n",
    "lines = f.readlines();\n",
    "lines = [i[:-1] for i in lines] # Remove trailing \\n symbols"
   ]
  },
  {
   "cell_type": "code",
   "execution_count": 112,
   "metadata": {},
   "outputs": [
    {
     "name": "stdout",
     "output_type": "stream",
     "text": [
      "['caliber', 'calibre']\n",
      "['auction', 'caution']\n",
      "['cilantro', 'contrail']\n",
      "['conservation', 'conversation']\n",
      "['density', 'destiny']\n",
      "['creditor', 'director']\n",
      "['entirety', 'eternity']\n",
      "['fighter', 'freight']\n",
      "['altitude', 'latitude']\n",
      "['dealing', 'leading']\n",
      "['emanate', 'manatee']\n",
      "['maracas', 'mascara']\n",
      "['limestone', 'milestone']\n",
      "['lookout', 'outlook']\n",
      "['impression', 'permission']\n",
      "['creation', 'reaction']\n",
      "['designer', 'redesign']\n",
      "['marines', 'remains']\n",
      "['reserve', 'reverse']\n",
      "['disease', 'seaside']\n",
      "['marines', 'remains', 'seminar']\n",
      "['license', 'silence']\n",
      "['presume', 'supreme']\n",
      "['hectare', 'teacher']\n",
      "['emitter', 'termite']\n",
      "['statement', 'testament']\n",
      "['setting', 'testing']\n",
      "['integral', 'triangle']\n",
      "['download', 'woodland']\n"
     ]
    }
   ],
   "source": [
    "# Anagrams\n",
    "d = dict()\n",
    "for i in lines:\n",
    "    if len(i)>6:\n",
    "        key = tuple(sorted(i))  # Sort characters, turn into one object (tuple)\n",
    "        if key in d:            # ..and use it as a key in a dict. Two anagrams would have same keys!\n",
    "            d[key].append(i)\n",
    "            print(d[key])\n",
    "        else:\n",
    "            d[key] = [i]"
   ]
  },
  {
   "cell_type": "markdown",
   "metadata": {},
   "source": [
    "Find all words that have a property that you can remove one letter at a time from them (at each step you can find a letter to remove), and at each step you'd still have a valid word. For example: acid -> aid -> id -> i."
   ]
  },
  {
   "cell_type": "code",
   "execution_count": 119,
   "metadata": {},
   "outputs": [],
   "source": [
    "# Letter remover\n",
    "def isgood(word, memory=dict(),verbose=0):\n",
    "    if len(word)==1:\n",
    "        if word in lines:\n",
    "            return True\n",
    "        else:\n",
    "            return False\n",
    "    else:\n",
    "        if memory.get(word):\n",
    "            return True\n",
    "        else:\n",
    "            if not(word in lines):\n",
    "                if verbose: print(word)\n",
    "                return False\n",
    "            for i in range(len(word)):\n",
    "                candidate = word[:i] + word[i+1:]\n",
    "                if verbose: print(candidate,end=' ')\n",
    "                if candidate in memory:                \n",
    "                    if memory[candidate]==1:\n",
    "                        if verbose: print(\"(gud \",candidate,\")\",end=' ')\n",
    "                        return True\n",
    "                    else:\n",
    "                        if verbose: print(\"(bad \",candidate,\")\",end=' ')\n",
    "                        return False\n",
    "                elif isgood(candidate,memory,verbose):\n",
    "                    memory[word] = 1\n",
    "                    if verbose: print(\"(add \",word,')',end=' ')\n",
    "                    return True\n",
    "            memory[word] = 0\n",
    "            if verbose: print(\"(rej \",word,\")\",end=' ')\n",
    "            return False  "
   ]
  },
  {
   "cell_type": "code",
   "execution_count": 122,
   "metadata": {},
   "outputs": [
    {
     "name": "stdout",
     "output_type": "stream",
     "text": [
      "a i an in it and any ai if sprite acid ad aid aide aim air ant aside aunt bait ban band bank barn bean bid bin bird bit bite blank brain bran brand brandy can cane canoe chair clan clank crane dad dead fan fang fawn fit flan gift git gland grit hair hand haunt hint hit id ink inn kid kilt kind kit kite lad land lard lead lid link load maid main man many mean means min mind mine mini mink mint nit pad pain paint pair pan pard pin pink pinot pint pinto pit pita pitch pith plain plan planet plant point print raid sand shift shin shine shirt shit shrine sign sin sink skin span spank spawn spit spite split stand strand swine swing tan tank tin twine unit unity van vane wad waist wait want win wind wine wing wink wit yin "
     ]
    }
   ],
   "source": [
    "memory = dict()\n",
    "for w in lines:\n",
    "    if isgood(w,memory):\n",
    "        print(w,end=\" \")  "
   ]
  }
 ],
 "metadata": {
  "kernelspec": {
   "display_name": "Python 3",
   "language": "python",
   "name": "python3"
  },
  "language_info": {
   "codemirror_mode": {
    "name": "ipython",
    "version": 3
   },
   "file_extension": ".py",
   "mimetype": "text/x-python",
   "name": "python",
   "nbconvert_exporter": "python",
   "pygments_lexer": "ipython3",
   "version": "3.7.0"
  }
 },
 "nbformat": 4,
 "nbformat_minor": 2
}
