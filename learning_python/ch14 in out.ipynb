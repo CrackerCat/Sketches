{
 "cells": [
  {
   "cell_type": "markdown",
   "metadata": {},
   "source": [
    "## Chapter 14. In/out"
   ]
  },
  {
   "cell_type": "code",
   "execution_count": 11,
   "metadata": {},
   "outputs": [
    {
     "name": "stdout",
     "output_type": "stream",
     "text": [
      "5 hoho\n",
      "6 but 7\n",
      "Only 3.14 people can eat easily!\n"
     ]
    }
   ],
   "source": [
    "a = '%d hoho' % 5 # Second % is a \"format operator\" that enforces params onto a string\n",
    "print(a)\n",
    "print('%d but %d' % (6,7)) # Rejects a list, but accepts a tuple\n",
    "print('Only %3.2f people can %s easily!' % (3.1415, 'eat'))"
   ]
  },
  {
   "cell_type": "code",
   "execution_count": 12,
   "metadata": {},
   "outputs": [
    {
     "ename": "TypeError",
     "evalue": "%d format: a number is required, not str",
     "output_type": "error",
     "traceback": [
      "\u001b[1;31m---------------------------------------------------------------------------\u001b[0m",
      "\u001b[1;31mTypeError\u001b[0m                                 Traceback (most recent call last)",
      "\u001b[1;32m<ipython-input-12-f7ba5674bacc>\u001b[0m in \u001b[0;36m<module>\u001b[1;34m()\u001b[0m\n\u001b[1;32m----> 1\u001b[1;33m \u001b[0mprint\u001b[0m\u001b[1;33m(\u001b[0m\u001b[1;34m'%d'\u001b[0m \u001b[1;33m%\u001b[0m \u001b[1;34m'cat'\u001b[0m\u001b[1;33m)\u001b[0m\u001b[1;33m\u001b[0m\u001b[0m\n\u001b[0m",
      "\u001b[1;31mTypeError\u001b[0m: %d format: a number is required, not str"
     ]
    }
   ],
   "source": [
    "print('%d' % 'cat') # Procudes a TypeError"
   ]
  },
  {
   "cell_type": "code",
   "execution_count": 13,
   "metadata": {},
   "outputs": [],
   "source": [
    "import os"
   ]
  },
  {
   "cell_type": "code",
   "execution_count": 19,
   "metadata": {},
   "outputs": [
    {
     "name": "stdout",
     "output_type": "stream",
     "text": [
      "C:\\Users\\Sysadmin\\Documents\\_Prog sketches\\Sketches-git\\learning python\n"
     ]
    },
    {
     "data": {
      "text/plain": [
       "'C:\\\\Users\\\\Sysadmin\\\\Documents\\\\_Prog sketches\\\\Sketches-git\\\\learning python'"
      ]
     },
     "execution_count": 19,
     "metadata": {},
     "output_type": "execute_result"
    }
   ],
   "source": [
    "a = os.getcwd() # Get working dir\n",
    "print(a)\n",
    "a\n",
    "# Interesting: when printing, it renders \\ as \\, but when reporting out, it modifies them into \\\\"
   ]
  },
  {
   "cell_type": "code",
   "execution_count": 23,
   "metadata": {},
   "outputs": [
    {
     "name": "stdout",
     "output_type": "stream",
     "text": [
      "True\n",
      "C:\\Users\\Sysadmin\\Documents\\_Prog sketches\\Sketches-git\\learning python\\ch14 in out.ibynb\n"
     ]
    }
   ],
   "source": [
    "print(os.path.exists('ch14 in out.ipynb')) # This program exists\n",
    "print(os.path.abspath('ch14 in out.ibynb')) # From local path to absolute"
   ]
  },
  {
   "cell_type": "code",
   "execution_count": 63,
   "metadata": {},
   "outputs": [
    {
     "data": {
      "text/plain": [
       "['.ipynb_checkpoints',\n",
       " 'ch02 basic types.ipynb',\n",
       " 'ch03 basic functions.ipynb',\n",
       " 'ch04 class.ipynb',\n",
       " 'ch06 var types.ipynb',\n",
       " 'ch08 strings.ipynb',\n",
       " 'ch10 lists.ipynb',\n",
       " 'ch11 dicts.ipynb',\n",
       " 'ch12 exercises.ipynb',\n",
       " 'ch12 tuples.ipynb',\n",
       " 'ch13 word freq.ipynb',\n",
       " 'ch14 in out.ipynb',\n",
       " 'first baby steps.ipynb',\n",
       " 'test.txt']"
      ]
     },
     "execution_count": 63,
     "metadata": {},
     "output_type": "execute_result"
    }
   ],
   "source": [
    "os.listdir() # List of strings. Note that doesn't list stuff like . and .."
   ]
  },
  {
   "cell_type": "code",
   "execution_count": 62,
   "metadata": {},
   "outputs": [
    {
     "name": "stdout",
     "output_type": "stream",
     "text": [
      "False\n",
      "True\n"
     ]
    }
   ],
   "source": [
    "print(os.path.isdir('test.txt'))\n",
    "print(os.path.isfile('test.txt'))"
   ]
  },
  {
   "cell_type": "code",
   "execution_count": 67,
   "metadata": {},
   "outputs": [
    {
     "name": "stdout",
     "output_type": "stream",
     "text": [
      "('C:\\\\Users\\\\Sysadmin\\\\Documents\\\\_Prog sketches\\\\Sketches-git\\\\learning python', ['.ipynb_checkpoints'], ['ch02 basic types.ipynb', 'ch03 basic functions.ipynb', 'ch04 class.ipynb', 'ch06 var types.ipynb', 'ch08 strings.ipynb', 'ch10 lists.ipynb', 'ch11 dicts.ipynb', 'ch12 exercises.ipynb', 'ch12 tuples.ipynb', 'ch13 word freq.ipynb', 'ch14 in out.ipynb', 'first baby steps.ipynb', 'test.txt'])\n",
      "('C:\\\\Users\\\\Sysadmin\\\\Documents\\\\_Prog sketches\\\\Sketches-git\\\\learning python\\\\.ipynb_checkpoints', [], ['ch02 basic types-checkpoint.ipynb', 'ch03 basic functions-checkpoint.ipynb', 'ch04 class-checkpoint.ipynb', 'ch06 var types-checkpoint.ipynb', 'ch08 strings-checkpoint.ipynb', 'ch10 lists-checkpoint.ipynb', 'ch11 dicts-checkpoint.ipynb', 'ch12 exercises-checkpoint.ipynb', 'ch12 tuples-checkpoint.ipynb', 'ch13 word freq-checkpoint.ipynb', 'ch14 in out-checkpoint.ipynb', 'first baby steps-checkpoint.ipynb'])\n"
     ]
    }
   ],
   "source": [
    "for i in os.walk(os.getcwd()):\n",
    "    print(i)\n",
    "# Goes throgh a folder with all subfolders, and for each returns a tuple of address, all subfolders, and all files"
   ]
  },
  {
   "cell_type": "code",
   "execution_count": 56,
   "metadata": {},
   "outputs": [
    {
     "name": "stdout",
     "output_type": "stream",
     "text": [
      "The file exists\n",
      "Ducks eat grass! Ducks eat grass! \n"
     ]
    }
   ],
   "source": [
    "fileName = 'test.txt'\n",
    "\n",
    "if os.path.exists(fileName):\n",
    "    print('The file exists')\n",
    "    fin = open(fileName, 'r')\n",
    "    lines = fin.read()\n",
    "    print(lines)\n",
    "    fin.close()\n",
    "    \n",
    "fout = open(fileName,'a') # 'w' for rewrite, 'a' for append\n",
    "fout.write('Ducks eat grass! ')\n",
    "fout.close()"
   ]
  },
  {
   "cell_type": "code",
   "execution_count": 71,
   "metadata": {},
   "outputs": [
    {
     "name": "stdout",
     "output_type": "stream",
     "text": [
      "Totally failed\n"
     ]
    }
   ],
   "source": [
    "try:\n",
    "    fin = open('bad file.txt', 'r')\n",
    "    fin.close()\n",
    "except:\n",
    "    print('Totally failed')"
   ]
  },
  {
   "cell_type": "markdown",
   "metadata": {},
   "source": [
    "\n",
    "\n",
    "> At this point the book describes databases and pickling that I skip for now\n",
    "\n"
   ]
  },
  {
   "cell_type": "code",
   "execution_count": 80,
   "metadata": {},
   "outputs": [
    {
     "name": "stdout",
     "output_type": "stream",
     "text": [
      " Volume in drive C is OS\n",
      " Volume Serial Number is 1681-8A88\n",
      "\n",
      " Directory of C:\\Users\\Sysadmin\\Documents\\_Prog sketches\\Sketches-git\\learning python\n",
      "\n",
      "10/07/2019  11:31 PM    <DIR>          .\n",
      "10/07/2019  11:31 PM    <DIR>          ..\n",
      "10/07/2019  11:08 PM    <DIR>          .ipynb_checkpoints\n",
      "10/07/2019  11:06 PM             3,308 ch02 basic types.ipynb\n",
      "10/07/2019  11:07 PM             4,803 ch03 basic functions.ipynb\n",
      "10/07/2019  11:07 PM             1,596 ch04 class.ipynb\n",
      "10/01/2019  11:38 PM               934 ch06 var types.ipynb\n",
      "10/01/2019  11:50 PM             2,518 ch08 strings.ipynb\n",
      "10/07/2019  11:05 PM            10,777 ch10 lists.ipynb\n",
      "10/05/2019  02:57 PM            11,935 ch11 dicts.ipynb\n",
      "10/04/2019  11:51 PM             5,085 ch12 exercises.ipynb\n",
      "10/05/2019  02:23 PM            15,063 ch12 tuples.ipynb\n",
      "10/05/2019  08:48 PM            12,715 ch13 word freq.ipynb\n",
      "10/07/2019  11:31 PM             8,977 ch14 in out.ipynb\n",
      "10/05/2019  02:23 PM             8,113 first baby steps.ipynb\n",
      "10/07/2019  11:21 PM                51 test.txt\n",
      "              13 File(s)         85,875 bytes\n",
      "               3 Dir(s)  141,309,095,936 bytes free\n",
      "\n",
      "None\n"
     ]
    }
   ],
   "source": [
    "f = os.popen('dir') # Opens a virtual OS console (I think), from which we can then read?\n",
    "a = f.read()\n",
    "print(a)\n",
    "stat = f.close()\n",
    "print(stat) # If 'None', then everything's great, and there was no error"
   ]
  },
  {
   "cell_type": "code",
   "execution_count": 81,
   "metadata": {},
   "outputs": [
    {
     "name": "stdout",
     "output_type": "stream",
     "text": [
      "' Volume in drive C is OS\\n Volume Serial Number is 1681-8A88\\n\\n Directory of C:\\\\Users\\\\Sysadmin\\\\Documents\\\\_Prog sketches\\\\Sketches-git\\\\learning python\\n\\n10/07/2019  11:31 PM    <DIR>          .\\n10/07/2019  11:31 PM    <DIR>          ..\\n10/07/2019  11:08 PM    <DIR>          .ipynb_checkpoints\\n10/07/2019  11:06 PM             3,308 ch02 basic types.ipynb\\n10/07/2019  11:07 PM             4,803 ch03 basic functions.ipynb\\n10/07/2019  11:07 PM             1,596 ch04 class.ipynb\\n10/01/2019  11:38 PM               934 ch06 var types.ipynb\\n10/01/2019  11:50 PM             2,518 ch08 strings.ipynb\\n10/07/2019  11:05 PM            10,777 ch10 lists.ipynb\\n10/05/2019  02:57 PM            11,935 ch11 dicts.ipynb\\n10/04/2019  11:51 PM             5,085 ch12 exercises.ipynb\\n10/05/2019  02:23 PM            15,063 ch12 tuples.ipynb\\n10/05/2019  08:48 PM            12,715 ch13 word freq.ipynb\\n10/07/2019  11:31 PM             8,977 ch14 in out.ipynb\\n10/05/2019  02:23 PM             8,113 first baby steps.ipynb\\n10/07/2019  11:21 PM                51 test.txt\\n              13 File(s)         85,875 bytes\\n               3 Dir(s)  141,309,095,936 bytes free\\n'\n"
     ]
    }
   ],
   "source": [
    "print(repr(a)) # Shows representation of the string, with all special empty spaces (\\t, \\n) shown as \\codes"
   ]
  }
 ],
 "metadata": {
  "kernelspec": {
   "display_name": "Python 3",
   "language": "python",
   "name": "python3"
  },
  "language_info": {
   "codemirror_mode": {
    "name": "ipython",
    "version": 3
   },
   "file_extension": ".py",
   "mimetype": "text/x-python",
   "name": "python",
   "nbconvert_exporter": "python",
   "pygments_lexer": "ipython3",
   "version": "3.7.0"
  }
 },
 "nbformat": 4,
 "nbformat_minor": 2
}
