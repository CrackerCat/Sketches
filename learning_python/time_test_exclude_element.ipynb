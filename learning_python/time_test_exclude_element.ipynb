{
 "cells": [
  {
   "cell_type": "markdown",
   "metadata": {},
   "source": [
    "# Creating lists with one element missing\n",
    "\n",
    "What is the fastest way?"
   ]
  },
  {
   "cell_type": "code",
   "execution_count": 1,
   "metadata": {},
   "outputs": [],
   "source": [
    "import time"
   ]
  },
  {
   "cell_type": "code",
   "execution_count": 15,
   "metadata": {},
   "outputs": [
    {
     "data": {
      "text/plain": [
       "[0, 1, 3, 4, 5, 6, 7, 8, 9]"
      ]
     },
     "execution_count": 15,
     "metadata": {},
     "output_type": "execute_result"
    }
   ],
   "source": [
    "l = list(range(10))\n",
    "x = l.copy(); x.pop(2)\n",
    "x"
   ]
  },
  {
   "cell_type": "code",
   "execution_count": 2,
   "metadata": {},
   "outputs": [],
   "source": [
    "n = 100000\n",
    "l = list(range(100))"
   ]
  },
  {
   "cell_type": "code",
   "execution_count": 13,
   "metadata": {},
   "outputs": [
    {
     "name": "stdout",
     "output_type": "stream",
     "text": [
      "4-liner: 10.354592323303223\n",
      "1-liner: 10.329590559005737\n",
      "Copy-pop: 5.147294282913208\n",
      "Copy-pop one liner: 5.026287794113159\n",
      "Slice-del: 4.763272285461426\n",
      "Slice-pop one liner: 5.189296722412109\n"
     ]
    }
   ],
   "source": [
    "tic = time.time()\n",
    "for i in range(n):\n",
    "    for j in range(len(l)):\n",
    "        if j<len(l)-1:\n",
    "            _ = l[:j] + l[(j+1):]\n",
    "        else:\n",
    "            _ = l[:j]\n",
    "print('4-liner:',time.time()-tic)\n",
    "\n",
    "tic = time.time()\n",
    "for i in range(n):\n",
    "    for j in range(len(l)):\n",
    "        _ = l[:j] + (l[(j+1):] if j<len(l)-1 else [])\n",
    "print('1-liner:',time.time()-tic)\n",
    "\n",
    "tic = time.time()\n",
    "for i in range(n):\n",
    "    for j in range(len(l)):\n",
    "        _ = l.copy()\n",
    "        _.pop(j)\n",
    "print('Copy-pop:',time.time()-tic)\n",
    "\n",
    "tic = time.time()\n",
    "for i in range(n):\n",
    "    for j in range(len(l)):\n",
    "        _ = l[:]\n",
    "        del _[j]\n",
    "print('Slice-del:',time.time()-tic)"
   ]
  }
 ],
 "metadata": {
  "kernelspec": {
   "display_name": "Python 3",
   "language": "python",
   "name": "python3"
  },
  "language_info": {
   "codemirror_mode": {
    "name": "ipython",
    "version": 3
   },
   "file_extension": ".py",
   "mimetype": "text/x-python",
   "name": "python",
   "nbconvert_exporter": "python",
   "pygments_lexer": "ipython3",
   "version": "3.7.0"
  }
 },
 "nbformat": 4,
 "nbformat_minor": 2
}
