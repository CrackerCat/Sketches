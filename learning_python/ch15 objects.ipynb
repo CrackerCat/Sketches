{
 "cells": [
  {
   "cell_type": "markdown",
   "metadata": {},
   "source": [
    "## Objects"
   ]
  },
  {
   "cell_type": "code",
   "execution_count": 15,
   "metadata": {},
   "outputs": [
    {
     "data": {
      "text/plain": [
       "<__main__.Point at 0x52492b0>"
      ]
     },
     "execution_count": 15,
     "metadata": {},
     "output_type": "execute_result"
    }
   ],
   "source": [
    "class Point:\n",
    "    def __init__(self,x,y):\n",
    "        self.x = x\n",
    "        self.y = y\n",
    "\n",
    "a = Point(2,3)\n",
    "Point(1,1)"
   ]
  },
  {
   "cell_type": "code",
   "execution_count": 31,
   "metadata": {},
   "outputs": [],
   "source": [
    "class Rect:    \n",
    "    def __init__(self,l,r):\n",
    "        self.l=l\n",
    "        self.r=r\n",
    "        \n",
    "    def print(self):\n",
    "        print(\"Rect from (%f,%f) to (%f,%f)\" % (self.l.x, self.l.y, self.r.x, self.r.y))"
   ]
  },
  {
   "cell_type": "code",
   "execution_count": 33,
   "metadata": {},
   "outputs": [
    {
     "name": "stdout",
     "output_type": "stream",
     "text": [
      "Rect from (1.000000,1.000000) to (2.000000,3.000000)\n"
     ]
    }
   ],
   "source": [
    "a = Rect(Point(1,1),Point(2,3))\n",
    "a.print()"
   ]
  },
  {
   "cell_type": "code",
   "execution_count": 43,
   "metadata": {},
   "outputs": [
    {
     "name": "stdout",
     "output_type": "stream",
     "text": [
      "Rect from (2.000000,1.000000) to (2.000000,3.000000)\n"
     ]
    }
   ],
   "source": [
    "import copy\n",
    "\n",
    "b = copy.copy(a)\n",
    "b.print()"
   ]
  },
  {
   "cell_type": "code",
   "execution_count": 45,
   "metadata": {},
   "outputs": [
    {
     "name": "stdout",
     "output_type": "stream",
     "text": [
      "Rect from (2.000000,1.000000) to (5.000000,5.000000)\n",
      "Rect from (2.000000,1.000000) to (2.000000,3.000000)\n"
     ]
    }
   ],
   "source": [
    "b.l.x=2\n",
    "b.r = Point(5,5)\n",
    "b.print()\n",
    "a.print() # No change in a.r, as copy, but change in a.l.x, as not a deep copy"
   ]
  },
  {
   "cell_type": "code",
   "execution_count": 46,
   "metadata": {},
   "outputs": [],
   "source": [
    "b = copy.deepcopy(a)"
   ]
  },
  {
   "cell_type": "code",
   "execution_count": 48,
   "metadata": {},
   "outputs": [
    {
     "name": "stdout",
     "output_type": "stream",
     "text": [
      "Rect from (0.000000,1.000000) to (2.000000,3.000000)\n",
      "Rect from (2.000000,1.000000) to (2.000000,3.000000)\n"
     ]
    }
   ],
   "source": [
    "b.l.x = 0\n",
    "b.print()\n",
    "a.print() # Now a remained the same, as deepcopy"
   ]
  },
  {
   "cell_type": "code",
   "execution_count": 50,
   "metadata": {},
   "outputs": [
    {
     "name": "stdout",
     "output_type": "stream",
     "text": [
      "True\n",
      "False\n"
     ]
    }
   ],
   "source": [
    "print(hasattr(a,'l'))\n",
    "print(hasattr(a,'w'))"
   ]
  }
 ],
 "metadata": {
  "kernelspec": {
   "display_name": "Python 3",
   "language": "python",
   "name": "python3"
  },
  "language_info": {
   "codemirror_mode": {
    "name": "ipython",
    "version": 3
   },
   "file_extension": ".py",
   "mimetype": "text/x-python",
   "name": "python",
   "nbconvert_exporter": "python",
   "pygments_lexer": "ipython3",
   "version": "3.7.0"
  }
 },
 "nbformat": 4,
 "nbformat_minor": 2
}
