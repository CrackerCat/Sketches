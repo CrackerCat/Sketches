{
 "cells": [
  {
   "cell_type": "markdown",
   "metadata": {},
   "source": [
    "# A collection of random gotchas"
   ]
  },
  {
   "cell_type": "code",
   "execution_count": 2,
   "metadata": {},
   "outputs": [
    {
     "name": "stdout",
     "output_type": "stream",
     "text": [
      "[2]\n",
      "[]\n",
      "{1: [2]}\n",
      "{1: [2]}\n"
     ]
    }
   ],
   "source": [
    "a = [1,2,3]\n",
    "for i in a:\n",
    "    a.remove(i)\n",
    "print(a)\n",
    "\n",
    "# However\n",
    "a = [1,2,3]\n",
    "for i in set(a):\n",
    "    a.remove(i)\n",
    "print(a)\n",
    "\n",
    "a = {1:[1,2,3]}\n",
    "for i in a[1]:\n",
    "    a[1].remove(i)\n",
    "print(a) # Same as the first example\n",
    "\n",
    "a = {1:[1,2,3]}\n",
    "for i in a.get(1): # No difference. Which means that get doesn't create a copy.\n",
    "    a[1].remove(i)\n",
    "print(a)"
   ]
  }
 ],
 "metadata": {
  "kernelspec": {
   "display_name": "Python 3",
   "language": "python",
   "name": "python3"
  },
  "language_info": {
   "codemirror_mode": {
    "name": "ipython",
    "version": 3
   },
   "file_extension": ".py",
   "mimetype": "text/x-python",
   "name": "python",
   "nbconvert_exporter": "python",
   "pygments_lexer": "ipython3",
   "version": "3.7.6"
  }
 },
 "nbformat": 4,
 "nbformat_minor": 4
}
